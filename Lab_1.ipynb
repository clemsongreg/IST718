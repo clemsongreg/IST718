{
  "nbformat": 4,
  "nbformat_minor": 0,
  "metadata": {
    "colab": {
      "name": "Lab 1.ipynb",
      "provenance": [],
      "authorship_tag": "ABX9TyNTzL32nqZDvY8Ot09Ha2TZ",
      "include_colab_link": true
    },
    "kernelspec": {
      "name": "python3",
      "display_name": "Python 3"
    }
  },
  "cells": [
    {
      "cell_type": "markdown",
      "metadata": {
        "id": "view-in-github",
        "colab_type": "text"
      },
      "source": [
        "<a href=\"https://colab.research.google.com/github/clemsongreg/IST718/blob/main/Lab_1.ipynb\" target=\"_parent\"><img src=\"https://colab.research.google.com/assets/colab-badge.svg\" alt=\"Open In Colab\"/></a>"
      ]
    },
    {
      "cell_type": "markdown",
      "metadata": {
        "id": "rAj6e8xivmfZ"
      },
      "source": [
        "# Week 3 - Lab #1 - A Head Coach is Paid How Much?!\r\n",
        "### Gregory Richardson\r\n",
        "### 1-22-2021\r\n",
        "\r\n",
        "\r\n"
      ]
    },
    {
      "cell_type": "code",
      "metadata": {
        "id": "6aLF9-Is55zT",
        "colab": {
          "base_uri": "https://localhost:8080/"
        },
        "outputId": "bb489f78-16d1-4fa7-ac33-af80a6a1450e"
      },
      "source": [
        "# Collection of libraries to be imported for use in\r\n",
        "\r\n",
        "from google.colab import files\r\n",
        "import pandas as pd\r\n",
        "import numpy as np\r\n",
        "import io\r\n",
        "\r\n",
        "from urllib import request\r\n",
        "from bs4 import BeautifulSoup\r\n",
        "!pip install fuzzywuzzy[speedup]\r\n",
        "from fuzzywuzzy import process\r\n",
        "\r\n",
        "import matplotlib.pyplot as plt\r\n",
        "import seaborn as sns \r\n",
        "\r\n",
        "from sklearn.model_selection import train_test_split\r\n",
        "import statsmodels.api as sm  \r\n",
        "import statsmodels.formula.api as smf  "
      ],
      "execution_count": null,
      "outputs": [
        {
          "output_type": "stream",
          "text": [
            "Requirement already satisfied: fuzzywuzzy[speedup] in /usr/local/lib/python3.6/dist-packages (0.18.0)\n",
            "Requirement already satisfied: python-levenshtein>=0.12; extra == \"speedup\" in /usr/local/lib/python3.6/dist-packages (from fuzzywuzzy[speedup]) (0.12.1)\n",
            "Requirement already satisfied: setuptools in /usr/local/lib/python3.6/dist-packages (from python-levenshtein>=0.12; extra == \"speedup\"->fuzzywuzzy[speedup]) (51.3.3)\n"
          ],
          "name": "stdout"
        },
        {
          "output_type": "stream",
          "text": [
            "/usr/local/lib/python3.6/dist-packages/statsmodels/tools/_testing.py:19: FutureWarning: pandas.util.testing is deprecated. Use the functions in the public API at pandas.testing instead.\n",
            "  import pandas.util.testing as tm\n"
          ],
          "name": "stderr"
        }
      ]
    },
    {
      "cell_type": "markdown",
      "metadata": {
        "id": "q1aJ3N4bwQbc"
      },
      "source": [
        "## Section 1 - Gathering Data"
      ]
    },
    {
      "cell_type": "markdown",
      "metadata": {
        "id": "kWBT3JADpVZm"
      },
      "source": [
        "### Initial Data"
      ]
    },
    {
      "cell_type": "markdown",
      "metadata": {
        "id": "ZUiFh8XIwcQs"
      },
      "source": [
        "The first step to determining how much a head coach is paid is to import the initial dataset.  This dataset includes a list of the 130 FBS football schools, their conference, their head coaches as of ~ 2018, and information regarding their compensation. "
      ]
    },
    {
      "cell_type": "code",
      "metadata": {
        "colab": {
          "resources": {
            "http://localhost:8080/nbextensions/google.colab/files.js": {
              "data": "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",
              "ok": true,
              "headers": [
                [
                  "content-type",
                  "application/javascript"
                ]
              ],
              "status": 200,
              "status_text": ""
            }
          },
          "base_uri": "https://localhost:8080/",
          "height": 72
        },
        "id": "_Tc-eZfI52G0",
        "outputId": "c31440b8-b61b-480a-8b9d-94cd80ec4e51"
      },
      "source": [
        "uploaded = files.upload()\n",
        "\n",
        "# Create intial dataframe called coachesRaw\n",
        "coachesRaw = pd.read_csv(io.BytesIO(uploaded['Coaches9.csv']),na_values=\"--\") "
      ],
      "execution_count": null,
      "outputs": [
        {
          "output_type": "display_data",
          "data": {
            "text/html": [
              "\n",
              "     <input type=\"file\" id=\"files-4db0161c-488a-48bf-9f91-776d243761a2\" name=\"files[]\" multiple disabled\n",
              "        style=\"border:none\" />\n",
              "     <output id=\"result-4db0161c-488a-48bf-9f91-776d243761a2\">\n",
              "      Upload widget is only available when the cell has been executed in the\n",
              "      current browser session. Please rerun this cell to enable.\n",
              "      </output>\n",
              "      <script src=\"/nbextensions/google.colab/files.js\"></script> "
            ],
            "text/plain": [
              "<IPython.core.display.HTML object>"
            ]
          },
          "metadata": {
            "tags": []
          }
        },
        {
          "output_type": "stream",
          "text": [
            "Saving Coaches9.csv to Coaches9.csv\n"
          ],
          "name": "stdout"
        }
      ]
    },
    {
      "cell_type": "code",
      "metadata": {
        "colab": {
          "base_uri": "https://localhost:8080/",
          "height": 377
        },
        "id": "rryVt_HK71xd",
        "outputId": "48c9ecf5-0594-4c21-a670-914a06a62fdc"
      },
      "source": [
        "# Take a quick look at the initial data \r\n",
        "display(coachesRaw.describe())\r\n",
        "\r\n",
        "display(coachesRaw.head(5))\r\n",
        "\r\n",
        "display(coachesRaw.shape)"
      ],
      "execution_count": null,
      "outputs": [
        {
          "output_type": "display_data",
          "data": {
            "text/html": [
              "<div>\n",
              "<style scoped>\n",
              "    .dataframe tbody tr th:only-of-type {\n",
              "        vertical-align: middle;\n",
              "    }\n",
              "\n",
              "    .dataframe tbody tr th {\n",
              "        vertical-align: top;\n",
              "    }\n",
              "\n",
              "    .dataframe thead th {\n",
              "        text-align: right;\n",
              "    }\n",
              "</style>\n",
              "<table border=\"1\" class=\"dataframe\">\n",
              "  <thead>\n",
              "    <tr style=\"text-align: right;\">\n",
              "      <th></th>\n",
              "      <th>School</th>\n",
              "      <th>Conference</th>\n",
              "      <th>Coach</th>\n",
              "      <th>SchoolPay</th>\n",
              "      <th>TotalPay</th>\n",
              "      <th>Bonus</th>\n",
              "      <th>BonusPaid</th>\n",
              "      <th>AssistantPay</th>\n",
              "      <th>Buyout</th>\n",
              "    </tr>\n",
              "  </thead>\n",
              "  <tbody>\n",
              "    <tr>\n",
              "      <th>count</th>\n",
              "      <td>129</td>\n",
              "      <td>129</td>\n",
              "      <td>129</td>\n",
              "      <td>125</td>\n",
              "      <td>125</td>\n",
              "      <td>107</td>\n",
              "      <td>88</td>\n",
              "      <td>129</td>\n",
              "      <td>107</td>\n",
              "    </tr>\n",
              "    <tr>\n",
              "      <th>unique</th>\n",
              "      <td>129</td>\n",
              "      <td>11</td>\n",
              "      <td>129</td>\n",
              "      <td>103</td>\n",
              "      <td>104</td>\n",
              "      <td>84</td>\n",
              "      <td>50</td>\n",
              "      <td>1</td>\n",
              "      <td>101</td>\n",
              "    </tr>\n",
              "    <tr>\n",
              "      <th>top</th>\n",
              "      <td>South Florida</td>\n",
              "      <td>Big Ten</td>\n",
              "      <td>Mike Gundy</td>\n",
              "      <td>$3,500,000</td>\n",
              "      <td>$3,500,000</td>\n",
              "      <td>$900,000</td>\n",
              "      <td>$0</td>\n",
              "      <td>$0</td>\n",
              "      <td>$300,000</td>\n",
              "    </tr>\n",
              "    <tr>\n",
              "      <th>freq</th>\n",
              "      <td>1</td>\n",
              "      <td>14</td>\n",
              "      <td>1</td>\n",
              "      <td>5</td>\n",
              "      <td>5</td>\n",
              "      <td>4</td>\n",
              "      <td>18</td>\n",
              "      <td>129</td>\n",
              "      <td>3</td>\n",
              "    </tr>\n",
              "  </tbody>\n",
              "</table>\n",
              "</div>"
            ],
            "text/plain": [
              "               School Conference       Coach  ... BonusPaid AssistantPay     Buyout\n",
              "count             129        129         129  ...        88          129        107\n",
              "unique            129         11         129  ...        50            1        101\n",
              "top     South Florida    Big Ten  Mike Gundy  ...       $0           $0   $300,000 \n",
              "freq                1         14           1  ...        18          129          3\n",
              "\n",
              "[4 rows x 9 columns]"
            ]
          },
          "metadata": {
            "tags": []
          }
        },
        {
          "output_type": "display_data",
          "data": {
            "text/html": [
              "<div>\n",
              "<style scoped>\n",
              "    .dataframe tbody tr th:only-of-type {\n",
              "        vertical-align: middle;\n",
              "    }\n",
              "\n",
              "    .dataframe tbody tr th {\n",
              "        vertical-align: top;\n",
              "    }\n",
              "\n",
              "    .dataframe thead th {\n",
              "        text-align: right;\n",
              "    }\n",
              "</style>\n",
              "<table border=\"1\" class=\"dataframe\">\n",
              "  <thead>\n",
              "    <tr style=\"text-align: right;\">\n",
              "      <th></th>\n",
              "      <th>School</th>\n",
              "      <th>Conference</th>\n",
              "      <th>Coach</th>\n",
              "      <th>SchoolPay</th>\n",
              "      <th>TotalPay</th>\n",
              "      <th>Bonus</th>\n",
              "      <th>BonusPaid</th>\n",
              "      <th>AssistantPay</th>\n",
              "      <th>Buyout</th>\n",
              "    </tr>\n",
              "  </thead>\n",
              "  <tbody>\n",
              "    <tr>\n",
              "      <th>0</th>\n",
              "      <td>Air Force</td>\n",
              "      <td>Mt. West</td>\n",
              "      <td>Troy Calhoun</td>\n",
              "      <td>885000</td>\n",
              "      <td>885000</td>\n",
              "      <td>247000</td>\n",
              "      <td>NaN</td>\n",
              "      <td>$0</td>\n",
              "      <td>NaN</td>\n",
              "    </tr>\n",
              "    <tr>\n",
              "      <th>1</th>\n",
              "      <td>Akron</td>\n",
              "      <td>MAC</td>\n",
              "      <td>Terry Bowden</td>\n",
              "      <td>$411,000</td>\n",
              "      <td>$412,500</td>\n",
              "      <td>$225,000</td>\n",
              "      <td>$50,000</td>\n",
              "      <td>$0</td>\n",
              "      <td>$688,500</td>\n",
              "    </tr>\n",
              "    <tr>\n",
              "      <th>2</th>\n",
              "      <td>Alabama</td>\n",
              "      <td>SEC</td>\n",
              "      <td>Nick Saban</td>\n",
              "      <td>$8,307,000</td>\n",
              "      <td>$8,307,000</td>\n",
              "      <td>$1,100,000</td>\n",
              "      <td>$500,000</td>\n",
              "      <td>$0</td>\n",
              "      <td>$33,600,000</td>\n",
              "    </tr>\n",
              "    <tr>\n",
              "      <th>3</th>\n",
              "      <td>Alabama at Birmingham</td>\n",
              "      <td>C-USA</td>\n",
              "      <td>Bill Clark</td>\n",
              "      <td>$900,000</td>\n",
              "      <td>$900,000</td>\n",
              "      <td>$950,000</td>\n",
              "      <td>$165,471</td>\n",
              "      <td>$0</td>\n",
              "      <td>$3,847,500</td>\n",
              "    </tr>\n",
              "    <tr>\n",
              "      <th>4</th>\n",
              "      <td>Appalachian State</td>\n",
              "      <td>Sun Belt</td>\n",
              "      <td>Scott Satterfield</td>\n",
              "      <td>$712,500</td>\n",
              "      <td>$712,500</td>\n",
              "      <td>$295,000</td>\n",
              "      <td>$145,000</td>\n",
              "      <td>$0</td>\n",
              "      <td>$2,160,417</td>\n",
              "    </tr>\n",
              "  </tbody>\n",
              "</table>\n",
              "</div>"
            ],
            "text/plain": [
              "                  School Conference  ... AssistantPay        Buyout\n",
              "0              Air Force   Mt. West  ...          $0            NaN\n",
              "1                  Akron        MAC  ...          $0      $688,500 \n",
              "2                Alabama        SEC  ...          $0   $33,600,000 \n",
              "3  Alabama at Birmingham      C-USA  ...          $0    $3,847,500 \n",
              "4      Appalachian State   Sun Belt  ...          $0    $2,160,417 \n",
              "\n",
              "[5 rows x 9 columns]"
            ]
          },
          "metadata": {
            "tags": []
          }
        },
        {
          "output_type": "display_data",
          "data": {
            "text/plain": [
              "(129, 9)"
            ]
          },
          "metadata": {
            "tags": []
          }
        }
      ]
    },
    {
      "cell_type": "markdown",
      "metadata": {
        "id": "N_DbjSAX_Mhs"
      },
      "source": [
        "A few issues to be addressed/taken care of.  First, there are only 129 rows here.  That means we are 1 team short of the full FBS roster.  Poor Temple, snubbed once again.  Though I suspect this is less of an intential trolling and more to do with a coaching mess Temple had at the time of this data.  Since there is no real coaching data that I can add here, I've decided to continue excluding them from this evaluation.  Sorry Owls.\r\n",
        "\r\n",
        "There is also 2 very similar columns here - School Pay and Total Pay.  These 2 columns are essentially the same, though in some cases Total Pay includes endorsement deals not wrapped up in salary.  Since this is an examination of coaches salaries - that is, the pay from schools directly, I am choosing to only use School Pay as my dependent variable and dropping Total Pay from the dataset."
      ]
    },
    {
      "cell_type": "code",
      "metadata": {
        "colab": {
          "base_uri": "https://localhost:8080/",
          "height": 453
        },
        "id": "Pj_UYn1QAf1g",
        "outputId": "94ad2085-468e-48e0-bfe2-ef0a72b61e41"
      },
      "source": [
        "# Remove Total Pay column and creating a new DF called coachesClean\r\n",
        "coachesClean = coachesRaw.drop(\"TotalPay\", 1)\r\n",
        "\r\n",
        "display(coachesClean.describe())\r\n",
        "\r\n",
        "# Check for any missing variables\r\n",
        "mis_val = coachesClean.isnull().sum()\r\n",
        "mis_val_table = pd.concat([mis_val], axis=1).rename(columns = {0: \"# of Missing Values\"})\r\n",
        "display(mis_val_table)"
      ],
      "execution_count": null,
      "outputs": [
        {
          "output_type": "display_data",
          "data": {
            "text/html": [
              "<div>\n",
              "<style scoped>\n",
              "    .dataframe tbody tr th:only-of-type {\n",
              "        vertical-align: middle;\n",
              "    }\n",
              "\n",
              "    .dataframe tbody tr th {\n",
              "        vertical-align: top;\n",
              "    }\n",
              "\n",
              "    .dataframe thead th {\n",
              "        text-align: right;\n",
              "    }\n",
              "</style>\n",
              "<table border=\"1\" class=\"dataframe\">\n",
              "  <thead>\n",
              "    <tr style=\"text-align: right;\">\n",
              "      <th></th>\n",
              "      <th>School</th>\n",
              "      <th>Conference</th>\n",
              "      <th>Coach</th>\n",
              "      <th>SchoolPay</th>\n",
              "      <th>Bonus</th>\n",
              "      <th>BonusPaid</th>\n",
              "      <th>AssistantPay</th>\n",
              "      <th>Buyout</th>\n",
              "    </tr>\n",
              "  </thead>\n",
              "  <tbody>\n",
              "    <tr>\n",
              "      <th>count</th>\n",
              "      <td>129</td>\n",
              "      <td>129</td>\n",
              "      <td>129</td>\n",
              "      <td>125</td>\n",
              "      <td>107</td>\n",
              "      <td>88</td>\n",
              "      <td>129</td>\n",
              "      <td>107</td>\n",
              "    </tr>\n",
              "    <tr>\n",
              "      <th>unique</th>\n",
              "      <td>129</td>\n",
              "      <td>11</td>\n",
              "      <td>129</td>\n",
              "      <td>103</td>\n",
              "      <td>84</td>\n",
              "      <td>50</td>\n",
              "      <td>1</td>\n",
              "      <td>101</td>\n",
              "    </tr>\n",
              "    <tr>\n",
              "      <th>top</th>\n",
              "      <td>South Florida</td>\n",
              "      <td>Big Ten</td>\n",
              "      <td>Mike Gundy</td>\n",
              "      <td>$3,500,000</td>\n",
              "      <td>$900,000</td>\n",
              "      <td>$0</td>\n",
              "      <td>$0</td>\n",
              "      <td>$300,000</td>\n",
              "    </tr>\n",
              "    <tr>\n",
              "      <th>freq</th>\n",
              "      <td>1</td>\n",
              "      <td>14</td>\n",
              "      <td>1</td>\n",
              "      <td>5</td>\n",
              "      <td>4</td>\n",
              "      <td>18</td>\n",
              "      <td>129</td>\n",
              "      <td>3</td>\n",
              "    </tr>\n",
              "  </tbody>\n",
              "</table>\n",
              "</div>"
            ],
            "text/plain": [
              "               School Conference       Coach  ... BonusPaid AssistantPay     Buyout\n",
              "count             129        129         129  ...        88          129        107\n",
              "unique            129         11         129  ...        50            1        101\n",
              "top     South Florida    Big Ten  Mike Gundy  ...       $0           $0   $300,000 \n",
              "freq                1         14           1  ...        18          129          3\n",
              "\n",
              "[4 rows x 8 columns]"
            ]
          },
          "metadata": {
            "tags": []
          }
        },
        {
          "output_type": "display_data",
          "data": {
            "text/html": [
              "<div>\n",
              "<style scoped>\n",
              "    .dataframe tbody tr th:only-of-type {\n",
              "        vertical-align: middle;\n",
              "    }\n",
              "\n",
              "    .dataframe tbody tr th {\n",
              "        vertical-align: top;\n",
              "    }\n",
              "\n",
              "    .dataframe thead th {\n",
              "        text-align: right;\n",
              "    }\n",
              "</style>\n",
              "<table border=\"1\" class=\"dataframe\">\n",
              "  <thead>\n",
              "    <tr style=\"text-align: right;\">\n",
              "      <th></th>\n",
              "      <th># of Missing Values</th>\n",
              "    </tr>\n",
              "  </thead>\n",
              "  <tbody>\n",
              "    <tr>\n",
              "      <th>School</th>\n",
              "      <td>0</td>\n",
              "    </tr>\n",
              "    <tr>\n",
              "      <th>Conference</th>\n",
              "      <td>0</td>\n",
              "    </tr>\n",
              "    <tr>\n",
              "      <th>Coach</th>\n",
              "      <td>0</td>\n",
              "    </tr>\n",
              "    <tr>\n",
              "      <th>SchoolPay</th>\n",
              "      <td>4</td>\n",
              "    </tr>\n",
              "    <tr>\n",
              "      <th>Bonus</th>\n",
              "      <td>22</td>\n",
              "    </tr>\n",
              "    <tr>\n",
              "      <th>BonusPaid</th>\n",
              "      <td>41</td>\n",
              "    </tr>\n",
              "    <tr>\n",
              "      <th>AssistantPay</th>\n",
              "      <td>0</td>\n",
              "    </tr>\n",
              "    <tr>\n",
              "      <th>Buyout</th>\n",
              "      <td>22</td>\n",
              "    </tr>\n",
              "  </tbody>\n",
              "</table>\n",
              "</div>"
            ],
            "text/plain": [
              "              # of Missing Values\n",
              "School                          0\n",
              "Conference                      0\n",
              "Coach                           0\n",
              "SchoolPay                       4\n",
              "Bonus                          22\n",
              "BonusPaid                      41\n",
              "AssistantPay                    0\n",
              "Buyout                         22"
            ]
          },
          "metadata": {
            "tags": []
          }
        }
      ]
    },
    {
      "cell_type": "markdown",
      "metadata": {
        "id": "rJCmtuK1L_bI"
      },
      "source": [
        "There are 4 coaches where there is no information provided.  We will exclude these 4 from the model data, but will hold them to the side in case we want to use them during the prediction phase."
      ]
    },
    {
      "cell_type": "code",
      "metadata": {
        "colab": {
          "base_uri": "https://localhost:8080/"
        },
        "id": "qf_pwvdWMWYN",
        "outputId": "54414626-58ff-4f4a-df91-bd1c735feaf3"
      },
      "source": [
        "# Look at coaches that have no data\r\n",
        "coachNull = coachesClean[coachesClean.SchoolPay.isnull()]\r\n",
        "display(coachNull)\r\n",
        "\r\n",
        "# Remove from the main dataset\r\n",
        "coachesCleanNotNull = coachesClean[coachesClean.SchoolPay.notnull()]\r\n",
        "\r\n",
        "# Check shapes to make sure both datasets add up to original 129 rows\r\n",
        "display(coachNull.shape)\r\n",
        "display(coachesCleanNotNull.shape)"
      ],
      "execution_count": null,
      "outputs": [
        {
          "output_type": "display_data",
          "data": {
            "text/html": [
              "<div>\n",
              "<style scoped>\n",
              "    .dataframe tbody tr th:only-of-type {\n",
              "        vertical-align: middle;\n",
              "    }\n",
              "\n",
              "    .dataframe tbody tr th {\n",
              "        vertical-align: top;\n",
              "    }\n",
              "\n",
              "    .dataframe thead th {\n",
              "        text-align: right;\n",
              "    }\n",
              "</style>\n",
              "<table border=\"1\" class=\"dataframe\">\n",
              "  <thead>\n",
              "    <tr style=\"text-align: right;\">\n",
              "      <th></th>\n",
              "      <th>School</th>\n",
              "      <th>Conference</th>\n",
              "      <th>Coach</th>\n",
              "      <th>SchoolPay</th>\n",
              "      <th>Bonus</th>\n",
              "      <th>BonusPaid</th>\n",
              "      <th>AssistantPay</th>\n",
              "      <th>Buyout</th>\n",
              "    </tr>\n",
              "  </thead>\n",
              "  <tbody>\n",
              "    <tr>\n",
              "      <th>12</th>\n",
              "      <td>Baylor</td>\n",
              "      <td>Big 12</td>\n",
              "      <td>Matt Rhule</td>\n",
              "      <td>NaN</td>\n",
              "      <td>NaN</td>\n",
              "      <td>NaN</td>\n",
              "      <td>$0</td>\n",
              "      <td>NaN</td>\n",
              "    </tr>\n",
              "    <tr>\n",
              "      <th>16</th>\n",
              "      <td>Brigham Young</td>\n",
              "      <td>Ind.</td>\n",
              "      <td>Kalani Sitake</td>\n",
              "      <td>NaN</td>\n",
              "      <td>NaN</td>\n",
              "      <td>NaN</td>\n",
              "      <td>$0</td>\n",
              "      <td>NaN</td>\n",
              "    </tr>\n",
              "    <tr>\n",
              "      <th>91</th>\n",
              "      <td>Rice</td>\n",
              "      <td>C-USA</td>\n",
              "      <td>Mike Bloomgren</td>\n",
              "      <td>NaN</td>\n",
              "      <td>NaN</td>\n",
              "      <td>NaN</td>\n",
              "      <td>$0</td>\n",
              "      <td>NaN</td>\n",
              "    </tr>\n",
              "    <tr>\n",
              "      <th>99</th>\n",
              "      <td>Southern Methodist</td>\n",
              "      <td>AAC</td>\n",
              "      <td>Sonny Dykes</td>\n",
              "      <td>NaN</td>\n",
              "      <td>NaN</td>\n",
              "      <td>NaN</td>\n",
              "      <td>$0</td>\n",
              "      <td>NaN</td>\n",
              "    </tr>\n",
              "  </tbody>\n",
              "</table>\n",
              "</div>"
            ],
            "text/plain": [
              "                School Conference           Coach  ... BonusPaid AssistantPay Buyout\n",
              "12              Baylor     Big 12      Matt Rhule  ...       NaN          $0     NaN\n",
              "16       Brigham Young       Ind.   Kalani Sitake  ...       NaN          $0     NaN\n",
              "91                Rice      C-USA  Mike Bloomgren  ...       NaN          $0     NaN\n",
              "99  Southern Methodist        AAC     Sonny Dykes  ...       NaN          $0     NaN\n",
              "\n",
              "[4 rows x 8 columns]"
            ]
          },
          "metadata": {
            "tags": []
          }
        },
        {
          "output_type": "display_data",
          "data": {
            "text/plain": [
              "(4, 8)"
            ]
          },
          "metadata": {
            "tags": []
          }
        },
        {
          "output_type": "display_data",
          "data": {
            "text/plain": [
              "(125, 8)"
            ]
          },
          "metadata": {
            "tags": []
          }
        }
      ]
    },
    {
      "cell_type": "markdown",
      "metadata": {
        "id": "eKH0wVn7FSDD"
      },
      "source": [
        "Next, we need to ensure the data types are correct for analysis.  In particular - the pay fields need to be converted to numeric types."
      ]
    },
    {
      "cell_type": "code",
      "metadata": {
        "colab": {
          "base_uri": "https://localhost:8080/",
          "height": 476
        },
        "id": "8hOGlkejFf9Q",
        "outputId": "868c1877-e4a4-4c2f-d60c-600f56ad3be0"
      },
      "source": [
        "# Look at the current datatypes in the df\r\n",
        "display(coachesCleanNotNull.dtypes)\r\n",
        "\r\n",
        "# Change SchoolPay, Bonus, BonusPaid, AssistantPay, and Buyout to integer datatypes.  Removing $ signs and \",\" from numbers.\r\n",
        "for i in range(3,8):  \r\n",
        "  coachesCleanNotNull[coachesCleanNotNull.columns[i]] = coachesCleanNotNull[coachesCleanNotNull.columns[i]].str.replace('$',\"\")\r\n",
        "  coachesCleanNotNull[coachesCleanNotNull.columns[i]] = coachesCleanNotNull[coachesCleanNotNull.columns[i]].str.replace(',',\"\")\r\n",
        "  coachesCleanNotNull[coachesCleanNotNull.columns[i]] = coachesCleanNotNull[coachesCleanNotNull.columns[i]].astype(\"float\")"
      ],
      "execution_count": null,
      "outputs": [
        {
          "output_type": "display_data",
          "data": {
            "text/plain": [
              "School          object\n",
              "Conference      object\n",
              "Coach           object\n",
              "SchoolPay       object\n",
              "Bonus           object\n",
              "BonusPaid       object\n",
              "AssistantPay    object\n",
              "Buyout          object\n",
              "dtype: object"
            ]
          },
          "metadata": {
            "tags": []
          }
        },
        {
          "output_type": "stream",
          "text": [
            "/usr/local/lib/python3.6/dist-packages/ipykernel_launcher.py:6: SettingWithCopyWarning: \n",
            "A value is trying to be set on a copy of a slice from a DataFrame.\n",
            "Try using .loc[row_indexer,col_indexer] = value instead\n",
            "\n",
            "See the caveats in the documentation: https://pandas.pydata.org/pandas-docs/stable/user_guide/indexing.html#returning-a-view-versus-a-copy\n",
            "  \n",
            "/usr/local/lib/python3.6/dist-packages/ipykernel_launcher.py:7: SettingWithCopyWarning: \n",
            "A value is trying to be set on a copy of a slice from a DataFrame.\n",
            "Try using .loc[row_indexer,col_indexer] = value instead\n",
            "\n",
            "See the caveats in the documentation: https://pandas.pydata.org/pandas-docs/stable/user_guide/indexing.html#returning-a-view-versus-a-copy\n",
            "  import sys\n",
            "/usr/local/lib/python3.6/dist-packages/ipykernel_launcher.py:8: SettingWithCopyWarning: \n",
            "A value is trying to be set on a copy of a slice from a DataFrame.\n",
            "Try using .loc[row_indexer,col_indexer] = value instead\n",
            "\n",
            "See the caveats in the documentation: https://pandas.pydata.org/pandas-docs/stable/user_guide/indexing.html#returning-a-view-versus-a-copy\n",
            "  \n"
          ],
          "name": "stderr"
        }
      ]
    },
    {
      "cell_type": "markdown",
      "metadata": {
        "id": "XNBKuXpW4QdW"
      },
      "source": [
        "A quick look at the salary data - mins,maxes,means, and what is missing.  Checking to see that data makes sense."
      ]
    },
    {
      "cell_type": "code",
      "metadata": {
        "colab": {
          "base_uri": "https://localhost:8080/"
        },
        "id": "Zl0_qqSQ0wGK",
        "outputId": "b039463a-e912-4734-b403-7d03f69c3855"
      },
      "source": [
        "display(coachesCleanNotNull.describe())\r\n"
      ],
      "execution_count": null,
      "outputs": [
        {
          "output_type": "display_data",
          "data": {
            "text/html": [
              "<div>\n",
              "<style scoped>\n",
              "    .dataframe tbody tr th:only-of-type {\n",
              "        vertical-align: middle;\n",
              "    }\n",
              "\n",
              "    .dataframe tbody tr th {\n",
              "        vertical-align: top;\n",
              "    }\n",
              "\n",
              "    .dataframe thead th {\n",
              "        text-align: right;\n",
              "    }\n",
              "</style>\n",
              "<table border=\"1\" class=\"dataframe\">\n",
              "  <thead>\n",
              "    <tr style=\"text-align: right;\">\n",
              "      <th></th>\n",
              "      <th>SchoolPay</th>\n",
              "      <th>Bonus</th>\n",
              "      <th>BonusPaid</th>\n",
              "      <th>AssistantPay</th>\n",
              "      <th>Buyout</th>\n",
              "    </tr>\n",
              "  </thead>\n",
              "  <tbody>\n",
              "    <tr>\n",
              "      <th>count</th>\n",
              "      <td>1.250000e+02</td>\n",
              "      <td>1.070000e+02</td>\n",
              "      <td>8.800000e+01</td>\n",
              "      <td>125.0</td>\n",
              "      <td>1.070000e+02</td>\n",
              "    </tr>\n",
              "    <tr>\n",
              "      <th>mean</th>\n",
              "      <td>2.410301e+06</td>\n",
              "      <td>8.741782e+05</td>\n",
              "      <td>1.495243e+05</td>\n",
              "      <td>0.0</td>\n",
              "      <td>8.119107e+06</td>\n",
              "    </tr>\n",
              "    <tr>\n",
              "      <th>std</th>\n",
              "      <td>1.881377e+06</td>\n",
              "      <td>6.346974e+05</td>\n",
              "      <td>2.387579e+05</td>\n",
              "      <td>0.0</td>\n",
              "      <td>1.046135e+07</td>\n",
              "    </tr>\n",
              "    <tr>\n",
              "      <th>min</th>\n",
              "      <td>3.900000e+05</td>\n",
              "      <td>5.000000e+04</td>\n",
              "      <td>0.000000e+00</td>\n",
              "      <td>0.0</td>\n",
              "      <td>0.000000e+00</td>\n",
              "    </tr>\n",
              "    <tr>\n",
              "      <th>25%</th>\n",
              "      <td>8.015040e+05</td>\n",
              "      <td>3.950000e+05</td>\n",
              "      <td>1.937500e+04</td>\n",
              "      <td>0.0</td>\n",
              "      <td>1.200000e+06</td>\n",
              "    </tr>\n",
              "    <tr>\n",
              "      <th>50%</th>\n",
              "      <td>1.831580e+06</td>\n",
              "      <td>7.750000e+05</td>\n",
              "      <td>6.375000e+04</td>\n",
              "      <td>0.0</td>\n",
              "      <td>4.000000e+06</td>\n",
              "    </tr>\n",
              "    <tr>\n",
              "      <th>75%</th>\n",
              "      <td>3.605000e+06</td>\n",
              "      <td>1.150000e+06</td>\n",
              "      <td>1.800000e+05</td>\n",
              "      <td>0.0</td>\n",
              "      <td>1.106500e+07</td>\n",
              "    </tr>\n",
              "    <tr>\n",
              "      <th>max</th>\n",
              "      <td>8.307000e+06</td>\n",
              "      <td>3.100000e+06</td>\n",
              "      <td>1.350000e+06</td>\n",
              "      <td>0.0</td>\n",
              "      <td>6.812500e+07</td>\n",
              "    </tr>\n",
              "  </tbody>\n",
              "</table>\n",
              "</div>"
            ],
            "text/plain": [
              "          SchoolPay         Bonus     BonusPaid  AssistantPay        Buyout\n",
              "count  1.250000e+02  1.070000e+02  8.800000e+01         125.0  1.070000e+02\n",
              "mean   2.410301e+06  8.741782e+05  1.495243e+05           0.0  8.119107e+06\n",
              "std    1.881377e+06  6.346974e+05  2.387579e+05           0.0  1.046135e+07\n",
              "min    3.900000e+05  5.000000e+04  0.000000e+00           0.0  0.000000e+00\n",
              "25%    8.015040e+05  3.950000e+05  1.937500e+04           0.0  1.200000e+06\n",
              "50%    1.831580e+06  7.750000e+05  6.375000e+04           0.0  4.000000e+06\n",
              "75%    3.605000e+06  1.150000e+06  1.800000e+05           0.0  1.106500e+07\n",
              "max    8.307000e+06  3.100000e+06  1.350000e+06           0.0  6.812500e+07"
            ]
          },
          "metadata": {
            "tags": []
          }
        }
      ]
    },
    {
      "cell_type": "markdown",
      "metadata": {
        "id": "bj70rTfKFGwG"
      },
      "source": [
        "From earlier, we know that there are significant missing values in the Bonus, BonusPaid, and Buyout categories.  Looking at BonusPaid and Buyout columns, there are minimum values of zero - suggesting that we cannot simply assume a missing value is a zero.  Because of that, and because we can't afford to remove rows in order to preserve the features, I am cutting these 2 columns loose.  In addition, the AssistantPay column is all zeroes.  This is useless and will go as well. \r\n",
        "\r\n",
        "That leaves the Bonus column.  There are missing values, but the minimum is above 0.  I am cautiously leaving this column, and changing the missing values to 0, but this feature should be treated very carefully should it later prove to be significant."
      ]
    },
    {
      "cell_type": "code",
      "metadata": {
        "colab": {
          "base_uri": "https://localhost:8080/"
        },
        "id": "qyvssSV-GNJr",
        "outputId": "d2869a72-7dd1-4e5b-8ee7-dde0124ad3c9"
      },
      "source": [
        "coachesFinal = coachesCleanNotNull.drop([\"BonusPaid\", \"AssistantPay\", \"Buyout\"],1)\r\n",
        "coachesFinal.Bonus = coachesFinal.Bonus.fillna(0)\r\n",
        "display(coachesFinal.head(15))"
      ],
      "execution_count": null,
      "outputs": [
        {
          "output_type": "display_data",
          "data": {
            "text/html": [
              "<div>\n",
              "<style scoped>\n",
              "    .dataframe tbody tr th:only-of-type {\n",
              "        vertical-align: middle;\n",
              "    }\n",
              "\n",
              "    .dataframe tbody tr th {\n",
              "        vertical-align: top;\n",
              "    }\n",
              "\n",
              "    .dataframe thead th {\n",
              "        text-align: right;\n",
              "    }\n",
              "</style>\n",
              "<table border=\"1\" class=\"dataframe\">\n",
              "  <thead>\n",
              "    <tr style=\"text-align: right;\">\n",
              "      <th></th>\n",
              "      <th>School</th>\n",
              "      <th>Conference</th>\n",
              "      <th>Coach</th>\n",
              "      <th>SchoolPay</th>\n",
              "      <th>Bonus</th>\n",
              "    </tr>\n",
              "  </thead>\n",
              "  <tbody>\n",
              "    <tr>\n",
              "      <th>0</th>\n",
              "      <td>Air Force</td>\n",
              "      <td>Mt. West</td>\n",
              "      <td>Troy Calhoun</td>\n",
              "      <td>885000.0</td>\n",
              "      <td>247000.0</td>\n",
              "    </tr>\n",
              "    <tr>\n",
              "      <th>1</th>\n",
              "      <td>Akron</td>\n",
              "      <td>MAC</td>\n",
              "      <td>Terry Bowden</td>\n",
              "      <td>411000.0</td>\n",
              "      <td>225000.0</td>\n",
              "    </tr>\n",
              "    <tr>\n",
              "      <th>2</th>\n",
              "      <td>Alabama</td>\n",
              "      <td>SEC</td>\n",
              "      <td>Nick Saban</td>\n",
              "      <td>8307000.0</td>\n",
              "      <td>1100000.0</td>\n",
              "    </tr>\n",
              "    <tr>\n",
              "      <th>3</th>\n",
              "      <td>Alabama at Birmingham</td>\n",
              "      <td>C-USA</td>\n",
              "      <td>Bill Clark</td>\n",
              "      <td>900000.0</td>\n",
              "      <td>950000.0</td>\n",
              "    </tr>\n",
              "    <tr>\n",
              "      <th>4</th>\n",
              "      <td>Appalachian State</td>\n",
              "      <td>Sun Belt</td>\n",
              "      <td>Scott Satterfield</td>\n",
              "      <td>712500.0</td>\n",
              "      <td>295000.0</td>\n",
              "    </tr>\n",
              "    <tr>\n",
              "      <th>5</th>\n",
              "      <td>Arizona</td>\n",
              "      <td>Pac-12</td>\n",
              "      <td>Kevin Sumlin</td>\n",
              "      <td>1600000.0</td>\n",
              "      <td>2025000.0</td>\n",
              "    </tr>\n",
              "    <tr>\n",
              "      <th>6</th>\n",
              "      <td>Arizona State</td>\n",
              "      <td>Pac-12</td>\n",
              "      <td>Herm Edwards</td>\n",
              "      <td>2000000.0</td>\n",
              "      <td>3010000.0</td>\n",
              "    </tr>\n",
              "    <tr>\n",
              "      <th>7</th>\n",
              "      <td>Arkansas</td>\n",
              "      <td>SEC</td>\n",
              "      <td>Chad Morris</td>\n",
              "      <td>3500000.0</td>\n",
              "      <td>1000000.0</td>\n",
              "    </tr>\n",
              "    <tr>\n",
              "      <th>8</th>\n",
              "      <td>Arkansas State</td>\n",
              "      <td>Sun Belt</td>\n",
              "      <td>Blake Anderson</td>\n",
              "      <td>825000.0</td>\n",
              "      <td>185000.0</td>\n",
              "    </tr>\n",
              "    <tr>\n",
              "      <th>9</th>\n",
              "      <td>Army</td>\n",
              "      <td>Ind.</td>\n",
              "      <td>Jeff Monken</td>\n",
              "      <td>932521.0</td>\n",
              "      <td>0.0</td>\n",
              "    </tr>\n",
              "    <tr>\n",
              "      <th>10</th>\n",
              "      <td>Auburn</td>\n",
              "      <td>SEC</td>\n",
              "      <td>Gus Malzahn</td>\n",
              "      <td>6700000.0</td>\n",
              "      <td>1400000.0</td>\n",
              "    </tr>\n",
              "    <tr>\n",
              "      <th>11</th>\n",
              "      <td>Ball State</td>\n",
              "      <td>MAC</td>\n",
              "      <td>Mike Neu</td>\n",
              "      <td>435689.0</td>\n",
              "      <td>380000.0</td>\n",
              "    </tr>\n",
              "    <tr>\n",
              "      <th>13</th>\n",
              "      <td>Boise State</td>\n",
              "      <td>Mt. West</td>\n",
              "      <td>Bryan Harsin</td>\n",
              "      <td>1650010.0</td>\n",
              "      <td>475000.0</td>\n",
              "    </tr>\n",
              "    <tr>\n",
              "      <th>14</th>\n",
              "      <td>Boston College</td>\n",
              "      <td>ACC</td>\n",
              "      <td>Steve Addazio</td>\n",
              "      <td>2514859.0</td>\n",
              "      <td>0.0</td>\n",
              "    </tr>\n",
              "    <tr>\n",
              "      <th>15</th>\n",
              "      <td>Bowling Green</td>\n",
              "      <td>MAC</td>\n",
              "      <td>Mike Jinks</td>\n",
              "      <td>437228.0</td>\n",
              "      <td>245000.0</td>\n",
              "    </tr>\n",
              "  </tbody>\n",
              "</table>\n",
              "</div>"
            ],
            "text/plain": [
              "                   School Conference              Coach  SchoolPay      Bonus\n",
              "0               Air Force   Mt. West       Troy Calhoun   885000.0   247000.0\n",
              "1                   Akron        MAC       Terry Bowden   411000.0   225000.0\n",
              "2                 Alabama        SEC         Nick Saban  8307000.0  1100000.0\n",
              "3   Alabama at Birmingham      C-USA         Bill Clark   900000.0   950000.0\n",
              "4       Appalachian State   Sun Belt  Scott Satterfield   712500.0   295000.0\n",
              "5                 Arizona     Pac-12       Kevin Sumlin  1600000.0  2025000.0\n",
              "6           Arizona State     Pac-12       Herm Edwards  2000000.0  3010000.0\n",
              "7                Arkansas        SEC        Chad Morris  3500000.0  1000000.0\n",
              "8          Arkansas State   Sun Belt     Blake Anderson   825000.0   185000.0\n",
              "9                    Army       Ind.        Jeff Monken   932521.0        0.0\n",
              "10                 Auburn        SEC        Gus Malzahn  6700000.0  1400000.0\n",
              "11             Ball State        MAC           Mike Neu   435689.0   380000.0\n",
              "13            Boise State   Mt. West       Bryan Harsin  1650010.0   475000.0\n",
              "14         Boston College        ACC      Steve Addazio  2514859.0        0.0\n",
              "15          Bowling Green        MAC         Mike Jinks   437228.0   245000.0"
            ]
          },
          "metadata": {
            "tags": []
          }
        }
      ]
    },
    {
      "cell_type": "markdown",
      "metadata": {
        "id": "nEHDrjH44UhY"
      },
      "source": [
        "### Moar Data - Coaching Histories"
      ]
    },
    {
      "cell_type": "markdown",
      "metadata": {
        "id": "dkg9ok8lV5xe"
      },
      "source": [
        "One of the key metrics I imagine in determining a coach's salary is their past performance.  A good way of measuring this is to look at their historical record - how many wins do they have, and what is their winning percentage.  This data is surprisingly difficult to find in a consolidated place, but to get it, I am using a file queried from CollegeFootballData.com - located here: https://collegefootballdata.com/exporter/coaches.  The data lists coaches records by season.  So we need to bring it in, consolidate it to summary data, and then match up the pertinent coaches to those in the previous dataframe."
      ]
    },
    {
      "cell_type": "code",
      "metadata": {
        "colab": {
          "resources": {
            "http://localhost:8080/nbextensions/google.colab/files.js": {
              "data": "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",
              "ok": true,
              "headers": [
                [
                  "content-type",
                  "application/javascript"
                ]
              ],
              "status": 200,
              "status_text": ""
            }
          },
          "base_uri": "https://localhost:8080/"
        },
        "id": "4m6-SSH0W38E",
        "outputId": "e10ff720-261b-4cc5-80b4-8bd3b55f5abd"
      },
      "source": [
        "uploaded = files.upload()\r\n",
        "\r\n",
        "# Create intial dataframe called coachHistRaw\r\n",
        "coachHistRaw = pd.read_csv(io.BytesIO(uploaded['coach_hist.csv']),na_values=\"--\") "
      ],
      "execution_count": null,
      "outputs": [
        {
          "output_type": "display_data",
          "data": {
            "text/html": [
              "\n",
              "     <input type=\"file\" id=\"files-76bc043b-53e2-4937-9fb7-0fd291906fd7\" name=\"files[]\" multiple disabled\n",
              "        style=\"border:none\" />\n",
              "     <output id=\"result-76bc043b-53e2-4937-9fb7-0fd291906fd7\">\n",
              "      Upload widget is only available when the cell has been executed in the\n",
              "      current browser session. Please rerun this cell to enable.\n",
              "      </output>\n",
              "      <script src=\"/nbextensions/google.colab/files.js\"></script> "
            ],
            "text/plain": [
              "<IPython.core.display.HTML object>"
            ]
          },
          "metadata": {
            "tags": []
          }
        },
        {
          "output_type": "stream",
          "text": [
            "Saving coach_hist.csv to coach_hist.csv\n"
          ],
          "name": "stdout"
        }
      ]
    },
    {
      "cell_type": "code",
      "metadata": {
        "colab": {
          "base_uri": "https://localhost:8080/"
        },
        "id": "B4n-mWNDXNlp",
        "outputId": "e6e280bb-c9a4-4619-d3a4-cff7722e4f3b"
      },
      "source": [
        "# Take a brief look at the data.\r\n",
        "display(coachHistRaw.head(5))\r\n",
        "display(coachHistRaw.describe())\r\n",
        "display(coachHistRaw.dtypes)"
      ],
      "execution_count": null,
      "outputs": [
        {
          "output_type": "display_data",
          "data": {
            "text/html": [
              "<div>\n",
              "<style scoped>\n",
              "    .dataframe tbody tr th:only-of-type {\n",
              "        vertical-align: middle;\n",
              "    }\n",
              "\n",
              "    .dataframe tbody tr th {\n",
              "        vertical-align: top;\n",
              "    }\n",
              "\n",
              "    .dataframe thead th {\n",
              "        text-align: right;\n",
              "    }\n",
              "</style>\n",
              "<table border=\"1\" class=\"dataframe\">\n",
              "  <thead>\n",
              "    <tr style=\"text-align: right;\">\n",
              "      <th></th>\n",
              "      <th>school</th>\n",
              "      <th>year</th>\n",
              "      <th>games</th>\n",
              "      <th>wins</th>\n",
              "      <th>losses</th>\n",
              "      <th>ties</th>\n",
              "      <th>preseason_rank</th>\n",
              "      <th>postseason_rank</th>\n",
              "      <th>srs</th>\n",
              "      <th>sp_overall</th>\n",
              "      <th>sp_offense</th>\n",
              "      <th>sp_defense</th>\n",
              "      <th>first_name</th>\n",
              "      <th>last_name</th>\n",
              "    </tr>\n",
              "  </thead>\n",
              "  <tbody>\n",
              "    <tr>\n",
              "      <th>0</th>\n",
              "      <td>Alabama</td>\n",
              "      <td>1902</td>\n",
              "      <td>8</td>\n",
              "      <td>4</td>\n",
              "      <td>4</td>\n",
              "      <td>0</td>\n",
              "      <td>0.0</td>\n",
              "      <td>0.0</td>\n",
              "      <td>-16.7</td>\n",
              "      <td>NaN</td>\n",
              "      <td>NaN</td>\n",
              "      <td>NaN</td>\n",
              "      <td>Eli</td>\n",
              "      <td>Abbott</td>\n",
              "    </tr>\n",
              "    <tr>\n",
              "      <th>1</th>\n",
              "      <td>Colgate</td>\n",
              "      <td>1928</td>\n",
              "      <td>9</td>\n",
              "      <td>6</td>\n",
              "      <td>3</td>\n",
              "      <td>0</td>\n",
              "      <td>NaN</td>\n",
              "      <td>NaN</td>\n",
              "      <td>7.7</td>\n",
              "      <td>NaN</td>\n",
              "      <td>NaN</td>\n",
              "      <td>NaN</td>\n",
              "      <td>Earl</td>\n",
              "      <td>Abell</td>\n",
              "    </tr>\n",
              "    <tr>\n",
              "      <th>2</th>\n",
              "      <td>Virginia</td>\n",
              "      <td>1929</td>\n",
              "      <td>9</td>\n",
              "      <td>4</td>\n",
              "      <td>3</td>\n",
              "      <td>2</td>\n",
              "      <td>NaN</td>\n",
              "      <td>NaN</td>\n",
              "      <td>-15.1</td>\n",
              "      <td>NaN</td>\n",
              "      <td>NaN</td>\n",
              "      <td>NaN</td>\n",
              "      <td>Earl</td>\n",
              "      <td>Abell</td>\n",
              "    </tr>\n",
              "    <tr>\n",
              "      <th>3</th>\n",
              "      <td>Virginia</td>\n",
              "      <td>1930</td>\n",
              "      <td>10</td>\n",
              "      <td>4</td>\n",
              "      <td>6</td>\n",
              "      <td>0</td>\n",
              "      <td>NaN</td>\n",
              "      <td>NaN</td>\n",
              "      <td>-23.1</td>\n",
              "      <td>NaN</td>\n",
              "      <td>NaN</td>\n",
              "      <td>NaN</td>\n",
              "      <td>Earl</td>\n",
              "      <td>Abell</td>\n",
              "    </tr>\n",
              "    <tr>\n",
              "      <th>4</th>\n",
              "      <td>Mississippi State</td>\n",
              "      <td>1923</td>\n",
              "      <td>9</td>\n",
              "      <td>5</td>\n",
              "      <td>2</td>\n",
              "      <td>2</td>\n",
              "      <td>NaN</td>\n",
              "      <td>NaN</td>\n",
              "      <td>-7.1</td>\n",
              "      <td>NaN</td>\n",
              "      <td>NaN</td>\n",
              "      <td>NaN</td>\n",
              "      <td>Earl</td>\n",
              "      <td>Able</td>\n",
              "    </tr>\n",
              "  </tbody>\n",
              "</table>\n",
              "</div>"
            ],
            "text/plain": [
              "              school  year  games  ...  sp_defense  first_name  last_name\n",
              "0            Alabama  1902      8  ...         NaN         Eli     Abbott\n",
              "1            Colgate  1928      9  ...         NaN        Earl      Abell\n",
              "2           Virginia  1929      9  ...         NaN        Earl      Abell\n",
              "3           Virginia  1930     10  ...         NaN        Earl      Abell\n",
              "4  Mississippi State  1923      9  ...         NaN        Earl       Able\n",
              "\n",
              "[5 rows x 14 columns]"
            ]
          },
          "metadata": {
            "tags": []
          }
        },
        {
          "output_type": "display_data",
          "data": {
            "text/html": [
              "<div>\n",
              "<style scoped>\n",
              "    .dataframe tbody tr th:only-of-type {\n",
              "        vertical-align: middle;\n",
              "    }\n",
              "\n",
              "    .dataframe tbody tr th {\n",
              "        vertical-align: top;\n",
              "    }\n",
              "\n",
              "    .dataframe thead th {\n",
              "        text-align: right;\n",
              "    }\n",
              "</style>\n",
              "<table border=\"1\" class=\"dataframe\">\n",
              "  <thead>\n",
              "    <tr style=\"text-align: right;\">\n",
              "      <th></th>\n",
              "      <th>year</th>\n",
              "      <th>games</th>\n",
              "      <th>wins</th>\n",
              "      <th>losses</th>\n",
              "      <th>ties</th>\n",
              "      <th>preseason_rank</th>\n",
              "      <th>postseason_rank</th>\n",
              "      <th>srs</th>\n",
              "      <th>sp_overall</th>\n",
              "      <th>sp_offense</th>\n",
              "      <th>sp_defense</th>\n",
              "    </tr>\n",
              "  </thead>\n",
              "  <tbody>\n",
              "    <tr>\n",
              "      <th>count</th>\n",
              "      <td>11661.000000</td>\n",
              "      <td>11661.000000</td>\n",
              "      <td>11661.000000</td>\n",
              "      <td>11661.000000</td>\n",
              "      <td>11661.000000</td>\n",
              "      <td>1636.00000</td>\n",
              "      <td>1827.000000</td>\n",
              "      <td>11425.000000</td>\n",
              "      <td>5906.000000</td>\n",
              "      <td>5907.00000</td>\n",
              "      <td>5906.000000</td>\n",
              "    </tr>\n",
              "    <tr>\n",
              "      <th>mean</th>\n",
              "      <td>1967.895035</td>\n",
              "      <td>10.338307</td>\n",
              "      <td>5.520967</td>\n",
              "      <td>4.516508</td>\n",
              "      <td>0.300317</td>\n",
              "      <td>10.92176</td>\n",
              "      <td>10.801861</td>\n",
              "      <td>1.492805</td>\n",
              "      <td>1.926498</td>\n",
              "      <td>28.57117</td>\n",
              "      <td>26.726397</td>\n",
              "    </tr>\n",
              "    <tr>\n",
              "      <th>std</th>\n",
              "      <td>33.499391</td>\n",
              "      <td>2.167956</td>\n",
              "      <td>2.776125</td>\n",
              "      <td>2.560387</td>\n",
              "      <td>0.594737</td>\n",
              "      <td>7.10911</td>\n",
              "      <td>6.929637</td>\n",
              "      <td>13.438446</td>\n",
              "      <td>14.225845</td>\n",
              "      <td>8.17443</td>\n",
              "      <td>8.385177</td>\n",
              "    </tr>\n",
              "    <tr>\n",
              "      <th>min</th>\n",
              "      <td>1886.000000</td>\n",
              "      <td>0.000000</td>\n",
              "      <td>0.000000</td>\n",
              "      <td>0.000000</td>\n",
              "      <td>0.000000</td>\n",
              "      <td>0.00000</td>\n",
              "      <td>0.000000</td>\n",
              "      <td>-62.400000</td>\n",
              "      <td>-38.900000</td>\n",
              "      <td>-0.50000</td>\n",
              "      <td>4.600000</td>\n",
              "    </tr>\n",
              "    <tr>\n",
              "      <th>25%</th>\n",
              "      <td>1940.000000</td>\n",
              "      <td>9.000000</td>\n",
              "      <td>4.000000</td>\n",
              "      <td>3.000000</td>\n",
              "      <td>0.000000</td>\n",
              "      <td>5.00000</td>\n",
              "      <td>5.000000</td>\n",
              "      <td>-7.500000</td>\n",
              "      <td>-8.600000</td>\n",
              "      <td>23.20000</td>\n",
              "      <td>20.425000</td>\n",
              "    </tr>\n",
              "    <tr>\n",
              "      <th>50%</th>\n",
              "      <td>1971.000000</td>\n",
              "      <td>11.000000</td>\n",
              "      <td>5.000000</td>\n",
              "      <td>4.000000</td>\n",
              "      <td>0.000000</td>\n",
              "      <td>10.50000</td>\n",
              "      <td>10.000000</td>\n",
              "      <td>2.000000</td>\n",
              "      <td>2.400000</td>\n",
              "      <td>28.60000</td>\n",
              "      <td>26.700000</td>\n",
              "    </tr>\n",
              "    <tr>\n",
              "      <th>75%</th>\n",
              "      <td>1997.000000</td>\n",
              "      <td>12.000000</td>\n",
              "      <td>7.000000</td>\n",
              "      <td>6.000000</td>\n",
              "      <td>0.000000</td>\n",
              "      <td>17.00000</td>\n",
              "      <td>17.000000</td>\n",
              "      <td>10.800000</td>\n",
              "      <td>12.000000</td>\n",
              "      <td>34.20000</td>\n",
              "      <td>33.000000</td>\n",
              "    </tr>\n",
              "    <tr>\n",
              "      <th>max</th>\n",
              "      <td>2020.000000</td>\n",
              "      <td>22.000000</td>\n",
              "      <td>16.000000</td>\n",
              "      <td>12.000000</td>\n",
              "      <td>4.000000</td>\n",
              "      <td>25.00000</td>\n",
              "      <td>25.000000</td>\n",
              "      <td>49.900000</td>\n",
              "      <td>38.500000</td>\n",
              "      <td>54.00000</td>\n",
              "      <td>52.400000</td>\n",
              "    </tr>\n",
              "  </tbody>\n",
              "</table>\n",
              "</div>"
            ],
            "text/plain": [
              "               year         games  ...  sp_offense   sp_defense\n",
              "count  11661.000000  11661.000000  ...  5907.00000  5906.000000\n",
              "mean    1967.895035     10.338307  ...    28.57117    26.726397\n",
              "std       33.499391      2.167956  ...     8.17443     8.385177\n",
              "min     1886.000000      0.000000  ...    -0.50000     4.600000\n",
              "25%     1940.000000      9.000000  ...    23.20000    20.425000\n",
              "50%     1971.000000     11.000000  ...    28.60000    26.700000\n",
              "75%     1997.000000     12.000000  ...    34.20000    33.000000\n",
              "max     2020.000000     22.000000  ...    54.00000    52.400000\n",
              "\n",
              "[8 rows x 11 columns]"
            ]
          },
          "metadata": {
            "tags": []
          }
        },
        {
          "output_type": "display_data",
          "data": {
            "text/plain": [
              "school              object\n",
              "year                 int64\n",
              "games                int64\n",
              "wins                 int64\n",
              "losses               int64\n",
              "ties                 int64\n",
              "preseason_rank     float64\n",
              "postseason_rank    float64\n",
              "srs                float64\n",
              "sp_overall         float64\n",
              "sp_offense         float64\n",
              "sp_defense         float64\n",
              "first_name          object\n",
              "last_name           object\n",
              "dtype: object"
            ]
          },
          "metadata": {
            "tags": []
          }
        }
      ]
    },
    {
      "cell_type": "code",
      "metadata": {
        "colab": {
          "base_uri": "https://localhost:8080/"
        },
        "id": "3UpgIZhOXwIM",
        "outputId": "d25ab940-aff0-4587-f559-dfa3418a05f1"
      },
      "source": [
        "# Create a new column concatenating coach's first and last name.  This should (hopefully) match the names in the previous df\r\n",
        "\r\n",
        "coachHistRaw[\"name\"] = coachHistRaw.first_name + \" \" + coachHistRaw.last_name\r\n",
        "coachHistRaw.head(5)"
      ],
      "execution_count": null,
      "outputs": [
        {
          "output_type": "execute_result",
          "data": {
            "text/html": [
              "<div>\n",
              "<style scoped>\n",
              "    .dataframe tbody tr th:only-of-type {\n",
              "        vertical-align: middle;\n",
              "    }\n",
              "\n",
              "    .dataframe tbody tr th {\n",
              "        vertical-align: top;\n",
              "    }\n",
              "\n",
              "    .dataframe thead th {\n",
              "        text-align: right;\n",
              "    }\n",
              "</style>\n",
              "<table border=\"1\" class=\"dataframe\">\n",
              "  <thead>\n",
              "    <tr style=\"text-align: right;\">\n",
              "      <th></th>\n",
              "      <th>school</th>\n",
              "      <th>year</th>\n",
              "      <th>games</th>\n",
              "      <th>wins</th>\n",
              "      <th>losses</th>\n",
              "      <th>ties</th>\n",
              "      <th>preseason_rank</th>\n",
              "      <th>postseason_rank</th>\n",
              "      <th>srs</th>\n",
              "      <th>sp_overall</th>\n",
              "      <th>sp_offense</th>\n",
              "      <th>sp_defense</th>\n",
              "      <th>first_name</th>\n",
              "      <th>last_name</th>\n",
              "      <th>name</th>\n",
              "    </tr>\n",
              "  </thead>\n",
              "  <tbody>\n",
              "    <tr>\n",
              "      <th>0</th>\n",
              "      <td>Alabama</td>\n",
              "      <td>1902</td>\n",
              "      <td>8</td>\n",
              "      <td>4</td>\n",
              "      <td>4</td>\n",
              "      <td>0</td>\n",
              "      <td>0.0</td>\n",
              "      <td>0.0</td>\n",
              "      <td>-16.7</td>\n",
              "      <td>NaN</td>\n",
              "      <td>NaN</td>\n",
              "      <td>NaN</td>\n",
              "      <td>Eli</td>\n",
              "      <td>Abbott</td>\n",
              "      <td>Eli Abbott</td>\n",
              "    </tr>\n",
              "    <tr>\n",
              "      <th>1</th>\n",
              "      <td>Colgate</td>\n",
              "      <td>1928</td>\n",
              "      <td>9</td>\n",
              "      <td>6</td>\n",
              "      <td>3</td>\n",
              "      <td>0</td>\n",
              "      <td>NaN</td>\n",
              "      <td>NaN</td>\n",
              "      <td>7.7</td>\n",
              "      <td>NaN</td>\n",
              "      <td>NaN</td>\n",
              "      <td>NaN</td>\n",
              "      <td>Earl</td>\n",
              "      <td>Abell</td>\n",
              "      <td>Earl Abell</td>\n",
              "    </tr>\n",
              "    <tr>\n",
              "      <th>2</th>\n",
              "      <td>Virginia</td>\n",
              "      <td>1929</td>\n",
              "      <td>9</td>\n",
              "      <td>4</td>\n",
              "      <td>3</td>\n",
              "      <td>2</td>\n",
              "      <td>NaN</td>\n",
              "      <td>NaN</td>\n",
              "      <td>-15.1</td>\n",
              "      <td>NaN</td>\n",
              "      <td>NaN</td>\n",
              "      <td>NaN</td>\n",
              "      <td>Earl</td>\n",
              "      <td>Abell</td>\n",
              "      <td>Earl Abell</td>\n",
              "    </tr>\n",
              "    <tr>\n",
              "      <th>3</th>\n",
              "      <td>Virginia</td>\n",
              "      <td>1930</td>\n",
              "      <td>10</td>\n",
              "      <td>4</td>\n",
              "      <td>6</td>\n",
              "      <td>0</td>\n",
              "      <td>NaN</td>\n",
              "      <td>NaN</td>\n",
              "      <td>-23.1</td>\n",
              "      <td>NaN</td>\n",
              "      <td>NaN</td>\n",
              "      <td>NaN</td>\n",
              "      <td>Earl</td>\n",
              "      <td>Abell</td>\n",
              "      <td>Earl Abell</td>\n",
              "    </tr>\n",
              "    <tr>\n",
              "      <th>4</th>\n",
              "      <td>Mississippi State</td>\n",
              "      <td>1923</td>\n",
              "      <td>9</td>\n",
              "      <td>5</td>\n",
              "      <td>2</td>\n",
              "      <td>2</td>\n",
              "      <td>NaN</td>\n",
              "      <td>NaN</td>\n",
              "      <td>-7.1</td>\n",
              "      <td>NaN</td>\n",
              "      <td>NaN</td>\n",
              "      <td>NaN</td>\n",
              "      <td>Earl</td>\n",
              "      <td>Able</td>\n",
              "      <td>Earl Able</td>\n",
              "    </tr>\n",
              "  </tbody>\n",
              "</table>\n",
              "</div>"
            ],
            "text/plain": [
              "              school  year  games  ...  first_name  last_name        name\n",
              "0            Alabama  1902      8  ...         Eli     Abbott  Eli Abbott\n",
              "1            Colgate  1928      9  ...        Earl      Abell  Earl Abell\n",
              "2           Virginia  1929      9  ...        Earl      Abell  Earl Abell\n",
              "3           Virginia  1930     10  ...        Earl      Abell  Earl Abell\n",
              "4  Mississippi State  1923      9  ...        Earl       Able   Earl Able\n",
              "\n",
              "[5 rows x 15 columns]"
            ]
          },
          "metadata": {
            "tags": []
          },
          "execution_count": 11
        }
      ]
    },
    {
      "cell_type": "code",
      "metadata": {
        "colab": {
          "base_uri": "https://localhost:8080/"
        },
        "id": "y3YHTwVSYiE9",
        "outputId": "4fa6896f-31e2-49e6-8486-32c0609b4454"
      },
      "source": [
        "# Create a new df coachHistAgg to put aggregate coach data\r\n",
        "coachHistAgg = pd.DataFrame()\r\n",
        "coachHistAgg[\"name\"] = coachHistRaw.name.unique()\r\n",
        "\r\n",
        "# Populate the Aggregate dataframe with agg games, wins, losses, and ties.  \r\n",
        "games = []\r\n",
        "wins = []\r\n",
        "losses = []\r\n",
        "ties = []\r\n",
        "for n in coachHistAgg.name:\r\n",
        "  wins.append(coachHistRaw.loc[coachHistRaw[\"name\"] == n, \"wins\"].sum())\r\n",
        "  games.append(np.sum(coachHistRaw[coachHistRaw[\"name\"] == n][\"games\"]))\r\n",
        "  losses.append(coachHistRaw.loc[coachHistRaw[\"name\"] == n, \"losses\"].sum())\r\n",
        "  ties.append(coachHistRaw.loc[coachHistRaw[\"name\"] == n, \"ties\"].sum())\r\n",
        "coachHistAgg['games'] = pd.Series(games)\r\n",
        "coachHistAgg[\"wins\"] = wins\r\n",
        "coachHistAgg[\"losses\"] = losses\r\n",
        "coachHistAgg[\"ties\"] = ties\r\n",
        "\r\n",
        "coachHistAgg.head(5)"
      ],
      "execution_count": null,
      "outputs": [
        {
          "output_type": "execute_result",
          "data": {
            "text/html": [
              "<div>\n",
              "<style scoped>\n",
              "    .dataframe tbody tr th:only-of-type {\n",
              "        vertical-align: middle;\n",
              "    }\n",
              "\n",
              "    .dataframe tbody tr th {\n",
              "        vertical-align: top;\n",
              "    }\n",
              "\n",
              "    .dataframe thead th {\n",
              "        text-align: right;\n",
              "    }\n",
              "</style>\n",
              "<table border=\"1\" class=\"dataframe\">\n",
              "  <thead>\n",
              "    <tr style=\"text-align: right;\">\n",
              "      <th></th>\n",
              "      <th>name</th>\n",
              "      <th>games</th>\n",
              "      <th>wins</th>\n",
              "      <th>losses</th>\n",
              "      <th>ties</th>\n",
              "    </tr>\n",
              "  </thead>\n",
              "  <tbody>\n",
              "    <tr>\n",
              "      <th>0</th>\n",
              "      <td>Eli Abbott</td>\n",
              "      <td>8</td>\n",
              "      <td>4</td>\n",
              "      <td>4</td>\n",
              "      <td>0</td>\n",
              "    </tr>\n",
              "    <tr>\n",
              "      <th>1</th>\n",
              "      <td>Earl Abell</td>\n",
              "      <td>28</td>\n",
              "      <td>14</td>\n",
              "      <td>12</td>\n",
              "      <td>2</td>\n",
              "    </tr>\n",
              "    <tr>\n",
              "      <th>2</th>\n",
              "      <td>Earl Able</td>\n",
              "      <td>18</td>\n",
              "      <td>10</td>\n",
              "      <td>6</td>\n",
              "      <td>2</td>\n",
              "    </tr>\n",
              "    <tr>\n",
              "      <th>3</th>\n",
              "      <td>Hobbs Adams</td>\n",
              "      <td>27</td>\n",
              "      <td>4</td>\n",
              "      <td>21</td>\n",
              "      <td>2</td>\n",
              "    </tr>\n",
              "    <tr>\n",
              "      <th>4</th>\n",
              "      <td>Steve Addazio</td>\n",
              "      <td>112</td>\n",
              "      <td>57</td>\n",
              "      <td>55</td>\n",
              "      <td>0</td>\n",
              "    </tr>\n",
              "  </tbody>\n",
              "</table>\n",
              "</div>"
            ],
            "text/plain": [
              "            name  games  wins  losses  ties\n",
              "0     Eli Abbott      8     4       4     0\n",
              "1     Earl Abell     28    14      12     2\n",
              "2      Earl Able     18    10       6     2\n",
              "3    Hobbs Adams     27     4      21     2\n",
              "4  Steve Addazio    112    57      55     0"
            ]
          },
          "metadata": {
            "tags": []
          },
          "execution_count": 12
        }
      ]
    },
    {
      "cell_type": "code",
      "metadata": {
        "id": "p7i0JEMAoqEy"
      },
      "source": [
        "# Changing the names on 2 of the coaches in Aggregate list to match the final coaches list.\r\n",
        "# There is likely a more elegant fuzzy matching solution to this, but it was late on Sunday, and this works (for now)\r\n",
        "coachHistAgg[\"name\"] = coachHistAgg[\"name\"].str.replace(\"D.J. Durkin\", \"DJ Durkin\")\r\n",
        "coachHistAgg[\"name\"] = coachHistAgg[\"name\"].str.replace(\"Mike Sanford\", \"Mike Sanford Jr.\")"
      ],
      "execution_count": null,
      "outputs": []
    },
    {
      "cell_type": "code",
      "metadata": {
        "colab": {
          "base_uri": "https://localhost:8080/"
        },
        "id": "U-FriJa6hjU8",
        "outputId": "f02059ff-c7da-4660-a451-a663a22640d5"
      },
      "source": [
        "# Merge aggregate data into the main coaches df\r\n",
        "cgames = []\r\n",
        "cwins = []\r\n",
        "closses = []\r\n",
        "cties = []\r\n",
        "for n in coachesFinal.Coach:\r\n",
        " cgames.append(coachHistAgg.loc[coachHistAgg[\"name\"] == n, \"games\"].values[0])\r\n",
        " cwins.append(coachHistAgg.loc[coachHistAgg[\"name\"] == n, \"wins\"].values[0])\r\n",
        " closses.append(coachHistAgg.loc[coachHistAgg[\"name\"] == n, \"losses\"].values[0])\r\n",
        " cties.append(coachHistAgg.loc[coachHistAgg[\"name\"] == n, \"ties\"].values[0])\r\n",
        "coachesFinal[\"coachGames\"] = cgames\r\n",
        "coachesFinal[\"coachWins\"] = cwins\r\n",
        "coachesFinal[\"coachLosses\"] = closses\r\n",
        "coachesFinal[\"coachTies\"] = cties\r\n",
        "coachesFinal.head(5)"
      ],
      "execution_count": null,
      "outputs": [
        {
          "output_type": "execute_result",
          "data": {
            "text/html": [
              "<div>\n",
              "<style scoped>\n",
              "    .dataframe tbody tr th:only-of-type {\n",
              "        vertical-align: middle;\n",
              "    }\n",
              "\n",
              "    .dataframe tbody tr th {\n",
              "        vertical-align: top;\n",
              "    }\n",
              "\n",
              "    .dataframe thead th {\n",
              "        text-align: right;\n",
              "    }\n",
              "</style>\n",
              "<table border=\"1\" class=\"dataframe\">\n",
              "  <thead>\n",
              "    <tr style=\"text-align: right;\">\n",
              "      <th></th>\n",
              "      <th>School</th>\n",
              "      <th>Conference</th>\n",
              "      <th>Coach</th>\n",
              "      <th>SchoolPay</th>\n",
              "      <th>Bonus</th>\n",
              "      <th>coachGames</th>\n",
              "      <th>coachWins</th>\n",
              "      <th>coachLosses</th>\n",
              "      <th>coachTies</th>\n",
              "    </tr>\n",
              "  </thead>\n",
              "  <tbody>\n",
              "    <tr>\n",
              "      <th>0</th>\n",
              "      <td>Air Force</td>\n",
              "      <td>Mt. West</td>\n",
              "      <td>Troy Calhoun</td>\n",
              "      <td>885000.0</td>\n",
              "      <td>247000.0</td>\n",
              "      <td>167</td>\n",
              "      <td>98</td>\n",
              "      <td>69</td>\n",
              "      <td>0</td>\n",
              "    </tr>\n",
              "    <tr>\n",
              "      <th>1</th>\n",
              "      <td>Akron</td>\n",
              "      <td>MAC</td>\n",
              "      <td>Terry Bowden</td>\n",
              "      <td>411000.0</td>\n",
              "      <td>225000.0</td>\n",
              "      <td>152</td>\n",
              "      <td>82</td>\n",
              "      <td>69</td>\n",
              "      <td>1</td>\n",
              "    </tr>\n",
              "    <tr>\n",
              "      <th>2</th>\n",
              "      <td>Alabama</td>\n",
              "      <td>SEC</td>\n",
              "      <td>Nick Saban</td>\n",
              "      <td>8307000.0</td>\n",
              "      <td>1100000.0</td>\n",
              "      <td>314</td>\n",
              "      <td>248</td>\n",
              "      <td>65</td>\n",
              "      <td>1</td>\n",
              "    </tr>\n",
              "    <tr>\n",
              "      <th>3</th>\n",
              "      <td>Alabama at Birmingham</td>\n",
              "      <td>C-USA</td>\n",
              "      <td>Bill Clark</td>\n",
              "      <td>900000.0</td>\n",
              "      <td>950000.0</td>\n",
              "      <td>53</td>\n",
              "      <td>34</td>\n",
              "      <td>19</td>\n",
              "      <td>0</td>\n",
              "    </tr>\n",
              "    <tr>\n",
              "      <th>4</th>\n",
              "      <td>Appalachian State</td>\n",
              "      <td>Sun Belt</td>\n",
              "      <td>Scott Satterfield</td>\n",
              "      <td>712500.0</td>\n",
              "      <td>295000.0</td>\n",
              "      <td>76</td>\n",
              "      <td>55</td>\n",
              "      <td>21</td>\n",
              "      <td>0</td>\n",
              "    </tr>\n",
              "  </tbody>\n",
              "</table>\n",
              "</div>"
            ],
            "text/plain": [
              "                  School Conference  ... coachLosses  coachTies\n",
              "0              Air Force   Mt. West  ...          69          0\n",
              "1                  Akron        MAC  ...          69          1\n",
              "2                Alabama        SEC  ...          65          1\n",
              "3  Alabama at Birmingham      C-USA  ...          19          0\n",
              "4      Appalachian State   Sun Belt  ...          21          0\n",
              "\n",
              "[5 rows x 9 columns]"
            ]
          },
          "metadata": {
            "tags": []
          },
          "execution_count": 14
        }
      ]
    },
    {
      "cell_type": "markdown",
      "metadata": {
        "id": "FJ2FqRr_nWv6"
      },
      "source": [
        "### School Histories"
      ]
    },
    {
      "cell_type": "markdown",
      "metadata": {
        "id": "PCeAwPvqSot4"
      },
      "source": [
        "The next bit of data we want to go after is the historical record for each school.  I have an assumption that schools with more prestigious records - a long tradition of playing (and winning) games will tend to pay higher than those teams with less history/less success.  The data to be used is coming from Wikipedia - a table of FBS teams and their historical win counts."
      ]
    },
    {
      "cell_type": "code",
      "metadata": {
        "colab": {
          "base_uri": "https://localhost:8080/"
        },
        "id": "ZUhAgC-9TCB4",
        "outputId": "192efa74-49ea-4e80-9065-08b0ea9c95f5"
      },
      "source": [
        "# The URL for the data on wikipedia:\r\n",
        "url1 = \"https://en.wikipedia.org/wiki/NCAA_Division_I_FBS_football_win-loss_records\"\r\n",
        "\r\n",
        "# Get the HTML data using request:\r\n",
        "response = request.urlopen(url1)\r\n",
        "display(type(response))\r\n",
        "html = response.read().decode('UTF8')\r\n",
        "display(type(html))"
      ],
      "execution_count": null,
      "outputs": [
        {
          "output_type": "display_data",
          "data": {
            "text/plain": [
              "http.client.HTTPResponse"
            ]
          },
          "metadata": {
            "tags": []
          }
        },
        {
          "output_type": "display_data",
          "data": {
            "text/plain": [
              "str"
            ]
          },
          "metadata": {
            "tags": []
          }
        }
      ]
    },
    {
      "cell_type": "code",
      "metadata": {
        "id": "5LTmQ0z3TnEt"
      },
      "source": [
        "# Clean up the HTML code using Beautiful Soup and then pull out what we need - just the table data.\r\n",
        "\r\n",
        "htmlSoup = BeautifulSoup(html, \"html.parser\")\r\n",
        "\r\n",
        "record_table = htmlSoup.find('table', {'class':'wikitable sortable'})\r\n",
        "\r\n",
        "# Extract the column headings from the table\r\n",
        "colnames=[]\r\n",
        "for label in record_table.findAll('th'):\r\n",
        "  name = label.get_text().rstrip()\r\n",
        "  colnames.append(name)\r\n",
        "\r\n",
        "# Extract the row data\r\n",
        "c1=[]\r\n",
        "c2=[]\r\n",
        "c3=[]\r\n",
        "c4=[]\r\n",
        "c5=[]\r\n",
        "c6=[]\r\n",
        "c7=[]\r\n",
        "c8=[]\r\n",
        "for row in record_table.findAll('tr'):\r\n",
        "  cells = row.findAll('td')\r\n",
        "  if len(cells) == 8:\r\n",
        "    c1.append(cells[0].find('a').get_text())\r\n",
        "    c2.append(cells[1].get_text())\r\n",
        "    c3.append(cells[2].get_text())\r\n",
        "    c4.append(cells[3].get_text())\r\n",
        "    c5.append(cells[4].get_text())\r\n",
        "    c6.append(cells[5].get_text())\r\n",
        "    c7.append(cells[6].get_text())\r\n",
        "    c8.append(cells[7].get_text().rstrip())"
      ],
      "execution_count": null,
      "outputs": []
    },
    {
      "cell_type": "code",
      "metadata": {
        "colab": {
          "base_uri": "https://localhost:8080/"
        },
        "id": "G69t11WTea9J",
        "outputId": "e79062ff-4fb6-4b70-d850-ced5d7ba9d57"
      },
      "source": [
        "# Create a dictionary with the data and then convert to a dataframe.\r\n",
        "\r\n",
        "teamdict = dict([i, 0] for i in colnames)\r\n",
        "teamdict[\"Team\"] = c1\r\n",
        "teamdict[\"Won\"] = c2\r\n",
        "teamdict['Lost'] = c3\r\n",
        "teamdict['Tied'] = c4\r\n",
        "teamdict['Pct.'] = c5\r\n",
        "teamdict['Years'] = c6\r\n",
        "teamdict['Total Games'] = c7\r\n",
        "teamdict['Conference'] = c8\r\n",
        "\r\n",
        "teamTable = pd.DataFrame(teamdict)\r\n",
        "display(teamTable.head(5))\r\n",
        "display(teamTable.dtypes)"
      ],
      "execution_count": null,
      "outputs": [
        {
          "output_type": "display_data",
          "data": {
            "text/html": [
              "<div>\n",
              "<style scoped>\n",
              "    .dataframe tbody tr th:only-of-type {\n",
              "        vertical-align: middle;\n",
              "    }\n",
              "\n",
              "    .dataframe tbody tr th {\n",
              "        vertical-align: top;\n",
              "    }\n",
              "\n",
              "    .dataframe thead th {\n",
              "        text-align: right;\n",
              "    }\n",
              "</style>\n",
              "<table border=\"1\" class=\"dataframe\">\n",
              "  <thead>\n",
              "    <tr style=\"text-align: right;\">\n",
              "      <th></th>\n",
              "      <th>Team</th>\n",
              "      <th>Won</th>\n",
              "      <th>Lost</th>\n",
              "      <th>Tied</th>\n",
              "      <th>Pct.</th>\n",
              "      <th>Years</th>\n",
              "      <th>Total Games</th>\n",
              "      <th>Conference</th>\n",
              "    </tr>\n",
              "  </thead>\n",
              "  <tbody>\n",
              "    <tr>\n",
              "      <th>0</th>\n",
              "      <td>Ohio State</td>\n",
              "      <td>931</td>\n",
              "      <td>327</td>\n",
              "      <td>53</td>\n",
              "      <td>.730</td>\n",
              "      <td>130</td>\n",
              "      <td>1311</td>\n",
              "      <td>Big Ten</td>\n",
              "    </tr>\n",
              "    <tr>\n",
              "      <th>1</th>\n",
              "      <td>Alabama</td>\n",
              "      <td>929</td>\n",
              "      <td>331</td>\n",
              "      <td>43</td>\n",
              "      <td>.729</td>\n",
              "      <td>125</td>\n",
              "      <td>1303</td>\n",
              "      <td>SEC</td>\n",
              "    </tr>\n",
              "    <tr>\n",
              "      <th>2</th>\n",
              "      <td>Notre Dame</td>\n",
              "      <td>918</td>\n",
              "      <td>328</td>\n",
              "      <td>42</td>\n",
              "      <td>.729</td>\n",
              "      <td>130</td>\n",
              "      <td>1288</td>\n",
              "      <td>Independent</td>\n",
              "    </tr>\n",
              "    <tr>\n",
              "      <th>3</th>\n",
              "      <td>Boise State</td>\n",
              "      <td>465</td>\n",
              "      <td>172</td>\n",
              "      <td>2</td>\n",
              "      <td>.729</td>\n",
              "      <td>52</td>\n",
              "      <td>639</td>\n",
              "      <td>Mountain West</td>\n",
              "    </tr>\n",
              "    <tr>\n",
              "      <th>4</th>\n",
              "      <td>Michigan</td>\n",
              "      <td>964</td>\n",
              "      <td>350</td>\n",
              "      <td>36</td>\n",
              "      <td>.727</td>\n",
              "      <td>140</td>\n",
              "      <td>1350</td>\n",
              "      <td>Big Ten</td>\n",
              "    </tr>\n",
              "  </tbody>\n",
              "</table>\n",
              "</div>"
            ],
            "text/plain": [
              "          Team  Won Lost Tied  Pct. Years Total Games     Conference\n",
              "0   Ohio State  931  327   53  .730   130        1311        Big Ten\n",
              "1      Alabama  929  331   43  .729   125        1303            SEC\n",
              "2   Notre Dame  918  328   42  .729   130        1288    Independent\n",
              "3  Boise State  465  172    2  .729    52         639  Mountain West\n",
              "4     Michigan  964  350   36  .727   140        1350        Big Ten"
            ]
          },
          "metadata": {
            "tags": []
          }
        },
        {
          "output_type": "display_data",
          "data": {
            "text/plain": [
              "Team           object\n",
              "Won            object\n",
              "Lost           object\n",
              "Tied           object\n",
              "Pct.           object\n",
              "Years          object\n",
              "Total Games    object\n",
              "Conference     object\n",
              "dtype: object"
            ]
          },
          "metadata": {
            "tags": []
          }
        }
      ]
    },
    {
      "cell_type": "code",
      "metadata": {
        "colab": {
          "base_uri": "https://localhost:8080/"
        },
        "id": "vmHa2tbBhiCD",
        "outputId": "5111fb48-7f3f-45aa-a668-af4047a0ff9e"
      },
      "source": [
        "# Change the Win, Lost, Tied, Years, and Total Games columns to integers\r\n",
        "intCols = [\"Won\", \"Lost\", \"Tied\", \"Years\", \"Total Games\"]\r\n",
        "for col in intCols:\r\n",
        "  teamTable[col] = teamTable[col].astype('int')\r\n",
        "\r\n",
        "# Change the Pct column to float\r\n",
        "teamTable['Pct.'] = teamTable['Pct.'].astype('float')\r\n",
        "\r\n",
        "# Rename some columns and drop conference (already included)\r\n",
        "teamTable = teamTable.rename(columns = {\"Won\":\"Team Wins\", \"Lost\":\"Team Losses\", \"Tied\":\"Team Ties\", \"Pct.\":\"Team Win Pct\", \"Total Games\":\"Team Total Games\"})\r\n",
        "teamTable = teamTable.drop('Conference', 1)\r\n",
        "\r\n",
        "display(teamTable.describe())"
      ],
      "execution_count": null,
      "outputs": [
        {
          "output_type": "display_data",
          "data": {
            "text/html": [
              "<div>\n",
              "<style scoped>\n",
              "    .dataframe tbody tr th:only-of-type {\n",
              "        vertical-align: middle;\n",
              "    }\n",
              "\n",
              "    .dataframe tbody tr th {\n",
              "        vertical-align: top;\n",
              "    }\n",
              "\n",
              "    .dataframe thead th {\n",
              "        text-align: right;\n",
              "    }\n",
              "</style>\n",
              "<table border=\"1\" class=\"dataframe\">\n",
              "  <thead>\n",
              "    <tr style=\"text-align: right;\">\n",
              "      <th></th>\n",
              "      <th>Team Wins</th>\n",
              "      <th>Team Losses</th>\n",
              "      <th>Team Ties</th>\n",
              "      <th>Team Win Pct</th>\n",
              "      <th>Years</th>\n",
              "      <th>Team Total Games</th>\n",
              "    </tr>\n",
              "  </thead>\n",
              "  <tbody>\n",
              "    <tr>\n",
              "      <th>count</th>\n",
              "      <td>130.000000</td>\n",
              "      <td>130.000000</td>\n",
              "      <td>130.000000</td>\n",
              "      <td>130.000000</td>\n",
              "      <td>130.000000</td>\n",
              "      <td>130.000000</td>\n",
              "    </tr>\n",
              "    <tr>\n",
              "      <th>mean</th>\n",
              "      <td>572.684615</td>\n",
              "      <td>466.807692</td>\n",
              "      <td>34.776923</td>\n",
              "      <td>0.541392</td>\n",
              "      <td>106.969231</td>\n",
              "      <td>1074.584615</td>\n",
              "    </tr>\n",
              "    <tr>\n",
              "      <th>std</th>\n",
              "      <td>196.583810</td>\n",
              "      <td>147.927182</td>\n",
              "      <td>15.906347</td>\n",
              "      <td>0.084422</td>\n",
              "      <td>33.021473</td>\n",
              "      <td>308.252659</td>\n",
              "    </tr>\n",
              "    <tr>\n",
              "      <th>min</th>\n",
              "      <td>34.000000</td>\n",
              "      <td>56.000000</td>\n",
              "      <td>0.000000</td>\n",
              "      <td>0.326000</td>\n",
              "      <td>9.000000</td>\n",
              "      <td>96.000000</td>\n",
              "    </tr>\n",
              "    <tr>\n",
              "      <th>25%</th>\n",
              "      <td>507.750000</td>\n",
              "      <td>413.000000</td>\n",
              "      <td>28.000000</td>\n",
              "      <td>0.489000</td>\n",
              "      <td>101.000000</td>\n",
              "      <td>1034.000000</td>\n",
              "    </tr>\n",
              "    <tr>\n",
              "      <th>50%</th>\n",
              "      <td>590.500000</td>\n",
              "      <td>497.500000</td>\n",
              "      <td>37.500000</td>\n",
              "      <td>0.544000</td>\n",
              "      <td>121.000000</td>\n",
              "      <td>1168.000000</td>\n",
              "    </tr>\n",
              "    <tr>\n",
              "      <th>75%</th>\n",
              "      <td>685.500000</td>\n",
              "      <td>569.500000</td>\n",
              "      <td>47.000000</td>\n",
              "      <td>0.584750</td>\n",
              "      <td>127.000000</td>\n",
              "      <td>1275.000000</td>\n",
              "    </tr>\n",
              "    <tr>\n",
              "      <th>max</th>\n",
              "      <td>964.000000</td>\n",
              "      <td>686.000000</td>\n",
              "      <td>58.000000</td>\n",
              "      <td>0.730000</td>\n",
              "      <td>150.000000</td>\n",
              "      <td>1370.000000</td>\n",
              "    </tr>\n",
              "  </tbody>\n",
              "</table>\n",
              "</div>"
            ],
            "text/plain": [
              "        Team Wins  Team Losses  ...       Years  Team Total Games\n",
              "count  130.000000   130.000000  ...  130.000000        130.000000\n",
              "mean   572.684615   466.807692  ...  106.969231       1074.584615\n",
              "std    196.583810   147.927182  ...   33.021473        308.252659\n",
              "min     34.000000    56.000000  ...    9.000000         96.000000\n",
              "25%    507.750000   413.000000  ...  101.000000       1034.000000\n",
              "50%    590.500000   497.500000  ...  121.000000       1168.000000\n",
              "75%    685.500000   569.500000  ...  127.000000       1275.000000\n",
              "max    964.000000   686.000000  ...  150.000000       1370.000000\n",
              "\n",
              "[8 rows x 6 columns]"
            ]
          },
          "metadata": {
            "tags": []
          }
        }
      ]
    },
    {
      "cell_type": "code",
      "metadata": {
        "id": "NLnoATPlmbYr"
      },
      "source": [
        "# There are some team names that need to be adjusted in order for fuzzy matching to find them.  These changes are being made to the teamTable df.\r\n",
        "\r\n",
        "teamTable[\"Team\"] = teamTable[\"Team\"].str.replace(\"UAB\", \"Alabama - Birmingham\")\r\n",
        "teamTable[\"Team\"] = teamTable[\"Team\"].str.replace(\"UCF\", \"Central Florida\")\r\n",
        "teamTable[\"Team\"] = teamTable[\"Team\"].str.replace(\"FIU\", \"Florida International\")\r\n",
        "teamTable[\"Team\"] = teamTable[\"Team\"].str.replace(\"Ole Miss\", \"Mississippi\")\r\n",
        "teamTable[\"Team\"] = teamTable[\"Team\"].str.replace(\"UNLV\", \"Nevada - Las Vegas\")\r\n",
        "teamTable[\"Team\"] = teamTable[\"Team\"].str.replace(\"NC State\", \"North Carolina State\")\r\n",
        "teamTable[\"Team\"] = teamTable[\"Team\"].str.replace(\"TCU\", \"Texas Christian\")\r\n",
        "teamTable[\"Team\"] = teamTable[\"Team\"].str.replace(\"UTEP\", \"Texas - El Paso\")\r\n",
        "teamTable[\"Team\"] = teamTable[\"Team\"].str.replace(\"UTSA\", \"Texas - San Antonio\")"
      ],
      "execution_count": null,
      "outputs": []
    },
    {
      "cell_type": "code",
      "metadata": {
        "colab": {
          "base_uri": "https://localhost:8080/"
        },
        "id": "LMDOMyjJe6uH",
        "outputId": "64d71c31-45bb-4fef-a480-07a446539fef"
      },
      "source": [
        "# Using fuzzywuzzy to match up the team history table to the main coaches table\r\n",
        "mlist = teamTable['Team'].tolist()\r\n",
        "\r\n",
        "match = coachesFinal['School'].apply(lambda x: process.extract(x, mlist, limit=1))\r\n",
        "\r\n",
        "mname = [i[0][0] for i in match]\r\n",
        "coachesFinal[\"fname\"] = mname\r\n",
        "\r\n",
        "coachesFinal = coachesFinal.join(teamTable.set_index('Team'), on='fname')\r\n",
        "coachesFinal"
      ],
      "execution_count": null,
      "outputs": [
        {
          "output_type": "execute_result",
          "data": {
            "text/html": [
              "<div>\n",
              "<style scoped>\n",
              "    .dataframe tbody tr th:only-of-type {\n",
              "        vertical-align: middle;\n",
              "    }\n",
              "\n",
              "    .dataframe tbody tr th {\n",
              "        vertical-align: top;\n",
              "    }\n",
              "\n",
              "    .dataframe thead th {\n",
              "        text-align: right;\n",
              "    }\n",
              "</style>\n",
              "<table border=\"1\" class=\"dataframe\">\n",
              "  <thead>\n",
              "    <tr style=\"text-align: right;\">\n",
              "      <th></th>\n",
              "      <th>School</th>\n",
              "      <th>Conference</th>\n",
              "      <th>Coach</th>\n",
              "      <th>SchoolPay</th>\n",
              "      <th>Bonus</th>\n",
              "      <th>coachGames</th>\n",
              "      <th>coachWins</th>\n",
              "      <th>coachLosses</th>\n",
              "      <th>coachTies</th>\n",
              "      <th>fname</th>\n",
              "      <th>Team Wins</th>\n",
              "      <th>Team Losses</th>\n",
              "      <th>Team Ties</th>\n",
              "      <th>Team Win Pct</th>\n",
              "      <th>Years</th>\n",
              "      <th>Team Total Games</th>\n",
              "    </tr>\n",
              "  </thead>\n",
              "  <tbody>\n",
              "    <tr>\n",
              "      <th>0</th>\n",
              "      <td>Air Force</td>\n",
              "      <td>Mt. West</td>\n",
              "      <td>Troy Calhoun</td>\n",
              "      <td>885000.0</td>\n",
              "      <td>247000.0</td>\n",
              "      <td>167</td>\n",
              "      <td>98</td>\n",
              "      <td>69</td>\n",
              "      <td>0</td>\n",
              "      <td>Air Force</td>\n",
              "      <td>404</td>\n",
              "      <td>332</td>\n",
              "      <td>13</td>\n",
              "      <td>0.548</td>\n",
              "      <td>64</td>\n",
              "      <td>749</td>\n",
              "    </tr>\n",
              "    <tr>\n",
              "      <th>1</th>\n",
              "      <td>Akron</td>\n",
              "      <td>MAC</td>\n",
              "      <td>Terry Bowden</td>\n",
              "      <td>411000.0</td>\n",
              "      <td>225000.0</td>\n",
              "      <td>152</td>\n",
              "      <td>82</td>\n",
              "      <td>69</td>\n",
              "      <td>1</td>\n",
              "      <td>Akron</td>\n",
              "      <td>524</td>\n",
              "      <td>563</td>\n",
              "      <td>36</td>\n",
              "      <td>0.483</td>\n",
              "      <td>119</td>\n",
              "      <td>1123</td>\n",
              "    </tr>\n",
              "    <tr>\n",
              "      <th>2</th>\n",
              "      <td>Alabama</td>\n",
              "      <td>SEC</td>\n",
              "      <td>Nick Saban</td>\n",
              "      <td>8307000.0</td>\n",
              "      <td>1100000.0</td>\n",
              "      <td>314</td>\n",
              "      <td>248</td>\n",
              "      <td>65</td>\n",
              "      <td>1</td>\n",
              "      <td>Alabama</td>\n",
              "      <td>929</td>\n",
              "      <td>331</td>\n",
              "      <td>43</td>\n",
              "      <td>0.729</td>\n",
              "      <td>125</td>\n",
              "      <td>1303</td>\n",
              "    </tr>\n",
              "    <tr>\n",
              "      <th>3</th>\n",
              "      <td>Alabama at Birmingham</td>\n",
              "      <td>C-USA</td>\n",
              "      <td>Bill Clark</td>\n",
              "      <td>900000.0</td>\n",
              "      <td>950000.0</td>\n",
              "      <td>53</td>\n",
              "      <td>34</td>\n",
              "      <td>19</td>\n",
              "      <td>0</td>\n",
              "      <td>Alabama - Birmingham</td>\n",
              "      <td>152</td>\n",
              "      <td>169</td>\n",
              "      <td>2</td>\n",
              "      <td>0.474</td>\n",
              "      <td>27</td>\n",
              "      <td>323</td>\n",
              "    </tr>\n",
              "    <tr>\n",
              "      <th>4</th>\n",
              "      <td>Appalachian State</td>\n",
              "      <td>Sun Belt</td>\n",
              "      <td>Scott Satterfield</td>\n",
              "      <td>712500.0</td>\n",
              "      <td>295000.0</td>\n",
              "      <td>76</td>\n",
              "      <td>55</td>\n",
              "      <td>21</td>\n",
              "      <td>0</td>\n",
              "      <td>Appalachian State</td>\n",
              "      <td>639</td>\n",
              "      <td>339</td>\n",
              "      <td>29</td>\n",
              "      <td>0.649</td>\n",
              "      <td>90</td>\n",
              "      <td>1007</td>\n",
              "    </tr>\n",
              "    <tr>\n",
              "      <th>...</th>\n",
              "      <td>...</td>\n",
              "      <td>...</td>\n",
              "      <td>...</td>\n",
              "      <td>...</td>\n",
              "      <td>...</td>\n",
              "      <td>...</td>\n",
              "      <td>...</td>\n",
              "      <td>...</td>\n",
              "      <td>...</td>\n",
              "      <td>...</td>\n",
              "      <td>...</td>\n",
              "      <td>...</td>\n",
              "      <td>...</td>\n",
              "      <td>...</td>\n",
              "      <td>...</td>\n",
              "      <td>...</td>\n",
              "    </tr>\n",
              "    <tr>\n",
              "      <th>124</th>\n",
              "      <td>West Virginia</td>\n",
              "      <td>Big 12</td>\n",
              "      <td>Dana Holgorsen</td>\n",
              "      <td>3605000.0</td>\n",
              "      <td>1000000.0</td>\n",
              "      <td>114</td>\n",
              "      <td>65</td>\n",
              "      <td>49</td>\n",
              "      <td>0</td>\n",
              "      <td>West Virginia</td>\n",
              "      <td>761</td>\n",
              "      <td>508</td>\n",
              "      <td>45</td>\n",
              "      <td>0.596</td>\n",
              "      <td>127</td>\n",
              "      <td>1314</td>\n",
              "    </tr>\n",
              "    <tr>\n",
              "      <th>125</th>\n",
              "      <td>Western Kentucky</td>\n",
              "      <td>C-USA</td>\n",
              "      <td>Mike Sanford Jr.</td>\n",
              "      <td>800000.0</td>\n",
              "      <td>400000.0</td>\n",
              "      <td>84</td>\n",
              "      <td>25</td>\n",
              "      <td>59</td>\n",
              "      <td>0</td>\n",
              "      <td>Western Kentucky</td>\n",
              "      <td>589</td>\n",
              "      <td>411</td>\n",
              "      <td>30</td>\n",
              "      <td>0.586</td>\n",
              "      <td>101</td>\n",
              "      <td>1030</td>\n",
              "    </tr>\n",
              "    <tr>\n",
              "      <th>126</th>\n",
              "      <td>Western Michigan</td>\n",
              "      <td>MAC</td>\n",
              "      <td>Tim Lester</td>\n",
              "      <td>800000.0</td>\n",
              "      <td>346500.0</td>\n",
              "      <td>38</td>\n",
              "      <td>20</td>\n",
              "      <td>18</td>\n",
              "      <td>0</td>\n",
              "      <td>Western Michigan</td>\n",
              "      <td>580</td>\n",
              "      <td>461</td>\n",
              "      <td>24</td>\n",
              "      <td>0.556</td>\n",
              "      <td>114</td>\n",
              "      <td>1065</td>\n",
              "    </tr>\n",
              "    <tr>\n",
              "      <th>127</th>\n",
              "      <td>Wisconsin</td>\n",
              "      <td>Big Ten</td>\n",
              "      <td>Paul Chryst</td>\n",
              "      <td>3750000.0</td>\n",
              "      <td>0.0</td>\n",
              "      <td>106</td>\n",
              "      <td>71</td>\n",
              "      <td>35</td>\n",
              "      <td>0</td>\n",
              "      <td>Wisconsin</td>\n",
              "      <td>719</td>\n",
              "      <td>502</td>\n",
              "      <td>53</td>\n",
              "      <td>0.585</td>\n",
              "      <td>131</td>\n",
              "      <td>1274</td>\n",
              "    </tr>\n",
              "    <tr>\n",
              "      <th>128</th>\n",
              "      <td>Wyoming</td>\n",
              "      <td>Mt. West</td>\n",
              "      <td>Craig Bohl</td>\n",
              "      <td>1412000.0</td>\n",
              "      <td>450000.0</td>\n",
              "      <td>76</td>\n",
              "      <td>36</td>\n",
              "      <td>40</td>\n",
              "      <td>0</td>\n",
              "      <td>Wyoming</td>\n",
              "      <td>542</td>\n",
              "      <td>583</td>\n",
              "      <td>28</td>\n",
              "      <td>0.482</td>\n",
              "      <td>123</td>\n",
              "      <td>1153</td>\n",
              "    </tr>\n",
              "  </tbody>\n",
              "</table>\n",
              "<p>125 rows × 16 columns</p>\n",
              "</div>"
            ],
            "text/plain": [
              "                    School Conference  ... Years  Team Total Games\n",
              "0                Air Force   Mt. West  ...    64               749\n",
              "1                    Akron        MAC  ...   119              1123\n",
              "2                  Alabama        SEC  ...   125              1303\n",
              "3    Alabama at Birmingham      C-USA  ...    27               323\n",
              "4        Appalachian State   Sun Belt  ...    90              1007\n",
              "..                     ...        ...  ...   ...               ...\n",
              "124          West Virginia     Big 12  ...   127              1314\n",
              "125       Western Kentucky      C-USA  ...   101              1030\n",
              "126       Western Michigan        MAC  ...   114              1065\n",
              "127              Wisconsin    Big Ten  ...   131              1274\n",
              "128                Wyoming   Mt. West  ...   123              1153\n",
              "\n",
              "[125 rows x 16 columns]"
            ]
          },
          "metadata": {
            "tags": []
          },
          "execution_count": 20
        }
      ]
    },
    {
      "cell_type": "markdown",
      "metadata": {
        "id": "HJRQosxGcwQS"
      },
      "source": [
        "### National Championships and Bowl Appearances"
      ]
    },
    {
      "cell_type": "markdown",
      "metadata": {
        "id": "FEwagsYoc025"
      },
      "source": [
        "The next section will bring in data related to the number of national championships for each of the schools, as well as records related to post-season bowl appearances.  \r\n",
        "\r\n",
        "For national championship data, I am using a list of awarded \"Poll-era\" championships.  This is essentially champions as determined by the AP poll starting in 1936.  There are, both before and during this era, a lot of disputed claims by teams for national championships that I think muddy the waters here.  (I see you, UCF, but I don't recognize your national championship claim).  \r\n",
        "\r\n",
        "I'm also choosing to use number of Championships by SCHOOL, not by COACH.  This is because I need to pick one - I suspect there would be very high multi-collinearity between these 2.  I picked schools instead of coaches b/c from my observation, coaches with National Championships (at least in the modern era) don't move around much.  In fact, only 2 coaches in the modern era have won championships with 2 teams, and of those, only 1 seems interested in hopping from job to job...  In addition, while schools that win a championship are likely to pay their coach more, coaches with championships are not likely to be paid more by OTHER teams (hello Gene Chizik, Mack Brown, etc).  Therefore, it seems to me that when predicting salaries, schools are more concerned about THEIR championship totals than the coach they hired/are looking to hire.\r\n",
        "\r\n",
        "Both sets of data come from tables scraped from Wikipedia, as above.  "
      ]
    },
    {
      "cell_type": "code",
      "metadata": {
        "colab": {
          "base_uri": "https://localhost:8080/"
        },
        "id": "NYGxt3IIct0_",
        "outputId": "c0c19df9-9d75-4a77-bb21-9d9899c8f5e1"
      },
      "source": [
        "# Poll Awarded National Championships by School\r\n",
        "url2 = \"https://en.wikipedia.org/wiki/College_football_national_championships_in_NCAA_Division_I_FBS\"\r\n",
        "\r\n",
        "# Get the HTML data using request:\r\n",
        "response2 = request.urlopen(url2)\r\n",
        "display(type(response2))\r\n",
        "html2 = response2.read().decode('UTF8')\r\n",
        "display(type(html2))"
      ],
      "execution_count": null,
      "outputs": [
        {
          "output_type": "display_data",
          "data": {
            "text/plain": [
              "http.client.HTTPResponse"
            ]
          },
          "metadata": {
            "tags": []
          }
        },
        {
          "output_type": "display_data",
          "data": {
            "text/plain": [
              "str"
            ]
          },
          "metadata": {
            "tags": []
          }
        }
      ]
    },
    {
      "cell_type": "code",
      "metadata": {
        "colab": {
          "base_uri": "https://localhost:8080/"
        },
        "id": "2KxqByCleGZC",
        "outputId": "97a5f7ee-1bc4-4a68-b835-1f05c8fa848e"
      },
      "source": [
        "# Clean up the HTML code using Beautiful Soup and then pull out what we need - just the table data.\r\n",
        "# There are a number of tables on this page, so we need to make sure we get the correct table\r\n",
        "\r\n",
        "html2Soup = BeautifulSoup(html2, \"html.parser\")\r\n",
        "\r\n",
        "champs_table = html2Soup.find('table', {'class':'wikitable sortable'})\r\n",
        "\r\n",
        "# Extract the row data.  We are really only interested in the first 2 columns - School and # of Championships.  \r\n",
        "c0=[]\r\n",
        "c1=[]\r\n",
        "\r\n",
        "for row in champs_table.findAll('tr'):\r\n",
        "  cells = row.findAll('td')\r\n",
        "  if len(cells) == 3:\r\n",
        "    c0.append(cells[0].find('a').get_text())\r\n",
        "    c1.append(cells[1].get_text())\r\n",
        "\r\n",
        " # Build a dictionary from the 2 lists and convert to a DataFrame\r\n",
        "champDict = dict()\r\n",
        "champDict[\"Team\"] = c0\r\n",
        "champDict[\"Championships\"] = c1\r\n",
        "\r\n",
        "champFrame = pd.DataFrame(champDict)\r\n",
        "champFrame.head(5)"
      ],
      "execution_count": null,
      "outputs": [
        {
          "output_type": "execute_result",
          "data": {
            "text/html": [
              "<div>\n",
              "<style scoped>\n",
              "    .dataframe tbody tr th:only-of-type {\n",
              "        vertical-align: middle;\n",
              "    }\n",
              "\n",
              "    .dataframe tbody tr th {\n",
              "        vertical-align: top;\n",
              "    }\n",
              "\n",
              "    .dataframe thead th {\n",
              "        text-align: right;\n",
              "    }\n",
              "</style>\n",
              "<table border=\"1\" class=\"dataframe\">\n",
              "  <thead>\n",
              "    <tr style=\"text-align: right;\">\n",
              "      <th></th>\n",
              "      <th>Team</th>\n",
              "      <th>Championships</th>\n",
              "    </tr>\n",
              "  </thead>\n",
              "  <tbody>\n",
              "    <tr>\n",
              "      <th>0</th>\n",
              "      <td>Alabama</td>\n",
              "      <td>13</td>\n",
              "    </tr>\n",
              "    <tr>\n",
              "      <th>1</th>\n",
              "      <td>Notre Dame</td>\n",
              "      <td>8</td>\n",
              "    </tr>\n",
              "    <tr>\n",
              "      <th>2</th>\n",
              "      <td>Oklahoma</td>\n",
              "      <td>7</td>\n",
              "    </tr>\n",
              "    <tr>\n",
              "      <th>3</th>\n",
              "      <td>USC</td>\n",
              "      <td>7</td>\n",
              "    </tr>\n",
              "    <tr>\n",
              "      <th>4</th>\n",
              "      <td>Ohio State</td>\n",
              "      <td>6</td>\n",
              "    </tr>\n",
              "  </tbody>\n",
              "</table>\n",
              "</div>"
            ],
            "text/plain": [
              "         Team Championships\n",
              "0     Alabama            13\n",
              "1  Notre Dame             8\n",
              "2    Oklahoma             7\n",
              "3         USC             7\n",
              "4  Ohio State             6"
            ]
          },
          "metadata": {
            "tags": []
          },
          "execution_count": 22
        }
      ]
    },
    {
      "cell_type": "code",
      "metadata": {
        "id": "LRLnP4EnerlA",
        "colab": {
          "base_uri": "https://localhost:8080/"
        },
        "outputId": "16cdf366-5931-4558-fff2-460a53201e5f"
      },
      "source": [
        " # Using fuzzywuzzy to match up the team history table to the main coaches table\r\n",
        "tlist = coachesFinal[\"School\"].tolist()\r\n",
        "\r\n",
        "# Drop BYU since it's on our naughty list\r\n",
        "champFrame = champFrame[champFrame['Team'] != 'BYU']\r\n",
        "\r\n",
        "# Rename schools to better match\r\n",
        "champFrame[\"Team\"] = champFrame[\"Team\"].str.replace(\"USC\", \"Southern California\")\r\n",
        "champFrame[\"Team\"] = champFrame[\"Team\"].str.replace(\"TCU\", \"Texas Christian\")\r\n",
        "\r\n",
        "# Match school names to the official list in Coaches table\r\n",
        "match = champFrame[\"Team\"].apply(lambda x: process.extract(x, tlist, limit=1))\r\n",
        "\r\n",
        "# Change the Championship Data type to int\r\n",
        "champFrame['Championships'] = champFrame['Championships'].astype('int')\r\n",
        "champFrame.dtypes"
      ],
      "execution_count": null,
      "outputs": [
        {
          "output_type": "execute_result",
          "data": {
            "text/plain": [
              "Team             object\n",
              "Championships     int64\n",
              "dtype: object"
            ]
          },
          "metadata": {
            "tags": []
          },
          "execution_count": 23
        }
      ]
    },
    {
      "cell_type": "code",
      "metadata": {
        "colab": {
          "base_uri": "https://localhost:8080/"
        },
        "id": "bs9YWZhujv_a",
        "outputId": "6e16ff5c-6485-44b4-f39f-8a34c312337a"
      },
      "source": [
        "tname = [i[0][0] for i in match]\r\n",
        "champFrame[\"fName\"] = tname\r\n",
        "\r\n",
        "\r\n",
        "# Add Championship data to master coaches file\r\n",
        "champFrame = champFrame.set_index('fName')\r\n",
        "coachesFinal1 = coachesFinal.join(champFrame['Championships'], on='School', how='left')\r\n",
        "\r\n",
        "# Change the missing values to 0 Championships\r\n",
        "coachesFinal1['Championships'] = coachesFinal1['Championships'].fillna(0)\r\n",
        "display(coachesFinal1.head(5)) \r\n"
      ],
      "execution_count": null,
      "outputs": [
        {
          "output_type": "display_data",
          "data": {
            "text/html": [
              "<div>\n",
              "<style scoped>\n",
              "    .dataframe tbody tr th:only-of-type {\n",
              "        vertical-align: middle;\n",
              "    }\n",
              "\n",
              "    .dataframe tbody tr th {\n",
              "        vertical-align: top;\n",
              "    }\n",
              "\n",
              "    .dataframe thead th {\n",
              "        text-align: right;\n",
              "    }\n",
              "</style>\n",
              "<table border=\"1\" class=\"dataframe\">\n",
              "  <thead>\n",
              "    <tr style=\"text-align: right;\">\n",
              "      <th></th>\n",
              "      <th>School</th>\n",
              "      <th>Conference</th>\n",
              "      <th>Coach</th>\n",
              "      <th>SchoolPay</th>\n",
              "      <th>Bonus</th>\n",
              "      <th>coachGames</th>\n",
              "      <th>coachWins</th>\n",
              "      <th>coachLosses</th>\n",
              "      <th>coachTies</th>\n",
              "      <th>fname</th>\n",
              "      <th>Team Wins</th>\n",
              "      <th>Team Losses</th>\n",
              "      <th>Team Ties</th>\n",
              "      <th>Team Win Pct</th>\n",
              "      <th>Years</th>\n",
              "      <th>Team Total Games</th>\n",
              "      <th>Championships</th>\n",
              "    </tr>\n",
              "  </thead>\n",
              "  <tbody>\n",
              "    <tr>\n",
              "      <th>0</th>\n",
              "      <td>Air Force</td>\n",
              "      <td>Mt. West</td>\n",
              "      <td>Troy Calhoun</td>\n",
              "      <td>885000.0</td>\n",
              "      <td>247000.0</td>\n",
              "      <td>167</td>\n",
              "      <td>98</td>\n",
              "      <td>69</td>\n",
              "      <td>0</td>\n",
              "      <td>Air Force</td>\n",
              "      <td>404</td>\n",
              "      <td>332</td>\n",
              "      <td>13</td>\n",
              "      <td>0.548</td>\n",
              "      <td>64</td>\n",
              "      <td>749</td>\n",
              "      <td>0.0</td>\n",
              "    </tr>\n",
              "    <tr>\n",
              "      <th>1</th>\n",
              "      <td>Akron</td>\n",
              "      <td>MAC</td>\n",
              "      <td>Terry Bowden</td>\n",
              "      <td>411000.0</td>\n",
              "      <td>225000.0</td>\n",
              "      <td>152</td>\n",
              "      <td>82</td>\n",
              "      <td>69</td>\n",
              "      <td>1</td>\n",
              "      <td>Akron</td>\n",
              "      <td>524</td>\n",
              "      <td>563</td>\n",
              "      <td>36</td>\n",
              "      <td>0.483</td>\n",
              "      <td>119</td>\n",
              "      <td>1123</td>\n",
              "      <td>0.0</td>\n",
              "    </tr>\n",
              "    <tr>\n",
              "      <th>2</th>\n",
              "      <td>Alabama</td>\n",
              "      <td>SEC</td>\n",
              "      <td>Nick Saban</td>\n",
              "      <td>8307000.0</td>\n",
              "      <td>1100000.0</td>\n",
              "      <td>314</td>\n",
              "      <td>248</td>\n",
              "      <td>65</td>\n",
              "      <td>1</td>\n",
              "      <td>Alabama</td>\n",
              "      <td>929</td>\n",
              "      <td>331</td>\n",
              "      <td>43</td>\n",
              "      <td>0.729</td>\n",
              "      <td>125</td>\n",
              "      <td>1303</td>\n",
              "      <td>13.0</td>\n",
              "    </tr>\n",
              "    <tr>\n",
              "      <th>3</th>\n",
              "      <td>Alabama at Birmingham</td>\n",
              "      <td>C-USA</td>\n",
              "      <td>Bill Clark</td>\n",
              "      <td>900000.0</td>\n",
              "      <td>950000.0</td>\n",
              "      <td>53</td>\n",
              "      <td>34</td>\n",
              "      <td>19</td>\n",
              "      <td>0</td>\n",
              "      <td>Alabama - Birmingham</td>\n",
              "      <td>152</td>\n",
              "      <td>169</td>\n",
              "      <td>2</td>\n",
              "      <td>0.474</td>\n",
              "      <td>27</td>\n",
              "      <td>323</td>\n",
              "      <td>0.0</td>\n",
              "    </tr>\n",
              "    <tr>\n",
              "      <th>4</th>\n",
              "      <td>Appalachian State</td>\n",
              "      <td>Sun Belt</td>\n",
              "      <td>Scott Satterfield</td>\n",
              "      <td>712500.0</td>\n",
              "      <td>295000.0</td>\n",
              "      <td>76</td>\n",
              "      <td>55</td>\n",
              "      <td>21</td>\n",
              "      <td>0</td>\n",
              "      <td>Appalachian State</td>\n",
              "      <td>639</td>\n",
              "      <td>339</td>\n",
              "      <td>29</td>\n",
              "      <td>0.649</td>\n",
              "      <td>90</td>\n",
              "      <td>1007</td>\n",
              "      <td>0.0</td>\n",
              "    </tr>\n",
              "  </tbody>\n",
              "</table>\n",
              "</div>"
            ],
            "text/plain": [
              "                  School Conference  ... Team Total Games  Championships\n",
              "0              Air Force   Mt. West  ...              749            0.0\n",
              "1                  Akron        MAC  ...             1123            0.0\n",
              "2                Alabama        SEC  ...             1303           13.0\n",
              "3  Alabama at Birmingham      C-USA  ...              323            0.0\n",
              "4      Appalachian State   Sun Belt  ...             1007            0.0\n",
              "\n",
              "[5 rows x 17 columns]"
            ]
          },
          "metadata": {
            "tags": []
          }
        }
      ]
    },
    {
      "cell_type": "markdown",
      "metadata": {
        "id": "ZVxTbrlro-GD"
      },
      "source": [
        "And now bowl game histories"
      ]
    },
    {
      "cell_type": "code",
      "metadata": {
        "colab": {
          "base_uri": "https://localhost:8080/"
        },
        "id": "AIeKPXGdUT8u",
        "outputId": "efa75c73-ea8d-445e-de16-b06c81c23196"
      },
      "source": [
        "# Add post-season (bowl game) records using same idea:\r\n",
        "url3 = \"https://en.wikipedia.org/wiki/List_of_NCAA_Division_I_FBS_football_bowl_records\"\r\n",
        "\r\n",
        "# Get the HTML data using request:\r\n",
        "response3 = request.urlopen(url3)\r\n",
        "display(type(response3))\r\n",
        "html3 = response3.read().decode('UTF8')\r\n",
        "display(type(html3))"
      ],
      "execution_count": null,
      "outputs": [
        {
          "output_type": "display_data",
          "data": {
            "text/plain": [
              "http.client.HTTPResponse"
            ]
          },
          "metadata": {
            "tags": []
          }
        },
        {
          "output_type": "display_data",
          "data": {
            "text/plain": [
              "str"
            ]
          },
          "metadata": {
            "tags": []
          }
        }
      ]
    },
    {
      "cell_type": "code",
      "metadata": {
        "id": "lg7nDhhRYTUz"
      },
      "source": [
        "# Clean up the HTML code using Beautiful Soup and then pull out what we need - just the table data.\r\n",
        "# Pull out bowl table info\r\n",
        "html3Soup = BeautifulSoup(html3, \"html.parser\")\r\n",
        "\r\n",
        "bowl_table = html3Soup.find('table', {'class':'wikitable sortable'})\r\n",
        "\r\n",
        "# Extract the row data.  We are interested in: Bowl Wins, Bowl Losses, Bowl Ties, # of Bowls Played, Bowl Percentage, Last Bowl Season, and Last Bowl Win\r\n",
        "c0=[]\r\n",
        "c1=[]\r\n",
        "c2=[]\r\n",
        "c3=[]\r\n",
        "c4=[]\r\n",
        "c5=[]\r\n",
        "c6=[]\r\n",
        "c7=[]\r\n",
        "\r\n",
        "for row in bowl_table.findAll('tr'):\r\n",
        "  cells = row.findAll('td')\r\n",
        "  if len(cells) == 11:\r\n",
        "    c0.append(cells[0].find('a').get_text())\r\n",
        "    c1.append(cells[1].get_text().rstrip())\r\n",
        "    c2.append(cells[2].get_text().rstrip())\r\n",
        "    c3.append(cells[3].get_text().rstrip())\r\n",
        "    c4.append(cells[4].get_text().rstrip())\r\n",
        "    c5.append(cells[5].get_text().rstrip())\r\n",
        "    c6.append(cells[6].get_text().rstrip())\r\n",
        "    c7.append(cells[8].get_text().rstrip())\r\n",
        "    \r\n"
      ],
      "execution_count": null,
      "outputs": []
    },
    {
      "cell_type": "code",
      "metadata": {
        "colab": {
          "base_uri": "https://localhost:8080/"
        },
        "id": "72sMGIBmZj9Z",
        "outputId": "4e8ffeff-83b5-49b8-dd8c-fba49c9efe07"
      },
      "source": [
        " # Build a dictionary from the lists and convert to a DataFrame\r\n",
        "bowlDict = dict()\r\n",
        "bowlDict[\"Team\"] = c0\r\n",
        "bowlDict[\"Bowl Wins\"] = c1\r\n",
        "bowlDict['Bowl Losses']= c2\r\n",
        "bowlDict['Bowl Ties'] = c3\r\n",
        "bowlDict['Bowls Played'] = c4\r\n",
        "bowlDict['Bowl Win Pct'] = c5\r\n",
        "bowlDict['Last Bowl Year'] = c6\r\n",
        "bowlDict['Last Bowl Win'] = c7\r\n",
        "\r\n",
        "bowlFrame = pd.DataFrame(bowlDict)\r\n",
        "bowlFrame.head(5)"
      ],
      "execution_count": null,
      "outputs": [
        {
          "output_type": "execute_result",
          "data": {
            "text/html": [
              "<div>\n",
              "<style scoped>\n",
              "    .dataframe tbody tr th:only-of-type {\n",
              "        vertical-align: middle;\n",
              "    }\n",
              "\n",
              "    .dataframe tbody tr th {\n",
              "        vertical-align: top;\n",
              "    }\n",
              "\n",
              "    .dataframe thead th {\n",
              "        text-align: right;\n",
              "    }\n",
              "</style>\n",
              "<table border=\"1\" class=\"dataframe\">\n",
              "  <thead>\n",
              "    <tr style=\"text-align: right;\">\n",
              "      <th></th>\n",
              "      <th>Team</th>\n",
              "      <th>Bowl Wins</th>\n",
              "      <th>Bowl Losses</th>\n",
              "      <th>Bowl Ties</th>\n",
              "      <th>Bowls Played</th>\n",
              "      <th>Bowl Win Pct</th>\n",
              "      <th>Last Bowl Year</th>\n",
              "      <th>Last Bowl Win</th>\n",
              "    </tr>\n",
              "  </thead>\n",
              "  <tbody>\n",
              "    <tr>\n",
              "      <th>0</th>\n",
              "      <td>Air Force</td>\n",
              "      <td>13</td>\n",
              "      <td>13</td>\n",
              "      <td>1</td>\n",
              "      <td>27</td>\n",
              "      <td>.500</td>\n",
              "      <td>2019</td>\n",
              "      <td>2019</td>\n",
              "    </tr>\n",
              "    <tr>\n",
              "      <th>1</th>\n",
              "      <td>Akron</td>\n",
              "      <td>1</td>\n",
              "      <td>2</td>\n",
              "      <td>0</td>\n",
              "      <td>3</td>\n",
              "      <td>.333</td>\n",
              "      <td>2017</td>\n",
              "      <td>2015</td>\n",
              "    </tr>\n",
              "    <tr>\n",
              "      <th>2</th>\n",
              "      <td>Alabama</td>\n",
              "      <td>44</td>\n",
              "      <td>26</td>\n",
              "      <td>3</td>\n",
              "      <td>73</td>\n",
              "      <td>.632</td>\n",
              "      <td>2020</td>\n",
              "      <td>2020</td>\n",
              "    </tr>\n",
              "    <tr>\n",
              "      <th>3</th>\n",
              "      <td>Appalachian State</td>\n",
              "      <td>6</td>\n",
              "      <td>0</td>\n",
              "      <td>0</td>\n",
              "      <td>6</td>\n",
              "      <td>1.000</td>\n",
              "      <td>2020</td>\n",
              "      <td>2020</td>\n",
              "    </tr>\n",
              "    <tr>\n",
              "      <th>4</th>\n",
              "      <td>Arizona</td>\n",
              "      <td>9</td>\n",
              "      <td>10</td>\n",
              "      <td>1</td>\n",
              "      <td>20</td>\n",
              "      <td>.475</td>\n",
              "      <td>2017</td>\n",
              "      <td>2015</td>\n",
              "    </tr>\n",
              "  </tbody>\n",
              "</table>\n",
              "</div>"
            ],
            "text/plain": [
              "                Team Bowl Wins  ... Last Bowl Year Last Bowl Win\n",
              "0          Air Force        13  ...           2019          2019\n",
              "1              Akron         1  ...           2017          2015\n",
              "2            Alabama        44  ...           2020          2020\n",
              "3  Appalachian State         6  ...           2020          2020\n",
              "4            Arizona         9  ...           2017          2015\n",
              "\n",
              "[5 rows x 8 columns]"
            ]
          },
          "metadata": {
            "tags": []
          },
          "execution_count": 27
        }
      ]
    },
    {
      "cell_type": "code",
      "metadata": {
        "id": "F_m81JN_Zgfi"
      },
      "source": [
        " # Using fuzzywuzzy to match up the team history table to the main coaches table\r\n",
        "blist = bowlDict['Team']\r\n",
        "\r\n",
        "# Rename schools to better match\r\n",
        "bowlFrame[\"Team\"] = bowlFrame[\"Team\"].str.replace(\"UAB\", \"Alabama - Birmingham\")\r\n",
        "bowlFrame[\"Team\"] = bowlFrame[\"Team\"].str.replace(\"UCF\", \"Central Florida\")\r\n",
        "bowlFrame[\"Team\"] = bowlFrame[\"Team\"].str.replace(\"FIU\", \"Florida International\")\r\n",
        "bowlFrame[\"Team\"] = bowlFrame[\"Team\"].str.replace(\"Ole Miss\", \"Mississippi\")\r\n",
        "bowlFrame[\"Team\"] = bowlFrame[\"Team\"].str.replace(\"UNLV\", \"Nevada - Las Vegas\")\r\n",
        "bowlFrame[\"Team\"] = bowlFrame[\"Team\"].str.replace(\"NIU\", \"Northern Illinois\")\r\n",
        "bowlFrame[\"Team\"] = bowlFrame[\"Team\"].str.replace(\"USC\", \"Southern California\")\r\n",
        "bowlFrame[\"Team\"] = bowlFrame[\"Team\"].str.replace(\"TCU\", \"Texas Christian\")\r\n",
        "bowlFrame[\"Team\"] = bowlFrame[\"Team\"].str.replace(\"UTEP\", \"Texas - El Paso\")\r\n",
        "bowlFrame[\"Team\"] = bowlFrame[\"Team\"].str.replace(\"UTSA\", \"Texas - San Antonio\")\r\n",
        "\r\n",
        "# Match school names to the official list in Coaches table\r\n",
        "match = coachesFinal1['School'].apply(lambda x: process.extract(x, blist, limit=1))"
      ],
      "execution_count": null,
      "outputs": []
    },
    {
      "cell_type": "code",
      "metadata": {
        "colab": {
          "base_uri": "https://localhost:8080/"
        },
        "id": "3Agn1llNgDen",
        "outputId": "a7705e30-c8df-40ac-c607-4711b0d0424c"
      },
      "source": [
        "# Add Bowl Game information to the Master data frame\r\n",
        "bname = [i[0][0] for i in match]\r\n",
        "coachesFinal1['bname'] = bname\r\n",
        "coachesFinal2 = coachesFinal1.join(bowlFrame.set_index('Team'), on = 'bname')\r\n",
        "coachesFinal2 = coachesFinal2.drop(['fname', 'bname'], 1)\r\n",
        "coachesFinal2.head(5)"
      ],
      "execution_count": null,
      "outputs": [
        {
          "output_type": "execute_result",
          "data": {
            "text/html": [
              "<div>\n",
              "<style scoped>\n",
              "    .dataframe tbody tr th:only-of-type {\n",
              "        vertical-align: middle;\n",
              "    }\n",
              "\n",
              "    .dataframe tbody tr th {\n",
              "        vertical-align: top;\n",
              "    }\n",
              "\n",
              "    .dataframe thead th {\n",
              "        text-align: right;\n",
              "    }\n",
              "</style>\n",
              "<table border=\"1\" class=\"dataframe\">\n",
              "  <thead>\n",
              "    <tr style=\"text-align: right;\">\n",
              "      <th></th>\n",
              "      <th>School</th>\n",
              "      <th>Conference</th>\n",
              "      <th>Coach</th>\n",
              "      <th>SchoolPay</th>\n",
              "      <th>Bonus</th>\n",
              "      <th>coachGames</th>\n",
              "      <th>coachWins</th>\n",
              "      <th>coachLosses</th>\n",
              "      <th>coachTies</th>\n",
              "      <th>Team Wins</th>\n",
              "      <th>Team Losses</th>\n",
              "      <th>Team Ties</th>\n",
              "      <th>Team Win Pct</th>\n",
              "      <th>Years</th>\n",
              "      <th>Team Total Games</th>\n",
              "      <th>Championships</th>\n",
              "      <th>Bowl Wins</th>\n",
              "      <th>Bowl Losses</th>\n",
              "      <th>Bowl Ties</th>\n",
              "      <th>Bowls Played</th>\n",
              "      <th>Bowl Win Pct</th>\n",
              "      <th>Last Bowl Year</th>\n",
              "      <th>Last Bowl Win</th>\n",
              "    </tr>\n",
              "  </thead>\n",
              "  <tbody>\n",
              "    <tr>\n",
              "      <th>0</th>\n",
              "      <td>Air Force</td>\n",
              "      <td>Mt. West</td>\n",
              "      <td>Troy Calhoun</td>\n",
              "      <td>885000.0</td>\n",
              "      <td>247000.0</td>\n",
              "      <td>167</td>\n",
              "      <td>98</td>\n",
              "      <td>69</td>\n",
              "      <td>0</td>\n",
              "      <td>404</td>\n",
              "      <td>332</td>\n",
              "      <td>13</td>\n",
              "      <td>0.548</td>\n",
              "      <td>64</td>\n",
              "      <td>749</td>\n",
              "      <td>0.0</td>\n",
              "      <td>13</td>\n",
              "      <td>13</td>\n",
              "      <td>1</td>\n",
              "      <td>27</td>\n",
              "      <td>.500</td>\n",
              "      <td>2019</td>\n",
              "      <td>2019</td>\n",
              "    </tr>\n",
              "    <tr>\n",
              "      <th>1</th>\n",
              "      <td>Akron</td>\n",
              "      <td>MAC</td>\n",
              "      <td>Terry Bowden</td>\n",
              "      <td>411000.0</td>\n",
              "      <td>225000.0</td>\n",
              "      <td>152</td>\n",
              "      <td>82</td>\n",
              "      <td>69</td>\n",
              "      <td>1</td>\n",
              "      <td>524</td>\n",
              "      <td>563</td>\n",
              "      <td>36</td>\n",
              "      <td>0.483</td>\n",
              "      <td>119</td>\n",
              "      <td>1123</td>\n",
              "      <td>0.0</td>\n",
              "      <td>1</td>\n",
              "      <td>2</td>\n",
              "      <td>0</td>\n",
              "      <td>3</td>\n",
              "      <td>.333</td>\n",
              "      <td>2017</td>\n",
              "      <td>2015</td>\n",
              "    </tr>\n",
              "    <tr>\n",
              "      <th>2</th>\n",
              "      <td>Alabama</td>\n",
              "      <td>SEC</td>\n",
              "      <td>Nick Saban</td>\n",
              "      <td>8307000.0</td>\n",
              "      <td>1100000.0</td>\n",
              "      <td>314</td>\n",
              "      <td>248</td>\n",
              "      <td>65</td>\n",
              "      <td>1</td>\n",
              "      <td>929</td>\n",
              "      <td>331</td>\n",
              "      <td>43</td>\n",
              "      <td>0.729</td>\n",
              "      <td>125</td>\n",
              "      <td>1303</td>\n",
              "      <td>13.0</td>\n",
              "      <td>44</td>\n",
              "      <td>26</td>\n",
              "      <td>3</td>\n",
              "      <td>73</td>\n",
              "      <td>.632</td>\n",
              "      <td>2020</td>\n",
              "      <td>2020</td>\n",
              "    </tr>\n",
              "    <tr>\n",
              "      <th>3</th>\n",
              "      <td>Alabama at Birmingham</td>\n",
              "      <td>C-USA</td>\n",
              "      <td>Bill Clark</td>\n",
              "      <td>900000.0</td>\n",
              "      <td>950000.0</td>\n",
              "      <td>53</td>\n",
              "      <td>34</td>\n",
              "      <td>19</td>\n",
              "      <td>0</td>\n",
              "      <td>152</td>\n",
              "      <td>169</td>\n",
              "      <td>2</td>\n",
              "      <td>0.474</td>\n",
              "      <td>27</td>\n",
              "      <td>323</td>\n",
              "      <td>0.0</td>\n",
              "      <td>44</td>\n",
              "      <td>26</td>\n",
              "      <td>3</td>\n",
              "      <td>73</td>\n",
              "      <td>.632</td>\n",
              "      <td>2020</td>\n",
              "      <td>2020</td>\n",
              "    </tr>\n",
              "    <tr>\n",
              "      <th>4</th>\n",
              "      <td>Appalachian State</td>\n",
              "      <td>Sun Belt</td>\n",
              "      <td>Scott Satterfield</td>\n",
              "      <td>712500.0</td>\n",
              "      <td>295000.0</td>\n",
              "      <td>76</td>\n",
              "      <td>55</td>\n",
              "      <td>21</td>\n",
              "      <td>0</td>\n",
              "      <td>639</td>\n",
              "      <td>339</td>\n",
              "      <td>29</td>\n",
              "      <td>0.649</td>\n",
              "      <td>90</td>\n",
              "      <td>1007</td>\n",
              "      <td>0.0</td>\n",
              "      <td>6</td>\n",
              "      <td>0</td>\n",
              "      <td>0</td>\n",
              "      <td>6</td>\n",
              "      <td>1.000</td>\n",
              "      <td>2020</td>\n",
              "      <td>2020</td>\n",
              "    </tr>\n",
              "  </tbody>\n",
              "</table>\n",
              "</div>"
            ],
            "text/plain": [
              "                  School Conference  ... Last Bowl Year  Last Bowl Win\n",
              "0              Air Force   Mt. West  ...           2019           2019\n",
              "1                  Akron        MAC  ...           2017           2015\n",
              "2                Alabama        SEC  ...           2020           2020\n",
              "3  Alabama at Birmingham      C-USA  ...           2020           2020\n",
              "4      Appalachian State   Sun Belt  ...           2020           2020\n",
              "\n",
              "[5 rows x 23 columns]"
            ]
          },
          "metadata": {
            "tags": []
          },
          "execution_count": 29
        }
      ]
    },
    {
      "cell_type": "markdown",
      "metadata": {
        "id": "06UBy4YgnZWY"
      },
      "source": [
        "### Stadium Information"
      ]
    },
    {
      "cell_type": "markdown",
      "metadata": {
        "id": "5ZBRbdWincWe"
      },
      "source": [
        "Had enough yet?  Next we will add information about the stadiums for each of these teams.  After all, at the end of the day, the coach's job is to make a product worth watching.  And if you have a big stadium, odds are you probably pay more (and expect more) from your coaches.\r\n",
        "\r\n",
        "Once again we go back to the trusty well of Wikipedia to scrape the data off the internet's greatest shoe."
      ]
    },
    {
      "cell_type": "code",
      "metadata": {
        "colab": {
          "base_uri": "https://localhost:8080/"
        },
        "id": "AYROCxn_pGg8",
        "outputId": "d8c70cc5-28b7-4b1c-acc4-ba0fef88ad28"
      },
      "source": [
        "# Add stadium capacity information\r\n",
        "url4 = \"https://en.wikipedia.org/wiki/List_of_NCAA_Division_I_FBS_football_stadiums\"\r\n",
        "\r\n",
        "# Get the HTML data using request:\r\n",
        "response4 = request.urlopen(url4)\r\n",
        "display(type(response4))\r\n",
        "html4 = response4.read().decode('UTF8')\r\n",
        "display(type(html4))"
      ],
      "execution_count": null,
      "outputs": [
        {
          "output_type": "display_data",
          "data": {
            "text/plain": [
              "http.client.HTTPResponse"
            ]
          },
          "metadata": {
            "tags": []
          }
        },
        {
          "output_type": "display_data",
          "data": {
            "text/plain": [
              "str"
            ]
          },
          "metadata": {
            "tags": []
          }
        }
      ]
    },
    {
      "cell_type": "code",
      "metadata": {
        "id": "Al5ytx-6p51k"
      },
      "source": [
        "# Clean up the HTML code using Beautiful Soup and then pull out what we need - just the table data.\r\n",
        "# Pull out stadium info\r\n",
        "html4Soup = BeautifulSoup(html4, \"html.parser\")\r\n",
        "\r\n",
        "stad_table = html4Soup.find('table', {'class':'wikitable sortable'})"
      ],
      "execution_count": null,
      "outputs": []
    },
    {
      "cell_type": "code",
      "metadata": {
        "id": "pY0_fp4gtxGO"
      },
      "source": [
        "# Extract the row data.  We are interested in: Team, City, State, and Capacity\r\n",
        "c0=[]\r\n",
        "c1=[]\r\n",
        "c2=[]\r\n",
        "c3=[]\r\n",
        "\r\n",
        "\r\n",
        "for row in stad_table.findAll('tr'):\r\n",
        "  cells = row.findAll('td')\r\n",
        "  if len(cells) == 11:\r\n",
        "    c0.append(cells[4].find('a').get_text())\r\n",
        "    c1.append(cells[2].get_text().rstrip())\r\n",
        "    c2.append(cells[3].get_text().rstrip())\r\n",
        "    c3.append(cells[6].find('span').get_text().rstrip()) "
      ],
      "execution_count": null,
      "outputs": []
    },
    {
      "cell_type": "code",
      "metadata": {
        "colab": {
          "base_uri": "https://localhost:8080/"
        },
        "id": "kJsurCfktrzV",
        "outputId": "d7f0e972-3d3b-4150-8dee-397cc5cb1092"
      },
      "source": [
        "stadDict = dict()\r\n",
        "stadDict['Team'] = c0\r\n",
        "stadDict['City'] = c1\r\n",
        "stadDict['State'] = c2\r\n",
        "stadDict['Capacity'] = c3\r\n",
        "\r\n",
        "stadDf = pd.DataFrame(stadDict)\r\n",
        "stadDf.head(5)"
      ],
      "execution_count": null,
      "outputs": [
        {
          "output_type": "execute_result",
          "data": {
            "text/html": [
              "<div>\n",
              "<style scoped>\n",
              "    .dataframe tbody tr th:only-of-type {\n",
              "        vertical-align: middle;\n",
              "    }\n",
              "\n",
              "    .dataframe tbody tr th {\n",
              "        vertical-align: top;\n",
              "    }\n",
              "\n",
              "    .dataframe thead th {\n",
              "        text-align: right;\n",
              "    }\n",
              "</style>\n",
              "<table border=\"1\" class=\"dataframe\">\n",
              "  <thead>\n",
              "    <tr style=\"text-align: right;\">\n",
              "      <th></th>\n",
              "      <th>Team</th>\n",
              "      <th>City</th>\n",
              "      <th>State</th>\n",
              "      <th>Capacity</th>\n",
              "    </tr>\n",
              "  </thead>\n",
              "  <tbody>\n",
              "    <tr>\n",
              "      <th>0</th>\n",
              "      <td>New Mexico State</td>\n",
              "      <td>Las Cruces</td>\n",
              "      <td>NM</td>\n",
              "      <td>30,343</td>\n",
              "    </tr>\n",
              "    <tr>\n",
              "      <th>1</th>\n",
              "      <td>UTSA</td>\n",
              "      <td>San Antonio</td>\n",
              "      <td>TX</td>\n",
              "      <td>65,000</td>\n",
              "    </tr>\n",
              "    <tr>\n",
              "      <th>2</th>\n",
              "      <td>Washington</td>\n",
              "      <td>Seattle</td>\n",
              "      <td>WA</td>\n",
              "      <td>70,500</td>\n",
              "    </tr>\n",
              "    <tr>\n",
              "      <th>3</th>\n",
              "      <td>Boise State</td>\n",
              "      <td>Boise</td>\n",
              "      <td>ID</td>\n",
              "      <td>36,387</td>\n",
              "    </tr>\n",
              "    <tr>\n",
              "      <th>4</th>\n",
              "      <td>UNLV</td>\n",
              "      <td>Paradise</td>\n",
              "      <td>NV</td>\n",
              "      <td>65,000</td>\n",
              "    </tr>\n",
              "  </tbody>\n",
              "</table>\n",
              "</div>"
            ],
            "text/plain": [
              "               Team         City State Capacity\n",
              "0  New Mexico State   Las Cruces    NM   30,343\n",
              "1              UTSA  San Antonio    TX   65,000\n",
              "2        Washington      Seattle    WA   70,500\n",
              "3       Boise State        Boise    ID   36,387\n",
              "4              UNLV     Paradise    NV   65,000"
            ]
          },
          "metadata": {
            "tags": []
          },
          "execution_count": 33
        }
      ]
    },
    {
      "cell_type": "code",
      "metadata": {
        "id": "5v1b9AwL01gk"
      },
      "source": [
        "miamiix = stadDf[(stadDf['Team'] == 'Miami') & (stadDf['State'] == 'FL')].index.tolist()\r\n",
        "miamiix\r\n",
        "stadDf.at[miamiix[0], \"Team\"] = \"Miami (FL)\""
      ],
      "execution_count": null,
      "outputs": []
    },
    {
      "cell_type": "code",
      "metadata": {
        "id": "krLj_FkkwOc-"
      },
      "source": [
        "# Rename schools to better match\r\n",
        "stadDf[\"Team\"] = stadDf[\"Team\"].str.replace(\"UAB\", \"Alabama - Birmingham\")\r\n",
        "stadDf[\"Team\"] = stadDf[\"Team\"].str.replace(\"UCF\", \"Central Florida\")\r\n",
        "stadDf[\"Team\"] = stadDf[\"Team\"].str.replace(\"FIU\", \"Florida International\")\r\n",
        "stadDf[\"Team\"] = stadDf[\"Team\"].str.replace(\"UNLV\", \"Nevada - Las Vegas\")\r\n",
        "stadDf['Team'] = stadDf['Team'].str.replace(\"NC State\", \"North Carolina State\")\r\n",
        "stadDf[\"Team\"] = stadDf[\"Team\"].str.replace(\"NIU\", \"Northern Illinois\")\r\n",
        "stadDf[\"Team\"] = stadDf[\"Team\"].str.replace(\"USF\", \"South Florida\")\r\n",
        "stadDf[\"Team\"] = stadDf[\"Team\"].str.replace(\"TCU\", \"Texas Christian\")\r\n",
        "stadDf[\"Team\"] = stadDf[\"Team\"].str.replace(\"UTEP\", \"Texas - El Paso\")\r\n",
        "stadDf[\"Team\"] = stadDf[\"Team\"].str.replace(\"UTSA\", \"Texas - San Antonio\")\r\n",
        "\r\n",
        " # Using fuzzywuzzy to match up the stadium table to the main coaches table\r\n",
        "slist = stadDf['Team']\r\n",
        "\r\n",
        "# Match school names to the official list in Coaches table\r\n",
        "match = coachesFinal2['School'].apply(lambda x: process.extract(x, slist, limit=1))"
      ],
      "execution_count": null,
      "outputs": []
    },
    {
      "cell_type": "code",
      "metadata": {
        "colab": {
          "base_uri": "https://localhost:8080/"
        },
        "id": "_uD4-rDscoT0",
        "outputId": "5c213b36-94b5-4a06-df77-4cea8473968f"
      },
      "source": [
        "# Add Stadium and location information to the Master data frame\r\n",
        "sname = [i[0][0] for i in match]\r\n",
        "coachesFinal2['sname'] = sname\r\n",
        "coachesFinal3 = coachesFinal2.join(stadDf.set_index('Team'), on = 'sname')\r\n",
        "coachesFinal3 = coachesFinal3.drop('sname', 1)\r\n",
        "coachesFinal3.head(5)"
      ],
      "execution_count": null,
      "outputs": [
        {
          "output_type": "execute_result",
          "data": {
            "text/html": [
              "<div>\n",
              "<style scoped>\n",
              "    .dataframe tbody tr th:only-of-type {\n",
              "        vertical-align: middle;\n",
              "    }\n",
              "\n",
              "    .dataframe tbody tr th {\n",
              "        vertical-align: top;\n",
              "    }\n",
              "\n",
              "    .dataframe thead th {\n",
              "        text-align: right;\n",
              "    }\n",
              "</style>\n",
              "<table border=\"1\" class=\"dataframe\">\n",
              "  <thead>\n",
              "    <tr style=\"text-align: right;\">\n",
              "      <th></th>\n",
              "      <th>School</th>\n",
              "      <th>Conference</th>\n",
              "      <th>Coach</th>\n",
              "      <th>SchoolPay</th>\n",
              "      <th>Bonus</th>\n",
              "      <th>coachGames</th>\n",
              "      <th>coachWins</th>\n",
              "      <th>coachLosses</th>\n",
              "      <th>coachTies</th>\n",
              "      <th>Team Wins</th>\n",
              "      <th>Team Losses</th>\n",
              "      <th>Team Ties</th>\n",
              "      <th>Team Win Pct</th>\n",
              "      <th>Years</th>\n",
              "      <th>Team Total Games</th>\n",
              "      <th>Championships</th>\n",
              "      <th>Bowl Wins</th>\n",
              "      <th>Bowl Losses</th>\n",
              "      <th>Bowl Ties</th>\n",
              "      <th>Bowls Played</th>\n",
              "      <th>Bowl Win Pct</th>\n",
              "      <th>Last Bowl Year</th>\n",
              "      <th>Last Bowl Win</th>\n",
              "      <th>City</th>\n",
              "      <th>State</th>\n",
              "      <th>Capacity</th>\n",
              "    </tr>\n",
              "  </thead>\n",
              "  <tbody>\n",
              "    <tr>\n",
              "      <th>0</th>\n",
              "      <td>Air Force</td>\n",
              "      <td>Mt. West</td>\n",
              "      <td>Troy Calhoun</td>\n",
              "      <td>885000.0</td>\n",
              "      <td>247000.0</td>\n",
              "      <td>167</td>\n",
              "      <td>98</td>\n",
              "      <td>69</td>\n",
              "      <td>0</td>\n",
              "      <td>404</td>\n",
              "      <td>332</td>\n",
              "      <td>13</td>\n",
              "      <td>0.548</td>\n",
              "      <td>64</td>\n",
              "      <td>749</td>\n",
              "      <td>0.0</td>\n",
              "      <td>13</td>\n",
              "      <td>13</td>\n",
              "      <td>1</td>\n",
              "      <td>27</td>\n",
              "      <td>.500</td>\n",
              "      <td>2019</td>\n",
              "      <td>2019</td>\n",
              "      <td>Colorado Springs</td>\n",
              "      <td>CO</td>\n",
              "      <td>46,692</td>\n",
              "    </tr>\n",
              "    <tr>\n",
              "      <th>1</th>\n",
              "      <td>Akron</td>\n",
              "      <td>MAC</td>\n",
              "      <td>Terry Bowden</td>\n",
              "      <td>411000.0</td>\n",
              "      <td>225000.0</td>\n",
              "      <td>152</td>\n",
              "      <td>82</td>\n",
              "      <td>69</td>\n",
              "      <td>1</td>\n",
              "      <td>524</td>\n",
              "      <td>563</td>\n",
              "      <td>36</td>\n",
              "      <td>0.483</td>\n",
              "      <td>119</td>\n",
              "      <td>1123</td>\n",
              "      <td>0.0</td>\n",
              "      <td>1</td>\n",
              "      <td>2</td>\n",
              "      <td>0</td>\n",
              "      <td>3</td>\n",
              "      <td>.333</td>\n",
              "      <td>2017</td>\n",
              "      <td>2015</td>\n",
              "      <td>Akron</td>\n",
              "      <td>OH</td>\n",
              "      <td>30,000</td>\n",
              "    </tr>\n",
              "    <tr>\n",
              "      <th>2</th>\n",
              "      <td>Alabama</td>\n",
              "      <td>SEC</td>\n",
              "      <td>Nick Saban</td>\n",
              "      <td>8307000.0</td>\n",
              "      <td>1100000.0</td>\n",
              "      <td>314</td>\n",
              "      <td>248</td>\n",
              "      <td>65</td>\n",
              "      <td>1</td>\n",
              "      <td>929</td>\n",
              "      <td>331</td>\n",
              "      <td>43</td>\n",
              "      <td>0.729</td>\n",
              "      <td>125</td>\n",
              "      <td>1303</td>\n",
              "      <td>13.0</td>\n",
              "      <td>44</td>\n",
              "      <td>26</td>\n",
              "      <td>3</td>\n",
              "      <td>73</td>\n",
              "      <td>.632</td>\n",
              "      <td>2020</td>\n",
              "      <td>2020</td>\n",
              "      <td>Tuscaloosa</td>\n",
              "      <td>AL</td>\n",
              "      <td>101,821</td>\n",
              "    </tr>\n",
              "    <tr>\n",
              "      <th>3</th>\n",
              "      <td>Alabama at Birmingham</td>\n",
              "      <td>C-USA</td>\n",
              "      <td>Bill Clark</td>\n",
              "      <td>900000.0</td>\n",
              "      <td>950000.0</td>\n",
              "      <td>53</td>\n",
              "      <td>34</td>\n",
              "      <td>19</td>\n",
              "      <td>0</td>\n",
              "      <td>152</td>\n",
              "      <td>169</td>\n",
              "      <td>2</td>\n",
              "      <td>0.474</td>\n",
              "      <td>27</td>\n",
              "      <td>323</td>\n",
              "      <td>0.0</td>\n",
              "      <td>44</td>\n",
              "      <td>26</td>\n",
              "      <td>3</td>\n",
              "      <td>73</td>\n",
              "      <td>.632</td>\n",
              "      <td>2020</td>\n",
              "      <td>2020</td>\n",
              "      <td>Birmingham</td>\n",
              "      <td>AL</td>\n",
              "      <td>71,594</td>\n",
              "    </tr>\n",
              "    <tr>\n",
              "      <th>4</th>\n",
              "      <td>Appalachian State</td>\n",
              "      <td>Sun Belt</td>\n",
              "      <td>Scott Satterfield</td>\n",
              "      <td>712500.0</td>\n",
              "      <td>295000.0</td>\n",
              "      <td>76</td>\n",
              "      <td>55</td>\n",
              "      <td>21</td>\n",
              "      <td>0</td>\n",
              "      <td>639</td>\n",
              "      <td>339</td>\n",
              "      <td>29</td>\n",
              "      <td>0.649</td>\n",
              "      <td>90</td>\n",
              "      <td>1007</td>\n",
              "      <td>0.0</td>\n",
              "      <td>6</td>\n",
              "      <td>0</td>\n",
              "      <td>0</td>\n",
              "      <td>6</td>\n",
              "      <td>1.000</td>\n",
              "      <td>2020</td>\n",
              "      <td>2020</td>\n",
              "      <td>Boone</td>\n",
              "      <td>NC</td>\n",
              "      <td>30,000</td>\n",
              "    </tr>\n",
              "  </tbody>\n",
              "</table>\n",
              "</div>"
            ],
            "text/plain": [
              "                  School Conference  ... State  Capacity\n",
              "0              Air Force   Mt. West  ...    CO    46,692\n",
              "1                  Akron        MAC  ...    OH    30,000\n",
              "2                Alabama        SEC  ...    AL   101,821\n",
              "3  Alabama at Birmingham      C-USA  ...    AL    71,594\n",
              "4      Appalachian State   Sun Belt  ...    NC    30,000\n",
              "\n",
              "[5 rows x 26 columns]"
            ]
          },
          "metadata": {
            "tags": []
          },
          "execution_count": 36
        }
      ]
    },
    {
      "cell_type": "markdown",
      "metadata": {
        "id": "1ShrjWPrfCjL"
      },
      "source": [
        "### Graduation Rates"
      ]
    },
    {
      "cell_type": "markdown",
      "metadata": {
        "id": "p90YDfpxgMBy"
      },
      "source": [
        "The next metric to look at is graduation rates for college football athletes.  This data was found at https://www.ncaa.org/about/resources/research/shared-ncaa-research-data and I am using the most recently available cohort - the 2011 cohort.  "
      ]
    },
    {
      "cell_type": "code",
      "metadata": {
        "colab": {
          "resources": {
            "http://localhost:8080/nbextensions/google.colab/files.js": {
              "data": "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",
              "ok": true,
              "headers": [
                [
                  "content-type",
                  "application/javascript"
                ]
              ],
              "status": 200,
              "status_text": ""
            }
          },
          "base_uri": "https://localhost:8080/"
        },
        "id": "2Nd4UwqSgwrx",
        "outputId": "a17b35ca-7dbf-4511-b912-506c9bab6b88"
      },
      "source": [
        "uploaded = files.upload()\r\n",
        "\r\n",
        "# Create intial dataframe called gradRaw\r\n",
        "gradRaw = pd.read_csv(io.BytesIO(uploaded['GradData.txt'])) "
      ],
      "execution_count": null,
      "outputs": [
        {
          "output_type": "display_data",
          "data": {
            "text/html": [
              "\n",
              "     <input type=\"file\" id=\"files-82357abb-b46b-4ff3-b304-51d071362257\" name=\"files[]\" multiple disabled\n",
              "        style=\"border:none\" />\n",
              "     <output id=\"result-82357abb-b46b-4ff3-b304-51d071362257\">\n",
              "      Upload widget is only available when the cell has been executed in the\n",
              "      current browser session. Please rerun this cell to enable.\n",
              "      </output>\n",
              "      <script src=\"/nbextensions/google.colab/files.js\"></script> "
            ],
            "text/plain": [
              "<IPython.core.display.HTML object>"
            ]
          },
          "metadata": {
            "tags": []
          }
        },
        {
          "output_type": "stream",
          "text": [
            "Saving GradData.txt to GradData.txt\n"
          ],
          "name": "stdout"
        }
      ]
    },
    {
      "cell_type": "code",
      "metadata": {
        "colab": {
          "base_uri": "https://localhost:8080/"
        },
        "id": "Fcs76bEIh-0A",
        "outputId": "54744a1d-0389-4442-a986-4e7fbb2cd561"
      },
      "source": [
        "# Quick peek at grad data\r\n",
        "display(gradRaw.describe())\r\n",
        "\r\n",
        "display(gradRaw.head(5))\r\n",
        "\r\n",
        "display(gradRaw.shape)"
      ],
      "execution_count": null,
      "outputs": [
        {
          "output_type": "display_data",
          "data": {
            "text/html": [
              "<div>\n",
              "<style scoped>\n",
              "    .dataframe tbody tr th:only-of-type {\n",
              "        vertical-align: middle;\n",
              "    }\n",
              "\n",
              "    .dataframe tbody tr th {\n",
              "        vertical-align: top;\n",
              "    }\n",
              "\n",
              "    .dataframe thead th {\n",
              "        text-align: right;\n",
              "    }\n",
              "</style>\n",
              "<table border=\"1\" class=\"dataframe\">\n",
              "  <thead>\n",
              "    <tr style=\"text-align: right;\">\n",
              "      <th></th>\n",
              "      <th>SCL_UNITID</th>\n",
              "      <th>SCL_DIVISION</th>\n",
              "      <th>SCL_SUBDIVISION</th>\n",
              "      <th>SCL_HBCU</th>\n",
              "      <th>SCL_PRIVATE</th>\n",
              "      <th>SPONSORED</th>\n",
              "      <th>FED_RATE</th>\n",
              "      <th>GSR</th>\n",
              "    </tr>\n",
              "  </thead>\n",
              "  <tbody>\n",
              "    <tr>\n",
              "      <th>count</th>\n",
              "      <td>5403.000000</td>\n",
              "      <td>5403.0</td>\n",
              "      <td>5403.000000</td>\n",
              "      <td>5403.000000</td>\n",
              "      <td>5403.000000</td>\n",
              "      <td>5403.000000</td>\n",
              "      <td>5093.000000</td>\n",
              "      <td>5264.000000</td>\n",
              "    </tr>\n",
              "    <tr>\n",
              "      <th>mean</th>\n",
              "      <td>180022.727189</td>\n",
              "      <td>1.0</td>\n",
              "      <td>1.872478</td>\n",
              "      <td>1.944105</td>\n",
              "      <td>0.361466</td>\n",
              "      <td>0.975569</td>\n",
              "      <td>68.634793</td>\n",
              "      <td>89.081687</td>\n",
              "    </tr>\n",
              "    <tr>\n",
              "      <th>std</th>\n",
              "      <td>44881.424476</td>\n",
              "      <td>0.0</td>\n",
              "      <td>0.793011</td>\n",
              "      <td>0.229740</td>\n",
              "      <td>0.480470</td>\n",
              "      <td>0.154397</td>\n",
              "      <td>20.730781</td>\n",
              "      <td>12.618994</td>\n",
              "    </tr>\n",
              "    <tr>\n",
              "      <th>min</th>\n",
              "      <td>100654.000000</td>\n",
              "      <td>1.0</td>\n",
              "      <td>1.000000</td>\n",
              "      <td>1.000000</td>\n",
              "      <td>0.000000</td>\n",
              "      <td>0.000000</td>\n",
              "      <td>0.000000</td>\n",
              "      <td>0.000000</td>\n",
              "    </tr>\n",
              "    <tr>\n",
              "      <th>25%</th>\n",
              "      <td>145813.000000</td>\n",
              "      <td>1.0</td>\n",
              "      <td>1.000000</td>\n",
              "      <td>2.000000</td>\n",
              "      <td>0.000000</td>\n",
              "      <td>1.000000</td>\n",
              "      <td>56.000000</td>\n",
              "      <td>83.000000</td>\n",
              "    </tr>\n",
              "    <tr>\n",
              "      <th>50%</th>\n",
              "      <td>185828.000000</td>\n",
              "      <td>1.0</td>\n",
              "      <td>2.000000</td>\n",
              "      <td>2.000000</td>\n",
              "      <td>0.000000</td>\n",
              "      <td>1.000000</td>\n",
              "      <td>71.000000</td>\n",
              "      <td>92.000000</td>\n",
              "    </tr>\n",
              "    <tr>\n",
              "      <th>75%</th>\n",
              "      <td>215743.000000</td>\n",
              "      <td>1.0</td>\n",
              "      <td>3.000000</td>\n",
              "      <td>2.000000</td>\n",
              "      <td>1.000000</td>\n",
              "      <td>1.000000</td>\n",
              "      <td>83.000000</td>\n",
              "      <td>100.000000</td>\n",
              "    </tr>\n",
              "    <tr>\n",
              "      <th>max</th>\n",
              "      <td>486840.000000</td>\n",
              "      <td>1.0</td>\n",
              "      <td>3.000000</td>\n",
              "      <td>2.000000</td>\n",
              "      <td>1.000000</td>\n",
              "      <td>1.000000</td>\n",
              "      <td>100.000000</td>\n",
              "      <td>100.000000</td>\n",
              "    </tr>\n",
              "  </tbody>\n",
              "</table>\n",
              "</div>"
            ],
            "text/plain": [
              "          SCL_UNITID  SCL_DIVISION  ...     FED_RATE          GSR\n",
              "count    5403.000000        5403.0  ...  5093.000000  5264.000000\n",
              "mean   180022.727189           1.0  ...    68.634793    89.081687\n",
              "std     44881.424476           0.0  ...    20.730781    12.618994\n",
              "min    100654.000000           1.0  ...     0.000000     0.000000\n",
              "25%    145813.000000           1.0  ...    56.000000    83.000000\n",
              "50%    185828.000000           1.0  ...    71.000000    92.000000\n",
              "75%    215743.000000           1.0  ...    83.000000   100.000000\n",
              "max    486840.000000           1.0  ...   100.000000   100.000000\n",
              "\n",
              "[8 rows x 8 columns]"
            ]
          },
          "metadata": {
            "tags": []
          }
        },
        {
          "output_type": "display_data",
          "data": {
            "text/html": [
              "<div>\n",
              "<style scoped>\n",
              "    .dataframe tbody tr th:only-of-type {\n",
              "        vertical-align: middle;\n",
              "    }\n",
              "\n",
              "    .dataframe tbody tr th {\n",
              "        vertical-align: top;\n",
              "    }\n",
              "\n",
              "    .dataframe thead th {\n",
              "        text-align: right;\n",
              "    }\n",
              "</style>\n",
              "<table border=\"1\" class=\"dataframe\">\n",
              "  <thead>\n",
              "    <tr style=\"text-align: right;\">\n",
              "      <th></th>\n",
              "      <th>SCL_UNITID</th>\n",
              "      <th>SCL_NAME</th>\n",
              "      <th>SCL_DIVISION</th>\n",
              "      <th>SCL_SUBDIVISION</th>\n",
              "      <th>SCL_CONFERENCE</th>\n",
              "      <th>DIV1_FB_CONFERENCE</th>\n",
              "      <th>SCL_HBCU</th>\n",
              "      <th>SCL_PRIVATE</th>\n",
              "      <th>SPORT</th>\n",
              "      <th>SPONSORED</th>\n",
              "      <th>FED_RATE</th>\n",
              "      <th>GSR</th>\n",
              "    </tr>\n",
              "  </thead>\n",
              "  <tbody>\n",
              "    <tr>\n",
              "      <th>0</th>\n",
              "      <td>100654</td>\n",
              "      <td>Alabama A&amp;M University</td>\n",
              "      <td>1</td>\n",
              "      <td>2</td>\n",
              "      <td>Southwestern Athletic Conf.</td>\n",
              "      <td>Southwestern Athletic Conf.</td>\n",
              "      <td>1</td>\n",
              "      <td>0</td>\n",
              "      <td>WSB</td>\n",
              "      <td>1</td>\n",
              "      <td>57.0</td>\n",
              "      <td>61.0</td>\n",
              "    </tr>\n",
              "    <tr>\n",
              "      <th>1</th>\n",
              "      <td>100654</td>\n",
              "      <td>Alabama A&amp;M University</td>\n",
              "      <td>1</td>\n",
              "      <td>2</td>\n",
              "      <td>Southwestern Athletic Conf.</td>\n",
              "      <td>Southwestern Athletic Conf.</td>\n",
              "      <td>1</td>\n",
              "      <td>0</td>\n",
              "      <td>MFB</td>\n",
              "      <td>1</td>\n",
              "      <td>47.0</td>\n",
              "      <td>62.0</td>\n",
              "    </tr>\n",
              "    <tr>\n",
              "      <th>2</th>\n",
              "      <td>100654</td>\n",
              "      <td>Alabama A&amp;M University</td>\n",
              "      <td>1</td>\n",
              "      <td>2</td>\n",
              "      <td>Southwestern Athletic Conf.</td>\n",
              "      <td>Southwestern Athletic Conf.</td>\n",
              "      <td>1</td>\n",
              "      <td>0</td>\n",
              "      <td>WSO</td>\n",
              "      <td>1</td>\n",
              "      <td>50.0</td>\n",
              "      <td>67.0</td>\n",
              "    </tr>\n",
              "    <tr>\n",
              "      <th>3</th>\n",
              "      <td>100654</td>\n",
              "      <td>Alabama A&amp;M University</td>\n",
              "      <td>1</td>\n",
              "      <td>2</td>\n",
              "      <td>Southwestern Athletic Conf.</td>\n",
              "      <td>Southwestern Athletic Conf.</td>\n",
              "      <td>1</td>\n",
              "      <td>0</td>\n",
              "      <td>MSO</td>\n",
              "      <td>0</td>\n",
              "      <td>29.0</td>\n",
              "      <td>NaN</td>\n",
              "    </tr>\n",
              "    <tr>\n",
              "      <th>4</th>\n",
              "      <td>100654</td>\n",
              "      <td>Alabama A&amp;M University</td>\n",
              "      <td>1</td>\n",
              "      <td>2</td>\n",
              "      <td>Southwestern Athletic Conf.</td>\n",
              "      <td>Southwestern Athletic Conf.</td>\n",
              "      <td>1</td>\n",
              "      <td>0</td>\n",
              "      <td>WBW</td>\n",
              "      <td>1</td>\n",
              "      <td>86.0</td>\n",
              "      <td>86.0</td>\n",
              "    </tr>\n",
              "  </tbody>\n",
              "</table>\n",
              "</div>"
            ],
            "text/plain": [
              "   SCL_UNITID                SCL_NAME  SCL_DIVISION  ...  SPONSORED FED_RATE   GSR\n",
              "0      100654  Alabama A&M University             1  ...          1     57.0  61.0\n",
              "1      100654  Alabama A&M University             1  ...          1     47.0  62.0\n",
              "2      100654  Alabama A&M University             1  ...          1     50.0  67.0\n",
              "3      100654  Alabama A&M University             1  ...          0     29.0   NaN\n",
              "4      100654  Alabama A&M University             1  ...          1     86.0  86.0\n",
              "\n",
              "[5 rows x 12 columns]"
            ]
          },
          "metadata": {
            "tags": []
          }
        },
        {
          "output_type": "display_data",
          "data": {
            "text/plain": [
              "(5403, 12)"
            ]
          },
          "metadata": {
            "tags": []
          }
        }
      ]
    },
    {
      "cell_type": "markdown",
      "metadata": {
        "id": "Dtse3bngkHfD"
      },
      "source": [
        "This data breaks down GSR and Fed Rates by school and by sport.  For the purpose of this exercise, I will be limiting the dataset to only the rates for Football at the D1 schools, though I acknowledge information regarding retention rates of a student body at large, and other sports within that community could be impactful.  "
      ]
    },
    {
      "cell_type": "code",
      "metadata": {
        "id": "3snDoOFPkgia"
      },
      "source": [
        "gradFB = gradRaw[gradRaw['SPORT'] == \"MFB\"]\r\n",
        "gradFBS = gradFB[gradFB['SCL_SUBDIVISION'] == 1]\r\n",
        "\r\n",
        "# Coastal Carolina and Liberty have not been in Division 1 long, so we need to promote their FSR data back up to the right division for us..\r\n",
        "ccu = gradFB[gradFB['SCL_NAME'] == \"Coastal Carolina University\"]\r\n",
        "gradFBS = gradFBS.append(ccu)\r\n",
        "liberty = gradFB[gradFB['SCL_NAME'] == 'Liberty University']\r\n",
        "gradFBS = gradFBS.append(liberty)"
      ],
      "execution_count": null,
      "outputs": []
    },
    {
      "cell_type": "code",
      "metadata": {
        "id": "yXNGI-LToNWG"
      },
      "source": [
        "# Trim the data frame to the features we need:\r\n",
        "gradFBS = gradFBS[['SCL_NAME','SCL_HBCU', 'SCL_PRIVATE', 'FED_RATE', 'GSR']]"
      ],
      "execution_count": null,
      "outputs": []
    },
    {
      "cell_type": "code",
      "metadata": {
        "id": "V-ohvNGUlkR0"
      },
      "source": [
        "# Adjust School Names in grad list\r\n",
        "gradFBS['SCL_NAME'] = gradFBS['SCL_NAME'].str.replace('University of', \"\")\r\n",
        "gradFBS['SCL_NAME'] = gradFBS['SCL_NAME'].str.replace('U.S. Military Academy', 'Army')\r\n",
        "gradFBS['SCL_NAME'] = gradFBS['SCL_NAME'].str.replace('Kansas State University', 'Kansas State')\r\n",
        "gradFBS['SCL_NAME'] = gradFBS['SCL_NAME'].str.replace('California, Berkeley', 'California')\r\n",
        "gradFBS['SCL_NAME'] = gradFBS['SCL_NAME'].str.replace('Arkansas State University', 'Arkansas State')\r\n",
        "gradFBS['SCL_NAME'] = gradFBS['SCL_NAME'].str.replace('California State University, Fresno', 'Fresno State')\r\n",
        "gradFBS['SCL_NAME'] = gradFBS['SCL_NAME'].str.replace('Louisiana State University', 'LSU')\r\n",
        "gradFBS['SCL_NAME'] = gradFBS['SCL_NAME'].str.replace('Georgia Institute of Technology', 'Georgia Tech')\r\n",
        "gradFBS['SCL_NAME'] = gradFBS['SCL_NAME'].str.replace(\"Miami University\", 'Miami')\r\n",
        "gradFBS['SCL_NAME'] = gradFBS['SCL_NAME'].str.replace('Michigan State University', 'Michigan State')\r\n",
        "gradFBS['SCL_NAME'] = gradFBS['SCL_NAME'].str.replace('Mississippi State University', 'Mississippi State')\r\n",
        "gradFBS['SCL_NAME'] = gradFBS['SCL_NAME'].str.replace('Reno', \"\")\r\n",
        "gradFBS['SCL_NAME'] = gradFBS['SCL_NAME'].str.replace('New Mexico State University', 'New Mexico State')\r\n",
        "gradFBS['SCL_NAME'] = gradFBS['SCL_NAME'].str.replace('Ohio University', 'Ohio')\r\n",
        "gradFBS['SCL_NAME'] = gradFBS['SCL_NAME'].str.replace('Pennsylvania', 'Penn')\r\n",
        "gradFBS['SCL_NAME'] = gradFBS['SCL_NAME'].str.replace(', Knoxville', '')\r\n",
        "gradFBS['SCL_NAME'] = gradFBS['SCL_NAME'].str.replace('at Austin', '')\r\n",
        "gradFBS['SCL_NAME'] = gradFBS['SCL_NAME'].str.replace('Texas Christian University', 'Texas Christian')\r\n",
        "gradFBS['SCL_NAME'] = gradFBS['SCL_NAME'].str.replace('Texas Tech University', 'Texas Tech')\r\n",
        "gradFBS['SCL_NAME'] = gradFBS['SCL_NAME'].str.replace('Los Angeles', 'UCLA')\r\n",
        "gradFBS['SCL_NAME'] = gradFBS['SCL_NAME'].str.replace('Virginia Polytechnic', 'Virginia Tech')\r\n",
        "gradFBS['SCL_NAME'] = gradFBS['SCL_NAME'].str.replace('West Virginia University', 'West Virginia')\r\n",
        "gradFBS['SCL_NAME'] = gradFBS['SCL_NAME'].str.replace('Western Kentucky University', 'Western Kentucky')\r\n",
        "gradFBS['SCL_NAME'] = gradFBS['SCL_NAME'].str.replace('Western Michigan University', 'Western Michigan')\r\n",
        "gradFBS['SCL_NAME'] = gradFBS['SCL_NAME'].str.replace('Eastern Michigan University', 'Eastern Michigan')\r\n",
        "\r\n",
        "# Match the School Names from this list to the Master data file using fuzzywuzzy\r\n",
        "glist = gradFBS['SCL_NAME']\r\n",
        "\r\n",
        "match = coachesFinal3['School'].apply(lambda x: process.extract(x, glist, limit=1))"
      ],
      "execution_count": null,
      "outputs": []
    },
    {
      "cell_type": "code",
      "metadata": {
        "colab": {
          "base_uri": "https://localhost:8080/"
        },
        "id": "Y0CY87qrntvv",
        "outputId": "01ae5ed9-9e70-42f2-bed7-2a39674758e8"
      },
      "source": [
        "# Add graduate data to the master data file\r\n",
        "gname = [i[0][0] for i in match]\r\n",
        "coachesFinal3['gname'] = gname\r\n",
        "coachesFinal4 = coachesFinal3.join(gradFBS.set_index('SCL_NAME'), on = 'gname')\r\n",
        "coachesFinal4 = coachesFinal4.drop('gname', 1)\r\n",
        "coachesFinal4.head(5)"
      ],
      "execution_count": null,
      "outputs": [
        {
          "output_type": "execute_result",
          "data": {
            "text/html": [
              "<div>\n",
              "<style scoped>\n",
              "    .dataframe tbody tr th:only-of-type {\n",
              "        vertical-align: middle;\n",
              "    }\n",
              "\n",
              "    .dataframe tbody tr th {\n",
              "        vertical-align: top;\n",
              "    }\n",
              "\n",
              "    .dataframe thead th {\n",
              "        text-align: right;\n",
              "    }\n",
              "</style>\n",
              "<table border=\"1\" class=\"dataframe\">\n",
              "  <thead>\n",
              "    <tr style=\"text-align: right;\">\n",
              "      <th></th>\n",
              "      <th>School</th>\n",
              "      <th>Conference</th>\n",
              "      <th>Coach</th>\n",
              "      <th>SchoolPay</th>\n",
              "      <th>Bonus</th>\n",
              "      <th>coachGames</th>\n",
              "      <th>coachWins</th>\n",
              "      <th>coachLosses</th>\n",
              "      <th>coachTies</th>\n",
              "      <th>Team Wins</th>\n",
              "      <th>Team Losses</th>\n",
              "      <th>Team Ties</th>\n",
              "      <th>Team Win Pct</th>\n",
              "      <th>Years</th>\n",
              "      <th>Team Total Games</th>\n",
              "      <th>Championships</th>\n",
              "      <th>Bowl Wins</th>\n",
              "      <th>Bowl Losses</th>\n",
              "      <th>Bowl Ties</th>\n",
              "      <th>Bowls Played</th>\n",
              "      <th>Bowl Win Pct</th>\n",
              "      <th>Last Bowl Year</th>\n",
              "      <th>Last Bowl Win</th>\n",
              "      <th>City</th>\n",
              "      <th>State</th>\n",
              "      <th>Capacity</th>\n",
              "      <th>SCL_HBCU</th>\n",
              "      <th>SCL_PRIVATE</th>\n",
              "      <th>FED_RATE</th>\n",
              "      <th>GSR</th>\n",
              "    </tr>\n",
              "  </thead>\n",
              "  <tbody>\n",
              "    <tr>\n",
              "      <th>0</th>\n",
              "      <td>Air Force</td>\n",
              "      <td>Mt. West</td>\n",
              "      <td>Troy Calhoun</td>\n",
              "      <td>885000.0</td>\n",
              "      <td>247000.0</td>\n",
              "      <td>167</td>\n",
              "      <td>98</td>\n",
              "      <td>69</td>\n",
              "      <td>0</td>\n",
              "      <td>404</td>\n",
              "      <td>332</td>\n",
              "      <td>13</td>\n",
              "      <td>0.548</td>\n",
              "      <td>64</td>\n",
              "      <td>749</td>\n",
              "      <td>0.0</td>\n",
              "      <td>13</td>\n",
              "      <td>13</td>\n",
              "      <td>1</td>\n",
              "      <td>27</td>\n",
              "      <td>.500</td>\n",
              "      <td>2019</td>\n",
              "      <td>2019</td>\n",
              "      <td>Colorado Springs</td>\n",
              "      <td>CO</td>\n",
              "      <td>46,692</td>\n",
              "      <td>2</td>\n",
              "      <td>0</td>\n",
              "      <td>NaN</td>\n",
              "      <td>77.0</td>\n",
              "    </tr>\n",
              "    <tr>\n",
              "      <th>1</th>\n",
              "      <td>Akron</td>\n",
              "      <td>MAC</td>\n",
              "      <td>Terry Bowden</td>\n",
              "      <td>411000.0</td>\n",
              "      <td>225000.0</td>\n",
              "      <td>152</td>\n",
              "      <td>82</td>\n",
              "      <td>69</td>\n",
              "      <td>1</td>\n",
              "      <td>524</td>\n",
              "      <td>563</td>\n",
              "      <td>36</td>\n",
              "      <td>0.483</td>\n",
              "      <td>119</td>\n",
              "      <td>1123</td>\n",
              "      <td>0.0</td>\n",
              "      <td>1</td>\n",
              "      <td>2</td>\n",
              "      <td>0</td>\n",
              "      <td>3</td>\n",
              "      <td>.333</td>\n",
              "      <td>2017</td>\n",
              "      <td>2015</td>\n",
              "      <td>Akron</td>\n",
              "      <td>OH</td>\n",
              "      <td>30,000</td>\n",
              "      <td>2</td>\n",
              "      <td>0</td>\n",
              "      <td>61.0</td>\n",
              "      <td>72.0</td>\n",
              "    </tr>\n",
              "    <tr>\n",
              "      <th>2</th>\n",
              "      <td>Alabama</td>\n",
              "      <td>SEC</td>\n",
              "      <td>Nick Saban</td>\n",
              "      <td>8307000.0</td>\n",
              "      <td>1100000.0</td>\n",
              "      <td>314</td>\n",
              "      <td>248</td>\n",
              "      <td>65</td>\n",
              "      <td>1</td>\n",
              "      <td>929</td>\n",
              "      <td>331</td>\n",
              "      <td>43</td>\n",
              "      <td>0.729</td>\n",
              "      <td>125</td>\n",
              "      <td>1303</td>\n",
              "      <td>13.0</td>\n",
              "      <td>44</td>\n",
              "      <td>26</td>\n",
              "      <td>3</td>\n",
              "      <td>73</td>\n",
              "      <td>.632</td>\n",
              "      <td>2020</td>\n",
              "      <td>2020</td>\n",
              "      <td>Tuscaloosa</td>\n",
              "      <td>AL</td>\n",
              "      <td>101,821</td>\n",
              "      <td>2</td>\n",
              "      <td>0</td>\n",
              "      <td>63.0</td>\n",
              "      <td>84.0</td>\n",
              "    </tr>\n",
              "    <tr>\n",
              "      <th>3</th>\n",
              "      <td>Alabama at Birmingham</td>\n",
              "      <td>C-USA</td>\n",
              "      <td>Bill Clark</td>\n",
              "      <td>900000.0</td>\n",
              "      <td>950000.0</td>\n",
              "      <td>53</td>\n",
              "      <td>34</td>\n",
              "      <td>19</td>\n",
              "      <td>0</td>\n",
              "      <td>152</td>\n",
              "      <td>169</td>\n",
              "      <td>2</td>\n",
              "      <td>0.474</td>\n",
              "      <td>27</td>\n",
              "      <td>323</td>\n",
              "      <td>0.0</td>\n",
              "      <td>44</td>\n",
              "      <td>26</td>\n",
              "      <td>3</td>\n",
              "      <td>73</td>\n",
              "      <td>.632</td>\n",
              "      <td>2020</td>\n",
              "      <td>2020</td>\n",
              "      <td>Birmingham</td>\n",
              "      <td>AL</td>\n",
              "      <td>71,594</td>\n",
              "      <td>2</td>\n",
              "      <td>0</td>\n",
              "      <td>58.0</td>\n",
              "      <td>71.0</td>\n",
              "    </tr>\n",
              "    <tr>\n",
              "      <th>4</th>\n",
              "      <td>Appalachian State</td>\n",
              "      <td>Sun Belt</td>\n",
              "      <td>Scott Satterfield</td>\n",
              "      <td>712500.0</td>\n",
              "      <td>295000.0</td>\n",
              "      <td>76</td>\n",
              "      <td>55</td>\n",
              "      <td>21</td>\n",
              "      <td>0</td>\n",
              "      <td>639</td>\n",
              "      <td>339</td>\n",
              "      <td>29</td>\n",
              "      <td>0.649</td>\n",
              "      <td>90</td>\n",
              "      <td>1007</td>\n",
              "      <td>0.0</td>\n",
              "      <td>6</td>\n",
              "      <td>0</td>\n",
              "      <td>0</td>\n",
              "      <td>6</td>\n",
              "      <td>1.000</td>\n",
              "      <td>2020</td>\n",
              "      <td>2020</td>\n",
              "      <td>Boone</td>\n",
              "      <td>NC</td>\n",
              "      <td>30,000</td>\n",
              "      <td>2</td>\n",
              "      <td>0</td>\n",
              "      <td>67.0</td>\n",
              "      <td>71.0</td>\n",
              "    </tr>\n",
              "  </tbody>\n",
              "</table>\n",
              "</div>"
            ],
            "text/plain": [
              "                  School Conference  ... FED_RATE   GSR\n",
              "0              Air Force   Mt. West  ...      NaN  77.0\n",
              "1                  Akron        MAC  ...     61.0  72.0\n",
              "2                Alabama        SEC  ...     63.0  84.0\n",
              "3  Alabama at Birmingham      C-USA  ...     58.0  71.0\n",
              "4      Appalachian State   Sun Belt  ...     67.0  71.0\n",
              "\n",
              "[5 rows x 30 columns]"
            ]
          },
          "metadata": {
            "tags": []
          },
          "execution_count": 42
        }
      ]
    },
    {
      "cell_type": "markdown",
      "metadata": {
        "id": "U0GM4zHusOoI"
      },
      "source": [
        "### 2019 Rankings"
      ]
    },
    {
      "cell_type": "markdown",
      "metadata": {
        "id": "FI-U6KKNsRzY"
      },
      "source": [
        "Look, 2020 was a tough year, and a strange one when it comes to college football.  I mean, a team that only played 6 regular season games was enough to make it into the college playoffs to face off against a team forced to weather twice as many games.  No bitterness here.\r\n",
        "\r\n",
        "Regardless, I felt it better to use 2019 values for win-loss records as they are more consistent and more reflective of actual season records.  Plus, they are closer temporally to the coaching data collected.\r\n",
        "\r\n",
        "Data was scraped off of TeamRankings.com"
      ]
    },
    {
      "cell_type": "code",
      "metadata": {
        "colab": {
          "base_uri": "https://localhost:8080/",
          "height": 51
        },
        "id": "2_fHLf93pDBw",
        "outputId": "449717f1-9045-4c33-8695-7755f8eec588"
      },
      "source": [
        "# Next time I will remember to make a function early in this process\r\n",
        "url5 = \"https://www.teamrankings.com/ncf/trends/win_trends/?range=yearly_2019\"\r\n",
        "\r\n",
        "# Get the HTML data using request:\r\n",
        "response5 = request.urlopen(url5)\r\n",
        "display(type(response5))\r\n",
        "html5 = response5.read().decode('UTF8')\r\n",
        "display(type(html5))"
      ],
      "execution_count": null,
      "outputs": [
        {
          "output_type": "display_data",
          "data": {
            "text/plain": [
              "http.client.HTTPResponse"
            ]
          },
          "metadata": {
            "tags": []
          }
        },
        {
          "output_type": "display_data",
          "data": {
            "text/plain": [
              "str"
            ]
          },
          "metadata": {
            "tags": []
          }
        }
      ]
    },
    {
      "cell_type": "code",
      "metadata": {
        "id": "afC9c87YtNjR"
      },
      "source": [
        "# Clean up the HTML code using Beautiful Soup and then pull out what we need - just the table data.\r\n",
        "# Pull out win-loss table data\r\n",
        "html5Soup = BeautifulSoup(html5, \"html.parser\")\r\n",
        "\r\n",
        "season_table = html5Soup.find('table', {'class':'tr-table datatable scrollable'})"
      ],
      "execution_count": null,
      "outputs": []
    },
    {
      "cell_type": "code",
      "metadata": {
        "id": "fYW963rguHJx"
      },
      "source": [
        "# Extract the row data.  We are interested in: Team and Win-Loss Record\r\n",
        "c0=[]\r\n",
        "c1=[]\r\n",
        "\r\n",
        "for row in season_table.findAll('tr'):\r\n",
        "  cells = row.findAll('td')\r\n",
        "  if len(cells) == 5:\r\n",
        "    c0.append(cells[0].find('a').get_text())\r\n",
        "    c1.append(cells[1].get_text().rstrip())"
      ],
      "execution_count": null,
      "outputs": []
    },
    {
      "cell_type": "code",
      "metadata": {
        "id": "uJJfxS--vl9t"
      },
      "source": [
        "# Unpack the record string in c1 into wins and losses\r\n",
        "yearwins = []\r\n",
        "yearlosses = []\r\n",
        "\r\n",
        "for score in c1:\r\n",
        "  r = score.split(\"-\")\r\n",
        "  yearwins.append(r[0])\r\n",
        "  yearlosses.append(r[1])\r\n"
      ],
      "execution_count": null,
      "outputs": []
    },
    {
      "cell_type": "code",
      "metadata": {
        "colab": {
          "base_uri": "https://localhost:8080/",
          "height": 343
        },
        "id": "pDS9DfwXxDEf",
        "outputId": "5554bba8-2fe8-42ff-f479-f9c8a37aa79a"
      },
      "source": [
        "# Create a data frame with data\r\n",
        "yeardict = dict()\r\n",
        "yeardict['Team'] = c0\r\n",
        "yeardict['Year Wins'] = yearwins\r\n",
        "yeardict['Year Losses'] = yearlosses\r\n",
        "\r\n",
        "yeardf = pd.DataFrame(yeardict)\r\n",
        "\r\n",
        "# Rename schools to better match\r\n",
        "yeardf[\"Team\"] = yeardf[\"Team\"].str.replace(\"UAB\", \"Alabama - Birmingham\")\r\n",
        "yeardf[\"Team\"] = yeardf[\"Team\"].str.replace(\"St\", \"State\")\r\n",
        "yeardf[\"Team\"] = yeardf[\"Team\"].str.replace(\"App State\", \"Appalachian State\")\r\n",
        "yeardf[\"Team\"] = yeardf[\"Team\"].str.replace(\"Central FL\", \"Central Florida\")\r\n",
        "yeardf[\"Team\"] = yeardf[\"Team\"].str.replace(\"Central Mich\", \"Central Michigan\")\r\n",
        "yeardf[\"Team\"] = yeardf[\"Team\"].str.replace(\"Coastal Car\", \"Coastal Carolina\")\r\n",
        "yeardf[\"Team\"] = yeardf[\"Team\"].str.replace(\"E Michigan\", \"Eastern Michigan\")\r\n",
        "yeardf[\"Team\"] = yeardf[\"Team\"].str.replace(\"Fla\", \"Florida\")\r\n",
        "yeardf[\"Team\"] = yeardf[\"Team\"].str.replace(\"Intl\", \"International\")\r\n",
        "yeardf[\"Team\"] = yeardf[\"Team\"].str.replace(\"GA\", \"Georgia\")\r\n",
        "yeardf[\"Team\"] = yeardf[\"Team\"].str.replace(\"Stateate\", \"State\")\r\n",
        "yeardf[\"Team\"] = yeardf[\"Team\"].str.replace(\"U Mass\", \"Mass\")\r\n",
        "yeardf[\"Team\"] = yeardf[\"Team\"].str.replace(\"Middle Tenn\", \"Middle Tennessee\")\r\n",
        "yeardf[\"Team\"] = yeardf[\"Team\"].str.replace(\"Miss State\", \"Mississippi State\")\r\n",
        "yeardf[\"Team\"] = yeardf[\"Team\"].str.replace(\"UNLV\", \"Nevada - Las Vegas\")\r\n",
        "yeardf[\"Team\"] = yeardf[\"Team\"].str.replace(\"N Mex\", \"New Mexico\")\r\n",
        "yeardf[\"Team\"] = yeardf[\"Team\"].str.replace(\"N Carolina\", \"North Carolina\")\r\n",
        "yeardf['Team'] = yeardf['Team'].str.replace(\"NC State\", \"North Carolina State\")\r\n",
        "yeardf[\"Team\"] = yeardf[\"Team\"].str.replace(\"N Illinois\", \"Northern Illinois\")\r\n",
        "yeardf[\"Team\"] = yeardf[\"Team\"].str.replace(\"S Alabama\", \"South Alabama\")\r\n",
        "yeardf[\"Team\"] = yeardf[\"Team\"].str.replace(\"S Carolina\", \"South Carolina\")\r\n",
        "yeardf[\"Team\"] = yeardf[\"Team\"].str.replace(\"S Florida\", \"South Florida\")\r\n",
        "yeardf[\"Team\"] = yeardf[\"Team\"].str.replace(\"USC\", \"Southern California\")\r\n",
        "yeardf[\"Team\"] = yeardf[\"Team\"].str.replace(\"S Mississippi\", \"Southern Mississippi\")\r\n",
        "yeardf[\"Team\"] = yeardf[\"Team\"].str.replace(\"TX\", \"Texas\")\r\n",
        "yeardf[\"Team\"] = yeardf[\"Team\"].str.replace(\"San Ant\", \"San Antonio\")\r\n",
        "yeardf[\"Team\"] = yeardf[\"Team\"].str.replace(\"VA\", \"Virginia\")\r\n",
        "yeardf[\"Team\"] = yeardf[\"Team\"].str.replace(\"W Virginia\", \"West Virgina\")\r\n",
        "yeardf[\"Team\"] = yeardf[\"Team\"].str.replace(\"Wash State\", \"Washington State\")\r\n",
        "yeardf[\"Team\"] = yeardf[\"Team\"].str.replace(\"W Kentucky\", \"Western Kentucky\")\r\n",
        "yeardf[\"Team\"] = yeardf[\"Team\"].str.replace(\"W Michigan\", \"Western Michigan\")\r\n",
        "ylist = yeardf['Team']\r\n",
        "\r\n",
        "# Match up names and then add 2019 wins/losses to the master data set\r\n",
        "match = coachesFinal4['School'].apply(lambda x: process.extract(x, ylist, limit=1))\r\n",
        "\r\n",
        "yname = [i[0][0] for i in match]\r\n",
        "coachesFinal4['yname'] = yname\r\n",
        "coachesFinal5 = coachesFinal4.join(yeardf.set_index('Team'), on = 'yname')\r\n",
        "coachesFinal5 = coachesFinal5.drop('yname', 1)\r\n",
        "coachesFinal5.head(5)"
      ],
      "execution_count": null,
      "outputs": [
        {
          "output_type": "execute_result",
          "data": {
            "text/html": [
              "<div>\n",
              "<style scoped>\n",
              "    .dataframe tbody tr th:only-of-type {\n",
              "        vertical-align: middle;\n",
              "    }\n",
              "\n",
              "    .dataframe tbody tr th {\n",
              "        vertical-align: top;\n",
              "    }\n",
              "\n",
              "    .dataframe thead th {\n",
              "        text-align: right;\n",
              "    }\n",
              "</style>\n",
              "<table border=\"1\" class=\"dataframe\">\n",
              "  <thead>\n",
              "    <tr style=\"text-align: right;\">\n",
              "      <th></th>\n",
              "      <th>School</th>\n",
              "      <th>Conference</th>\n",
              "      <th>Coach</th>\n",
              "      <th>SchoolPay</th>\n",
              "      <th>Bonus</th>\n",
              "      <th>coachGames</th>\n",
              "      <th>coachWins</th>\n",
              "      <th>coachLosses</th>\n",
              "      <th>coachTies</th>\n",
              "      <th>Team Wins</th>\n",
              "      <th>Team Losses</th>\n",
              "      <th>Team Ties</th>\n",
              "      <th>Team Win Pct</th>\n",
              "      <th>Years</th>\n",
              "      <th>Team Total Games</th>\n",
              "      <th>Championships</th>\n",
              "      <th>Bowl Wins</th>\n",
              "      <th>Bowl Losses</th>\n",
              "      <th>Bowl Ties</th>\n",
              "      <th>Bowls Played</th>\n",
              "      <th>Bowl Win Pct</th>\n",
              "      <th>Last Bowl Year</th>\n",
              "      <th>Last Bowl Win</th>\n",
              "      <th>City</th>\n",
              "      <th>State</th>\n",
              "      <th>Capacity</th>\n",
              "      <th>SCL_HBCU</th>\n",
              "      <th>SCL_PRIVATE</th>\n",
              "      <th>FED_RATE</th>\n",
              "      <th>GSR</th>\n",
              "      <th>Year Wins</th>\n",
              "      <th>Year Losses</th>\n",
              "    </tr>\n",
              "  </thead>\n",
              "  <tbody>\n",
              "    <tr>\n",
              "      <th>0</th>\n",
              "      <td>Air Force</td>\n",
              "      <td>Mt. West</td>\n",
              "      <td>Troy Calhoun</td>\n",
              "      <td>885000.0</td>\n",
              "      <td>247000.0</td>\n",
              "      <td>167</td>\n",
              "      <td>98</td>\n",
              "      <td>69</td>\n",
              "      <td>0</td>\n",
              "      <td>404</td>\n",
              "      <td>332</td>\n",
              "      <td>13</td>\n",
              "      <td>0.548</td>\n",
              "      <td>64</td>\n",
              "      <td>749</td>\n",
              "      <td>0.0</td>\n",
              "      <td>13</td>\n",
              "      <td>13</td>\n",
              "      <td>1</td>\n",
              "      <td>27</td>\n",
              "      <td>.500</td>\n",
              "      <td>2019</td>\n",
              "      <td>2019</td>\n",
              "      <td>Colorado Springs</td>\n",
              "      <td>CO</td>\n",
              "      <td>46,692</td>\n",
              "      <td>2</td>\n",
              "      <td>0</td>\n",
              "      <td>NaN</td>\n",
              "      <td>77.0</td>\n",
              "      <td>11</td>\n",
              "      <td>2</td>\n",
              "    </tr>\n",
              "    <tr>\n",
              "      <th>1</th>\n",
              "      <td>Akron</td>\n",
              "      <td>MAC</td>\n",
              "      <td>Terry Bowden</td>\n",
              "      <td>411000.0</td>\n",
              "      <td>225000.0</td>\n",
              "      <td>152</td>\n",
              "      <td>82</td>\n",
              "      <td>69</td>\n",
              "      <td>1</td>\n",
              "      <td>524</td>\n",
              "      <td>563</td>\n",
              "      <td>36</td>\n",
              "      <td>0.483</td>\n",
              "      <td>119</td>\n",
              "      <td>1123</td>\n",
              "      <td>0.0</td>\n",
              "      <td>1</td>\n",
              "      <td>2</td>\n",
              "      <td>0</td>\n",
              "      <td>3</td>\n",
              "      <td>.333</td>\n",
              "      <td>2017</td>\n",
              "      <td>2015</td>\n",
              "      <td>Akron</td>\n",
              "      <td>OH</td>\n",
              "      <td>30,000</td>\n",
              "      <td>2</td>\n",
              "      <td>0</td>\n",
              "      <td>61.0</td>\n",
              "      <td>72.0</td>\n",
              "      <td>0</td>\n",
              "      <td>12</td>\n",
              "    </tr>\n",
              "    <tr>\n",
              "      <th>2</th>\n",
              "      <td>Alabama</td>\n",
              "      <td>SEC</td>\n",
              "      <td>Nick Saban</td>\n",
              "      <td>8307000.0</td>\n",
              "      <td>1100000.0</td>\n",
              "      <td>314</td>\n",
              "      <td>248</td>\n",
              "      <td>65</td>\n",
              "      <td>1</td>\n",
              "      <td>929</td>\n",
              "      <td>331</td>\n",
              "      <td>43</td>\n",
              "      <td>0.729</td>\n",
              "      <td>125</td>\n",
              "      <td>1303</td>\n",
              "      <td>13.0</td>\n",
              "      <td>44</td>\n",
              "      <td>26</td>\n",
              "      <td>3</td>\n",
              "      <td>73</td>\n",
              "      <td>.632</td>\n",
              "      <td>2020</td>\n",
              "      <td>2020</td>\n",
              "      <td>Tuscaloosa</td>\n",
              "      <td>AL</td>\n",
              "      <td>101,821</td>\n",
              "      <td>2</td>\n",
              "      <td>0</td>\n",
              "      <td>63.0</td>\n",
              "      <td>84.0</td>\n",
              "      <td>11</td>\n",
              "      <td>2</td>\n",
              "    </tr>\n",
              "    <tr>\n",
              "      <th>3</th>\n",
              "      <td>Alabama at Birmingham</td>\n",
              "      <td>C-USA</td>\n",
              "      <td>Bill Clark</td>\n",
              "      <td>900000.0</td>\n",
              "      <td>950000.0</td>\n",
              "      <td>53</td>\n",
              "      <td>34</td>\n",
              "      <td>19</td>\n",
              "      <td>0</td>\n",
              "      <td>152</td>\n",
              "      <td>169</td>\n",
              "      <td>2</td>\n",
              "      <td>0.474</td>\n",
              "      <td>27</td>\n",
              "      <td>323</td>\n",
              "      <td>0.0</td>\n",
              "      <td>44</td>\n",
              "      <td>26</td>\n",
              "      <td>3</td>\n",
              "      <td>73</td>\n",
              "      <td>.632</td>\n",
              "      <td>2020</td>\n",
              "      <td>2020</td>\n",
              "      <td>Birmingham</td>\n",
              "      <td>AL</td>\n",
              "      <td>71,594</td>\n",
              "      <td>2</td>\n",
              "      <td>0</td>\n",
              "      <td>58.0</td>\n",
              "      <td>71.0</td>\n",
              "      <td>9</td>\n",
              "      <td>5</td>\n",
              "    </tr>\n",
              "    <tr>\n",
              "      <th>4</th>\n",
              "      <td>Appalachian State</td>\n",
              "      <td>Sun Belt</td>\n",
              "      <td>Scott Satterfield</td>\n",
              "      <td>712500.0</td>\n",
              "      <td>295000.0</td>\n",
              "      <td>76</td>\n",
              "      <td>55</td>\n",
              "      <td>21</td>\n",
              "      <td>0</td>\n",
              "      <td>639</td>\n",
              "      <td>339</td>\n",
              "      <td>29</td>\n",
              "      <td>0.649</td>\n",
              "      <td>90</td>\n",
              "      <td>1007</td>\n",
              "      <td>0.0</td>\n",
              "      <td>6</td>\n",
              "      <td>0</td>\n",
              "      <td>0</td>\n",
              "      <td>6</td>\n",
              "      <td>1.000</td>\n",
              "      <td>2020</td>\n",
              "      <td>2020</td>\n",
              "      <td>Boone</td>\n",
              "      <td>NC</td>\n",
              "      <td>30,000</td>\n",
              "      <td>2</td>\n",
              "      <td>0</td>\n",
              "      <td>67.0</td>\n",
              "      <td>71.0</td>\n",
              "      <td>13</td>\n",
              "      <td>1</td>\n",
              "    </tr>\n",
              "  </tbody>\n",
              "</table>\n",
              "</div>"
            ],
            "text/plain": [
              "                  School Conference  ... Year Wins  Year Losses\n",
              "0              Air Force   Mt. West  ...        11            2\n",
              "1                  Akron        MAC  ...         0           12\n",
              "2                Alabama        SEC  ...        11            2\n",
              "3  Alabama at Birmingham      C-USA  ...         9            5\n",
              "4      Appalachian State   Sun Belt  ...        13            1\n",
              "\n",
              "[5 rows x 32 columns]"
            ]
          },
          "metadata": {
            "tags": []
          },
          "execution_count": 47
        }
      ]
    },
    {
      "cell_type": "code",
      "metadata": {
        "colab": {
          "base_uri": "https://localhost:8080/",
          "height": 578
        },
        "id": "fXZM8EPS90sk",
        "outputId": "6ef12063-b35f-453e-fea5-1d48977afe4f"
      },
      "source": [
        "# A last quick look at the data types before we finalize the data set and (finally) begin exploring\r\n",
        "\r\n",
        "coachesFinal5['Capacity'] = coachesFinal5['Capacity'].str.replace(\",\",\"\").astype(\"int\")\r\n",
        "intlist = ['SchoolPay', 'Bonus', 'Bowl Wins', 'Bowl Losses', 'Bowl Ties', 'Bowls Played', 'Year Wins', 'Year Losses']\r\n",
        "coachesFinal5[intlist]= coachesFinal5[intlist].astype(\"int\")\r\n",
        "coachesFinal5['Bowl Win Pct'] = coachesFinal5['Bowl Win Pct'].str.replace(\"–\", \"0.0\").astype('float')\r\n",
        "\r\n",
        "master = coachesFinal5\r\n",
        "display(master.dtypes)"
      ],
      "execution_count": null,
      "outputs": [
        {
          "output_type": "display_data",
          "data": {
            "text/plain": [
              "School               object\n",
              "Conference           object\n",
              "Coach                object\n",
              "SchoolPay             int64\n",
              "Bonus                 int64\n",
              "coachGames            int64\n",
              "coachWins             int64\n",
              "coachLosses           int64\n",
              "coachTies             int64\n",
              "Team Wins             int64\n",
              "Team Losses           int64\n",
              "Team Ties             int64\n",
              "Team Win Pct        float64\n",
              "Years                 int64\n",
              "Team Total Games      int64\n",
              "Championships       float64\n",
              "Bowl Wins             int64\n",
              "Bowl Losses           int64\n",
              "Bowl Ties             int64\n",
              "Bowls Played          int64\n",
              "Bowl Win Pct        float64\n",
              "Last Bowl Year       object\n",
              "Last Bowl Win        object\n",
              "City                 object\n",
              "State                object\n",
              "Capacity              int64\n",
              "SCL_HBCU              int64\n",
              "SCL_PRIVATE           int64\n",
              "FED_RATE            float64\n",
              "GSR                 float64\n",
              "Year Wins             int64\n",
              "Year Losses           int64\n",
              "dtype: object"
            ]
          },
          "metadata": {
            "tags": []
          }
        }
      ]
    },
    {
      "cell_type": "markdown",
      "metadata": {
        "id": "8EivymGhn1YE"
      },
      "source": [
        "## Section 2 - Explore that Data!"
      ]
    },
    {
      "cell_type": "markdown",
      "metadata": {
        "id": "WbzX91Isn7Es"
      },
      "source": [
        "Finally, we have at least most of the data we want and can start to dig in, see what it looks like, make flashy charts, and hopefully find connections and patterns that will help us develop a strategy for our models."
      ]
    },
    {
      "cell_type": "code",
      "metadata": {
        "colab": {
          "base_uri": "https://localhost:8080/"
        },
        "id": "oBvnYP21oOES",
        "outputId": "db9c41df-c4a7-4380-e8fb-4d71a0befccc"
      },
      "source": [
        "# Create a new column shortening coaches salaries to Millions of Dollars\r\n",
        "master['SalaryInMil'] = round(master['SchoolPay']/1000000,2)\r\n",
        "\r\n",
        "print(\"Average Coaches Salary:\", round(np.mean(master['SalaryInMil']),2), \"Million\")\r\n",
        "print(\"Median Coaches Salary:\", round(np.median(master['SalaryInMil']),2), \"Million\")"
      ],
      "execution_count": null,
      "outputs": [
        {
          "output_type": "stream",
          "text": [
            "Average Coaches Salary: 2.41 Million\n",
            "Median Coaches Salary: 1.83 Million\n"
          ],
          "name": "stdout"
        }
      ]
    },
    {
      "cell_type": "markdown",
      "metadata": {
        "id": "AykhzXwfsBHr"
      },
      "source": [
        "We see that the median salary for coaches is about a half million less than the mean.  This suggests that we are somewhat skewed, with more coaches making less than the average and likely a few coaches making significantly more."
      ]
    },
    {
      "cell_type": "code",
      "metadata": {
        "colab": {
          "base_uri": "https://localhost:8080/",
          "height": 279
        },
        "id": "q1Hqt041s3Gy",
        "outputId": "a1124d3a-adbc-4f50-e47f-9092c76e485c"
      },
      "source": [
        "g1 = sns.histplot(data=master, x=\"SalaryInMil\", bins = 16, color = '#F56600' )\r\n",
        "g1 = plt.xlabel('Millions of Dollars')\r\n",
        "plt.show(g1)"
      ],
      "execution_count": null,
      "outputs": [
        {
          "output_type": "display_data",
          "data": {
            "image/png": "[encoded data removed]",
            "text/plain": [
              "<Figure size 432x288 with 1 Axes>"
            ]
          },
          "metadata": {
            "tags": [],
            "needs_background": "light"
          }
        }
      ]
    },
    {
      "cell_type": "markdown",
      "metadata": {
        "id": "MfNWU5ARukS5"
      },
      "source": [
        "Sure enough, a large number of coaches in Division 1 are making less than 1 Million per year, while the coaches salaries continue to string out upwards to over 8 Million..  "
      ]
    },
    {
      "cell_type": "markdown",
      "metadata": {
        "id": "v27IrINSu9x9"
      },
      "source": [
        "Let's take a look at the coaches themselves.  Do their specific records have any bearing on how much they are paid?"
      ]
    },
    {
      "cell_type": "code",
      "metadata": {
        "id": "du9U3x0pA3aG"
      },
      "source": [
        "master['LogSal'] = np.log(master['SchoolPay'])"
      ],
      "execution_count": null,
      "outputs": []
    },
    {
      "cell_type": "code",
      "metadata": {
        "colab": {
          "base_uri": "https://localhost:8080/",
          "height": 279
        },
        "id": "6CINdQo5A_v9",
        "outputId": "3be6dcf4-e5b4-40f1-cf8d-7027f45ee1ee"
      },
      "source": [
        "g8 = sns.histplot(data=master, x=\"LogSal\", bins = 16, color = '#F56600' )\r\n",
        "g8 = plt.xlabel('Millions of Dollars')\r\n",
        "plt.show(g8)"
      ],
      "execution_count": null,
      "outputs": [
        {
          "output_type": "display_data",
          "data": {
            "image/png": "[encoded data removed]",
            "text/plain": [
              "<Figure size 432x288 with 1 Axes>"
            ]
          },
          "metadata": {
            "tags": [],
            "needs_background": "light"
          }
        }
      ]
    },
    {
      "cell_type": "code",
      "metadata": {
        "colab": {
          "base_uri": "https://localhost:8080/",
          "height": 279
        },
        "id": "oBX76u0GvFV3",
        "outputId": "aab75071-4ada-40ec-861e-d8973da1e300"
      },
      "source": [
        "master['CoachPct'] = round(master['coachWins'] / master['coachGames'],3)\r\n",
        "g2 = sns.scatterplot(data = master, x='coachGames', y='CoachPct', size='SalaryInMil', color= '#522D80', sizes = (20, 200))\r\n",
        "g2 = plt.xlabel('# of Games Coached')\r\n",
        "g2= plt.ylabel('Winning Percent')\r\n",
        "g2=plt.legend(title = \"$ Millions\", bbox_to_anchor=(1.01, 1),borderaxespad=0)\r\n",
        "plt.show(g2)"
      ],
      "execution_count": null,
      "outputs": [
        {
          "output_type": "display_data",
          "data": {
            "image/png": "[encoded data removed]",
            "text/plain": [
              "<Figure size 432x288 with 1 Axes>"
            ]
          },
          "metadata": {
            "tags": [],
            "needs_background": "light"
          }
        }
      ]
    },
    {
      "cell_type": "markdown",
      "metadata": {
        "id": "Bo3d1dDS3u7O"
      },
      "source": [
        "There certainly seems to be some amount of correlation between winning percentage and salary.  There might also be a slight bump for experience, but it seems less pronounced."
      ]
    },
    {
      "cell_type": "code",
      "metadata": {
        "colab": {
          "base_uri": "https://localhost:8080/",
          "height": 856
        },
        "id": "fBJ_HlXO4CHv",
        "outputId": "5d1a5298-b70b-49a3-fcf1-d87837f1457a"
      },
      "source": [
        "confOrder = master['Conference'].unique()\r\n",
        "confOrder = sorted(confOrder)\r\n",
        "\r\n",
        "g3 = sns.boxplot(data=master, y='SalaryInMil', x='Conference', order = confOrder)\r\n",
        "g3 = plt.setp(g3.get_xticklabels(), rotation = 30)\r\n",
        "plt.show(g3)\r\n",
        "\r\n",
        "power5 = ['ACC', 'Big 12', 'Big Ten', 'Pac-12', 'SEC']\r\n",
        "g4 = sns.boxplot(data=master, y='SalaryInMil', x='Conference', order = power5)\r\n",
        "g4 = plt.title('Power 5 Conferences')\r\n",
        "plt.show(g4)\r\n",
        "\r\n",
        "group5 = ['AAC', 'C-USA', 'Ind.', 'MAC', 'Mt. West', 'Sun Belt']\r\n",
        "g5 = sns.boxplot(data=master, y='SalaryInMil', x='Conference', order = group5)\r\n",
        "g5 = plt.title('Group of 5 (and Independent) Conferences')\r\n",
        "plt.show(g5)"
      ],
      "execution_count": null,
      "outputs": [
        {
          "output_type": "display_data",
          "data": {
            "image/png": "[encoded data removed]",
            "text/plain": [
              "<Figure size 432x288 with 1 Axes>"
            ]
          },
          "metadata": {
            "tags": [],
            "needs_background": "light"
          }
        },
        {
          "output_type": "display_data",
          "data": {
            "image/png": "[encoded data removed]",
            "text/plain": [
              "<Figure size 432x288 with 1 Axes>"
            ]
          },
          "metadata": {
            "tags": [],
            "needs_background": "light"
          }
        },
        {
          "output_type": "display_data",
          "data": {
            "image/png": "[encoded data removed]",
            "text/plain": [
              "<Figure size 432x288 with 1 Axes>"
            ]
          },
          "metadata": {
            "tags": [],
            "needs_background": "light"
          }
        }
      ]
    },
    {
      "cell_type": "markdown",
      "metadata": {
        "id": "DUBNRSwvrKxm"
      },
      "source": [
        "Several things stand out when looking at the plots by conference.  1 - There are some haves and some have-nots.  Not surprisingly, the 5 conferences called the \"Power 5\" conferences hae much higher median salaries - coming in around the \\$3-4 million mark for each.  Meanwhile the \"Group of 5\" conferences - oft derided as a lesser tier of competition - have median salaries around $1 million.  Though officially, any school has a chance at the playoffs, it's clear, based on recent Playoff Committee selections, that if you want to play (in the playoffs) you'd better pay (your coaches.  Not the players, that'd be silly)."
      ]
    },
    {
      "cell_type": "code",
      "metadata": {
        "colab": {
          "base_uri": "https://localhost:8080/",
          "height": 1000
        },
        "id": "i9phHnPEtgeO",
        "outputId": "0839c74f-b26d-4e08-c72b-b386c3bffdaf"
      },
      "source": [
        "corlist = ['SalaryInMil', 'Team Wins', 'Team Win Pct', 'Years', 'Championships', 'Bowl Wins', 'Capacity', 'SCL_PRIVATE']\r\n",
        "g6 = sns.pairplot(data = master[corlist], corner=True, hue = 'SCL_PRIVATE', palette= ['#F56600', '#522D80'])\r\n",
        "plt.show(g6)"
      ],
      "execution_count": null,
      "outputs": [
        {
          "output_type": "display_data",
          "data": {
            "image/png": "[encoded data removed]",
            "text/plain": [
              "<Figure size 1332x1260 with 35 Axes>"
            ]
          },
          "metadata": {
            "tags": [],
            "needs_background": "light"
          }
        }
      ]
    },
    {
      "cell_type": "markdown",
      "metadata": {
        "id": "rR2c5S571gWz"
      },
      "source": [
        "So we don't necessarily see any correlation with private vs. public schools, but there are some pretty clear correlations here.  School's stadium capacity, for one - seems to correlate strongly with salary. In addition, a team's history of winning - both season, championships and in bowls at large.  There may also be some correlation with a team's age, but that is less clear."
      ]
    },
    {
      "cell_type": "code",
      "metadata": {
        "colab": {
          "base_uri": "https://localhost:8080/",
          "height": 865
        },
        "id": "MZgGaTMC2G2m",
        "outputId": "943d450a-260d-4ced-97ab-9de99f3a3ce6"
      },
      "source": [
        "g7 = sns.jointplot(data= master, x = 'FED_RATE', y = 'SalaryInMil', color = '#F56600', kind=\"reg\", )\r\n",
        "plt.show(g7)\r\n",
        "\r\n",
        "g8 = sns.jointplot(data= master, x = \"GSR\", y = \"SalaryInMil\", kind = \"reg\", color = '#522D80')\r\n",
        "plt.show(g8)"
      ],
      "execution_count": null,
      "outputs": [
        {
          "output_type": "display_data",
          "data": {
            "image/png": "[encoded data removed]",
            "text/plain": [
              "<Figure size 432x432 with 3 Axes>"
            ]
          },
          "metadata": {
            "tags": [],
            "needs_background": "light"
          }
        },
        {
          "output_type": "display_data",
          "data": {
            "image/png": "[encoded data removed]",
            "text/plain": [
              "<Figure size 432x432 with 3 Axes>"
            ]
          },
          "metadata": {
            "tags": [],
            "needs_background": "light"
          }
        }
      ]
    },
    {
      "cell_type": "markdown",
      "metadata": {
        "id": "mTU8xhfJ5w-6"
      },
      "source": [
        "## Model Creation"
      ]
    },
    {
      "cell_type": "markdown",
      "metadata": {
        "id": "YB9Uc-zN5zjR"
      },
      "source": [
        "### Training and Testing Data"
      ]
    },
    {
      "cell_type": "code",
      "metadata": {
        "id": "CIU3rrg28rvv"
      },
      "source": [
        "master['BowlWins'] = master['Bowl Wins']\r\n",
        "master['TeamWins'] = master['Team Wins']"
      ],
      "execution_count": null,
      "outputs": []
    },
    {
      "cell_type": "code",
      "metadata": {
        "colab": {
          "base_uri": "https://localhost:8080/",
          "height": 51
        },
        "id": "lSDCUbecsJj9",
        "outputId": "b075430b-f99f-4d2d-a81f-a4c362c7da79"
      },
      "source": [
        "# Need to create 2 sets of data - 1 to train and one for later testing.  \r\n",
        "\r\n",
        "# With 125 variables, going to split 80/20 - with 100 training, and 20 reserved for testing.\r\n",
        "\r\n",
        "#Using the Train/Test split feature from SKLearn to create 2 test dataframes\r\n",
        "modelTrain, modelTest = train_test_split(master, test_size = 0.2, random_state = 17)\r\n",
        "\r\n",
        "# Display heads and shape of each\r\n",
        "display(modelTrain.shape)\r\n",
        "display(modelTest.shape)"
      ],
      "execution_count": null,
      "outputs": [
        {
          "output_type": "display_data",
          "data": {
            "text/plain": [
              "(100, 37)"
            ]
          },
          "metadata": {
            "tags": []
          }
        },
        {
          "output_type": "display_data",
          "data": {
            "text/plain": [
              "(25, 37)"
            ]
          },
          "metadata": {
            "tags": []
          }
        }
      ]
    },
    {
      "cell_type": "markdown",
      "metadata": {
        "id": "5zP2QMLs6iju"
      },
      "source": [
        "My first model will use features I believe have the most impact on salary.  That is: Conference, Capacity, Bowl Wins, Championships, Coach Winning Percent, and Team Wins."
      ]
    },
    {
      "cell_type": "code",
      "metadata": {
        "colab": {
          "base_uri": "https://localhost:8080/"
        },
        "id": "FuyRDNhe70rC",
        "outputId": "40200d21-8736-497f-cedc-13928594e94d"
      },
      "source": [
        "lm1_str = 'SalaryInMil ~ Conference + Capacity + BowlWins + Championships + CoachPct + TeamWins'\r\n",
        "lm1 = smf.ols(lm1_str, data=modelTrain).fit()\r\n",
        "print(lm1.summary())"
      ],
      "execution_count": null,
      "outputs": [
        {
          "output_type": "stream",
          "text": [
            "                            OLS Regression Results                            \n",
            "==============================================================================\n",
            "Dep. Variable:            SalaryInMil   R-squared:                       0.858\n",
            "Model:                            OLS   Adj. R-squared:                  0.833\n",
            "Method:                 Least Squares   F-statistic:                     33.88\n",
            "Date:                Thu, 28 Jan 2021   Prob (F-statistic):           2.99e-29\n",
            "Time:                        22:29:30   Log-Likelihood:                -106.03\n",
            "No. Observations:                 100   AIC:                             244.1\n",
            "Df Residuals:                      84   BIC:                             285.7\n",
            "Df Model:                          15                                         \n",
            "Covariance Type:            nonrobust                                         \n",
            "==========================================================================================\n",
            "                             coef    std err          t      P>|t|      [0.025      0.975]\n",
            "------------------------------------------------------------------------------------------\n",
            "Intercept                 -0.4751      0.480     -0.990      0.325      -1.429       0.479\n",
            "Conference[T.ACC]          1.3824      0.393      3.519      0.001       0.601       2.164\n",
            "Conference[T.Big 12]       1.6743      0.385      4.351      0.000       0.909       2.439\n",
            "Conference[T.Big Ten]      1.8093      0.387      4.678      0.000       1.040       2.578\n",
            "Conference[T.C-USA]       -0.5091      0.364     -1.397      0.166      -1.234       0.215\n",
            "Conference[T.Ind.]        -0.4785      0.488     -0.981      0.330      -1.449       0.492\n",
            "Conference[T.MAC]         -0.5750      0.391     -1.471      0.145      -1.352       0.202\n",
            "Conference[T.Mt. West]    -0.3366      0.356     -0.946      0.347      -1.044       0.371\n",
            "Conference[T.Pac-12]       1.0273      0.366      2.806      0.006       0.299       1.755\n",
            "Conference[T.SEC]          2.2944      0.422      5.432      0.000       1.454       3.134\n",
            "Conference[T.Sun Belt]    -0.4874      0.365     -1.336      0.185      -1.213       0.238\n",
            "Capacity                1.462e-05    6.8e-06      2.150      0.034     1.1e-06    2.81e-05\n",
            "BowlWins                   0.0105      0.014      0.744      0.459      -0.018       0.039\n",
            "Championships              0.1364      0.057      2.399      0.019       0.023       0.249\n",
            "CoachPct                   2.0658      0.611      3.383      0.001       0.852       3.280\n",
            "TeamWins                   0.0004      0.001      0.729      0.468      -0.001       0.002\n",
            "==============================================================================\n",
            "Omnibus:                        8.839   Durbin-Watson:                   1.782\n",
            "Prob(Omnibus):                  0.012   Jarque-Bera (JB):                9.195\n",
            "Skew:                           0.562   Prob(JB):                       0.0101\n",
            "Kurtosis:                       3.972   Cond. No.                     6.77e+05\n",
            "==============================================================================\n",
            "\n",
            "Warnings:\n",
            "[1] Standard Errors assume that the covariance matrix of the errors is correctly specified.\n",
            "[2] The condition number is large, 6.77e+05. This might indicate that there are\n",
            "strong multicollinearity or other numerical problems.\n"
          ],
          "name": "stdout"
        }
      ]
    },
    {
      "cell_type": "code",
      "metadata": {
        "colab": {
          "base_uri": "https://localhost:8080/"
        },
        "id": "tfi4W87a-hc2",
        "outputId": "3d92621a-5935-4596-f989-b380d62c8223"
      },
      "source": [
        "group = []\r\n",
        "for i in modelTrain['Conference']:\r\n",
        "  if i in group5:\r\n",
        "    group.append('Group of 5')\r\n",
        "  else:\r\n",
        "    group.append('Power 5')\r\n",
        "modelTrain['Group'] = group\r\n",
        "\r\n"
      ],
      "execution_count": null,
      "outputs": [
        {
          "output_type": "stream",
          "text": [
            "/usr/local/lib/python3.6/dist-packages/ipykernel_launcher.py:7: SettingWithCopyWarning: \n",
            "A value is trying to be set on a copy of a slice from a DataFrame.\n",
            "Try using .loc[row_indexer,col_indexer] = value instead\n",
            "\n",
            "See the caveats in the documentation: https://pandas.pydata.org/pandas-docs/stable/user_guide/indexing.html#returning-a-view-versus-a-copy\n",
            "  import sys\n"
          ],
          "name": "stderr"
        }
      ]
    },
    {
      "cell_type": "code",
      "metadata": {
        "colab": {
          "base_uri": "https://localhost:8080/"
        },
        "id": "6V9cm2KH_dns",
        "outputId": "675a9df6-2d38-48b6-ca80-8e04339bd8aa"
      },
      "source": [
        "# For second model, I simplified the conference breakdown into Power 5/Group of 5 to see if that makes a difference\r\n",
        "lm2_str = 'LogSal ~ Group + Capacity + Championships + CoachPct'\r\n",
        "lm2 = smf.ols(lm2_str, data=modelTrain).fit()\r\n",
        "print(lm2.summary())"
      ],
      "execution_count": null,
      "outputs": [
        {
          "output_type": "stream",
          "text": [
            "                            OLS Regression Results                            \n",
            "==============================================================================\n",
            "Dep. Variable:                 LogSal   R-squared:                       0.846\n",
            "Model:                            OLS   Adj. R-squared:                  0.840\n",
            "Method:                 Least Squares   F-statistic:                     130.5\n",
            "Date:                Thu, 28 Jan 2021   Prob (F-statistic):           1.03e-37\n",
            "Time:                        22:27:07   Log-Likelihood:                -33.108\n",
            "No. Observations:                 100   AIC:                             76.22\n",
            "Df Residuals:                      95   BIC:                             89.24\n",
            "Df Model:                           4                                         \n",
            "Covariance Type:            nonrobust                                         \n",
            "====================================================================================\n",
            "                       coef    std err          t      P>|t|      [0.025      0.975]\n",
            "------------------------------------------------------------------------------------\n",
            "Intercept           12.7672      0.140     91.406      0.000      12.490      13.044\n",
            "Group[T.Power 5]     1.0854      0.094     11.572      0.000       0.899       1.272\n",
            "Capacity          9.115e-06   2.37e-06      3.845      0.000    4.41e-06    1.38e-05\n",
            "Championships        0.0182      0.022      0.818      0.415      -0.026       0.062\n",
            "CoachPct             1.1118      0.251      4.437      0.000       0.614       1.609\n",
            "==============================================================================\n",
            "Omnibus:                        0.102   Durbin-Watson:                   1.999\n",
            "Prob(Omnibus):                  0.950   Jarque-Bera (JB):                0.035\n",
            "Skew:                           0.043   Prob(JB):                        0.983\n",
            "Kurtosis:                       2.972   Cond. No.                     4.35e+05\n",
            "==============================================================================\n",
            "\n",
            "Warnings:\n",
            "[1] Standard Errors assume that the covariance matrix of the errors is correctly specified.\n",
            "[2] The condition number is large, 4.35e+05. This might indicate that there are\n",
            "strong multicollinearity or other numerical problems.\n"
          ],
          "name": "stdout"
        }
      ]
    },
    {
      "cell_type": "code",
      "metadata": {
        "colab": {
          "base_uri": "https://localhost:8080/"
        },
        "id": "_0lwb8yQ6hay",
        "outputId": "cd469661-9975-4aae-a54b-d393826dedaf"
      },
      "source": [
        "master.dtypes"
      ],
      "execution_count": null,
      "outputs": [
        {
          "output_type": "execute_result",
          "data": {
            "text/plain": [
              "School               object\n",
              "Conference           object\n",
              "Coach                object\n",
              "SchoolPay             int64\n",
              "Bonus                 int64\n",
              "coachGames            int64\n",
              "coachWins             int64\n",
              "coachLosses           int64\n",
              "coachTies             int64\n",
              "Team Wins             int64\n",
              "Team Losses           int64\n",
              "Team Ties             int64\n",
              "Team Win Pct        float64\n",
              "Years                 int64\n",
              "Team Total Games      int64\n",
              "Championships       float64\n",
              "Bowl Wins             int64\n",
              "Bowl Losses           int64\n",
              "Bowl Ties             int64\n",
              "Bowls Played          int64\n",
              "Bowl Win Pct        float64\n",
              "Last Bowl Year      float64\n",
              "Last Bowl Win       float64\n",
              "City                 object\n",
              "State                object\n",
              "Capacity              int64\n",
              "SCL_HBCU              int64\n",
              "SCL_PRIVATE           int64\n",
              "FED_RATE            float64\n",
              "GSR                 float64\n",
              "Year Wins             int64\n",
              "Year Losses           int64\n",
              "SalaryInMil         float64\n",
              "CoachPct            float64\n",
              "dtype: object"
            ]
          },
          "metadata": {
            "tags": []
          },
          "execution_count": 111
        }
      ]
    }
  ]
}