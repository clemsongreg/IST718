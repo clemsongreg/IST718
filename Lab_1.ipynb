{
  "nbformat": 4,
  "nbformat_minor": 0,
  "metadata": {
    "colab": {
      "name": "Lab 1.ipynb",
      "provenance": [],
      "authorship_tag": "ABX9TyMdHwq97P9EC7s//7BgiGfy",
      "include_colab_link": true
    },
    "kernelspec": {
      "name": "python3",
      "display_name": "Python 3"
    }
  },
  "cells": [
    {
      "cell_type": "markdown",
      "metadata": {
        "id": "view-in-github",
        "colab_type": "text"
      },
      "source": [
        "<a href=\"https://colab.research.google.com/github/clemsongreg/IST718/blob/Lab1/Lab_1.ipynb\" target=\"_parent\"><img src=\"https://colab.research.google.com/assets/colab-badge.svg\" alt=\"Open In Colab\"/></a>"
      ]
    },
    {
      "cell_type": "markdown",
      "metadata": {
        "id": "rAj6e8xivmfZ"
      },
      "source": [
        "# Week 3 - Lab #1 - A Head Coach is Paid How Much?!\r\n",
        "### Gregory Richardson\r\n",
        "### 1-22-2021\r\n",
        "\r\n",
        "\r\n"
      ]
    },
    {
      "cell_type": "code",
      "metadata": {
        "id": "6aLF9-Is55zT",
        "colab": {
          "base_uri": "https://localhost:8080/"
        },
        "outputId": "b59c9aee-d4e7-4e00-f797-3d504aceb49a"
      },
      "source": [
        "# Collection of libraries to be imported for use in\r\n",
        "\r\n",
        "import pandas as pd\r\n",
        "import numpy as np\r\n",
        "import io\r\n",
        "\r\n",
        "from urllib import request\r\n",
        "from bs4 import BeautifulSoup\r\n",
        "!pip install fuzzywuzzy[speedup]\r\n",
        "from fuzzywuzzy import process\r\n",
        "\r\n",
        "import matplotlib.pyplot as plt\r\n",
        "import seaborn as sns \r\n",
        "\r\n",
        "from sklearn.model_selection import train_test_split\r\n",
        "import statsmodels.api as sm  \r\n",
        "import statsmodels.formula.api as smf  \r\n",
        "from statsmodels.sandbox.regression.predstd import wls_prediction_std"
      ],
      "execution_count": 1,
      "outputs": [
        {
          "output_type": "stream",
          "text": [
            "Collecting fuzzywuzzy[speedup]\n",
            "  Downloading https://files.pythonhosted.org/packages/43/ff/74f23998ad2f93b945c0309f825be92e04e0348e062026998b5eefef4c33/fuzzywuzzy-0.18.0-py2.py3-none-any.whl\n",
            "Collecting python-levenshtein>=0.12; extra == \"speedup\"\n",
            "\u001b[?25l  Downloading https://files.pythonhosted.org/packages/6b/ca/1a9d7115f233d929d4f25a4021795cd97cc89eeb82723ea98dd44390a530/python-Levenshtein-0.12.1.tar.gz (50kB)\n",
            "\r\u001b[K     |██████▌                         | 10kB 17.4MB/s eta 0:00:01\r\u001b[K     |█████████████                   | 20kB 7.3MB/s eta 0:00:01\r\u001b[K     |███████████████████▍            | 30kB 6.4MB/s eta 0:00:01\r\u001b[K     |██████████████████████████      | 40kB 6.1MB/s eta 0:00:01\r\u001b[K     |████████████████████████████████| 51kB 2.6MB/s \n",
            "\u001b[?25hRequirement already satisfied: setuptools in /usr/local/lib/python3.6/dist-packages (from python-levenshtein>=0.12; extra == \"speedup\"->fuzzywuzzy[speedup]) (51.3.3)\n",
            "Building wheels for collected packages: python-levenshtein\n",
            "  Building wheel for python-levenshtein (setup.py) ... \u001b[?25l\u001b[?25hdone\n",
            "  Created wheel for python-levenshtein: filename=python_Levenshtein-0.12.1-cp36-cp36m-linux_x86_64.whl size=149169 sha256=74b41fe5fb1517b82f784fb1f1435a2c371cf4fd5f798bfcf8b679e9cd048193\n",
            "  Stored in directory: /root/.cache/pip/wheels/ae/69/ea/4798f98317cbab35d78fea64d36bd7b2b18faca88568ef15b0\n",
            "Successfully built python-levenshtein\n",
            "Installing collected packages: python-levenshtein, fuzzywuzzy\n",
            "Successfully installed fuzzywuzzy-0.18.0 python-levenshtein-0.12.1\n"
          ],
          "name": "stdout"
        },
        {
          "output_type": "stream",
          "text": [
            "/usr/local/lib/python3.6/dist-packages/statsmodels/tools/_testing.py:19: FutureWarning: pandas.util.testing is deprecated. Use the functions in the public API at pandas.testing instead.\n",
            "  import pandas.util.testing as tm\n"
          ],
          "name": "stderr"
        }
      ]
    },
    {
      "cell_type": "markdown",
      "metadata": {
        "id": "q1aJ3N4bwQbc"
      },
      "source": [
        "## Section 1 - Gathering Data"
      ]
    },
    {
      "cell_type": "markdown",
      "metadata": {
        "id": "kWBT3JADpVZm"
      },
      "source": [
        "### Initial Data"
      ]
    },
    {
      "cell_type": "markdown",
      "metadata": {
        "id": "ZUiFh8XIwcQs"
      },
      "source": [
        "The first step to determining how much a head coach is paid is to import the initial dataset.  This dataset includes a list of the 130 FBS football schools, their conference, their head coaches as of ~ 2018, and information regarding their compensation. "
      ]
    },
    {
      "cell_type": "code",
      "metadata": {
        "id": "_Tc-eZfI52G0"
      },
      "source": [
        "coachesURL = 'https://raw.githubusercontent.com/clemsongreg/IST718/main/Lab1/Coaches9.csv'\n",
        "\n",
        "# Create intial dataframe called coachesRaw\n",
        "coachesRaw = pd.read_csv(coachesURL, na_values=\"--\") "
      ],
      "execution_count": 2,
      "outputs": []
    },
    {
      "cell_type": "code",
      "metadata": {
        "colab": {
          "base_uri": "https://localhost:8080/",
          "height": 365
        },
        "id": "rryVt_HK71xd",
        "outputId": "d7b4f7e2-efc4-4e26-bd9f-06127869b94f"
      },
      "source": [
        "# Take a quick look at the initial data \r\n",
        "display(coachesRaw.describe())\r\n",
        "\r\n",
        "display(coachesRaw.head(5))\r\n",
        "\r\n",
        "display(coachesRaw.shape)"
      ],
      "execution_count": 3,
      "outputs": [
        {
          "output_type": "display_data",
          "data": {
            "text/html": [
              "<div>\n",
              "<style scoped>\n",
              "    .dataframe tbody tr th:only-of-type {\n",
              "        vertical-align: middle;\n",
              "    }\n",
              "\n",
              "    .dataframe tbody tr th {\n",
              "        vertical-align: top;\n",
              "    }\n",
              "\n",
              "    .dataframe thead th {\n",
              "        text-align: right;\n",
              "    }\n",
              "</style>\n",
              "<table border=\"1\" class=\"dataframe\">\n",
              "  <thead>\n",
              "    <tr style=\"text-align: right;\">\n",
              "      <th></th>\n",
              "      <th>School</th>\n",
              "      <th>Conference</th>\n",
              "      <th>Coach</th>\n",
              "      <th>SchoolPay</th>\n",
              "      <th>TotalPay</th>\n",
              "      <th>Bonus</th>\n",
              "      <th>BonusPaid</th>\n",
              "      <th>AssistantPay</th>\n",
              "      <th>Buyout</th>\n",
              "    </tr>\n",
              "  </thead>\n",
              "  <tbody>\n",
              "    <tr>\n",
              "      <th>count</th>\n",
              "      <td>129</td>\n",
              "      <td>129</td>\n",
              "      <td>129</td>\n",
              "      <td>125</td>\n",
              "      <td>125</td>\n",
              "      <td>107</td>\n",
              "      <td>88</td>\n",
              "      <td>129</td>\n",
              "      <td>107</td>\n",
              "    </tr>\n",
              "    <tr>\n",
              "      <th>unique</th>\n",
              "      <td>129</td>\n",
              "      <td>11</td>\n",
              "      <td>129</td>\n",
              "      <td>103</td>\n",
              "      <td>104</td>\n",
              "      <td>84</td>\n",
              "      <td>50</td>\n",
              "      <td>1</td>\n",
              "      <td>101</td>\n",
              "    </tr>\n",
              "    <tr>\n",
              "      <th>top</th>\n",
              "      <td>Wyoming</td>\n",
              "      <td>C-USA</td>\n",
              "      <td>Gus Malzahn</td>\n",
              "      <td>$3,500,000</td>\n",
              "      <td>$3,500,000</td>\n",
              "      <td>$1,000,000</td>\n",
              "      <td>$0</td>\n",
              "      <td>$0</td>\n",
              "      <td>$300,000</td>\n",
              "    </tr>\n",
              "    <tr>\n",
              "      <th>freq</th>\n",
              "      <td>1</td>\n",
              "      <td>14</td>\n",
              "      <td>1</td>\n",
              "      <td>5</td>\n",
              "      <td>5</td>\n",
              "      <td>4</td>\n",
              "      <td>18</td>\n",
              "      <td>129</td>\n",
              "      <td>3</td>\n",
              "    </tr>\n",
              "  </tbody>\n",
              "</table>\n",
              "</div>"
            ],
            "text/plain": [
              "         School Conference        Coach  ... BonusPaid AssistantPay     Buyout\n",
              "count       129        129          129  ...        88          129        107\n",
              "unique      129         11          129  ...        50            1        101\n",
              "top     Wyoming      C-USA  Gus Malzahn  ...       $0           $0   $300,000 \n",
              "freq          1         14            1  ...        18          129          3\n",
              "\n",
              "[4 rows x 9 columns]"
            ]
          },
          "metadata": {
            "tags": []
          }
        },
        {
          "output_type": "display_data",
          "data": {
            "text/html": [
              "<div>\n",
              "<style scoped>\n",
              "    .dataframe tbody tr th:only-of-type {\n",
              "        vertical-align: middle;\n",
              "    }\n",
              "\n",
              "    .dataframe tbody tr th {\n",
              "        vertical-align: top;\n",
              "    }\n",
              "\n",
              "    .dataframe thead th {\n",
              "        text-align: right;\n",
              "    }\n",
              "</style>\n",
              "<table border=\"1\" class=\"dataframe\">\n",
              "  <thead>\n",
              "    <tr style=\"text-align: right;\">\n",
              "      <th></th>\n",
              "      <th>School</th>\n",
              "      <th>Conference</th>\n",
              "      <th>Coach</th>\n",
              "      <th>SchoolPay</th>\n",
              "      <th>TotalPay</th>\n",
              "      <th>Bonus</th>\n",
              "      <th>BonusPaid</th>\n",
              "      <th>AssistantPay</th>\n",
              "      <th>Buyout</th>\n",
              "    </tr>\n",
              "  </thead>\n",
              "  <tbody>\n",
              "    <tr>\n",
              "      <th>0</th>\n",
              "      <td>Air Force</td>\n",
              "      <td>Mt. West</td>\n",
              "      <td>Troy Calhoun</td>\n",
              "      <td>885000</td>\n",
              "      <td>885000</td>\n",
              "      <td>247000</td>\n",
              "      <td>NaN</td>\n",
              "      <td>$0</td>\n",
              "      <td>NaN</td>\n",
              "    </tr>\n",
              "    <tr>\n",
              "      <th>1</th>\n",
              "      <td>Akron</td>\n",
              "      <td>MAC</td>\n",
              "      <td>Terry Bowden</td>\n",
              "      <td>$411,000</td>\n",
              "      <td>$412,500</td>\n",
              "      <td>$225,000</td>\n",
              "      <td>$50,000</td>\n",
              "      <td>$0</td>\n",
              "      <td>$688,500</td>\n",
              "    </tr>\n",
              "    <tr>\n",
              "      <th>2</th>\n",
              "      <td>Alabama</td>\n",
              "      <td>SEC</td>\n",
              "      <td>Nick Saban</td>\n",
              "      <td>$8,307,000</td>\n",
              "      <td>$8,307,000</td>\n",
              "      <td>$1,100,000</td>\n",
              "      <td>$500,000</td>\n",
              "      <td>$0</td>\n",
              "      <td>$33,600,000</td>\n",
              "    </tr>\n",
              "    <tr>\n",
              "      <th>3</th>\n",
              "      <td>Alabama at Birmingham</td>\n",
              "      <td>C-USA</td>\n",
              "      <td>Bill Clark</td>\n",
              "      <td>$900,000</td>\n",
              "      <td>$900,000</td>\n",
              "      <td>$950,000</td>\n",
              "      <td>$165,471</td>\n",
              "      <td>$0</td>\n",
              "      <td>$3,847,500</td>\n",
              "    </tr>\n",
              "    <tr>\n",
              "      <th>4</th>\n",
              "      <td>Appalachian State</td>\n",
              "      <td>Sun Belt</td>\n",
              "      <td>Scott Satterfield</td>\n",
              "      <td>$712,500</td>\n",
              "      <td>$712,500</td>\n",
              "      <td>$295,000</td>\n",
              "      <td>$145,000</td>\n",
              "      <td>$0</td>\n",
              "      <td>$2,160,417</td>\n",
              "    </tr>\n",
              "  </tbody>\n",
              "</table>\n",
              "</div>"
            ],
            "text/plain": [
              "                  School Conference  ... AssistantPay        Buyout\n",
              "0              Air Force   Mt. West  ...          $0            NaN\n",
              "1                  Akron        MAC  ...          $0      $688,500 \n",
              "2                Alabama        SEC  ...          $0   $33,600,000 \n",
              "3  Alabama at Birmingham      C-USA  ...          $0    $3,847,500 \n",
              "4      Appalachian State   Sun Belt  ...          $0    $2,160,417 \n",
              "\n",
              "[5 rows x 9 columns]"
            ]
          },
          "metadata": {
            "tags": []
          }
        },
        {
          "output_type": "display_data",
          "data": {
            "text/plain": [
              "(129, 9)"
            ]
          },
          "metadata": {
            "tags": []
          }
        }
      ]
    },
    {
      "cell_type": "markdown",
      "metadata": {
        "id": "N_DbjSAX_Mhs"
      },
      "source": [
        "A few issues to be addressed/taken care of.  First, there are only 129 rows here.  That means we are 1 team short of the full FBS roster.  Poor Temple, snubbed once again.  Though I suspect this is less of an intential trolling and more to do with a coaching mess Temple had at the time of this data.  Since there is no real coaching data that I can add here, I've decided to continue excluding them from this evaluation.  Sorry Owls.\r\n",
        "\r\n",
        "There is also 2 very similar columns here - School Pay and Total Pay.  These 2 columns are essentially the same, though in some cases Total Pay includes endorsement deals not wrapped up in salary.  Since this is an examination of coaches salaries - that is, the pay from schools directly, I am choosing to only use School Pay as my dependent variable and dropping Total Pay from the dataset."
      ]
    },
    {
      "cell_type": "code",
      "metadata": {
        "colab": {
          "base_uri": "https://localhost:8080/",
          "height": 438
        },
        "id": "Pj_UYn1QAf1g",
        "outputId": "85800d0f-ff1e-4de7-97e1-dea638875700"
      },
      "source": [
        "# Remove Total Pay column and creating a new DF called coachesClean\r\n",
        "coachesClean = coachesRaw.drop(\"TotalPay\", 1)\r\n",
        "\r\n",
        "display(coachesClean.describe())\r\n",
        "\r\n",
        "# Check for any missing variables\r\n",
        "mis_val = coachesClean.isnull().sum()\r\n",
        "mis_val_table = pd.concat([mis_val], axis=1).rename(columns = {0: \"# of Missing Values\"})\r\n",
        "display(mis_val_table)"
      ],
      "execution_count": 4,
      "outputs": [
        {
          "output_type": "display_data",
          "data": {
            "text/html": [
              "<div>\n",
              "<style scoped>\n",
              "    .dataframe tbody tr th:only-of-type {\n",
              "        vertical-align: middle;\n",
              "    }\n",
              "\n",
              "    .dataframe tbody tr th {\n",
              "        vertical-align: top;\n",
              "    }\n",
              "\n",
              "    .dataframe thead th {\n",
              "        text-align: right;\n",
              "    }\n",
              "</style>\n",
              "<table border=\"1\" class=\"dataframe\">\n",
              "  <thead>\n",
              "    <tr style=\"text-align: right;\">\n",
              "      <th></th>\n",
              "      <th>School</th>\n",
              "      <th>Conference</th>\n",
              "      <th>Coach</th>\n",
              "      <th>SchoolPay</th>\n",
              "      <th>Bonus</th>\n",
              "      <th>BonusPaid</th>\n",
              "      <th>AssistantPay</th>\n",
              "      <th>Buyout</th>\n",
              "    </tr>\n",
              "  </thead>\n",
              "  <tbody>\n",
              "    <tr>\n",
              "      <th>count</th>\n",
              "      <td>129</td>\n",
              "      <td>129</td>\n",
              "      <td>129</td>\n",
              "      <td>125</td>\n",
              "      <td>107</td>\n",
              "      <td>88</td>\n",
              "      <td>129</td>\n",
              "      <td>107</td>\n",
              "    </tr>\n",
              "    <tr>\n",
              "      <th>unique</th>\n",
              "      <td>129</td>\n",
              "      <td>11</td>\n",
              "      <td>129</td>\n",
              "      <td>103</td>\n",
              "      <td>84</td>\n",
              "      <td>50</td>\n",
              "      <td>1</td>\n",
              "      <td>101</td>\n",
              "    </tr>\n",
              "    <tr>\n",
              "      <th>top</th>\n",
              "      <td>Wyoming</td>\n",
              "      <td>C-USA</td>\n",
              "      <td>Gus Malzahn</td>\n",
              "      <td>$3,500,000</td>\n",
              "      <td>$1,000,000</td>\n",
              "      <td>$0</td>\n",
              "      <td>$0</td>\n",
              "      <td>$300,000</td>\n",
              "    </tr>\n",
              "    <tr>\n",
              "      <th>freq</th>\n",
              "      <td>1</td>\n",
              "      <td>14</td>\n",
              "      <td>1</td>\n",
              "      <td>5</td>\n",
              "      <td>4</td>\n",
              "      <td>18</td>\n",
              "      <td>129</td>\n",
              "      <td>3</td>\n",
              "    </tr>\n",
              "  </tbody>\n",
              "</table>\n",
              "</div>"
            ],
            "text/plain": [
              "         School Conference        Coach  ... BonusPaid AssistantPay     Buyout\n",
              "count       129        129          129  ...        88          129        107\n",
              "unique      129         11          129  ...        50            1        101\n",
              "top     Wyoming      C-USA  Gus Malzahn  ...       $0           $0   $300,000 \n",
              "freq          1         14            1  ...        18          129          3\n",
              "\n",
              "[4 rows x 8 columns]"
            ]
          },
          "metadata": {
            "tags": []
          }
        },
        {
          "output_type": "display_data",
          "data": {
            "text/html": [
              "<div>\n",
              "<style scoped>\n",
              "    .dataframe tbody tr th:only-of-type {\n",
              "        vertical-align: middle;\n",
              "    }\n",
              "\n",
              "    .dataframe tbody tr th {\n",
              "        vertical-align: top;\n",
              "    }\n",
              "\n",
              "    .dataframe thead th {\n",
              "        text-align: right;\n",
              "    }\n",
              "</style>\n",
              "<table border=\"1\" class=\"dataframe\">\n",
              "  <thead>\n",
              "    <tr style=\"text-align: right;\">\n",
              "      <th></th>\n",
              "      <th># of Missing Values</th>\n",
              "    </tr>\n",
              "  </thead>\n",
              "  <tbody>\n",
              "    <tr>\n",
              "      <th>School</th>\n",
              "      <td>0</td>\n",
              "    </tr>\n",
              "    <tr>\n",
              "      <th>Conference</th>\n",
              "      <td>0</td>\n",
              "    </tr>\n",
              "    <tr>\n",
              "      <th>Coach</th>\n",
              "      <td>0</td>\n",
              "    </tr>\n",
              "    <tr>\n",
              "      <th>SchoolPay</th>\n",
              "      <td>4</td>\n",
              "    </tr>\n",
              "    <tr>\n",
              "      <th>Bonus</th>\n",
              "      <td>22</td>\n",
              "    </tr>\n",
              "    <tr>\n",
              "      <th>BonusPaid</th>\n",
              "      <td>41</td>\n",
              "    </tr>\n",
              "    <tr>\n",
              "      <th>AssistantPay</th>\n",
              "      <td>0</td>\n",
              "    </tr>\n",
              "    <tr>\n",
              "      <th>Buyout</th>\n",
              "      <td>22</td>\n",
              "    </tr>\n",
              "  </tbody>\n",
              "</table>\n",
              "</div>"
            ],
            "text/plain": [
              "              # of Missing Values\n",
              "School                          0\n",
              "Conference                      0\n",
              "Coach                           0\n",
              "SchoolPay                       4\n",
              "Bonus                          22\n",
              "BonusPaid                      41\n",
              "AssistantPay                    0\n",
              "Buyout                         22"
            ]
          },
          "metadata": {
            "tags": []
          }
        }
      ]
    },
    {
      "cell_type": "markdown",
      "metadata": {
        "id": "rJCmtuK1L_bI"
      },
      "source": [
        "There are 4 coaches where there is no information provided.  We will exclude these 4 from the model data, but will hold them to the side in case we want to use them during the prediction phase."
      ]
    },
    {
      "cell_type": "code",
      "metadata": {
        "colab": {
          "base_uri": "https://localhost:8080/",
          "height": 201
        },
        "id": "qf_pwvdWMWYN",
        "outputId": "45c5c9e0-5a04-4796-f0e7-51ec70500e29"
      },
      "source": [
        "# Look at coaches that have no data\r\n",
        "coachNull = coachesClean[coachesClean.SchoolPay.isnull()]\r\n",
        "display(coachNull)\r\n",
        "\r\n",
        "# Remove from the main dataset\r\n",
        "coachesCleanNotNull = coachesClean[coachesClean.SchoolPay.notnull()]\r\n",
        "\r\n",
        "# Check shapes to make sure both datasets add up to original 129 rows\r\n",
        "display(coachNull.shape)\r\n",
        "display(coachesCleanNotNull.shape)"
      ],
      "execution_count": 5,
      "outputs": [
        {
          "output_type": "display_data",
          "data": {
            "text/html": [
              "<div>\n",
              "<style scoped>\n",
              "    .dataframe tbody tr th:only-of-type {\n",
              "        vertical-align: middle;\n",
              "    }\n",
              "\n",
              "    .dataframe tbody tr th {\n",
              "        vertical-align: top;\n",
              "    }\n",
              "\n",
              "    .dataframe thead th {\n",
              "        text-align: right;\n",
              "    }\n",
              "</style>\n",
              "<table border=\"1\" class=\"dataframe\">\n",
              "  <thead>\n",
              "    <tr style=\"text-align: right;\">\n",
              "      <th></th>\n",
              "      <th>School</th>\n",
              "      <th>Conference</th>\n",
              "      <th>Coach</th>\n",
              "      <th>SchoolPay</th>\n",
              "      <th>Bonus</th>\n",
              "      <th>BonusPaid</th>\n",
              "      <th>AssistantPay</th>\n",
              "      <th>Buyout</th>\n",
              "    </tr>\n",
              "  </thead>\n",
              "  <tbody>\n",
              "    <tr>\n",
              "      <th>12</th>\n",
              "      <td>Baylor</td>\n",
              "      <td>Big 12</td>\n",
              "      <td>Matt Rhule</td>\n",
              "      <td>NaN</td>\n",
              "      <td>NaN</td>\n",
              "      <td>NaN</td>\n",
              "      <td>$0</td>\n",
              "      <td>NaN</td>\n",
              "    </tr>\n",
              "    <tr>\n",
              "      <th>16</th>\n",
              "      <td>Brigham Young</td>\n",
              "      <td>Ind.</td>\n",
              "      <td>Kalani Sitake</td>\n",
              "      <td>NaN</td>\n",
              "      <td>NaN</td>\n",
              "      <td>NaN</td>\n",
              "      <td>$0</td>\n",
              "      <td>NaN</td>\n",
              "    </tr>\n",
              "    <tr>\n",
              "      <th>91</th>\n",
              "      <td>Rice</td>\n",
              "      <td>C-USA</td>\n",
              "      <td>Mike Bloomgren</td>\n",
              "      <td>NaN</td>\n",
              "      <td>NaN</td>\n",
              "      <td>NaN</td>\n",
              "      <td>$0</td>\n",
              "      <td>NaN</td>\n",
              "    </tr>\n",
              "    <tr>\n",
              "      <th>99</th>\n",
              "      <td>Southern Methodist</td>\n",
              "      <td>AAC</td>\n",
              "      <td>Sonny Dykes</td>\n",
              "      <td>NaN</td>\n",
              "      <td>NaN</td>\n",
              "      <td>NaN</td>\n",
              "      <td>$0</td>\n",
              "      <td>NaN</td>\n",
              "    </tr>\n",
              "  </tbody>\n",
              "</table>\n",
              "</div>"
            ],
            "text/plain": [
              "                School Conference           Coach  ... BonusPaid AssistantPay Buyout\n",
              "12              Baylor     Big 12      Matt Rhule  ...       NaN          $0     NaN\n",
              "16       Brigham Young       Ind.   Kalani Sitake  ...       NaN          $0     NaN\n",
              "91                Rice      C-USA  Mike Bloomgren  ...       NaN          $0     NaN\n",
              "99  Southern Methodist        AAC     Sonny Dykes  ...       NaN          $0     NaN\n",
              "\n",
              "[4 rows x 8 columns]"
            ]
          },
          "metadata": {
            "tags": []
          }
        },
        {
          "output_type": "display_data",
          "data": {
            "text/plain": [
              "(4, 8)"
            ]
          },
          "metadata": {
            "tags": []
          }
        },
        {
          "output_type": "display_data",
          "data": {
            "text/plain": [
              "(125, 8)"
            ]
          },
          "metadata": {
            "tags": []
          }
        }
      ]
    },
    {
      "cell_type": "markdown",
      "metadata": {
        "id": "eKH0wVn7FSDD"
      },
      "source": [
        "Next, we need to ensure the data types are correct for analysis.  In particular - the pay fields need to be converted to numeric types."
      ]
    },
    {
      "cell_type": "code",
      "metadata": {
        "colab": {
          "base_uri": "https://localhost:8080/",
          "height": 466
        },
        "id": "8hOGlkejFf9Q",
        "outputId": "4fa51130-293d-48c4-d302-3bdb585e06db"
      },
      "source": [
        "# Look at the current datatypes in the df\r\n",
        "display(coachesCleanNotNull.dtypes)\r\n",
        "\r\n",
        "# Change SchoolPay, Bonus, BonusPaid, AssistantPay, and Buyout to integer datatypes.  Removing $ signs and \",\" from numbers.\r\n",
        "for i in range(3,8):  \r\n",
        "  coachesCleanNotNull[coachesCleanNotNull.columns[i]] = coachesCleanNotNull[coachesCleanNotNull.columns[i]].str.replace('$',\"\")\r\n",
        "  coachesCleanNotNull[coachesCleanNotNull.columns[i]] = coachesCleanNotNull[coachesCleanNotNull.columns[i]].str.replace(',',\"\")\r\n",
        "  coachesCleanNotNull[coachesCleanNotNull.columns[i]] = coachesCleanNotNull[coachesCleanNotNull.columns[i]].astype(\"float\")"
      ],
      "execution_count": 6,
      "outputs": [
        {
          "output_type": "display_data",
          "data": {
            "text/plain": [
              "School          object\n",
              "Conference      object\n",
              "Coach           object\n",
              "SchoolPay       object\n",
              "Bonus           object\n",
              "BonusPaid       object\n",
              "AssistantPay    object\n",
              "Buyout          object\n",
              "dtype: object"
            ]
          },
          "metadata": {
            "tags": []
          }
        },
        {
          "output_type": "stream",
          "text": [
            "/usr/local/lib/python3.6/dist-packages/ipykernel_launcher.py:6: SettingWithCopyWarning: \n",
            "A value is trying to be set on a copy of a slice from a DataFrame.\n",
            "Try using .loc[row_indexer,col_indexer] = value instead\n",
            "\n",
            "See the caveats in the documentation: https://pandas.pydata.org/pandas-docs/stable/user_guide/indexing.html#returning-a-view-versus-a-copy\n",
            "  \n",
            "/usr/local/lib/python3.6/dist-packages/ipykernel_launcher.py:7: SettingWithCopyWarning: \n",
            "A value is trying to be set on a copy of a slice from a DataFrame.\n",
            "Try using .loc[row_indexer,col_indexer] = value instead\n",
            "\n",
            "See the caveats in the documentation: https://pandas.pydata.org/pandas-docs/stable/user_guide/indexing.html#returning-a-view-versus-a-copy\n",
            "  import sys\n",
            "/usr/local/lib/python3.6/dist-packages/ipykernel_launcher.py:8: SettingWithCopyWarning: \n",
            "A value is trying to be set on a copy of a slice from a DataFrame.\n",
            "Try using .loc[row_indexer,col_indexer] = value instead\n",
            "\n",
            "See the caveats in the documentation: https://pandas.pydata.org/pandas-docs/stable/user_guide/indexing.html#returning-a-view-versus-a-copy\n",
            "  \n"
          ],
          "name": "stderr"
        }
      ]
    },
    {
      "cell_type": "markdown",
      "metadata": {
        "id": "XNBKuXpW4QdW"
      },
      "source": [
        "A quick look at the salary data - mins,maxes,means, and what is missing.  Checking to see that data makes sense."
      ]
    },
    {
      "cell_type": "code",
      "metadata": {
        "colab": {
          "base_uri": "https://localhost:8080/",
          "height": 287
        },
        "id": "Zl0_qqSQ0wGK",
        "outputId": "04f870bb-501a-43e2-9c34-ce30dd72fc46"
      },
      "source": [
        "display(coachesCleanNotNull.describe())\r\n"
      ],
      "execution_count": 7,
      "outputs": [
        {
          "output_type": "display_data",
          "data": {
            "text/html": [
              "<div>\n",
              "<style scoped>\n",
              "    .dataframe tbody tr th:only-of-type {\n",
              "        vertical-align: middle;\n",
              "    }\n",
              "\n",
              "    .dataframe tbody tr th {\n",
              "        vertical-align: top;\n",
              "    }\n",
              "\n",
              "    .dataframe thead th {\n",
              "        text-align: right;\n",
              "    }\n",
              "</style>\n",
              "<table border=\"1\" class=\"dataframe\">\n",
              "  <thead>\n",
              "    <tr style=\"text-align: right;\">\n",
              "      <th></th>\n",
              "      <th>SchoolPay</th>\n",
              "      <th>Bonus</th>\n",
              "      <th>BonusPaid</th>\n",
              "      <th>AssistantPay</th>\n",
              "      <th>Buyout</th>\n",
              "    </tr>\n",
              "  </thead>\n",
              "  <tbody>\n",
              "    <tr>\n",
              "      <th>count</th>\n",
              "      <td>1.250000e+02</td>\n",
              "      <td>1.070000e+02</td>\n",
              "      <td>8.800000e+01</td>\n",
              "      <td>125.0</td>\n",
              "      <td>1.070000e+02</td>\n",
              "    </tr>\n",
              "    <tr>\n",
              "      <th>mean</th>\n",
              "      <td>2.410301e+06</td>\n",
              "      <td>8.741782e+05</td>\n",
              "      <td>1.495243e+05</td>\n",
              "      <td>0.0</td>\n",
              "      <td>8.119107e+06</td>\n",
              "    </tr>\n",
              "    <tr>\n",
              "      <th>std</th>\n",
              "      <td>1.881377e+06</td>\n",
              "      <td>6.346974e+05</td>\n",
              "      <td>2.387579e+05</td>\n",
              "      <td>0.0</td>\n",
              "      <td>1.046135e+07</td>\n",
              "    </tr>\n",
              "    <tr>\n",
              "      <th>min</th>\n",
              "      <td>3.900000e+05</td>\n",
              "      <td>5.000000e+04</td>\n",
              "      <td>0.000000e+00</td>\n",
              "      <td>0.0</td>\n",
              "      <td>0.000000e+00</td>\n",
              "    </tr>\n",
              "    <tr>\n",
              "      <th>25%</th>\n",
              "      <td>8.015040e+05</td>\n",
              "      <td>3.950000e+05</td>\n",
              "      <td>1.937500e+04</td>\n",
              "      <td>0.0</td>\n",
              "      <td>1.200000e+06</td>\n",
              "    </tr>\n",
              "    <tr>\n",
              "      <th>50%</th>\n",
              "      <td>1.831580e+06</td>\n",
              "      <td>7.750000e+05</td>\n",
              "      <td>6.375000e+04</td>\n",
              "      <td>0.0</td>\n",
              "      <td>4.000000e+06</td>\n",
              "    </tr>\n",
              "    <tr>\n",
              "      <th>75%</th>\n",
              "      <td>3.605000e+06</td>\n",
              "      <td>1.150000e+06</td>\n",
              "      <td>1.800000e+05</td>\n",
              "      <td>0.0</td>\n",
              "      <td>1.106500e+07</td>\n",
              "    </tr>\n",
              "    <tr>\n",
              "      <th>max</th>\n",
              "      <td>8.307000e+06</td>\n",
              "      <td>3.100000e+06</td>\n",
              "      <td>1.350000e+06</td>\n",
              "      <td>0.0</td>\n",
              "      <td>6.812500e+07</td>\n",
              "    </tr>\n",
              "  </tbody>\n",
              "</table>\n",
              "</div>"
            ],
            "text/plain": [
              "          SchoolPay         Bonus     BonusPaid  AssistantPay        Buyout\n",
              "count  1.250000e+02  1.070000e+02  8.800000e+01         125.0  1.070000e+02\n",
              "mean   2.410301e+06  8.741782e+05  1.495243e+05           0.0  8.119107e+06\n",
              "std    1.881377e+06  6.346974e+05  2.387579e+05           0.0  1.046135e+07\n",
              "min    3.900000e+05  5.000000e+04  0.000000e+00           0.0  0.000000e+00\n",
              "25%    8.015040e+05  3.950000e+05  1.937500e+04           0.0  1.200000e+06\n",
              "50%    1.831580e+06  7.750000e+05  6.375000e+04           0.0  4.000000e+06\n",
              "75%    3.605000e+06  1.150000e+06  1.800000e+05           0.0  1.106500e+07\n",
              "max    8.307000e+06  3.100000e+06  1.350000e+06           0.0  6.812500e+07"
            ]
          },
          "metadata": {
            "tags": []
          }
        }
      ]
    },
    {
      "cell_type": "markdown",
      "metadata": {
        "id": "bj70rTfKFGwG"
      },
      "source": [
        "From earlier, we know that there are significant missing values in the Bonus, BonusPaid, and Buyout categories.  Looking at BonusPaid and Buyout columns, there are minimum values of zero - suggesting that we cannot simply assume a missing value is a zero.  Because of that, and because we can't afford to remove rows in order to preserve the features, I am cutting these 2 columns loose.  In addition, the AssistantPay column is all zeroes.  This is useless and will go as well. \r\n",
        "\r\n",
        "That leaves the Bonus column.  There are missing values, but the minimum is above 0.  I am cautiously leaving this column, and changing the missing values to 0, but this feature should be treated very carefully should it later prove to be significant."
      ]
    },
    {
      "cell_type": "code",
      "metadata": {
        "colab": {
          "base_uri": "https://localhost:8080/",
          "height": 497
        },
        "id": "qyvssSV-GNJr",
        "outputId": "7969d664-7116-4727-fcf4-812572b1c584"
      },
      "source": [
        "coachesFinal = coachesCleanNotNull.drop([\"BonusPaid\", \"AssistantPay\", \"Buyout\"],1)\r\n",
        "coachesFinal.Bonus = coachesFinal.Bonus.fillna(0)\r\n",
        "display(coachesFinal.head(15))"
      ],
      "execution_count": 8,
      "outputs": [
        {
          "output_type": "display_data",
          "data": {
            "text/html": [
              "<div>\n",
              "<style scoped>\n",
              "    .dataframe tbody tr th:only-of-type {\n",
              "        vertical-align: middle;\n",
              "    }\n",
              "\n",
              "    .dataframe tbody tr th {\n",
              "        vertical-align: top;\n",
              "    }\n",
              "\n",
              "    .dataframe thead th {\n",
              "        text-align: right;\n",
              "    }\n",
              "</style>\n",
              "<table border=\"1\" class=\"dataframe\">\n",
              "  <thead>\n",
              "    <tr style=\"text-align: right;\">\n",
              "      <th></th>\n",
              "      <th>School</th>\n",
              "      <th>Conference</th>\n",
              "      <th>Coach</th>\n",
              "      <th>SchoolPay</th>\n",
              "      <th>Bonus</th>\n",
              "    </tr>\n",
              "  </thead>\n",
              "  <tbody>\n",
              "    <tr>\n",
              "      <th>0</th>\n",
              "      <td>Air Force</td>\n",
              "      <td>Mt. West</td>\n",
              "      <td>Troy Calhoun</td>\n",
              "      <td>885000.0</td>\n",
              "      <td>247000.0</td>\n",
              "    </tr>\n",
              "    <tr>\n",
              "      <th>1</th>\n",
              "      <td>Akron</td>\n",
              "      <td>MAC</td>\n",
              "      <td>Terry Bowden</td>\n",
              "      <td>411000.0</td>\n",
              "      <td>225000.0</td>\n",
              "    </tr>\n",
              "    <tr>\n",
              "      <th>2</th>\n",
              "      <td>Alabama</td>\n",
              "      <td>SEC</td>\n",
              "      <td>Nick Saban</td>\n",
              "      <td>8307000.0</td>\n",
              "      <td>1100000.0</td>\n",
              "    </tr>\n",
              "    <tr>\n",
              "      <th>3</th>\n",
              "      <td>Alabama at Birmingham</td>\n",
              "      <td>C-USA</td>\n",
              "      <td>Bill Clark</td>\n",
              "      <td>900000.0</td>\n",
              "      <td>950000.0</td>\n",
              "    </tr>\n",
              "    <tr>\n",
              "      <th>4</th>\n",
              "      <td>Appalachian State</td>\n",
              "      <td>Sun Belt</td>\n",
              "      <td>Scott Satterfield</td>\n",
              "      <td>712500.0</td>\n",
              "      <td>295000.0</td>\n",
              "    </tr>\n",
              "    <tr>\n",
              "      <th>5</th>\n",
              "      <td>Arizona</td>\n",
              "      <td>Pac-12</td>\n",
              "      <td>Kevin Sumlin</td>\n",
              "      <td>1600000.0</td>\n",
              "      <td>2025000.0</td>\n",
              "    </tr>\n",
              "    <tr>\n",
              "      <th>6</th>\n",
              "      <td>Arizona State</td>\n",
              "      <td>Pac-12</td>\n",
              "      <td>Herm Edwards</td>\n",
              "      <td>2000000.0</td>\n",
              "      <td>3010000.0</td>\n",
              "    </tr>\n",
              "    <tr>\n",
              "      <th>7</th>\n",
              "      <td>Arkansas</td>\n",
              "      <td>SEC</td>\n",
              "      <td>Chad Morris</td>\n",
              "      <td>3500000.0</td>\n",
              "      <td>1000000.0</td>\n",
              "    </tr>\n",
              "    <tr>\n",
              "      <th>8</th>\n",
              "      <td>Arkansas State</td>\n",
              "      <td>Sun Belt</td>\n",
              "      <td>Blake Anderson</td>\n",
              "      <td>825000.0</td>\n",
              "      <td>185000.0</td>\n",
              "    </tr>\n",
              "    <tr>\n",
              "      <th>9</th>\n",
              "      <td>Army</td>\n",
              "      <td>Ind.</td>\n",
              "      <td>Jeff Monken</td>\n",
              "      <td>932521.0</td>\n",
              "      <td>0.0</td>\n",
              "    </tr>\n",
              "    <tr>\n",
              "      <th>10</th>\n",
              "      <td>Auburn</td>\n",
              "      <td>SEC</td>\n",
              "      <td>Gus Malzahn</td>\n",
              "      <td>6700000.0</td>\n",
              "      <td>1400000.0</td>\n",
              "    </tr>\n",
              "    <tr>\n",
              "      <th>11</th>\n",
              "      <td>Ball State</td>\n",
              "      <td>MAC</td>\n",
              "      <td>Mike Neu</td>\n",
              "      <td>435689.0</td>\n",
              "      <td>380000.0</td>\n",
              "    </tr>\n",
              "    <tr>\n",
              "      <th>13</th>\n",
              "      <td>Boise State</td>\n",
              "      <td>Mt. West</td>\n",
              "      <td>Bryan Harsin</td>\n",
              "      <td>1650010.0</td>\n",
              "      <td>475000.0</td>\n",
              "    </tr>\n",
              "    <tr>\n",
              "      <th>14</th>\n",
              "      <td>Boston College</td>\n",
              "      <td>ACC</td>\n",
              "      <td>Steve Addazio</td>\n",
              "      <td>2514859.0</td>\n",
              "      <td>0.0</td>\n",
              "    </tr>\n",
              "    <tr>\n",
              "      <th>15</th>\n",
              "      <td>Bowling Green</td>\n",
              "      <td>MAC</td>\n",
              "      <td>Mike Jinks</td>\n",
              "      <td>437228.0</td>\n",
              "      <td>245000.0</td>\n",
              "    </tr>\n",
              "  </tbody>\n",
              "</table>\n",
              "</div>"
            ],
            "text/plain": [
              "                   School Conference              Coach  SchoolPay      Bonus\n",
              "0               Air Force   Mt. West       Troy Calhoun   885000.0   247000.0\n",
              "1                   Akron        MAC       Terry Bowden   411000.0   225000.0\n",
              "2                 Alabama        SEC         Nick Saban  8307000.0  1100000.0\n",
              "3   Alabama at Birmingham      C-USA         Bill Clark   900000.0   950000.0\n",
              "4       Appalachian State   Sun Belt  Scott Satterfield   712500.0   295000.0\n",
              "5                 Arizona     Pac-12       Kevin Sumlin  1600000.0  2025000.0\n",
              "6           Arizona State     Pac-12       Herm Edwards  2000000.0  3010000.0\n",
              "7                Arkansas        SEC        Chad Morris  3500000.0  1000000.0\n",
              "8          Arkansas State   Sun Belt     Blake Anderson   825000.0   185000.0\n",
              "9                    Army       Ind.        Jeff Monken   932521.0        0.0\n",
              "10                 Auburn        SEC        Gus Malzahn  6700000.0  1400000.0\n",
              "11             Ball State        MAC           Mike Neu   435689.0   380000.0\n",
              "13            Boise State   Mt. West       Bryan Harsin  1650010.0   475000.0\n",
              "14         Boston College        ACC      Steve Addazio  2514859.0        0.0\n",
              "15          Bowling Green        MAC         Mike Jinks   437228.0   245000.0"
            ]
          },
          "metadata": {
            "tags": []
          }
        }
      ]
    },
    {
      "cell_type": "markdown",
      "metadata": {
        "id": "nEHDrjH44UhY"
      },
      "source": [
        "### Moar Data - Coaching Histories"
      ]
    },
    {
      "cell_type": "markdown",
      "metadata": {
        "id": "dkg9ok8lV5xe"
      },
      "source": [
        "One of the key metrics I imagine in determining a coach's salary is their past performance.  A good way of measuring this is to look at their historical record - how many wins do they have, and what is their winning percentage.  This data is surprisingly difficult to find in a consolidated place, but to get it, I am using a file queried from CollegeFootballData.com - located here: https://collegefootballdata.com/exporter/coaches.  The data lists coaches records by season.  So we need to bring it in, consolidate it to summary data, and then match up the pertinent coaches to those in the previous dataframe."
      ]
    },
    {
      "cell_type": "code",
      "metadata": {
        "id": "4m6-SSH0W38E"
      },
      "source": [
        "coachHistURL = 'https://raw.githubusercontent.com/clemsongreg/IST718/main/Lab1/coach_hist.csv'\r\n",
        "\r\n",
        "# Create intial dataframe called coachHistRaw\r\n",
        "coachHistRaw = pd.read_csv(coachHistURL, na_values=\"--\") "
      ],
      "execution_count": 9,
      "outputs": []
    },
    {
      "cell_type": "code",
      "metadata": {
        "colab": {
          "base_uri": "https://localhost:8080/",
          "height": 0
        },
        "id": "B4n-mWNDXNlp",
        "outputId": "a1966813-c307-400a-dfd4-a0041959fbc1"
      },
      "source": [
        "# Take a brief look at the data.\r\n",
        "display(coachHistRaw.head(5))\r\n",
        "display(coachHistRaw.describe())\r\n",
        "display(coachHistRaw.dtypes)"
      ],
      "execution_count": 10,
      "outputs": [
        {
          "output_type": "display_data",
          "data": {
            "text/html": [
              "<div>\n",
              "<style scoped>\n",
              "    .dataframe tbody tr th:only-of-type {\n",
              "        vertical-align: middle;\n",
              "    }\n",
              "\n",
              "    .dataframe tbody tr th {\n",
              "        vertical-align: top;\n",
              "    }\n",
              "\n",
              "    .dataframe thead th {\n",
              "        text-align: right;\n",
              "    }\n",
              "</style>\n",
              "<table border=\"1\" class=\"dataframe\">\n",
              "  <thead>\n",
              "    <tr style=\"text-align: right;\">\n",
              "      <th></th>\n",
              "      <th>school</th>\n",
              "      <th>year</th>\n",
              "      <th>games</th>\n",
              "      <th>wins</th>\n",
              "      <th>losses</th>\n",
              "      <th>ties</th>\n",
              "      <th>preseason_rank</th>\n",
              "      <th>postseason_rank</th>\n",
              "      <th>srs</th>\n",
              "      <th>sp_overall</th>\n",
              "      <th>sp_offense</th>\n",
              "      <th>sp_defense</th>\n",
              "      <th>first_name</th>\n",
              "      <th>last_name</th>\n",
              "    </tr>\n",
              "  </thead>\n",
              "  <tbody>\n",
              "    <tr>\n",
              "      <th>0</th>\n",
              "      <td>Alabama</td>\n",
              "      <td>1902</td>\n",
              "      <td>8</td>\n",
              "      <td>4</td>\n",
              "      <td>4</td>\n",
              "      <td>0</td>\n",
              "      <td>0.0</td>\n",
              "      <td>0.0</td>\n",
              "      <td>-16.7</td>\n",
              "      <td>NaN</td>\n",
              "      <td>NaN</td>\n",
              "      <td>NaN</td>\n",
              "      <td>Eli</td>\n",
              "      <td>Abbott</td>\n",
              "    </tr>\n",
              "    <tr>\n",
              "      <th>1</th>\n",
              "      <td>Colgate</td>\n",
              "      <td>1928</td>\n",
              "      <td>9</td>\n",
              "      <td>6</td>\n",
              "      <td>3</td>\n",
              "      <td>0</td>\n",
              "      <td>NaN</td>\n",
              "      <td>NaN</td>\n",
              "      <td>7.7</td>\n",
              "      <td>NaN</td>\n",
              "      <td>NaN</td>\n",
              "      <td>NaN</td>\n",
              "      <td>Earl</td>\n",
              "      <td>Abell</td>\n",
              "    </tr>\n",
              "    <tr>\n",
              "      <th>2</th>\n",
              "      <td>Virginia</td>\n",
              "      <td>1929</td>\n",
              "      <td>9</td>\n",
              "      <td>4</td>\n",
              "      <td>3</td>\n",
              "      <td>2</td>\n",
              "      <td>NaN</td>\n",
              "      <td>NaN</td>\n",
              "      <td>-15.1</td>\n",
              "      <td>NaN</td>\n",
              "      <td>NaN</td>\n",
              "      <td>NaN</td>\n",
              "      <td>Earl</td>\n",
              "      <td>Abell</td>\n",
              "    </tr>\n",
              "    <tr>\n",
              "      <th>3</th>\n",
              "      <td>Virginia</td>\n",
              "      <td>1930</td>\n",
              "      <td>10</td>\n",
              "      <td>4</td>\n",
              "      <td>6</td>\n",
              "      <td>0</td>\n",
              "      <td>NaN</td>\n",
              "      <td>NaN</td>\n",
              "      <td>-23.1</td>\n",
              "      <td>NaN</td>\n",
              "      <td>NaN</td>\n",
              "      <td>NaN</td>\n",
              "      <td>Earl</td>\n",
              "      <td>Abell</td>\n",
              "    </tr>\n",
              "    <tr>\n",
              "      <th>4</th>\n",
              "      <td>Mississippi State</td>\n",
              "      <td>1923</td>\n",
              "      <td>9</td>\n",
              "      <td>5</td>\n",
              "      <td>2</td>\n",
              "      <td>2</td>\n",
              "      <td>NaN</td>\n",
              "      <td>NaN</td>\n",
              "      <td>-7.1</td>\n",
              "      <td>NaN</td>\n",
              "      <td>NaN</td>\n",
              "      <td>NaN</td>\n",
              "      <td>Earl</td>\n",
              "      <td>Able</td>\n",
              "    </tr>\n",
              "  </tbody>\n",
              "</table>\n",
              "</div>"
            ],
            "text/plain": [
              "              school  year  games  ...  sp_defense  first_name  last_name\n",
              "0            Alabama  1902      8  ...         NaN         Eli     Abbott\n",
              "1            Colgate  1928      9  ...         NaN        Earl      Abell\n",
              "2           Virginia  1929      9  ...         NaN        Earl      Abell\n",
              "3           Virginia  1930     10  ...         NaN        Earl      Abell\n",
              "4  Mississippi State  1923      9  ...         NaN        Earl       Able\n",
              "\n",
              "[5 rows x 14 columns]"
            ]
          },
          "metadata": {
            "tags": []
          }
        },
        {
          "output_type": "display_data",
          "data": {
            "text/html": [
              "<div>\n",
              "<style scoped>\n",
              "    .dataframe tbody tr th:only-of-type {\n",
              "        vertical-align: middle;\n",
              "    }\n",
              "\n",
              "    .dataframe tbody tr th {\n",
              "        vertical-align: top;\n",
              "    }\n",
              "\n",
              "    .dataframe thead th {\n",
              "        text-align: right;\n",
              "    }\n",
              "</style>\n",
              "<table border=\"1\" class=\"dataframe\">\n",
              "  <thead>\n",
              "    <tr style=\"text-align: right;\">\n",
              "      <th></th>\n",
              "      <th>year</th>\n",
              "      <th>games</th>\n",
              "      <th>wins</th>\n",
              "      <th>losses</th>\n",
              "      <th>ties</th>\n",
              "      <th>preseason_rank</th>\n",
              "      <th>postseason_rank</th>\n",
              "      <th>srs</th>\n",
              "      <th>sp_overall</th>\n",
              "      <th>sp_offense</th>\n",
              "      <th>sp_defense</th>\n",
              "    </tr>\n",
              "  </thead>\n",
              "  <tbody>\n",
              "    <tr>\n",
              "      <th>count</th>\n",
              "      <td>11661.000000</td>\n",
              "      <td>11661.000000</td>\n",
              "      <td>11661.000000</td>\n",
              "      <td>11661.000000</td>\n",
              "      <td>11661.000000</td>\n",
              "      <td>1636.00000</td>\n",
              "      <td>1827.000000</td>\n",
              "      <td>11425.000000</td>\n",
              "      <td>5906.000000</td>\n",
              "      <td>5907.00000</td>\n",
              "      <td>5906.000000</td>\n",
              "    </tr>\n",
              "    <tr>\n",
              "      <th>mean</th>\n",
              "      <td>1967.895035</td>\n",
              "      <td>10.338307</td>\n",
              "      <td>5.520967</td>\n",
              "      <td>4.516508</td>\n",
              "      <td>0.300317</td>\n",
              "      <td>10.92176</td>\n",
              "      <td>10.801861</td>\n",
              "      <td>1.492805</td>\n",
              "      <td>1.926498</td>\n",
              "      <td>28.57117</td>\n",
              "      <td>26.726397</td>\n",
              "    </tr>\n",
              "    <tr>\n",
              "      <th>std</th>\n",
              "      <td>33.499391</td>\n",
              "      <td>2.167956</td>\n",
              "      <td>2.776125</td>\n",
              "      <td>2.560387</td>\n",
              "      <td>0.594737</td>\n",
              "      <td>7.10911</td>\n",
              "      <td>6.929637</td>\n",
              "      <td>13.438446</td>\n",
              "      <td>14.225845</td>\n",
              "      <td>8.17443</td>\n",
              "      <td>8.385177</td>\n",
              "    </tr>\n",
              "    <tr>\n",
              "      <th>min</th>\n",
              "      <td>1886.000000</td>\n",
              "      <td>0.000000</td>\n",
              "      <td>0.000000</td>\n",
              "      <td>0.000000</td>\n",
              "      <td>0.000000</td>\n",
              "      <td>0.00000</td>\n",
              "      <td>0.000000</td>\n",
              "      <td>-62.400000</td>\n",
              "      <td>-38.900000</td>\n",
              "      <td>-0.50000</td>\n",
              "      <td>4.600000</td>\n",
              "    </tr>\n",
              "    <tr>\n",
              "      <th>25%</th>\n",
              "      <td>1940.000000</td>\n",
              "      <td>9.000000</td>\n",
              "      <td>4.000000</td>\n",
              "      <td>3.000000</td>\n",
              "      <td>0.000000</td>\n",
              "      <td>5.00000</td>\n",
              "      <td>5.000000</td>\n",
              "      <td>-7.500000</td>\n",
              "      <td>-8.600000</td>\n",
              "      <td>23.20000</td>\n",
              "      <td>20.425000</td>\n",
              "    </tr>\n",
              "    <tr>\n",
              "      <th>50%</th>\n",
              "      <td>1971.000000</td>\n",
              "      <td>11.000000</td>\n",
              "      <td>5.000000</td>\n",
              "      <td>4.000000</td>\n",
              "      <td>0.000000</td>\n",
              "      <td>10.50000</td>\n",
              "      <td>10.000000</td>\n",
              "      <td>2.000000</td>\n",
              "      <td>2.400000</td>\n",
              "      <td>28.60000</td>\n",
              "      <td>26.700000</td>\n",
              "    </tr>\n",
              "    <tr>\n",
              "      <th>75%</th>\n",
              "      <td>1997.000000</td>\n",
              "      <td>12.000000</td>\n",
              "      <td>7.000000</td>\n",
              "      <td>6.000000</td>\n",
              "      <td>0.000000</td>\n",
              "      <td>17.00000</td>\n",
              "      <td>17.000000</td>\n",
              "      <td>10.800000</td>\n",
              "      <td>12.000000</td>\n",
              "      <td>34.20000</td>\n",
              "      <td>33.000000</td>\n",
              "    </tr>\n",
              "    <tr>\n",
              "      <th>max</th>\n",
              "      <td>2020.000000</td>\n",
              "      <td>22.000000</td>\n",
              "      <td>16.000000</td>\n",
              "      <td>12.000000</td>\n",
              "      <td>4.000000</td>\n",
              "      <td>25.00000</td>\n",
              "      <td>25.000000</td>\n",
              "      <td>49.900000</td>\n",
              "      <td>38.500000</td>\n",
              "      <td>54.00000</td>\n",
              "      <td>52.400000</td>\n",
              "    </tr>\n",
              "  </tbody>\n",
              "</table>\n",
              "</div>"
            ],
            "text/plain": [
              "               year         games  ...  sp_offense   sp_defense\n",
              "count  11661.000000  11661.000000  ...  5907.00000  5906.000000\n",
              "mean    1967.895035     10.338307  ...    28.57117    26.726397\n",
              "std       33.499391      2.167956  ...     8.17443     8.385177\n",
              "min     1886.000000      0.000000  ...    -0.50000     4.600000\n",
              "25%     1940.000000      9.000000  ...    23.20000    20.425000\n",
              "50%     1971.000000     11.000000  ...    28.60000    26.700000\n",
              "75%     1997.000000     12.000000  ...    34.20000    33.000000\n",
              "max     2020.000000     22.000000  ...    54.00000    52.400000\n",
              "\n",
              "[8 rows x 11 columns]"
            ]
          },
          "metadata": {
            "tags": []
          }
        },
        {
          "output_type": "display_data",
          "data": {
            "text/plain": [
              "school              object\n",
              "year                 int64\n",
              "games                int64\n",
              "wins                 int64\n",
              "losses               int64\n",
              "ties                 int64\n",
              "preseason_rank     float64\n",
              "postseason_rank    float64\n",
              "srs                float64\n",
              "sp_overall         float64\n",
              "sp_offense         float64\n",
              "sp_defense         float64\n",
              "first_name          object\n",
              "last_name           object\n",
              "dtype: object"
            ]
          },
          "metadata": {
            "tags": []
          }
        }
      ]
    },
    {
      "cell_type": "code",
      "metadata": {
        "colab": {
          "base_uri": "https://localhost:8080/",
          "height": 0
        },
        "id": "3UpgIZhOXwIM",
        "outputId": "c77117c2-9822-42c1-f5de-ab68b7aa3c61"
      },
      "source": [
        "# Create a new column concatenating coach's first and last name.  This should (hopefully) match the names in the previous df\r\n",
        "\r\n",
        "coachHistRaw[\"name\"] = coachHistRaw.first_name + \" \" + coachHistRaw.last_name\r\n",
        "coachHistRaw.head(5)"
      ],
      "execution_count": 11,
      "outputs": [
        {
          "output_type": "execute_result",
          "data": {
            "text/html": [
              "<div>\n",
              "<style scoped>\n",
              "    .dataframe tbody tr th:only-of-type {\n",
              "        vertical-align: middle;\n",
              "    }\n",
              "\n",
              "    .dataframe tbody tr th {\n",
              "        vertical-align: top;\n",
              "    }\n",
              "\n",
              "    .dataframe thead th {\n",
              "        text-align: right;\n",
              "    }\n",
              "</style>\n",
              "<table border=\"1\" class=\"dataframe\">\n",
              "  <thead>\n",
              "    <tr style=\"text-align: right;\">\n",
              "      <th></th>\n",
              "      <th>school</th>\n",
              "      <th>year</th>\n",
              "      <th>games</th>\n",
              "      <th>wins</th>\n",
              "      <th>losses</th>\n",
              "      <th>ties</th>\n",
              "      <th>preseason_rank</th>\n",
              "      <th>postseason_rank</th>\n",
              "      <th>srs</th>\n",
              "      <th>sp_overall</th>\n",
              "      <th>sp_offense</th>\n",
              "      <th>sp_defense</th>\n",
              "      <th>first_name</th>\n",
              "      <th>last_name</th>\n",
              "      <th>name</th>\n",
              "    </tr>\n",
              "  </thead>\n",
              "  <tbody>\n",
              "    <tr>\n",
              "      <th>0</th>\n",
              "      <td>Alabama</td>\n",
              "      <td>1902</td>\n",
              "      <td>8</td>\n",
              "      <td>4</td>\n",
              "      <td>4</td>\n",
              "      <td>0</td>\n",
              "      <td>0.0</td>\n",
              "      <td>0.0</td>\n",
              "      <td>-16.7</td>\n",
              "      <td>NaN</td>\n",
              "      <td>NaN</td>\n",
              "      <td>NaN</td>\n",
              "      <td>Eli</td>\n",
              "      <td>Abbott</td>\n",
              "      <td>Eli Abbott</td>\n",
              "    </tr>\n",
              "    <tr>\n",
              "      <th>1</th>\n",
              "      <td>Colgate</td>\n",
              "      <td>1928</td>\n",
              "      <td>9</td>\n",
              "      <td>6</td>\n",
              "      <td>3</td>\n",
              "      <td>0</td>\n",
              "      <td>NaN</td>\n",
              "      <td>NaN</td>\n",
              "      <td>7.7</td>\n",
              "      <td>NaN</td>\n",
              "      <td>NaN</td>\n",
              "      <td>NaN</td>\n",
              "      <td>Earl</td>\n",
              "      <td>Abell</td>\n",
              "      <td>Earl Abell</td>\n",
              "    </tr>\n",
              "    <tr>\n",
              "      <th>2</th>\n",
              "      <td>Virginia</td>\n",
              "      <td>1929</td>\n",
              "      <td>9</td>\n",
              "      <td>4</td>\n",
              "      <td>3</td>\n",
              "      <td>2</td>\n",
              "      <td>NaN</td>\n",
              "      <td>NaN</td>\n",
              "      <td>-15.1</td>\n",
              "      <td>NaN</td>\n",
              "      <td>NaN</td>\n",
              "      <td>NaN</td>\n",
              "      <td>Earl</td>\n",
              "      <td>Abell</td>\n",
              "      <td>Earl Abell</td>\n",
              "    </tr>\n",
              "    <tr>\n",
              "      <th>3</th>\n",
              "      <td>Virginia</td>\n",
              "      <td>1930</td>\n",
              "      <td>10</td>\n",
              "      <td>4</td>\n",
              "      <td>6</td>\n",
              "      <td>0</td>\n",
              "      <td>NaN</td>\n",
              "      <td>NaN</td>\n",
              "      <td>-23.1</td>\n",
              "      <td>NaN</td>\n",
              "      <td>NaN</td>\n",
              "      <td>NaN</td>\n",
              "      <td>Earl</td>\n",
              "      <td>Abell</td>\n",
              "      <td>Earl Abell</td>\n",
              "    </tr>\n",
              "    <tr>\n",
              "      <th>4</th>\n",
              "      <td>Mississippi State</td>\n",
              "      <td>1923</td>\n",
              "      <td>9</td>\n",
              "      <td>5</td>\n",
              "      <td>2</td>\n",
              "      <td>2</td>\n",
              "      <td>NaN</td>\n",
              "      <td>NaN</td>\n",
              "      <td>-7.1</td>\n",
              "      <td>NaN</td>\n",
              "      <td>NaN</td>\n",
              "      <td>NaN</td>\n",
              "      <td>Earl</td>\n",
              "      <td>Able</td>\n",
              "      <td>Earl Able</td>\n",
              "    </tr>\n",
              "  </tbody>\n",
              "</table>\n",
              "</div>"
            ],
            "text/plain": [
              "              school  year  games  ...  first_name  last_name        name\n",
              "0            Alabama  1902      8  ...         Eli     Abbott  Eli Abbott\n",
              "1            Colgate  1928      9  ...        Earl      Abell  Earl Abell\n",
              "2           Virginia  1929      9  ...        Earl      Abell  Earl Abell\n",
              "3           Virginia  1930     10  ...        Earl      Abell  Earl Abell\n",
              "4  Mississippi State  1923      9  ...        Earl       Able   Earl Able\n",
              "\n",
              "[5 rows x 15 columns]"
            ]
          },
          "metadata": {
            "tags": []
          },
          "execution_count": 11
        }
      ]
    },
    {
      "cell_type": "code",
      "metadata": {
        "colab": {
          "base_uri": "https://localhost:8080/",
          "height": 0
        },
        "id": "y3YHTwVSYiE9",
        "outputId": "044c9d0d-cee8-4b27-a2b9-173cc4ad18a5"
      },
      "source": [
        "# Create a new df coachHistAgg to put aggregate coach data\r\n",
        "coachHistAgg = pd.DataFrame()\r\n",
        "coachHistAgg[\"name\"] = coachHistRaw.name.unique()\r\n",
        "\r\n",
        "# Populate the Aggregate dataframe with agg games, wins, losses, and ties.  \r\n",
        "games = []\r\n",
        "wins = []\r\n",
        "losses = []\r\n",
        "ties = []\r\n",
        "for n in coachHistAgg.name:\r\n",
        "  wins.append(coachHistRaw.loc[coachHistRaw[\"name\"] == n, \"wins\"].sum())\r\n",
        "  games.append(np.sum(coachHistRaw[coachHistRaw[\"name\"] == n][\"games\"]))\r\n",
        "  losses.append(coachHistRaw.loc[coachHistRaw[\"name\"] == n, \"losses\"].sum())\r\n",
        "  ties.append(coachHistRaw.loc[coachHistRaw[\"name\"] == n, \"ties\"].sum())\r\n",
        "coachHistAgg['games'] = pd.Series(games)\r\n",
        "coachHistAgg[\"wins\"] = wins\r\n",
        "coachHistAgg[\"losses\"] = losses\r\n",
        "coachHistAgg[\"ties\"] = ties\r\n",
        "\r\n",
        "coachHistAgg.head(5)"
      ],
      "execution_count": 12,
      "outputs": [
        {
          "output_type": "execute_result",
          "data": {
            "text/html": [
              "<div>\n",
              "<style scoped>\n",
              "    .dataframe tbody tr th:only-of-type {\n",
              "        vertical-align: middle;\n",
              "    }\n",
              "\n",
              "    .dataframe tbody tr th {\n",
              "        vertical-align: top;\n",
              "    }\n",
              "\n",
              "    .dataframe thead th {\n",
              "        text-align: right;\n",
              "    }\n",
              "</style>\n",
              "<table border=\"1\" class=\"dataframe\">\n",
              "  <thead>\n",
              "    <tr style=\"text-align: right;\">\n",
              "      <th></th>\n",
              "      <th>name</th>\n",
              "      <th>games</th>\n",
              "      <th>wins</th>\n",
              "      <th>losses</th>\n",
              "      <th>ties</th>\n",
              "    </tr>\n",
              "  </thead>\n",
              "  <tbody>\n",
              "    <tr>\n",
              "      <th>0</th>\n",
              "      <td>Eli Abbott</td>\n",
              "      <td>8</td>\n",
              "      <td>4</td>\n",
              "      <td>4</td>\n",
              "      <td>0</td>\n",
              "    </tr>\n",
              "    <tr>\n",
              "      <th>1</th>\n",
              "      <td>Earl Abell</td>\n",
              "      <td>28</td>\n",
              "      <td>14</td>\n",
              "      <td>12</td>\n",
              "      <td>2</td>\n",
              "    </tr>\n",
              "    <tr>\n",
              "      <th>2</th>\n",
              "      <td>Earl Able</td>\n",
              "      <td>18</td>\n",
              "      <td>10</td>\n",
              "      <td>6</td>\n",
              "      <td>2</td>\n",
              "    </tr>\n",
              "    <tr>\n",
              "      <th>3</th>\n",
              "      <td>Hobbs Adams</td>\n",
              "      <td>27</td>\n",
              "      <td>4</td>\n",
              "      <td>21</td>\n",
              "      <td>2</td>\n",
              "    </tr>\n",
              "    <tr>\n",
              "      <th>4</th>\n",
              "      <td>Steve Addazio</td>\n",
              "      <td>112</td>\n",
              "      <td>57</td>\n",
              "      <td>55</td>\n",
              "      <td>0</td>\n",
              "    </tr>\n",
              "  </tbody>\n",
              "</table>\n",
              "</div>"
            ],
            "text/plain": [
              "            name  games  wins  losses  ties\n",
              "0     Eli Abbott      8     4       4     0\n",
              "1     Earl Abell     28    14      12     2\n",
              "2      Earl Able     18    10       6     2\n",
              "3    Hobbs Adams     27     4      21     2\n",
              "4  Steve Addazio    112    57      55     0"
            ]
          },
          "metadata": {
            "tags": []
          },
          "execution_count": 12
        }
      ]
    },
    {
      "cell_type": "code",
      "metadata": {
        "id": "p7i0JEMAoqEy"
      },
      "source": [
        "# Changing the names on 2 of the coaches in Aggregate list to match the final coaches list.\r\n",
        "# There is likely a more elegant fuzzy matching solution to this, but it was late on Sunday, and this works (for now)\r\n",
        "coachHistAgg[\"name\"] = coachHistAgg[\"name\"].str.replace(\"D.J. Durkin\", \"DJ Durkin\")\r\n",
        "coachHistAgg[\"name\"] = coachHistAgg[\"name\"].str.replace(\"Mike Sanford\", \"Mike Sanford Jr.\")"
      ],
      "execution_count": 13,
      "outputs": []
    },
    {
      "cell_type": "code",
      "metadata": {
        "colab": {
          "base_uri": "https://localhost:8080/",
          "height": 0
        },
        "id": "U-FriJa6hjU8",
        "outputId": "92b3a11e-ed1b-4d65-dab9-e34abaceb2fe"
      },
      "source": [
        "# Merge aggregate data into the main coaches df\r\n",
        "cgames = []\r\n",
        "cwins = []\r\n",
        "closses = []\r\n",
        "cties = []\r\n",
        "for n in coachesFinal.Coach:\r\n",
        " cgames.append(coachHistAgg.loc[coachHistAgg[\"name\"] == n, \"games\"].values[0])\r\n",
        " cwins.append(coachHistAgg.loc[coachHistAgg[\"name\"] == n, \"wins\"].values[0])\r\n",
        " closses.append(coachHistAgg.loc[coachHistAgg[\"name\"] == n, \"losses\"].values[0])\r\n",
        " cties.append(coachHistAgg.loc[coachHistAgg[\"name\"] == n, \"ties\"].values[0])\r\n",
        "coachesFinal[\"coachGames\"] = cgames\r\n",
        "coachesFinal[\"coachWins\"] = cwins\r\n",
        "coachesFinal[\"coachLosses\"] = closses\r\n",
        "coachesFinal[\"coachTies\"] = cties\r\n",
        "coachesFinal.head(5)"
      ],
      "execution_count": 14,
      "outputs": [
        {
          "output_type": "execute_result",
          "data": {
            "text/html": [
              "<div>\n",
              "<style scoped>\n",
              "    .dataframe tbody tr th:only-of-type {\n",
              "        vertical-align: middle;\n",
              "    }\n",
              "\n",
              "    .dataframe tbody tr th {\n",
              "        vertical-align: top;\n",
              "    }\n",
              "\n",
              "    .dataframe thead th {\n",
              "        text-align: right;\n",
              "    }\n",
              "</style>\n",
              "<table border=\"1\" class=\"dataframe\">\n",
              "  <thead>\n",
              "    <tr style=\"text-align: right;\">\n",
              "      <th></th>\n",
              "      <th>School</th>\n",
              "      <th>Conference</th>\n",
              "      <th>Coach</th>\n",
              "      <th>SchoolPay</th>\n",
              "      <th>Bonus</th>\n",
              "      <th>coachGames</th>\n",
              "      <th>coachWins</th>\n",
              "      <th>coachLosses</th>\n",
              "      <th>coachTies</th>\n",
              "    </tr>\n",
              "  </thead>\n",
              "  <tbody>\n",
              "    <tr>\n",
              "      <th>0</th>\n",
              "      <td>Air Force</td>\n",
              "      <td>Mt. West</td>\n",
              "      <td>Troy Calhoun</td>\n",
              "      <td>885000.0</td>\n",
              "      <td>247000.0</td>\n",
              "      <td>167</td>\n",
              "      <td>98</td>\n",
              "      <td>69</td>\n",
              "      <td>0</td>\n",
              "    </tr>\n",
              "    <tr>\n",
              "      <th>1</th>\n",
              "      <td>Akron</td>\n",
              "      <td>MAC</td>\n",
              "      <td>Terry Bowden</td>\n",
              "      <td>411000.0</td>\n",
              "      <td>225000.0</td>\n",
              "      <td>152</td>\n",
              "      <td>82</td>\n",
              "      <td>69</td>\n",
              "      <td>1</td>\n",
              "    </tr>\n",
              "    <tr>\n",
              "      <th>2</th>\n",
              "      <td>Alabama</td>\n",
              "      <td>SEC</td>\n",
              "      <td>Nick Saban</td>\n",
              "      <td>8307000.0</td>\n",
              "      <td>1100000.0</td>\n",
              "      <td>314</td>\n",
              "      <td>248</td>\n",
              "      <td>65</td>\n",
              "      <td>1</td>\n",
              "    </tr>\n",
              "    <tr>\n",
              "      <th>3</th>\n",
              "      <td>Alabama at Birmingham</td>\n",
              "      <td>C-USA</td>\n",
              "      <td>Bill Clark</td>\n",
              "      <td>900000.0</td>\n",
              "      <td>950000.0</td>\n",
              "      <td>53</td>\n",
              "      <td>34</td>\n",
              "      <td>19</td>\n",
              "      <td>0</td>\n",
              "    </tr>\n",
              "    <tr>\n",
              "      <th>4</th>\n",
              "      <td>Appalachian State</td>\n",
              "      <td>Sun Belt</td>\n",
              "      <td>Scott Satterfield</td>\n",
              "      <td>712500.0</td>\n",
              "      <td>295000.0</td>\n",
              "      <td>76</td>\n",
              "      <td>55</td>\n",
              "      <td>21</td>\n",
              "      <td>0</td>\n",
              "    </tr>\n",
              "  </tbody>\n",
              "</table>\n",
              "</div>"
            ],
            "text/plain": [
              "                  School Conference  ... coachLosses  coachTies\n",
              "0              Air Force   Mt. West  ...          69          0\n",
              "1                  Akron        MAC  ...          69          1\n",
              "2                Alabama        SEC  ...          65          1\n",
              "3  Alabama at Birmingham      C-USA  ...          19          0\n",
              "4      Appalachian State   Sun Belt  ...          21          0\n",
              "\n",
              "[5 rows x 9 columns]"
            ]
          },
          "metadata": {
            "tags": []
          },
          "execution_count": 14
        }
      ]
    },
    {
      "cell_type": "markdown",
      "metadata": {
        "id": "FJ2FqRr_nWv6"
      },
      "source": [
        "### School Histories"
      ]
    },
    {
      "cell_type": "markdown",
      "metadata": {
        "id": "PCeAwPvqSot4"
      },
      "source": [
        "The next bit of data we want to go after is the historical record for each school.  I have an assumption that schools with more prestigious records - a long tradition of playing (and winning) games will tend to pay higher than those teams with less history/less success.  The data to be used is coming from Wikipedia - a table of FBS teams and their historical win counts."
      ]
    },
    {
      "cell_type": "code",
      "metadata": {
        "colab": {
          "base_uri": "https://localhost:8080/",
          "height": 0
        },
        "id": "ZUhAgC-9TCB4",
        "outputId": "52b4896b-2c29-408a-f0b6-1c12d5853dde"
      },
      "source": [
        "# The URL for the data on wikipedia:\r\n",
        "url1 = \"https://en.wikipedia.org/wiki/NCAA_Division_I_FBS_football_win-loss_records\"\r\n",
        "\r\n",
        "# Get the HTML data using request:\r\n",
        "response = request.urlopen(url1)\r\n",
        "display(type(response))\r\n",
        "html = response.read().decode('UTF8')\r\n",
        "display(type(html))"
      ],
      "execution_count": 15,
      "outputs": [
        {
          "output_type": "display_data",
          "data": {
            "text/plain": [
              "http.client.HTTPResponse"
            ]
          },
          "metadata": {
            "tags": []
          }
        },
        {
          "output_type": "display_data",
          "data": {
            "text/plain": [
              "str"
            ]
          },
          "metadata": {
            "tags": []
          }
        }
      ]
    },
    {
      "cell_type": "code",
      "metadata": {
        "id": "5LTmQ0z3TnEt"
      },
      "source": [
        "# Clean up the HTML code using Beautiful Soup and then pull out what we need - just the table data.\r\n",
        "\r\n",
        "htmlSoup = BeautifulSoup(html, \"html.parser\")\r\n",
        "\r\n",
        "record_table = htmlSoup.find('table', {'class':'wikitable sortable'})\r\n",
        "\r\n",
        "# Extract the column headings from the table\r\n",
        "colnames=[]\r\n",
        "for label in record_table.findAll('th'):\r\n",
        "  name = label.get_text().rstrip()\r\n",
        "  colnames.append(name)\r\n",
        "\r\n",
        "# Extract the row data\r\n",
        "c1=[]\r\n",
        "c2=[]\r\n",
        "c3=[]\r\n",
        "c4=[]\r\n",
        "c5=[]\r\n",
        "c6=[]\r\n",
        "c7=[]\r\n",
        "c8=[]\r\n",
        "for row in record_table.findAll('tr'):\r\n",
        "  cells = row.findAll('td')\r\n",
        "  if len(cells) == 8:\r\n",
        "    c1.append(cells[0].find('a').get_text())\r\n",
        "    c2.append(cells[1].get_text())\r\n",
        "    c3.append(cells[2].get_text())\r\n",
        "    c4.append(cells[3].get_text())\r\n",
        "    c5.append(cells[4].get_text())\r\n",
        "    c6.append(cells[5].get_text())\r\n",
        "    c7.append(cells[6].get_text())\r\n",
        "    c8.append(cells[7].get_text().rstrip())"
      ],
      "execution_count": 16,
      "outputs": []
    },
    {
      "cell_type": "code",
      "metadata": {
        "colab": {
          "base_uri": "https://localhost:8080/",
          "height": 0
        },
        "id": "G69t11WTea9J",
        "outputId": "5c3a990c-a72e-4dff-fef2-c5ef19978d23"
      },
      "source": [
        "# Create a dictionary with the data and then convert to a dataframe.\r\n",
        "\r\n",
        "teamdict = dict([i, 0] for i in colnames)\r\n",
        "teamdict[\"Team\"] = c1\r\n",
        "teamdict[\"Won\"] = c2\r\n",
        "teamdict['Lost'] = c3\r\n",
        "teamdict['Tied'] = c4\r\n",
        "teamdict['Pct.'] = c5\r\n",
        "teamdict['Years'] = c6\r\n",
        "teamdict['Total Games'] = c7\r\n",
        "teamdict['Conference'] = c8\r\n",
        "\r\n",
        "teamTable = pd.DataFrame(teamdict)\r\n",
        "display(teamTable.head(5))\r\n",
        "display(teamTable.dtypes)"
      ],
      "execution_count": 17,
      "outputs": [
        {
          "output_type": "display_data",
          "data": {
            "text/html": [
              "<div>\n",
              "<style scoped>\n",
              "    .dataframe tbody tr th:only-of-type {\n",
              "        vertical-align: middle;\n",
              "    }\n",
              "\n",
              "    .dataframe tbody tr th {\n",
              "        vertical-align: top;\n",
              "    }\n",
              "\n",
              "    .dataframe thead th {\n",
              "        text-align: right;\n",
              "    }\n",
              "</style>\n",
              "<table border=\"1\" class=\"dataframe\">\n",
              "  <thead>\n",
              "    <tr style=\"text-align: right;\">\n",
              "      <th></th>\n",
              "      <th>Team</th>\n",
              "      <th>Won</th>\n",
              "      <th>Lost</th>\n",
              "      <th>Tied</th>\n",
              "      <th>Pct.</th>\n",
              "      <th>Years</th>\n",
              "      <th>Total Games</th>\n",
              "      <th>Conference</th>\n",
              "    </tr>\n",
              "  </thead>\n",
              "  <tbody>\n",
              "    <tr>\n",
              "      <th>0</th>\n",
              "      <td>Ohio State</td>\n",
              "      <td>931</td>\n",
              "      <td>327</td>\n",
              "      <td>53</td>\n",
              "      <td>.730</td>\n",
              "      <td>130</td>\n",
              "      <td>1311</td>\n",
              "      <td>Big Ten</td>\n",
              "    </tr>\n",
              "    <tr>\n",
              "      <th>1</th>\n",
              "      <td>Alabama</td>\n",
              "      <td>929</td>\n",
              "      <td>331</td>\n",
              "      <td>43</td>\n",
              "      <td>.729</td>\n",
              "      <td>125</td>\n",
              "      <td>1303</td>\n",
              "      <td>SEC</td>\n",
              "    </tr>\n",
              "    <tr>\n",
              "      <th>2</th>\n",
              "      <td>Notre Dame</td>\n",
              "      <td>918</td>\n",
              "      <td>328</td>\n",
              "      <td>42</td>\n",
              "      <td>.729</td>\n",
              "      <td>130</td>\n",
              "      <td>1288</td>\n",
              "      <td>Independent</td>\n",
              "    </tr>\n",
              "    <tr>\n",
              "      <th>3</th>\n",
              "      <td>Boise State</td>\n",
              "      <td>465</td>\n",
              "      <td>172</td>\n",
              "      <td>2</td>\n",
              "      <td>.729</td>\n",
              "      <td>52</td>\n",
              "      <td>639</td>\n",
              "      <td>Mountain West</td>\n",
              "    </tr>\n",
              "    <tr>\n",
              "      <th>4</th>\n",
              "      <td>Michigan</td>\n",
              "      <td>964</td>\n",
              "      <td>350</td>\n",
              "      <td>36</td>\n",
              "      <td>.727</td>\n",
              "      <td>140</td>\n",
              "      <td>1350</td>\n",
              "      <td>Big Ten</td>\n",
              "    </tr>\n",
              "  </tbody>\n",
              "</table>\n",
              "</div>"
            ],
            "text/plain": [
              "          Team  Won Lost Tied  Pct. Years Total Games     Conference\n",
              "0   Ohio State  931  327   53  .730   130        1311        Big Ten\n",
              "1      Alabama  929  331   43  .729   125        1303            SEC\n",
              "2   Notre Dame  918  328   42  .729   130        1288    Independent\n",
              "3  Boise State  465  172    2  .729    52         639  Mountain West\n",
              "4     Michigan  964  350   36  .727   140        1350        Big Ten"
            ]
          },
          "metadata": {
            "tags": []
          }
        },
        {
          "output_type": "display_data",
          "data": {
            "text/plain": [
              "Team           object\n",
              "Won            object\n",
              "Lost           object\n",
              "Tied           object\n",
              "Pct.           object\n",
              "Years          object\n",
              "Total Games    object\n",
              "Conference     object\n",
              "dtype: object"
            ]
          },
          "metadata": {
            "tags": []
          }
        }
      ]
    },
    {
      "cell_type": "code",
      "metadata": {
        "colab": {
          "base_uri": "https://localhost:8080/",
          "height": 0
        },
        "id": "vmHa2tbBhiCD",
        "outputId": "18a14899-0a4f-488d-84d4-0f915f68a215"
      },
      "source": [
        "# Change the Win, Lost, Tied, Years, and Total Games columns to integers\r\n",
        "intCols = [\"Won\", \"Lost\", \"Tied\", \"Years\", \"Total Games\"]\r\n",
        "for col in intCols:\r\n",
        "  teamTable[col] = teamTable[col].astype('int')\r\n",
        "\r\n",
        "# Change the Pct column to float\r\n",
        "teamTable['Pct.'] = teamTable['Pct.'].astype('float')\r\n",
        "\r\n",
        "# Rename some columns and drop conference (already included)\r\n",
        "teamTable = teamTable.rename(columns = {\"Won\":\"Team Wins\", \"Lost\":\"Team Losses\", \"Tied\":\"Team Ties\", \"Pct.\":\"Team Win Pct\", \"Total Games\":\"Team Total Games\"})\r\n",
        "teamTable = teamTable.drop('Conference', 1)\r\n",
        "\r\n",
        "display(teamTable.describe())"
      ],
      "execution_count": 18,
      "outputs": [
        {
          "output_type": "display_data",
          "data": {
            "text/html": [
              "<div>\n",
              "<style scoped>\n",
              "    .dataframe tbody tr th:only-of-type {\n",
              "        vertical-align: middle;\n",
              "    }\n",
              "\n",
              "    .dataframe tbody tr th {\n",
              "        vertical-align: top;\n",
              "    }\n",
              "\n",
              "    .dataframe thead th {\n",
              "        text-align: right;\n",
              "    }\n",
              "</style>\n",
              "<table border=\"1\" class=\"dataframe\">\n",
              "  <thead>\n",
              "    <tr style=\"text-align: right;\">\n",
              "      <th></th>\n",
              "      <th>Team Wins</th>\n",
              "      <th>Team Losses</th>\n",
              "      <th>Team Ties</th>\n",
              "      <th>Team Win Pct</th>\n",
              "      <th>Years</th>\n",
              "      <th>Team Total Games</th>\n",
              "    </tr>\n",
              "  </thead>\n",
              "  <tbody>\n",
              "    <tr>\n",
              "      <th>count</th>\n",
              "      <td>130.000000</td>\n",
              "      <td>130.000000</td>\n",
              "      <td>130.000000</td>\n",
              "      <td>130.000000</td>\n",
              "      <td>130.000000</td>\n",
              "      <td>130.000000</td>\n",
              "    </tr>\n",
              "    <tr>\n",
              "      <th>mean</th>\n",
              "      <td>572.684615</td>\n",
              "      <td>466.807692</td>\n",
              "      <td>34.776923</td>\n",
              "      <td>0.541392</td>\n",
              "      <td>106.969231</td>\n",
              "      <td>1074.584615</td>\n",
              "    </tr>\n",
              "    <tr>\n",
              "      <th>std</th>\n",
              "      <td>196.583810</td>\n",
              "      <td>147.927182</td>\n",
              "      <td>15.906347</td>\n",
              "      <td>0.084422</td>\n",
              "      <td>33.021473</td>\n",
              "      <td>308.252659</td>\n",
              "    </tr>\n",
              "    <tr>\n",
              "      <th>min</th>\n",
              "      <td>34.000000</td>\n",
              "      <td>56.000000</td>\n",
              "      <td>0.000000</td>\n",
              "      <td>0.326000</td>\n",
              "      <td>9.000000</td>\n",
              "      <td>96.000000</td>\n",
              "    </tr>\n",
              "    <tr>\n",
              "      <th>25%</th>\n",
              "      <td>507.750000</td>\n",
              "      <td>413.000000</td>\n",
              "      <td>28.000000</td>\n",
              "      <td>0.489000</td>\n",
              "      <td>101.000000</td>\n",
              "      <td>1034.000000</td>\n",
              "    </tr>\n",
              "    <tr>\n",
              "      <th>50%</th>\n",
              "      <td>590.500000</td>\n",
              "      <td>497.500000</td>\n",
              "      <td>37.500000</td>\n",
              "      <td>0.544000</td>\n",
              "      <td>121.000000</td>\n",
              "      <td>1168.000000</td>\n",
              "    </tr>\n",
              "    <tr>\n",
              "      <th>75%</th>\n",
              "      <td>685.500000</td>\n",
              "      <td>569.500000</td>\n",
              "      <td>47.000000</td>\n",
              "      <td>0.584750</td>\n",
              "      <td>127.000000</td>\n",
              "      <td>1275.000000</td>\n",
              "    </tr>\n",
              "    <tr>\n",
              "      <th>max</th>\n",
              "      <td>964.000000</td>\n",
              "      <td>686.000000</td>\n",
              "      <td>58.000000</td>\n",
              "      <td>0.730000</td>\n",
              "      <td>150.000000</td>\n",
              "      <td>1370.000000</td>\n",
              "    </tr>\n",
              "  </tbody>\n",
              "</table>\n",
              "</div>"
            ],
            "text/plain": [
              "        Team Wins  Team Losses  ...       Years  Team Total Games\n",
              "count  130.000000   130.000000  ...  130.000000        130.000000\n",
              "mean   572.684615   466.807692  ...  106.969231       1074.584615\n",
              "std    196.583810   147.927182  ...   33.021473        308.252659\n",
              "min     34.000000    56.000000  ...    9.000000         96.000000\n",
              "25%    507.750000   413.000000  ...  101.000000       1034.000000\n",
              "50%    590.500000   497.500000  ...  121.000000       1168.000000\n",
              "75%    685.500000   569.500000  ...  127.000000       1275.000000\n",
              "max    964.000000   686.000000  ...  150.000000       1370.000000\n",
              "\n",
              "[8 rows x 6 columns]"
            ]
          },
          "metadata": {
            "tags": []
          }
        }
      ]
    },
    {
      "cell_type": "code",
      "metadata": {
        "id": "NLnoATPlmbYr"
      },
      "source": [
        "# There are some team names that need to be adjusted in order for fuzzy matching to find them.  These changes are being made to the teamTable df.\r\n",
        "\r\n",
        "teamTable[\"Team\"] = teamTable[\"Team\"].str.replace(\"UAB\", \"Alabama - Birmingham\")\r\n",
        "teamTable[\"Team\"] = teamTable[\"Team\"].str.replace(\"UCF\", \"Central Florida\")\r\n",
        "teamTable[\"Team\"] = teamTable[\"Team\"].str.replace(\"FIU\", \"Florida International\")\r\n",
        "teamTable[\"Team\"] = teamTable[\"Team\"].str.replace(\"Ole Miss\", \"Mississippi\")\r\n",
        "teamTable[\"Team\"] = teamTable[\"Team\"].str.replace(\"UNLV\", \"Nevada - Las Vegas\")\r\n",
        "teamTable[\"Team\"] = teamTable[\"Team\"].str.replace(\"NC State\", \"North Carolina State\")\r\n",
        "teamTable[\"Team\"] = teamTable[\"Team\"].str.replace(\"TCU\", \"Texas Christian\")\r\n",
        "teamTable[\"Team\"] = teamTable[\"Team\"].str.replace(\"UTEP\", \"Texas - El Paso\")\r\n",
        "teamTable[\"Team\"] = teamTable[\"Team\"].str.replace(\"UTSA\", \"Texas - San Antonio\")"
      ],
      "execution_count": 19,
      "outputs": []
    },
    {
      "cell_type": "code",
      "metadata": {
        "colab": {
          "base_uri": "https://localhost:8080/",
          "height": 0
        },
        "id": "LMDOMyjJe6uH",
        "outputId": "60b61dbc-c229-4297-eba0-598646e2d9bd"
      },
      "source": [
        "# Using fuzzywuzzy to match up the team history table to the main coaches table\r\n",
        "mlist = teamTable['Team'].tolist()\r\n",
        "\r\n",
        "match = coachesFinal['School'].apply(lambda x: process.extract(x, mlist, limit=1))\r\n",
        "\r\n",
        "mname = [i[0][0] for i in match]\r\n",
        "coachesFinal[\"fname\"] = mname\r\n",
        "\r\n",
        "coachesFinal = coachesFinal.join(teamTable.set_index('Team'), on='fname')\r\n",
        "coachesFinal"
      ],
      "execution_count": 20,
      "outputs": [
        {
          "output_type": "execute_result",
          "data": {
            "text/html": [
              "<div>\n",
              "<style scoped>\n",
              "    .dataframe tbody tr th:only-of-type {\n",
              "        vertical-align: middle;\n",
              "    }\n",
              "\n",
              "    .dataframe tbody tr th {\n",
              "        vertical-align: top;\n",
              "    }\n",
              "\n",
              "    .dataframe thead th {\n",
              "        text-align: right;\n",
              "    }\n",
              "</style>\n",
              "<table border=\"1\" class=\"dataframe\">\n",
              "  <thead>\n",
              "    <tr style=\"text-align: right;\">\n",
              "      <th></th>\n",
              "      <th>School</th>\n",
              "      <th>Conference</th>\n",
              "      <th>Coach</th>\n",
              "      <th>SchoolPay</th>\n",
              "      <th>Bonus</th>\n",
              "      <th>coachGames</th>\n",
              "      <th>coachWins</th>\n",
              "      <th>coachLosses</th>\n",
              "      <th>coachTies</th>\n",
              "      <th>fname</th>\n",
              "      <th>Team Wins</th>\n",
              "      <th>Team Losses</th>\n",
              "      <th>Team Ties</th>\n",
              "      <th>Team Win Pct</th>\n",
              "      <th>Years</th>\n",
              "      <th>Team Total Games</th>\n",
              "    </tr>\n",
              "  </thead>\n",
              "  <tbody>\n",
              "    <tr>\n",
              "      <th>0</th>\n",
              "      <td>Air Force</td>\n",
              "      <td>Mt. West</td>\n",
              "      <td>Troy Calhoun</td>\n",
              "      <td>885000.0</td>\n",
              "      <td>247000.0</td>\n",
              "      <td>167</td>\n",
              "      <td>98</td>\n",
              "      <td>69</td>\n",
              "      <td>0</td>\n",
              "      <td>Air Force</td>\n",
              "      <td>404</td>\n",
              "      <td>332</td>\n",
              "      <td>13</td>\n",
              "      <td>0.548</td>\n",
              "      <td>64</td>\n",
              "      <td>749</td>\n",
              "    </tr>\n",
              "    <tr>\n",
              "      <th>1</th>\n",
              "      <td>Akron</td>\n",
              "      <td>MAC</td>\n",
              "      <td>Terry Bowden</td>\n",
              "      <td>411000.0</td>\n",
              "      <td>225000.0</td>\n",
              "      <td>152</td>\n",
              "      <td>82</td>\n",
              "      <td>69</td>\n",
              "      <td>1</td>\n",
              "      <td>Akron</td>\n",
              "      <td>524</td>\n",
              "      <td>563</td>\n",
              "      <td>36</td>\n",
              "      <td>0.483</td>\n",
              "      <td>119</td>\n",
              "      <td>1123</td>\n",
              "    </tr>\n",
              "    <tr>\n",
              "      <th>2</th>\n",
              "      <td>Alabama</td>\n",
              "      <td>SEC</td>\n",
              "      <td>Nick Saban</td>\n",
              "      <td>8307000.0</td>\n",
              "      <td>1100000.0</td>\n",
              "      <td>314</td>\n",
              "      <td>248</td>\n",
              "      <td>65</td>\n",
              "      <td>1</td>\n",
              "      <td>Alabama</td>\n",
              "      <td>929</td>\n",
              "      <td>331</td>\n",
              "      <td>43</td>\n",
              "      <td>0.729</td>\n",
              "      <td>125</td>\n",
              "      <td>1303</td>\n",
              "    </tr>\n",
              "    <tr>\n",
              "      <th>3</th>\n",
              "      <td>Alabama at Birmingham</td>\n",
              "      <td>C-USA</td>\n",
              "      <td>Bill Clark</td>\n",
              "      <td>900000.0</td>\n",
              "      <td>950000.0</td>\n",
              "      <td>53</td>\n",
              "      <td>34</td>\n",
              "      <td>19</td>\n",
              "      <td>0</td>\n",
              "      <td>Alabama - Birmingham</td>\n",
              "      <td>152</td>\n",
              "      <td>169</td>\n",
              "      <td>2</td>\n",
              "      <td>0.474</td>\n",
              "      <td>27</td>\n",
              "      <td>323</td>\n",
              "    </tr>\n",
              "    <tr>\n",
              "      <th>4</th>\n",
              "      <td>Appalachian State</td>\n",
              "      <td>Sun Belt</td>\n",
              "      <td>Scott Satterfield</td>\n",
              "      <td>712500.0</td>\n",
              "      <td>295000.0</td>\n",
              "      <td>76</td>\n",
              "      <td>55</td>\n",
              "      <td>21</td>\n",
              "      <td>0</td>\n",
              "      <td>Appalachian State</td>\n",
              "      <td>639</td>\n",
              "      <td>339</td>\n",
              "      <td>29</td>\n",
              "      <td>0.649</td>\n",
              "      <td>90</td>\n",
              "      <td>1007</td>\n",
              "    </tr>\n",
              "    <tr>\n",
              "      <th>...</th>\n",
              "      <td>...</td>\n",
              "      <td>...</td>\n",
              "      <td>...</td>\n",
              "      <td>...</td>\n",
              "      <td>...</td>\n",
              "      <td>...</td>\n",
              "      <td>...</td>\n",
              "      <td>...</td>\n",
              "      <td>...</td>\n",
              "      <td>...</td>\n",
              "      <td>...</td>\n",
              "      <td>...</td>\n",
              "      <td>...</td>\n",
              "      <td>...</td>\n",
              "      <td>...</td>\n",
              "      <td>...</td>\n",
              "    </tr>\n",
              "    <tr>\n",
              "      <th>124</th>\n",
              "      <td>West Virginia</td>\n",
              "      <td>Big 12</td>\n",
              "      <td>Dana Holgorsen</td>\n",
              "      <td>3605000.0</td>\n",
              "      <td>1000000.0</td>\n",
              "      <td>114</td>\n",
              "      <td>65</td>\n",
              "      <td>49</td>\n",
              "      <td>0</td>\n",
              "      <td>West Virginia</td>\n",
              "      <td>761</td>\n",
              "      <td>508</td>\n",
              "      <td>45</td>\n",
              "      <td>0.596</td>\n",
              "      <td>127</td>\n",
              "      <td>1314</td>\n",
              "    </tr>\n",
              "    <tr>\n",
              "      <th>125</th>\n",
              "      <td>Western Kentucky</td>\n",
              "      <td>C-USA</td>\n",
              "      <td>Mike Sanford Jr.</td>\n",
              "      <td>800000.0</td>\n",
              "      <td>400000.0</td>\n",
              "      <td>84</td>\n",
              "      <td>25</td>\n",
              "      <td>59</td>\n",
              "      <td>0</td>\n",
              "      <td>Western Kentucky</td>\n",
              "      <td>589</td>\n",
              "      <td>411</td>\n",
              "      <td>30</td>\n",
              "      <td>0.586</td>\n",
              "      <td>101</td>\n",
              "      <td>1030</td>\n",
              "    </tr>\n",
              "    <tr>\n",
              "      <th>126</th>\n",
              "      <td>Western Michigan</td>\n",
              "      <td>MAC</td>\n",
              "      <td>Tim Lester</td>\n",
              "      <td>800000.0</td>\n",
              "      <td>346500.0</td>\n",
              "      <td>38</td>\n",
              "      <td>20</td>\n",
              "      <td>18</td>\n",
              "      <td>0</td>\n",
              "      <td>Western Michigan</td>\n",
              "      <td>580</td>\n",
              "      <td>461</td>\n",
              "      <td>24</td>\n",
              "      <td>0.556</td>\n",
              "      <td>114</td>\n",
              "      <td>1065</td>\n",
              "    </tr>\n",
              "    <tr>\n",
              "      <th>127</th>\n",
              "      <td>Wisconsin</td>\n",
              "      <td>Big Ten</td>\n",
              "      <td>Paul Chryst</td>\n",
              "      <td>3750000.0</td>\n",
              "      <td>0.0</td>\n",
              "      <td>106</td>\n",
              "      <td>71</td>\n",
              "      <td>35</td>\n",
              "      <td>0</td>\n",
              "      <td>Wisconsin</td>\n",
              "      <td>719</td>\n",
              "      <td>502</td>\n",
              "      <td>53</td>\n",
              "      <td>0.585</td>\n",
              "      <td>131</td>\n",
              "      <td>1274</td>\n",
              "    </tr>\n",
              "    <tr>\n",
              "      <th>128</th>\n",
              "      <td>Wyoming</td>\n",
              "      <td>Mt. West</td>\n",
              "      <td>Craig Bohl</td>\n",
              "      <td>1412000.0</td>\n",
              "      <td>450000.0</td>\n",
              "      <td>76</td>\n",
              "      <td>36</td>\n",
              "      <td>40</td>\n",
              "      <td>0</td>\n",
              "      <td>Wyoming</td>\n",
              "      <td>542</td>\n",
              "      <td>583</td>\n",
              "      <td>28</td>\n",
              "      <td>0.482</td>\n",
              "      <td>123</td>\n",
              "      <td>1153</td>\n",
              "    </tr>\n",
              "  </tbody>\n",
              "</table>\n",
              "<p>125 rows × 16 columns</p>\n",
              "</div>"
            ],
            "text/plain": [
              "                    School Conference  ... Years  Team Total Games\n",
              "0                Air Force   Mt. West  ...    64               749\n",
              "1                    Akron        MAC  ...   119              1123\n",
              "2                  Alabama        SEC  ...   125              1303\n",
              "3    Alabama at Birmingham      C-USA  ...    27               323\n",
              "4        Appalachian State   Sun Belt  ...    90              1007\n",
              "..                     ...        ...  ...   ...               ...\n",
              "124          West Virginia     Big 12  ...   127              1314\n",
              "125       Western Kentucky      C-USA  ...   101              1030\n",
              "126       Western Michigan        MAC  ...   114              1065\n",
              "127              Wisconsin    Big Ten  ...   131              1274\n",
              "128                Wyoming   Mt. West  ...   123              1153\n",
              "\n",
              "[125 rows x 16 columns]"
            ]
          },
          "metadata": {
            "tags": []
          },
          "execution_count": 20
        }
      ]
    },
    {
      "cell_type": "markdown",
      "metadata": {
        "id": "HJRQosxGcwQS"
      },
      "source": [
        "### National Championships and Bowl Appearances"
      ]
    },
    {
      "cell_type": "markdown",
      "metadata": {
        "id": "FEwagsYoc025"
      },
      "source": [
        "The next section will bring in data related to the number of national championships for each of the schools, as well as records related to post-season bowl appearances.  \r\n",
        "\r\n",
        "For national championship data, I am using a list of awarded \"Poll-era\" championships.  This is essentially champions as determined by the AP poll starting in 1936.  There are, both before and during this era, a lot of disputed claims by teams for national championships that I think muddy the waters here.  (I see you, UCF, but I don't recognize your national championship claim).  \r\n",
        "\r\n",
        "I'm also choosing to use number of Championships by SCHOOL, not by COACH.  This is because I need to pick one - I suspect there would be very high multi-collinearity between these 2.  I picked schools instead of coaches b/c from my observation, coaches with National Championships (at least in the modern era) don't move around much.  In fact, only 2 coaches in the modern era have won championships with 2 teams, and of those, only 1 seems interested in hopping from job to job...  In addition, while schools that win a championship are likely to pay their coach more, coaches with championships are not likely to be paid more by OTHER teams (hello Gene Chizik, Mack Brown, etc).  Therefore, it seems to me that when predicting salaries, schools are more concerned about THEIR championship totals than the coach they hired/are looking to hire.\r\n",
        "\r\n",
        "Both sets of data come from tables scraped from Wikipedia, as above.  "
      ]
    },
    {
      "cell_type": "code",
      "metadata": {
        "colab": {
          "base_uri": "https://localhost:8080/",
          "height": 0
        },
        "id": "NYGxt3IIct0_",
        "outputId": "f3797acb-68da-4cfd-c419-c252743fbde9"
      },
      "source": [
        "# Poll Awarded National Championships by School\r\n",
        "url2 = \"https://en.wikipedia.org/wiki/College_football_national_championships_in_NCAA_Division_I_FBS\"\r\n",
        "\r\n",
        "# Get the HTML data using request:\r\n",
        "response2 = request.urlopen(url2)\r\n",
        "display(type(response2))\r\n",
        "html2 = response2.read().decode('UTF8')\r\n",
        "display(type(html2))"
      ],
      "execution_count": 21,
      "outputs": [
        {
          "output_type": "display_data",
          "data": {
            "text/plain": [
              "http.client.HTTPResponse"
            ]
          },
          "metadata": {
            "tags": []
          }
        },
        {
          "output_type": "display_data",
          "data": {
            "text/plain": [
              "str"
            ]
          },
          "metadata": {
            "tags": []
          }
        }
      ]
    },
    {
      "cell_type": "code",
      "metadata": {
        "colab": {
          "base_uri": "https://localhost:8080/",
          "height": 0
        },
        "id": "2KxqByCleGZC",
        "outputId": "da5c3012-ad67-4066-a877-103f0a288d17"
      },
      "source": [
        "# Clean up the HTML code using Beautiful Soup and then pull out what we need - just the table data.\r\n",
        "# There are a number of tables on this page, so we need to make sure we get the correct table\r\n",
        "\r\n",
        "html2Soup = BeautifulSoup(html2, \"html.parser\")\r\n",
        "\r\n",
        "champs_table = html2Soup.find('table', {'class':'wikitable sortable'})\r\n",
        "\r\n",
        "# Extract the row data.  We are really only interested in the first 2 columns - School and # of Championships.  \r\n",
        "c0=[]\r\n",
        "c1=[]\r\n",
        "\r\n",
        "for row in champs_table.findAll('tr'):\r\n",
        "  cells = row.findAll('td')\r\n",
        "  if len(cells) == 3:\r\n",
        "    c0.append(cells[0].find('a').get_text())\r\n",
        "    c1.append(cells[1].get_text())\r\n",
        "\r\n",
        " # Build a dictionary from the 2 lists and convert to a DataFrame\r\n",
        "champDict = dict()\r\n",
        "champDict[\"Team\"] = c0\r\n",
        "champDict[\"Championships\"] = c1\r\n",
        "\r\n",
        "champFrame = pd.DataFrame(champDict)\r\n",
        "champFrame.head(5)"
      ],
      "execution_count": 22,
      "outputs": [
        {
          "output_type": "execute_result",
          "data": {
            "text/html": [
              "<div>\n",
              "<style scoped>\n",
              "    .dataframe tbody tr th:only-of-type {\n",
              "        vertical-align: middle;\n",
              "    }\n",
              "\n",
              "    .dataframe tbody tr th {\n",
              "        vertical-align: top;\n",
              "    }\n",
              "\n",
              "    .dataframe thead th {\n",
              "        text-align: right;\n",
              "    }\n",
              "</style>\n",
              "<table border=\"1\" class=\"dataframe\">\n",
              "  <thead>\n",
              "    <tr style=\"text-align: right;\">\n",
              "      <th></th>\n",
              "      <th>Team</th>\n",
              "      <th>Championships</th>\n",
              "    </tr>\n",
              "  </thead>\n",
              "  <tbody>\n",
              "    <tr>\n",
              "      <th>0</th>\n",
              "      <td>Alabama</td>\n",
              "      <td>13</td>\n",
              "    </tr>\n",
              "    <tr>\n",
              "      <th>1</th>\n",
              "      <td>Notre Dame</td>\n",
              "      <td>8</td>\n",
              "    </tr>\n",
              "    <tr>\n",
              "      <th>2</th>\n",
              "      <td>Oklahoma</td>\n",
              "      <td>7</td>\n",
              "    </tr>\n",
              "    <tr>\n",
              "      <th>3</th>\n",
              "      <td>USC</td>\n",
              "      <td>7</td>\n",
              "    </tr>\n",
              "    <tr>\n",
              "      <th>4</th>\n",
              "      <td>Ohio State</td>\n",
              "      <td>6</td>\n",
              "    </tr>\n",
              "  </tbody>\n",
              "</table>\n",
              "</div>"
            ],
            "text/plain": [
              "         Team Championships\n",
              "0     Alabama            13\n",
              "1  Notre Dame             8\n",
              "2    Oklahoma             7\n",
              "3         USC             7\n",
              "4  Ohio State             6"
            ]
          },
          "metadata": {
            "tags": []
          },
          "execution_count": 22
        }
      ]
    },
    {
      "cell_type": "code",
      "metadata": {
        "id": "LRLnP4EnerlA",
        "colab": {
          "base_uri": "https://localhost:8080/"
        },
        "outputId": "cc3cf57d-c5f5-495b-f84d-71b66e8c4f1f"
      },
      "source": [
        " # Using fuzzywuzzy to match up the team history table to the main coaches table\r\n",
        "tlist = coachesFinal[\"School\"].tolist()\r\n",
        "\r\n",
        "# Drop BYU since it's on our naughty list\r\n",
        "champFrame = champFrame[champFrame['Team'] != 'BYU']\r\n",
        "\r\n",
        "# Rename schools to better match\r\n",
        "champFrame[\"Team\"] = champFrame[\"Team\"].str.replace(\"USC\", \"Southern California\")\r\n",
        "champFrame[\"Team\"] = champFrame[\"Team\"].str.replace(\"TCU\", \"Texas Christian\")\r\n",
        "\r\n",
        "# Match school names to the official list in Coaches table\r\n",
        "match = champFrame[\"Team\"].apply(lambda x: process.extract(x, tlist, limit=1))\r\n",
        "\r\n",
        "# Change the Championship Data type to int\r\n",
        "champFrame['Championships'] = champFrame['Championships'].astype('int')\r\n",
        "champFrame.dtypes"
      ],
      "execution_count": 23,
      "outputs": [
        {
          "output_type": "execute_result",
          "data": {
            "text/plain": [
              "Team             object\n",
              "Championships     int64\n",
              "dtype: object"
            ]
          },
          "metadata": {
            "tags": []
          },
          "execution_count": 23
        }
      ]
    },
    {
      "cell_type": "code",
      "metadata": {
        "colab": {
          "base_uri": "https://localhost:8080/",
          "height": 0
        },
        "id": "bs9YWZhujv_a",
        "outputId": "c9368198-7d36-4e1a-ca2f-7f34b35914da"
      },
      "source": [
        "tname = [i[0][0] for i in match]\r\n",
        "champFrame[\"fName\"] = tname\r\n",
        "\r\n",
        "\r\n",
        "# Add Championship data to master coaches file\r\n",
        "champFrame = champFrame.set_index('fName')\r\n",
        "coachesFinal1 = coachesFinal.join(champFrame['Championships'], on='School', how='left')\r\n",
        "\r\n",
        "# Change the missing values to 0 Championships\r\n",
        "coachesFinal1['Championships'] = coachesFinal1['Championships'].fillna(0)\r\n",
        "display(coachesFinal1.head(5)) \r\n"
      ],
      "execution_count": 24,
      "outputs": [
        {
          "output_type": "display_data",
          "data": {
            "text/html": [
              "<div>\n",
              "<style scoped>\n",
              "    .dataframe tbody tr th:only-of-type {\n",
              "        vertical-align: middle;\n",
              "    }\n",
              "\n",
              "    .dataframe tbody tr th {\n",
              "        vertical-align: top;\n",
              "    }\n",
              "\n",
              "    .dataframe thead th {\n",
              "        text-align: right;\n",
              "    }\n",
              "</style>\n",
              "<table border=\"1\" class=\"dataframe\">\n",
              "  <thead>\n",
              "    <tr style=\"text-align: right;\">\n",
              "      <th></th>\n",
              "      <th>School</th>\n",
              "      <th>Conference</th>\n",
              "      <th>Coach</th>\n",
              "      <th>SchoolPay</th>\n",
              "      <th>Bonus</th>\n",
              "      <th>coachGames</th>\n",
              "      <th>coachWins</th>\n",
              "      <th>coachLosses</th>\n",
              "      <th>coachTies</th>\n",
              "      <th>fname</th>\n",
              "      <th>Team Wins</th>\n",
              "      <th>Team Losses</th>\n",
              "      <th>Team Ties</th>\n",
              "      <th>Team Win Pct</th>\n",
              "      <th>Years</th>\n",
              "      <th>Team Total Games</th>\n",
              "      <th>Championships</th>\n",
              "    </tr>\n",
              "  </thead>\n",
              "  <tbody>\n",
              "    <tr>\n",
              "      <th>0</th>\n",
              "      <td>Air Force</td>\n",
              "      <td>Mt. West</td>\n",
              "      <td>Troy Calhoun</td>\n",
              "      <td>885000.0</td>\n",
              "      <td>247000.0</td>\n",
              "      <td>167</td>\n",
              "      <td>98</td>\n",
              "      <td>69</td>\n",
              "      <td>0</td>\n",
              "      <td>Air Force</td>\n",
              "      <td>404</td>\n",
              "      <td>332</td>\n",
              "      <td>13</td>\n",
              "      <td>0.548</td>\n",
              "      <td>64</td>\n",
              "      <td>749</td>\n",
              "      <td>0.0</td>\n",
              "    </tr>\n",
              "    <tr>\n",
              "      <th>1</th>\n",
              "      <td>Akron</td>\n",
              "      <td>MAC</td>\n",
              "      <td>Terry Bowden</td>\n",
              "      <td>411000.0</td>\n",
              "      <td>225000.0</td>\n",
              "      <td>152</td>\n",
              "      <td>82</td>\n",
              "      <td>69</td>\n",
              "      <td>1</td>\n",
              "      <td>Akron</td>\n",
              "      <td>524</td>\n",
              "      <td>563</td>\n",
              "      <td>36</td>\n",
              "      <td>0.483</td>\n",
              "      <td>119</td>\n",
              "      <td>1123</td>\n",
              "      <td>0.0</td>\n",
              "    </tr>\n",
              "    <tr>\n",
              "      <th>2</th>\n",
              "      <td>Alabama</td>\n",
              "      <td>SEC</td>\n",
              "      <td>Nick Saban</td>\n",
              "      <td>8307000.0</td>\n",
              "      <td>1100000.0</td>\n",
              "      <td>314</td>\n",
              "      <td>248</td>\n",
              "      <td>65</td>\n",
              "      <td>1</td>\n",
              "      <td>Alabama</td>\n",
              "      <td>929</td>\n",
              "      <td>331</td>\n",
              "      <td>43</td>\n",
              "      <td>0.729</td>\n",
              "      <td>125</td>\n",
              "      <td>1303</td>\n",
              "      <td>13.0</td>\n",
              "    </tr>\n",
              "    <tr>\n",
              "      <th>3</th>\n",
              "      <td>Alabama at Birmingham</td>\n",
              "      <td>C-USA</td>\n",
              "      <td>Bill Clark</td>\n",
              "      <td>900000.0</td>\n",
              "      <td>950000.0</td>\n",
              "      <td>53</td>\n",
              "      <td>34</td>\n",
              "      <td>19</td>\n",
              "      <td>0</td>\n",
              "      <td>Alabama - Birmingham</td>\n",
              "      <td>152</td>\n",
              "      <td>169</td>\n",
              "      <td>2</td>\n",
              "      <td>0.474</td>\n",
              "      <td>27</td>\n",
              "      <td>323</td>\n",
              "      <td>0.0</td>\n",
              "    </tr>\n",
              "    <tr>\n",
              "      <th>4</th>\n",
              "      <td>Appalachian State</td>\n",
              "      <td>Sun Belt</td>\n",
              "      <td>Scott Satterfield</td>\n",
              "      <td>712500.0</td>\n",
              "      <td>295000.0</td>\n",
              "      <td>76</td>\n",
              "      <td>55</td>\n",
              "      <td>21</td>\n",
              "      <td>0</td>\n",
              "      <td>Appalachian State</td>\n",
              "      <td>639</td>\n",
              "      <td>339</td>\n",
              "      <td>29</td>\n",
              "      <td>0.649</td>\n",
              "      <td>90</td>\n",
              "      <td>1007</td>\n",
              "      <td>0.0</td>\n",
              "    </tr>\n",
              "  </tbody>\n",
              "</table>\n",
              "</div>"
            ],
            "text/plain": [
              "                  School Conference  ... Team Total Games  Championships\n",
              "0              Air Force   Mt. West  ...              749            0.0\n",
              "1                  Akron        MAC  ...             1123            0.0\n",
              "2                Alabama        SEC  ...             1303           13.0\n",
              "3  Alabama at Birmingham      C-USA  ...              323            0.0\n",
              "4      Appalachian State   Sun Belt  ...             1007            0.0\n",
              "\n",
              "[5 rows x 17 columns]"
            ]
          },
          "metadata": {
            "tags": []
          }
        }
      ]
    },
    {
      "cell_type": "markdown",
      "metadata": {
        "id": "ZVxTbrlro-GD"
      },
      "source": [
        "And now bowl game histories"
      ]
    },
    {
      "cell_type": "code",
      "metadata": {
        "colab": {
          "base_uri": "https://localhost:8080/",
          "height": 0
        },
        "id": "AIeKPXGdUT8u",
        "outputId": "0ce5532e-6047-4222-98bb-0c43078589b4"
      },
      "source": [
        "# Add post-season (bowl game) records using same idea:\r\n",
        "url3 = \"https://en.wikipedia.org/wiki/List_of_NCAA_Division_I_FBS_football_bowl_records\"\r\n",
        "\r\n",
        "# Get the HTML data using request:\r\n",
        "response3 = request.urlopen(url3)\r\n",
        "display(type(response3))\r\n",
        "html3 = response3.read().decode('UTF8')\r\n",
        "display(type(html3))"
      ],
      "execution_count": 25,
      "outputs": [
        {
          "output_type": "display_data",
          "data": {
            "text/plain": [
              "http.client.HTTPResponse"
            ]
          },
          "metadata": {
            "tags": []
          }
        },
        {
          "output_type": "display_data",
          "data": {
            "text/plain": [
              "str"
            ]
          },
          "metadata": {
            "tags": []
          }
        }
      ]
    },
    {
      "cell_type": "code",
      "metadata": {
        "id": "lg7nDhhRYTUz"
      },
      "source": [
        "# Clean up the HTML code using Beautiful Soup and then pull out what we need - just the table data.\r\n",
        "# Pull out bowl table info\r\n",
        "html3Soup = BeautifulSoup(html3, \"html.parser\")\r\n",
        "\r\n",
        "bowl_table = html3Soup.find('table', {'class':'wikitable sortable'})\r\n",
        "\r\n",
        "# Extract the row data.  We are interested in: Bowl Wins, Bowl Losses, Bowl Ties, # of Bowls Played, Bowl Percentage, Last Bowl Season, and Last Bowl Win\r\n",
        "c0=[]\r\n",
        "c1=[]\r\n",
        "c2=[]\r\n",
        "c3=[]\r\n",
        "c4=[]\r\n",
        "c5=[]\r\n",
        "c6=[]\r\n",
        "c7=[]\r\n",
        "\r\n",
        "for row in bowl_table.findAll('tr'):\r\n",
        "  cells = row.findAll('td')\r\n",
        "  if len(cells) == 11:\r\n",
        "    c0.append(cells[0].find('a').get_text())\r\n",
        "    c1.append(cells[1].get_text().rstrip())\r\n",
        "    c2.append(cells[2].get_text().rstrip())\r\n",
        "    c3.append(cells[3].get_text().rstrip())\r\n",
        "    c4.append(cells[4].get_text().rstrip())\r\n",
        "    c5.append(cells[5].get_text().rstrip())\r\n",
        "    c6.append(cells[6].get_text().rstrip())\r\n",
        "    c7.append(cells[8].get_text().rstrip())\r\n",
        "    \r\n"
      ],
      "execution_count": 26,
      "outputs": []
    },
    {
      "cell_type": "code",
      "metadata": {
        "colab": {
          "base_uri": "https://localhost:8080/",
          "height": 0
        },
        "id": "72sMGIBmZj9Z",
        "outputId": "752ec0a4-cea9-427a-e941-2350c4006d26"
      },
      "source": [
        " # Build a dictionary from the lists and convert to a DataFrame\r\n",
        "bowlDict = dict()\r\n",
        "bowlDict[\"Team\"] = c0\r\n",
        "bowlDict[\"Bowl Wins\"] = c1\r\n",
        "bowlDict['Bowl Losses']= c2\r\n",
        "bowlDict['Bowl Ties'] = c3\r\n",
        "bowlDict['Bowls Played'] = c4\r\n",
        "bowlDict['Bowl Win Pct'] = c5\r\n",
        "bowlDict['Last Bowl Year'] = c6\r\n",
        "bowlDict['Last Bowl Win'] = c7\r\n",
        "\r\n",
        "bowlFrame = pd.DataFrame(bowlDict)\r\n",
        "bowlFrame.head(5)"
      ],
      "execution_count": 27,
      "outputs": [
        {
          "output_type": "execute_result",
          "data": {
            "text/html": [
              "<div>\n",
              "<style scoped>\n",
              "    .dataframe tbody tr th:only-of-type {\n",
              "        vertical-align: middle;\n",
              "    }\n",
              "\n",
              "    .dataframe tbody tr th {\n",
              "        vertical-align: top;\n",
              "    }\n",
              "\n",
              "    .dataframe thead th {\n",
              "        text-align: right;\n",
              "    }\n",
              "</style>\n",
              "<table border=\"1\" class=\"dataframe\">\n",
              "  <thead>\n",
              "    <tr style=\"text-align: right;\">\n",
              "      <th></th>\n",
              "      <th>Team</th>\n",
              "      <th>Bowl Wins</th>\n",
              "      <th>Bowl Losses</th>\n",
              "      <th>Bowl Ties</th>\n",
              "      <th>Bowls Played</th>\n",
              "      <th>Bowl Win Pct</th>\n",
              "      <th>Last Bowl Year</th>\n",
              "      <th>Last Bowl Win</th>\n",
              "    </tr>\n",
              "  </thead>\n",
              "  <tbody>\n",
              "    <tr>\n",
              "      <th>0</th>\n",
              "      <td>Air Force</td>\n",
              "      <td>13</td>\n",
              "      <td>13</td>\n",
              "      <td>1</td>\n",
              "      <td>27</td>\n",
              "      <td>.500</td>\n",
              "      <td>2019</td>\n",
              "      <td>2019</td>\n",
              "    </tr>\n",
              "    <tr>\n",
              "      <th>1</th>\n",
              "      <td>Akron</td>\n",
              "      <td>1</td>\n",
              "      <td>2</td>\n",
              "      <td>0</td>\n",
              "      <td>3</td>\n",
              "      <td>.333</td>\n",
              "      <td>2017</td>\n",
              "      <td>2015</td>\n",
              "    </tr>\n",
              "    <tr>\n",
              "      <th>2</th>\n",
              "      <td>Alabama</td>\n",
              "      <td>44</td>\n",
              "      <td>26</td>\n",
              "      <td>3</td>\n",
              "      <td>73</td>\n",
              "      <td>.632</td>\n",
              "      <td>2020</td>\n",
              "      <td>2020</td>\n",
              "    </tr>\n",
              "    <tr>\n",
              "      <th>3</th>\n",
              "      <td>Appalachian State</td>\n",
              "      <td>6</td>\n",
              "      <td>0</td>\n",
              "      <td>0</td>\n",
              "      <td>6</td>\n",
              "      <td>1.000</td>\n",
              "      <td>2020</td>\n",
              "      <td>2020</td>\n",
              "    </tr>\n",
              "    <tr>\n",
              "      <th>4</th>\n",
              "      <td>Arizona</td>\n",
              "      <td>9</td>\n",
              "      <td>10</td>\n",
              "      <td>1</td>\n",
              "      <td>20</td>\n",
              "      <td>.475</td>\n",
              "      <td>2017</td>\n",
              "      <td>2015</td>\n",
              "    </tr>\n",
              "  </tbody>\n",
              "</table>\n",
              "</div>"
            ],
            "text/plain": [
              "                Team Bowl Wins  ... Last Bowl Year Last Bowl Win\n",
              "0          Air Force        13  ...           2019          2019\n",
              "1              Akron         1  ...           2017          2015\n",
              "2            Alabama        44  ...           2020          2020\n",
              "3  Appalachian State         6  ...           2020          2020\n",
              "4            Arizona         9  ...           2017          2015\n",
              "\n",
              "[5 rows x 8 columns]"
            ]
          },
          "metadata": {
            "tags": []
          },
          "execution_count": 27
        }
      ]
    },
    {
      "cell_type": "code",
      "metadata": {
        "id": "F_m81JN_Zgfi"
      },
      "source": [
        " # Using fuzzywuzzy to match up the team history table to the main coaches table\r\n",
        "blist = bowlDict['Team']\r\n",
        "\r\n",
        "# Rename schools to better match\r\n",
        "bowlFrame[\"Team\"] = bowlFrame[\"Team\"].str.replace(\"UAB\", \"Alabama - Birmingham\")\r\n",
        "bowlFrame[\"Team\"] = bowlFrame[\"Team\"].str.replace(\"UCF\", \"Central Florida\")\r\n",
        "bowlFrame[\"Team\"] = bowlFrame[\"Team\"].str.replace(\"FIU\", \"Florida International\")\r\n",
        "bowlFrame[\"Team\"] = bowlFrame[\"Team\"].str.replace(\"Ole Miss\", \"Mississippi\")\r\n",
        "bowlFrame[\"Team\"] = bowlFrame[\"Team\"].str.replace(\"UNLV\", \"Nevada - Las Vegas\")\r\n",
        "bowlFrame[\"Team\"] = bowlFrame[\"Team\"].str.replace(\"NIU\", \"Northern Illinois\")\r\n",
        "bowlFrame[\"Team\"] = bowlFrame[\"Team\"].str.replace(\"USC\", \"Southern California\")\r\n",
        "bowlFrame[\"Team\"] = bowlFrame[\"Team\"].str.replace(\"TCU\", \"Texas Christian\")\r\n",
        "bowlFrame[\"Team\"] = bowlFrame[\"Team\"].str.replace(\"UTEP\", \"Texas - El Paso\")\r\n",
        "bowlFrame[\"Team\"] = bowlFrame[\"Team\"].str.replace(\"UTSA\", \"Texas - San Antonio\")\r\n",
        "\r\n",
        "# Match school names to the official list in Coaches table\r\n",
        "match = coachesFinal1['School'].apply(lambda x: process.extract(x, blist, limit=1))"
      ],
      "execution_count": 28,
      "outputs": []
    },
    {
      "cell_type": "code",
      "metadata": {
        "colab": {
          "base_uri": "https://localhost:8080/",
          "height": 0
        },
        "id": "3Agn1llNgDen",
        "outputId": "0f25843c-76fe-4977-9146-ea3fa4225e45"
      },
      "source": [
        "# Add Bowl Game information to the Master data frame\r\n",
        "bname = [i[0][0] for i in match]\r\n",
        "coachesFinal1['bname'] = bname\r\n",
        "coachesFinal2 = coachesFinal1.join(bowlFrame.set_index('Team'), on = 'bname')\r\n",
        "coachesFinal2 = coachesFinal2.drop(['fname', 'bname'], 1)\r\n",
        "coachesFinal2.head(5)"
      ],
      "execution_count": 29,
      "outputs": [
        {
          "output_type": "execute_result",
          "data": {
            "text/html": [
              "<div>\n",
              "<style scoped>\n",
              "    .dataframe tbody tr th:only-of-type {\n",
              "        vertical-align: middle;\n",
              "    }\n",
              "\n",
              "    .dataframe tbody tr th {\n",
              "        vertical-align: top;\n",
              "    }\n",
              "\n",
              "    .dataframe thead th {\n",
              "        text-align: right;\n",
              "    }\n",
              "</style>\n",
              "<table border=\"1\" class=\"dataframe\">\n",
              "  <thead>\n",
              "    <tr style=\"text-align: right;\">\n",
              "      <th></th>\n",
              "      <th>School</th>\n",
              "      <th>Conference</th>\n",
              "      <th>Coach</th>\n",
              "      <th>SchoolPay</th>\n",
              "      <th>Bonus</th>\n",
              "      <th>coachGames</th>\n",
              "      <th>coachWins</th>\n",
              "      <th>coachLosses</th>\n",
              "      <th>coachTies</th>\n",
              "      <th>Team Wins</th>\n",
              "      <th>Team Losses</th>\n",
              "      <th>Team Ties</th>\n",
              "      <th>Team Win Pct</th>\n",
              "      <th>Years</th>\n",
              "      <th>Team Total Games</th>\n",
              "      <th>Championships</th>\n",
              "      <th>Bowl Wins</th>\n",
              "      <th>Bowl Losses</th>\n",
              "      <th>Bowl Ties</th>\n",
              "      <th>Bowls Played</th>\n",
              "      <th>Bowl Win Pct</th>\n",
              "      <th>Last Bowl Year</th>\n",
              "      <th>Last Bowl Win</th>\n",
              "    </tr>\n",
              "  </thead>\n",
              "  <tbody>\n",
              "    <tr>\n",
              "      <th>0</th>\n",
              "      <td>Air Force</td>\n",
              "      <td>Mt. West</td>\n",
              "      <td>Troy Calhoun</td>\n",
              "      <td>885000.0</td>\n",
              "      <td>247000.0</td>\n",
              "      <td>167</td>\n",
              "      <td>98</td>\n",
              "      <td>69</td>\n",
              "      <td>0</td>\n",
              "      <td>404</td>\n",
              "      <td>332</td>\n",
              "      <td>13</td>\n",
              "      <td>0.548</td>\n",
              "      <td>64</td>\n",
              "      <td>749</td>\n",
              "      <td>0.0</td>\n",
              "      <td>13</td>\n",
              "      <td>13</td>\n",
              "      <td>1</td>\n",
              "      <td>27</td>\n",
              "      <td>.500</td>\n",
              "      <td>2019</td>\n",
              "      <td>2019</td>\n",
              "    </tr>\n",
              "    <tr>\n",
              "      <th>1</th>\n",
              "      <td>Akron</td>\n",
              "      <td>MAC</td>\n",
              "      <td>Terry Bowden</td>\n",
              "      <td>411000.0</td>\n",
              "      <td>225000.0</td>\n",
              "      <td>152</td>\n",
              "      <td>82</td>\n",
              "      <td>69</td>\n",
              "      <td>1</td>\n",
              "      <td>524</td>\n",
              "      <td>563</td>\n",
              "      <td>36</td>\n",
              "      <td>0.483</td>\n",
              "      <td>119</td>\n",
              "      <td>1123</td>\n",
              "      <td>0.0</td>\n",
              "      <td>1</td>\n",
              "      <td>2</td>\n",
              "      <td>0</td>\n",
              "      <td>3</td>\n",
              "      <td>.333</td>\n",
              "      <td>2017</td>\n",
              "      <td>2015</td>\n",
              "    </tr>\n",
              "    <tr>\n",
              "      <th>2</th>\n",
              "      <td>Alabama</td>\n",
              "      <td>SEC</td>\n",
              "      <td>Nick Saban</td>\n",
              "      <td>8307000.0</td>\n",
              "      <td>1100000.0</td>\n",
              "      <td>314</td>\n",
              "      <td>248</td>\n",
              "      <td>65</td>\n",
              "      <td>1</td>\n",
              "      <td>929</td>\n",
              "      <td>331</td>\n",
              "      <td>43</td>\n",
              "      <td>0.729</td>\n",
              "      <td>125</td>\n",
              "      <td>1303</td>\n",
              "      <td>13.0</td>\n",
              "      <td>44</td>\n",
              "      <td>26</td>\n",
              "      <td>3</td>\n",
              "      <td>73</td>\n",
              "      <td>.632</td>\n",
              "      <td>2020</td>\n",
              "      <td>2020</td>\n",
              "    </tr>\n",
              "    <tr>\n",
              "      <th>3</th>\n",
              "      <td>Alabama at Birmingham</td>\n",
              "      <td>C-USA</td>\n",
              "      <td>Bill Clark</td>\n",
              "      <td>900000.0</td>\n",
              "      <td>950000.0</td>\n",
              "      <td>53</td>\n",
              "      <td>34</td>\n",
              "      <td>19</td>\n",
              "      <td>0</td>\n",
              "      <td>152</td>\n",
              "      <td>169</td>\n",
              "      <td>2</td>\n",
              "      <td>0.474</td>\n",
              "      <td>27</td>\n",
              "      <td>323</td>\n",
              "      <td>0.0</td>\n",
              "      <td>44</td>\n",
              "      <td>26</td>\n",
              "      <td>3</td>\n",
              "      <td>73</td>\n",
              "      <td>.632</td>\n",
              "      <td>2020</td>\n",
              "      <td>2020</td>\n",
              "    </tr>\n",
              "    <tr>\n",
              "      <th>4</th>\n",
              "      <td>Appalachian State</td>\n",
              "      <td>Sun Belt</td>\n",
              "      <td>Scott Satterfield</td>\n",
              "      <td>712500.0</td>\n",
              "      <td>295000.0</td>\n",
              "      <td>76</td>\n",
              "      <td>55</td>\n",
              "      <td>21</td>\n",
              "      <td>0</td>\n",
              "      <td>639</td>\n",
              "      <td>339</td>\n",
              "      <td>29</td>\n",
              "      <td>0.649</td>\n",
              "      <td>90</td>\n",
              "      <td>1007</td>\n",
              "      <td>0.0</td>\n",
              "      <td>6</td>\n",
              "      <td>0</td>\n",
              "      <td>0</td>\n",
              "      <td>6</td>\n",
              "      <td>1.000</td>\n",
              "      <td>2020</td>\n",
              "      <td>2020</td>\n",
              "    </tr>\n",
              "  </tbody>\n",
              "</table>\n",
              "</div>"
            ],
            "text/plain": [
              "                  School Conference  ... Last Bowl Year  Last Bowl Win\n",
              "0              Air Force   Mt. West  ...           2019           2019\n",
              "1                  Akron        MAC  ...           2017           2015\n",
              "2                Alabama        SEC  ...           2020           2020\n",
              "3  Alabama at Birmingham      C-USA  ...           2020           2020\n",
              "4      Appalachian State   Sun Belt  ...           2020           2020\n",
              "\n",
              "[5 rows x 23 columns]"
            ]
          },
          "metadata": {
            "tags": []
          },
          "execution_count": 29
        }
      ]
    },
    {
      "cell_type": "markdown",
      "metadata": {
        "id": "06UBy4YgnZWY"
      },
      "source": [
        "### Stadium Information"
      ]
    },
    {
      "cell_type": "markdown",
      "metadata": {
        "id": "5ZBRbdWincWe"
      },
      "source": [
        "Had enough yet?  Next we will add information about the stadiums for each of these teams.  After all, at the end of the day, the coach's job is to make a product worth watching.  And if you have a big stadium, odds are you probably pay more (and expect more) from your coaches.\r\n",
        "\r\n",
        "Once again we go back to the trusty well of Wikipedia to scrape the data off the internet's greatest shoe."
      ]
    },
    {
      "cell_type": "code",
      "metadata": {
        "colab": {
          "base_uri": "https://localhost:8080/",
          "height": 0
        },
        "id": "AYROCxn_pGg8",
        "outputId": "4057d97b-5ae5-47e2-8ced-76f1f6ea4c69"
      },
      "source": [
        "# Add stadium capacity information\r\n",
        "url4 = \"https://en.wikipedia.org/wiki/List_of_NCAA_Division_I_FBS_football_stadiums\"\r\n",
        "\r\n",
        "# Get the HTML data using request:\r\n",
        "response4 = request.urlopen(url4)\r\n",
        "display(type(response4))\r\n",
        "html4 = response4.read().decode('UTF8')\r\n",
        "display(type(html4))"
      ],
      "execution_count": 30,
      "outputs": [
        {
          "output_type": "display_data",
          "data": {
            "text/plain": [
              "http.client.HTTPResponse"
            ]
          },
          "metadata": {
            "tags": []
          }
        },
        {
          "output_type": "display_data",
          "data": {
            "text/plain": [
              "str"
            ]
          },
          "metadata": {
            "tags": []
          }
        }
      ]
    },
    {
      "cell_type": "code",
      "metadata": {
        "id": "Al5ytx-6p51k"
      },
      "source": [
        "# Clean up the HTML code using Beautiful Soup and then pull out what we need - just the table data.\r\n",
        "# Pull out stadium info\r\n",
        "html4Soup = BeautifulSoup(html4, \"html.parser\")\r\n",
        "\r\n",
        "stad_table = html4Soup.find('table', {'class':'wikitable sortable'})"
      ],
      "execution_count": 31,
      "outputs": []
    },
    {
      "cell_type": "code",
      "metadata": {
        "id": "pY0_fp4gtxGO"
      },
      "source": [
        "# Extract the row data.  We are interested in: Team, City, State, and Capacity\r\n",
        "c0=[]\r\n",
        "c1=[]\r\n",
        "c2=[]\r\n",
        "c3=[]\r\n",
        "\r\n",
        "\r\n",
        "for row in stad_table.findAll('tr'):\r\n",
        "  cells = row.findAll('td')\r\n",
        "  if len(cells) == 11:\r\n",
        "    c0.append(cells[4].find('a').get_text())\r\n",
        "    c1.append(cells[2].get_text().rstrip())\r\n",
        "    c2.append(cells[3].get_text().rstrip())\r\n",
        "    c3.append(cells[6].find('span').get_text().rstrip()) "
      ],
      "execution_count": 32,
      "outputs": []
    },
    {
      "cell_type": "code",
      "metadata": {
        "colab": {
          "base_uri": "https://localhost:8080/",
          "height": 0
        },
        "id": "kJsurCfktrzV",
        "outputId": "816a0705-3c05-4986-de4e-f6ac91153a3a"
      },
      "source": [
        "stadDict = dict()\r\n",
        "stadDict['Team'] = c0\r\n",
        "stadDict['City'] = c1\r\n",
        "stadDict['State'] = c2\r\n",
        "stadDict['Capacity'] = c3\r\n",
        "\r\n",
        "stadDf = pd.DataFrame(stadDict)\r\n",
        "stadDf.head(5)"
      ],
      "execution_count": 33,
      "outputs": [
        {
          "output_type": "execute_result",
          "data": {
            "text/html": [
              "<div>\n",
              "<style scoped>\n",
              "    .dataframe tbody tr th:only-of-type {\n",
              "        vertical-align: middle;\n",
              "    }\n",
              "\n",
              "    .dataframe tbody tr th {\n",
              "        vertical-align: top;\n",
              "    }\n",
              "\n",
              "    .dataframe thead th {\n",
              "        text-align: right;\n",
              "    }\n",
              "</style>\n",
              "<table border=\"1\" class=\"dataframe\">\n",
              "  <thead>\n",
              "    <tr style=\"text-align: right;\">\n",
              "      <th></th>\n",
              "      <th>Team</th>\n",
              "      <th>City</th>\n",
              "      <th>State</th>\n",
              "      <th>Capacity</th>\n",
              "    </tr>\n",
              "  </thead>\n",
              "  <tbody>\n",
              "    <tr>\n",
              "      <th>0</th>\n",
              "      <td>New Mexico State</td>\n",
              "      <td>Las Cruces</td>\n",
              "      <td>NM</td>\n",
              "      <td>30,343</td>\n",
              "    </tr>\n",
              "    <tr>\n",
              "      <th>1</th>\n",
              "      <td>UTSA</td>\n",
              "      <td>San Antonio</td>\n",
              "      <td>TX</td>\n",
              "      <td>65,000</td>\n",
              "    </tr>\n",
              "    <tr>\n",
              "      <th>2</th>\n",
              "      <td>Washington</td>\n",
              "      <td>Seattle</td>\n",
              "      <td>WA</td>\n",
              "      <td>70,500</td>\n",
              "    </tr>\n",
              "    <tr>\n",
              "      <th>3</th>\n",
              "      <td>Boise State</td>\n",
              "      <td>Boise</td>\n",
              "      <td>ID</td>\n",
              "      <td>36,387</td>\n",
              "    </tr>\n",
              "    <tr>\n",
              "      <th>4</th>\n",
              "      <td>UNLV</td>\n",
              "      <td>Paradise</td>\n",
              "      <td>NV</td>\n",
              "      <td>65,000</td>\n",
              "    </tr>\n",
              "  </tbody>\n",
              "</table>\n",
              "</div>"
            ],
            "text/plain": [
              "               Team         City State Capacity\n",
              "0  New Mexico State   Las Cruces    NM   30,343\n",
              "1              UTSA  San Antonio    TX   65,000\n",
              "2        Washington      Seattle    WA   70,500\n",
              "3       Boise State        Boise    ID   36,387\n",
              "4              UNLV     Paradise    NV   65,000"
            ]
          },
          "metadata": {
            "tags": []
          },
          "execution_count": 33
        }
      ]
    },
    {
      "cell_type": "code",
      "metadata": {
        "id": "5v1b9AwL01gk"
      },
      "source": [
        "miamiix = stadDf[(stadDf['Team'] == 'Miami') & (stadDf['State'] == 'FL')].index.tolist()\r\n",
        "miamiix\r\n",
        "stadDf.at[miamiix[0], \"Team\"] = \"Miami (FL)\""
      ],
      "execution_count": 34,
      "outputs": []
    },
    {
      "cell_type": "code",
      "metadata": {
        "id": "krLj_FkkwOc-"
      },
      "source": [
        "# Rename schools to better match\r\n",
        "stadDf[\"Team\"] = stadDf[\"Team\"].str.replace(\"UAB\", \"Alabama - Birmingham\")\r\n",
        "stadDf[\"Team\"] = stadDf[\"Team\"].str.replace(\"UCF\", \"Central Florida\")\r\n",
        "stadDf[\"Team\"] = stadDf[\"Team\"].str.replace(\"FIU\", \"Florida International\")\r\n",
        "stadDf[\"Team\"] = stadDf[\"Team\"].str.replace(\"UNLV\", \"Nevada - Las Vegas\")\r\n",
        "stadDf['Team'] = stadDf['Team'].str.replace(\"NC State\", \"North Carolina State\")\r\n",
        "stadDf[\"Team\"] = stadDf[\"Team\"].str.replace(\"NIU\", \"Northern Illinois\")\r\n",
        "stadDf[\"Team\"] = stadDf[\"Team\"].str.replace(\"USF\", \"South Florida\")\r\n",
        "stadDf[\"Team\"] = stadDf[\"Team\"].str.replace(\"TCU\", \"Texas Christian\")\r\n",
        "stadDf[\"Team\"] = stadDf[\"Team\"].str.replace(\"UTEP\", \"Texas - El Paso\")\r\n",
        "stadDf[\"Team\"] = stadDf[\"Team\"].str.replace(\"UTSA\", \"Texas - San Antonio\")\r\n",
        "\r\n",
        " # Using fuzzywuzzy to match up the stadium table to the main coaches table\r\n",
        "slist = stadDf['Team']\r\n",
        "\r\n",
        "# Match school names to the official list in Coaches table\r\n",
        "match = coachesFinal2['School'].apply(lambda x: process.extract(x, slist, limit=1))"
      ],
      "execution_count": 35,
      "outputs": []
    },
    {
      "cell_type": "code",
      "metadata": {
        "colab": {
          "base_uri": "https://localhost:8080/",
          "height": 0
        },
        "id": "_uD4-rDscoT0",
        "outputId": "97b80182-a902-41c4-e654-611e69cce993"
      },
      "source": [
        "# Add Stadium and location information to the Master data frame\r\n",
        "sname = [i[0][0] for i in match]\r\n",
        "coachesFinal2['sname'] = sname\r\n",
        "coachesFinal3 = coachesFinal2.join(stadDf.set_index('Team'), on = 'sname')\r\n",
        "coachesFinal3 = coachesFinal3.drop('sname', 1)\r\n",
        "coachesFinal3.head(5)"
      ],
      "execution_count": 36,
      "outputs": [
        {
          "output_type": "execute_result",
          "data": {
            "text/html": [
              "<div>\n",
              "<style scoped>\n",
              "    .dataframe tbody tr th:only-of-type {\n",
              "        vertical-align: middle;\n",
              "    }\n",
              "\n",
              "    .dataframe tbody tr th {\n",
              "        vertical-align: top;\n",
              "    }\n",
              "\n",
              "    .dataframe thead th {\n",
              "        text-align: right;\n",
              "    }\n",
              "</style>\n",
              "<table border=\"1\" class=\"dataframe\">\n",
              "  <thead>\n",
              "    <tr style=\"text-align: right;\">\n",
              "      <th></th>\n",
              "      <th>School</th>\n",
              "      <th>Conference</th>\n",
              "      <th>Coach</th>\n",
              "      <th>SchoolPay</th>\n",
              "      <th>Bonus</th>\n",
              "      <th>coachGames</th>\n",
              "      <th>coachWins</th>\n",
              "      <th>coachLosses</th>\n",
              "      <th>coachTies</th>\n",
              "      <th>Team Wins</th>\n",
              "      <th>Team Losses</th>\n",
              "      <th>Team Ties</th>\n",
              "      <th>Team Win Pct</th>\n",
              "      <th>Years</th>\n",
              "      <th>Team Total Games</th>\n",
              "      <th>Championships</th>\n",
              "      <th>Bowl Wins</th>\n",
              "      <th>Bowl Losses</th>\n",
              "      <th>Bowl Ties</th>\n",
              "      <th>Bowls Played</th>\n",
              "      <th>Bowl Win Pct</th>\n",
              "      <th>Last Bowl Year</th>\n",
              "      <th>Last Bowl Win</th>\n",
              "      <th>City</th>\n",
              "      <th>State</th>\n",
              "      <th>Capacity</th>\n",
              "    </tr>\n",
              "  </thead>\n",
              "  <tbody>\n",
              "    <tr>\n",
              "      <th>0</th>\n",
              "      <td>Air Force</td>\n",
              "      <td>Mt. West</td>\n",
              "      <td>Troy Calhoun</td>\n",
              "      <td>885000.0</td>\n",
              "      <td>247000.0</td>\n",
              "      <td>167</td>\n",
              "      <td>98</td>\n",
              "      <td>69</td>\n",
              "      <td>0</td>\n",
              "      <td>404</td>\n",
              "      <td>332</td>\n",
              "      <td>13</td>\n",
              "      <td>0.548</td>\n",
              "      <td>64</td>\n",
              "      <td>749</td>\n",
              "      <td>0.0</td>\n",
              "      <td>13</td>\n",
              "      <td>13</td>\n",
              "      <td>1</td>\n",
              "      <td>27</td>\n",
              "      <td>.500</td>\n",
              "      <td>2019</td>\n",
              "      <td>2019</td>\n",
              "      <td>Colorado Springs</td>\n",
              "      <td>CO</td>\n",
              "      <td>46,692</td>\n",
              "    </tr>\n",
              "    <tr>\n",
              "      <th>1</th>\n",
              "      <td>Akron</td>\n",
              "      <td>MAC</td>\n",
              "      <td>Terry Bowden</td>\n",
              "      <td>411000.0</td>\n",
              "      <td>225000.0</td>\n",
              "      <td>152</td>\n",
              "      <td>82</td>\n",
              "      <td>69</td>\n",
              "      <td>1</td>\n",
              "      <td>524</td>\n",
              "      <td>563</td>\n",
              "      <td>36</td>\n",
              "      <td>0.483</td>\n",
              "      <td>119</td>\n",
              "      <td>1123</td>\n",
              "      <td>0.0</td>\n",
              "      <td>1</td>\n",
              "      <td>2</td>\n",
              "      <td>0</td>\n",
              "      <td>3</td>\n",
              "      <td>.333</td>\n",
              "      <td>2017</td>\n",
              "      <td>2015</td>\n",
              "      <td>Akron</td>\n",
              "      <td>OH</td>\n",
              "      <td>30,000</td>\n",
              "    </tr>\n",
              "    <tr>\n",
              "      <th>2</th>\n",
              "      <td>Alabama</td>\n",
              "      <td>SEC</td>\n",
              "      <td>Nick Saban</td>\n",
              "      <td>8307000.0</td>\n",
              "      <td>1100000.0</td>\n",
              "      <td>314</td>\n",
              "      <td>248</td>\n",
              "      <td>65</td>\n",
              "      <td>1</td>\n",
              "      <td>929</td>\n",
              "      <td>331</td>\n",
              "      <td>43</td>\n",
              "      <td>0.729</td>\n",
              "      <td>125</td>\n",
              "      <td>1303</td>\n",
              "      <td>13.0</td>\n",
              "      <td>44</td>\n",
              "      <td>26</td>\n",
              "      <td>3</td>\n",
              "      <td>73</td>\n",
              "      <td>.632</td>\n",
              "      <td>2020</td>\n",
              "      <td>2020</td>\n",
              "      <td>Tuscaloosa</td>\n",
              "      <td>AL</td>\n",
              "      <td>101,821</td>\n",
              "    </tr>\n",
              "    <tr>\n",
              "      <th>3</th>\n",
              "      <td>Alabama at Birmingham</td>\n",
              "      <td>C-USA</td>\n",
              "      <td>Bill Clark</td>\n",
              "      <td>900000.0</td>\n",
              "      <td>950000.0</td>\n",
              "      <td>53</td>\n",
              "      <td>34</td>\n",
              "      <td>19</td>\n",
              "      <td>0</td>\n",
              "      <td>152</td>\n",
              "      <td>169</td>\n",
              "      <td>2</td>\n",
              "      <td>0.474</td>\n",
              "      <td>27</td>\n",
              "      <td>323</td>\n",
              "      <td>0.0</td>\n",
              "      <td>44</td>\n",
              "      <td>26</td>\n",
              "      <td>3</td>\n",
              "      <td>73</td>\n",
              "      <td>.632</td>\n",
              "      <td>2020</td>\n",
              "      <td>2020</td>\n",
              "      <td>Birmingham</td>\n",
              "      <td>AL</td>\n",
              "      <td>71,594</td>\n",
              "    </tr>\n",
              "    <tr>\n",
              "      <th>4</th>\n",
              "      <td>Appalachian State</td>\n",
              "      <td>Sun Belt</td>\n",
              "      <td>Scott Satterfield</td>\n",
              "      <td>712500.0</td>\n",
              "      <td>295000.0</td>\n",
              "      <td>76</td>\n",
              "      <td>55</td>\n",
              "      <td>21</td>\n",
              "      <td>0</td>\n",
              "      <td>639</td>\n",
              "      <td>339</td>\n",
              "      <td>29</td>\n",
              "      <td>0.649</td>\n",
              "      <td>90</td>\n",
              "      <td>1007</td>\n",
              "      <td>0.0</td>\n",
              "      <td>6</td>\n",
              "      <td>0</td>\n",
              "      <td>0</td>\n",
              "      <td>6</td>\n",
              "      <td>1.000</td>\n",
              "      <td>2020</td>\n",
              "      <td>2020</td>\n",
              "      <td>Boone</td>\n",
              "      <td>NC</td>\n",
              "      <td>30,000</td>\n",
              "    </tr>\n",
              "  </tbody>\n",
              "</table>\n",
              "</div>"
            ],
            "text/plain": [
              "                  School Conference  ... State  Capacity\n",
              "0              Air Force   Mt. West  ...    CO    46,692\n",
              "1                  Akron        MAC  ...    OH    30,000\n",
              "2                Alabama        SEC  ...    AL   101,821\n",
              "3  Alabama at Birmingham      C-USA  ...    AL    71,594\n",
              "4      Appalachian State   Sun Belt  ...    NC    30,000\n",
              "\n",
              "[5 rows x 26 columns]"
            ]
          },
          "metadata": {
            "tags": []
          },
          "execution_count": 36
        }
      ]
    },
    {
      "cell_type": "markdown",
      "metadata": {
        "id": "1ShrjWPrfCjL"
      },
      "source": [
        "### Graduation Rates"
      ]
    },
    {
      "cell_type": "markdown",
      "metadata": {
        "id": "p90YDfpxgMBy"
      },
      "source": [
        "The next metric to look at is graduation rates for college football athletes.  This data was found at https://www.ncaa.org/about/resources/research/shared-ncaa-research-data and I am using the most recently available cohort - the 2011 cohort.  "
      ]
    },
    {
      "cell_type": "code",
      "metadata": {
        "id": "2Nd4UwqSgwrx"
      },
      "source": [
        "gradURL = 'https://raw.githubusercontent.com/clemsongreg/IST718/main/Lab1/GradData.txt'\r\n",
        "\r\n",
        "# Create intial dataframe called gradRaw\r\n",
        "gradRaw = pd.read_csv(gradURL) "
      ],
      "execution_count": 37,
      "outputs": []
    },
    {
      "cell_type": "code",
      "metadata": {
        "colab": {
          "base_uri": "https://localhost:8080/",
          "height": 485
        },
        "id": "Fcs76bEIh-0A",
        "outputId": "13b39488-a335-4466-af43-2aa9bd116bf3"
      },
      "source": [
        "# Quick peek at grad data\r\n",
        "display(gradRaw.describe())\r\n",
        "\r\n",
        "display(gradRaw.head(5))\r\n",
        "\r\n",
        "display(gradRaw.shape)"
      ],
      "execution_count": 38,
      "outputs": [
        {
          "output_type": "display_data",
          "data": {
            "text/html": [
              "<div>\n",
              "<style scoped>\n",
              "    .dataframe tbody tr th:only-of-type {\n",
              "        vertical-align: middle;\n",
              "    }\n",
              "\n",
              "    .dataframe tbody tr th {\n",
              "        vertical-align: top;\n",
              "    }\n",
              "\n",
              "    .dataframe thead th {\n",
              "        text-align: right;\n",
              "    }\n",
              "</style>\n",
              "<table border=\"1\" class=\"dataframe\">\n",
              "  <thead>\n",
              "    <tr style=\"text-align: right;\">\n",
              "      <th></th>\n",
              "      <th>SCL_UNITID</th>\n",
              "      <th>SCL_DIVISION</th>\n",
              "      <th>SCL_SUBDIVISION</th>\n",
              "      <th>SCL_HBCU</th>\n",
              "      <th>SCL_PRIVATE</th>\n",
              "      <th>SPONSORED</th>\n",
              "      <th>FED_RATE</th>\n",
              "      <th>GSR</th>\n",
              "    </tr>\n",
              "  </thead>\n",
              "  <tbody>\n",
              "    <tr>\n",
              "      <th>count</th>\n",
              "      <td>5403.000000</td>\n",
              "      <td>5403.0</td>\n",
              "      <td>5403.000000</td>\n",
              "      <td>5403.000000</td>\n",
              "      <td>5403.000000</td>\n",
              "      <td>5403.000000</td>\n",
              "      <td>5093.000000</td>\n",
              "      <td>5264.000000</td>\n",
              "    </tr>\n",
              "    <tr>\n",
              "      <th>mean</th>\n",
              "      <td>180022.727189</td>\n",
              "      <td>1.0</td>\n",
              "      <td>1.872478</td>\n",
              "      <td>1.944105</td>\n",
              "      <td>0.361466</td>\n",
              "      <td>0.975569</td>\n",
              "      <td>68.634793</td>\n",
              "      <td>89.081687</td>\n",
              "    </tr>\n",
              "    <tr>\n",
              "      <th>std</th>\n",
              "      <td>44881.424476</td>\n",
              "      <td>0.0</td>\n",
              "      <td>0.793011</td>\n",
              "      <td>0.229740</td>\n",
              "      <td>0.480470</td>\n",
              "      <td>0.154397</td>\n",
              "      <td>20.730781</td>\n",
              "      <td>12.618994</td>\n",
              "    </tr>\n",
              "    <tr>\n",
              "      <th>min</th>\n",
              "      <td>100654.000000</td>\n",
              "      <td>1.0</td>\n",
              "      <td>1.000000</td>\n",
              "      <td>1.000000</td>\n",
              "      <td>0.000000</td>\n",
              "      <td>0.000000</td>\n",
              "      <td>0.000000</td>\n",
              "      <td>0.000000</td>\n",
              "    </tr>\n",
              "    <tr>\n",
              "      <th>25%</th>\n",
              "      <td>145813.000000</td>\n",
              "      <td>1.0</td>\n",
              "      <td>1.000000</td>\n",
              "      <td>2.000000</td>\n",
              "      <td>0.000000</td>\n",
              "      <td>1.000000</td>\n",
              "      <td>56.000000</td>\n",
              "      <td>83.000000</td>\n",
              "    </tr>\n",
              "    <tr>\n",
              "      <th>50%</th>\n",
              "      <td>185828.000000</td>\n",
              "      <td>1.0</td>\n",
              "      <td>2.000000</td>\n",
              "      <td>2.000000</td>\n",
              "      <td>0.000000</td>\n",
              "      <td>1.000000</td>\n",
              "      <td>71.000000</td>\n",
              "      <td>92.000000</td>\n",
              "    </tr>\n",
              "    <tr>\n",
              "      <th>75%</th>\n",
              "      <td>215743.000000</td>\n",
              "      <td>1.0</td>\n",
              "      <td>3.000000</td>\n",
              "      <td>2.000000</td>\n",
              "      <td>1.000000</td>\n",
              "      <td>1.000000</td>\n",
              "      <td>83.000000</td>\n",
              "      <td>100.000000</td>\n",
              "    </tr>\n",
              "    <tr>\n",
              "      <th>max</th>\n",
              "      <td>486840.000000</td>\n",
              "      <td>1.0</td>\n",
              "      <td>3.000000</td>\n",
              "      <td>2.000000</td>\n",
              "      <td>1.000000</td>\n",
              "      <td>1.000000</td>\n",
              "      <td>100.000000</td>\n",
              "      <td>100.000000</td>\n",
              "    </tr>\n",
              "  </tbody>\n",
              "</table>\n",
              "</div>"
            ],
            "text/plain": [
              "          SCL_UNITID  SCL_DIVISION  ...     FED_RATE          GSR\n",
              "count    5403.000000        5403.0  ...  5093.000000  5264.000000\n",
              "mean   180022.727189           1.0  ...    68.634793    89.081687\n",
              "std     44881.424476           0.0  ...    20.730781    12.618994\n",
              "min    100654.000000           1.0  ...     0.000000     0.000000\n",
              "25%    145813.000000           1.0  ...    56.000000    83.000000\n",
              "50%    185828.000000           1.0  ...    71.000000    92.000000\n",
              "75%    215743.000000           1.0  ...    83.000000   100.000000\n",
              "max    486840.000000           1.0  ...   100.000000   100.000000\n",
              "\n",
              "[8 rows x 8 columns]"
            ]
          },
          "metadata": {
            "tags": []
          }
        },
        {
          "output_type": "display_data",
          "data": {
            "text/html": [
              "<div>\n",
              "<style scoped>\n",
              "    .dataframe tbody tr th:only-of-type {\n",
              "        vertical-align: middle;\n",
              "    }\n",
              "\n",
              "    .dataframe tbody tr th {\n",
              "        vertical-align: top;\n",
              "    }\n",
              "\n",
              "    .dataframe thead th {\n",
              "        text-align: right;\n",
              "    }\n",
              "</style>\n",
              "<table border=\"1\" class=\"dataframe\">\n",
              "  <thead>\n",
              "    <tr style=\"text-align: right;\">\n",
              "      <th></th>\n",
              "      <th>SCL_UNITID</th>\n",
              "      <th>SCL_NAME</th>\n",
              "      <th>SCL_DIVISION</th>\n",
              "      <th>SCL_SUBDIVISION</th>\n",
              "      <th>SCL_CONFERENCE</th>\n",
              "      <th>DIV1_FB_CONFERENCE</th>\n",
              "      <th>SCL_HBCU</th>\n",
              "      <th>SCL_PRIVATE</th>\n",
              "      <th>SPORT</th>\n",
              "      <th>SPONSORED</th>\n",
              "      <th>FED_RATE</th>\n",
              "      <th>GSR</th>\n",
              "    </tr>\n",
              "  </thead>\n",
              "  <tbody>\n",
              "    <tr>\n",
              "      <th>0</th>\n",
              "      <td>100654</td>\n",
              "      <td>Alabama A&amp;M University</td>\n",
              "      <td>1</td>\n",
              "      <td>2</td>\n",
              "      <td>Southwestern Athletic Conf.</td>\n",
              "      <td>Southwestern Athletic Conf.</td>\n",
              "      <td>1</td>\n",
              "      <td>0</td>\n",
              "      <td>WSB</td>\n",
              "      <td>1</td>\n",
              "      <td>57.0</td>\n",
              "      <td>61.0</td>\n",
              "    </tr>\n",
              "    <tr>\n",
              "      <th>1</th>\n",
              "      <td>100654</td>\n",
              "      <td>Alabama A&amp;M University</td>\n",
              "      <td>1</td>\n",
              "      <td>2</td>\n",
              "      <td>Southwestern Athletic Conf.</td>\n",
              "      <td>Southwestern Athletic Conf.</td>\n",
              "      <td>1</td>\n",
              "      <td>0</td>\n",
              "      <td>MFB</td>\n",
              "      <td>1</td>\n",
              "      <td>47.0</td>\n",
              "      <td>62.0</td>\n",
              "    </tr>\n",
              "    <tr>\n",
              "      <th>2</th>\n",
              "      <td>100654</td>\n",
              "      <td>Alabama A&amp;M University</td>\n",
              "      <td>1</td>\n",
              "      <td>2</td>\n",
              "      <td>Southwestern Athletic Conf.</td>\n",
              "      <td>Southwestern Athletic Conf.</td>\n",
              "      <td>1</td>\n",
              "      <td>0</td>\n",
              "      <td>WSO</td>\n",
              "      <td>1</td>\n",
              "      <td>50.0</td>\n",
              "      <td>67.0</td>\n",
              "    </tr>\n",
              "    <tr>\n",
              "      <th>3</th>\n",
              "      <td>100654</td>\n",
              "      <td>Alabama A&amp;M University</td>\n",
              "      <td>1</td>\n",
              "      <td>2</td>\n",
              "      <td>Southwestern Athletic Conf.</td>\n",
              "      <td>Southwestern Athletic Conf.</td>\n",
              "      <td>1</td>\n",
              "      <td>0</td>\n",
              "      <td>MSO</td>\n",
              "      <td>0</td>\n",
              "      <td>29.0</td>\n",
              "      <td>NaN</td>\n",
              "    </tr>\n",
              "    <tr>\n",
              "      <th>4</th>\n",
              "      <td>100654</td>\n",
              "      <td>Alabama A&amp;M University</td>\n",
              "      <td>1</td>\n",
              "      <td>2</td>\n",
              "      <td>Southwestern Athletic Conf.</td>\n",
              "      <td>Southwestern Athletic Conf.</td>\n",
              "      <td>1</td>\n",
              "      <td>0</td>\n",
              "      <td>WBW</td>\n",
              "      <td>1</td>\n",
              "      <td>86.0</td>\n",
              "      <td>86.0</td>\n",
              "    </tr>\n",
              "  </tbody>\n",
              "</table>\n",
              "</div>"
            ],
            "text/plain": [
              "   SCL_UNITID                SCL_NAME  SCL_DIVISION  ...  SPONSORED FED_RATE   GSR\n",
              "0      100654  Alabama A&M University             1  ...          1     57.0  61.0\n",
              "1      100654  Alabama A&M University             1  ...          1     47.0  62.0\n",
              "2      100654  Alabama A&M University             1  ...          1     50.0  67.0\n",
              "3      100654  Alabama A&M University             1  ...          0     29.0   NaN\n",
              "4      100654  Alabama A&M University             1  ...          1     86.0  86.0\n",
              "\n",
              "[5 rows x 12 columns]"
            ]
          },
          "metadata": {
            "tags": []
          }
        },
        {
          "output_type": "display_data",
          "data": {
            "text/plain": [
              "(5403, 12)"
            ]
          },
          "metadata": {
            "tags": []
          }
        }
      ]
    },
    {
      "cell_type": "markdown",
      "metadata": {
        "id": "Dtse3bngkHfD"
      },
      "source": [
        "This data breaks down GSR and Fed Rates by school and by sport.  For the purpose of this exercise, I will be limiting the dataset to only the rates for Football at the D1 schools, though I acknowledge information regarding retention rates of a student body at large, and other sports within that community could be impactful.  "
      ]
    },
    {
      "cell_type": "code",
      "metadata": {
        "id": "3snDoOFPkgia"
      },
      "source": [
        "gradFB = gradRaw[gradRaw['SPORT'] == \"MFB\"]\r\n",
        "gradFBS = gradFB[gradFB['SCL_SUBDIVISION'] == 1]\r\n",
        "\r\n",
        "# Coastal Carolina and Liberty have not been in Division 1 long, so we need to promote their FSR data back up to the right division for us..\r\n",
        "ccu = gradFB[gradFB['SCL_NAME'] == \"Coastal Carolina University\"]\r\n",
        "gradFBS = gradFBS.append(ccu)\r\n",
        "liberty = gradFB[gradFB['SCL_NAME'] == 'Liberty University']\r\n",
        "gradFBS = gradFBS.append(liberty)"
      ],
      "execution_count": 39,
      "outputs": []
    },
    {
      "cell_type": "code",
      "metadata": {
        "id": "yXNGI-LToNWG"
      },
      "source": [
        "# Trim the data frame to the features we need:\r\n",
        "gradFBS = gradFBS[['SCL_NAME','SCL_HBCU', 'SCL_PRIVATE', 'FED_RATE', 'GSR']]"
      ],
      "execution_count": 40,
      "outputs": []
    },
    {
      "cell_type": "code",
      "metadata": {
        "id": "V-ohvNGUlkR0"
      },
      "source": [
        "# Adjust School Names in grad list\r\n",
        "gradFBS['SCL_NAME'] = gradFBS['SCL_NAME'].str.replace('University of', \"\")\r\n",
        "gradFBS['SCL_NAME'] = gradFBS['SCL_NAME'].str.replace('U.S. Military Academy', 'Army')\r\n",
        "gradFBS['SCL_NAME'] = gradFBS['SCL_NAME'].str.replace('Kansas State University', 'Kansas State')\r\n",
        "gradFBS['SCL_NAME'] = gradFBS['SCL_NAME'].str.replace('California, Berkeley', 'California')\r\n",
        "gradFBS['SCL_NAME'] = gradFBS['SCL_NAME'].str.replace('Arkansas State University', 'Arkansas State')\r\n",
        "gradFBS['SCL_NAME'] = gradFBS['SCL_NAME'].str.replace('California State University, Fresno', 'Fresno State')\r\n",
        "gradFBS['SCL_NAME'] = gradFBS['SCL_NAME'].str.replace('Louisiana State University', 'LSU')\r\n",
        "gradFBS['SCL_NAME'] = gradFBS['SCL_NAME'].str.replace('Georgia Institute of Technology', 'Georgia Tech')\r\n",
        "gradFBS['SCL_NAME'] = gradFBS['SCL_NAME'].str.replace(\"Miami University\", 'Miami')\r\n",
        "gradFBS['SCL_NAME'] = gradFBS['SCL_NAME'].str.replace('Michigan State University', 'Michigan State')\r\n",
        "gradFBS['SCL_NAME'] = gradFBS['SCL_NAME'].str.replace('Mississippi State University', 'Mississippi State')\r\n",
        "gradFBS['SCL_NAME'] = gradFBS['SCL_NAME'].str.replace('Reno', \"\")\r\n",
        "gradFBS['SCL_NAME'] = gradFBS['SCL_NAME'].str.replace('New Mexico State University', 'New Mexico State')\r\n",
        "gradFBS['SCL_NAME'] = gradFBS['SCL_NAME'].str.replace('Ohio University', 'Ohio')\r\n",
        "gradFBS['SCL_NAME'] = gradFBS['SCL_NAME'].str.replace('Pennsylvania', 'Penn')\r\n",
        "gradFBS['SCL_NAME'] = gradFBS['SCL_NAME'].str.replace(', Knoxville', '')\r\n",
        "gradFBS['SCL_NAME'] = gradFBS['SCL_NAME'].str.replace('at Austin', '')\r\n",
        "gradFBS['SCL_NAME'] = gradFBS['SCL_NAME'].str.replace('Texas Christian University', 'Texas Christian')\r\n",
        "gradFBS['SCL_NAME'] = gradFBS['SCL_NAME'].str.replace('Texas Tech University', 'Texas Tech')\r\n",
        "gradFBS['SCL_NAME'] = gradFBS['SCL_NAME'].str.replace('Los Angeles', 'UCLA')\r\n",
        "gradFBS['SCL_NAME'] = gradFBS['SCL_NAME'].str.replace('Virginia Polytechnic', 'Virginia Tech')\r\n",
        "gradFBS['SCL_NAME'] = gradFBS['SCL_NAME'].str.replace('West Virginia University', 'West Virginia')\r\n",
        "gradFBS['SCL_NAME'] = gradFBS['SCL_NAME'].str.replace('Western Kentucky University', 'Western Kentucky')\r\n",
        "gradFBS['SCL_NAME'] = gradFBS['SCL_NAME'].str.replace('Western Michigan University', 'Western Michigan')\r\n",
        "gradFBS['SCL_NAME'] = gradFBS['SCL_NAME'].str.replace('Eastern Michigan University', 'Eastern Michigan')\r\n",
        "\r\n",
        "# Match the School Names from this list to the Master data file using fuzzywuzzy\r\n",
        "glist = gradFBS['SCL_NAME']\r\n",
        "\r\n",
        "match = coachesFinal3['School'].apply(lambda x: process.extract(x, glist, limit=1))"
      ],
      "execution_count": 41,
      "outputs": []
    },
    {
      "cell_type": "code",
      "metadata": {
        "colab": {
          "base_uri": "https://localhost:8080/",
          "height": 334
        },
        "id": "Y0CY87qrntvv",
        "outputId": "ea436e0e-5b6d-455b-e4df-01c2bc02d3ec"
      },
      "source": [
        "# Add graduate data to the master data file\r\n",
        "gname = [i[0][0] for i in match]\r\n",
        "coachesFinal3['gname'] = gname\r\n",
        "coachesFinal4 = coachesFinal3.join(gradFBS.set_index('SCL_NAME'), on = 'gname')\r\n",
        "coachesFinal4 = coachesFinal4.drop('gname', 1)\r\n",
        "coachesFinal4.head(5)"
      ],
      "execution_count": 42,
      "outputs": [
        {
          "output_type": "execute_result",
          "data": {
            "text/html": [
              "<div>\n",
              "<style scoped>\n",
              "    .dataframe tbody tr th:only-of-type {\n",
              "        vertical-align: middle;\n",
              "    }\n",
              "\n",
              "    .dataframe tbody tr th {\n",
              "        vertical-align: top;\n",
              "    }\n",
              "\n",
              "    .dataframe thead th {\n",
              "        text-align: right;\n",
              "    }\n",
              "</style>\n",
              "<table border=\"1\" class=\"dataframe\">\n",
              "  <thead>\n",
              "    <tr style=\"text-align: right;\">\n",
              "      <th></th>\n",
              "      <th>School</th>\n",
              "      <th>Conference</th>\n",
              "      <th>Coach</th>\n",
              "      <th>SchoolPay</th>\n",
              "      <th>Bonus</th>\n",
              "      <th>coachGames</th>\n",
              "      <th>coachWins</th>\n",
              "      <th>coachLosses</th>\n",
              "      <th>coachTies</th>\n",
              "      <th>Team Wins</th>\n",
              "      <th>Team Losses</th>\n",
              "      <th>Team Ties</th>\n",
              "      <th>Team Win Pct</th>\n",
              "      <th>Years</th>\n",
              "      <th>Team Total Games</th>\n",
              "      <th>Championships</th>\n",
              "      <th>Bowl Wins</th>\n",
              "      <th>Bowl Losses</th>\n",
              "      <th>Bowl Ties</th>\n",
              "      <th>Bowls Played</th>\n",
              "      <th>Bowl Win Pct</th>\n",
              "      <th>Last Bowl Year</th>\n",
              "      <th>Last Bowl Win</th>\n",
              "      <th>City</th>\n",
              "      <th>State</th>\n",
              "      <th>Capacity</th>\n",
              "      <th>SCL_HBCU</th>\n",
              "      <th>SCL_PRIVATE</th>\n",
              "      <th>FED_RATE</th>\n",
              "      <th>GSR</th>\n",
              "    </tr>\n",
              "  </thead>\n",
              "  <tbody>\n",
              "    <tr>\n",
              "      <th>0</th>\n",
              "      <td>Air Force</td>\n",
              "      <td>Mt. West</td>\n",
              "      <td>Troy Calhoun</td>\n",
              "      <td>885000.0</td>\n",
              "      <td>247000.0</td>\n",
              "      <td>167</td>\n",
              "      <td>98</td>\n",
              "      <td>69</td>\n",
              "      <td>0</td>\n",
              "      <td>404</td>\n",
              "      <td>332</td>\n",
              "      <td>13</td>\n",
              "      <td>0.548</td>\n",
              "      <td>64</td>\n",
              "      <td>749</td>\n",
              "      <td>0.0</td>\n",
              "      <td>13</td>\n",
              "      <td>13</td>\n",
              "      <td>1</td>\n",
              "      <td>27</td>\n",
              "      <td>.500</td>\n",
              "      <td>2019</td>\n",
              "      <td>2019</td>\n",
              "      <td>Colorado Springs</td>\n",
              "      <td>CO</td>\n",
              "      <td>46,692</td>\n",
              "      <td>2</td>\n",
              "      <td>0</td>\n",
              "      <td>NaN</td>\n",
              "      <td>77.0</td>\n",
              "    </tr>\n",
              "    <tr>\n",
              "      <th>1</th>\n",
              "      <td>Akron</td>\n",
              "      <td>MAC</td>\n",
              "      <td>Terry Bowden</td>\n",
              "      <td>411000.0</td>\n",
              "      <td>225000.0</td>\n",
              "      <td>152</td>\n",
              "      <td>82</td>\n",
              "      <td>69</td>\n",
              "      <td>1</td>\n",
              "      <td>524</td>\n",
              "      <td>563</td>\n",
              "      <td>36</td>\n",
              "      <td>0.483</td>\n",
              "      <td>119</td>\n",
              "      <td>1123</td>\n",
              "      <td>0.0</td>\n",
              "      <td>1</td>\n",
              "      <td>2</td>\n",
              "      <td>0</td>\n",
              "      <td>3</td>\n",
              "      <td>.333</td>\n",
              "      <td>2017</td>\n",
              "      <td>2015</td>\n",
              "      <td>Akron</td>\n",
              "      <td>OH</td>\n",
              "      <td>30,000</td>\n",
              "      <td>2</td>\n",
              "      <td>0</td>\n",
              "      <td>61.0</td>\n",
              "      <td>72.0</td>\n",
              "    </tr>\n",
              "    <tr>\n",
              "      <th>2</th>\n",
              "      <td>Alabama</td>\n",
              "      <td>SEC</td>\n",
              "      <td>Nick Saban</td>\n",
              "      <td>8307000.0</td>\n",
              "      <td>1100000.0</td>\n",
              "      <td>314</td>\n",
              "      <td>248</td>\n",
              "      <td>65</td>\n",
              "      <td>1</td>\n",
              "      <td>929</td>\n",
              "      <td>331</td>\n",
              "      <td>43</td>\n",
              "      <td>0.729</td>\n",
              "      <td>125</td>\n",
              "      <td>1303</td>\n",
              "      <td>13.0</td>\n",
              "      <td>44</td>\n",
              "      <td>26</td>\n",
              "      <td>3</td>\n",
              "      <td>73</td>\n",
              "      <td>.632</td>\n",
              "      <td>2020</td>\n",
              "      <td>2020</td>\n",
              "      <td>Tuscaloosa</td>\n",
              "      <td>AL</td>\n",
              "      <td>101,821</td>\n",
              "      <td>2</td>\n",
              "      <td>0</td>\n",
              "      <td>63.0</td>\n",
              "      <td>84.0</td>\n",
              "    </tr>\n",
              "    <tr>\n",
              "      <th>3</th>\n",
              "      <td>Alabama at Birmingham</td>\n",
              "      <td>C-USA</td>\n",
              "      <td>Bill Clark</td>\n",
              "      <td>900000.0</td>\n",
              "      <td>950000.0</td>\n",
              "      <td>53</td>\n",
              "      <td>34</td>\n",
              "      <td>19</td>\n",
              "      <td>0</td>\n",
              "      <td>152</td>\n",
              "      <td>169</td>\n",
              "      <td>2</td>\n",
              "      <td>0.474</td>\n",
              "      <td>27</td>\n",
              "      <td>323</td>\n",
              "      <td>0.0</td>\n",
              "      <td>44</td>\n",
              "      <td>26</td>\n",
              "      <td>3</td>\n",
              "      <td>73</td>\n",
              "      <td>.632</td>\n",
              "      <td>2020</td>\n",
              "      <td>2020</td>\n",
              "      <td>Birmingham</td>\n",
              "      <td>AL</td>\n",
              "      <td>71,594</td>\n",
              "      <td>2</td>\n",
              "      <td>0</td>\n",
              "      <td>58.0</td>\n",
              "      <td>71.0</td>\n",
              "    </tr>\n",
              "    <tr>\n",
              "      <th>4</th>\n",
              "      <td>Appalachian State</td>\n",
              "      <td>Sun Belt</td>\n",
              "      <td>Scott Satterfield</td>\n",
              "      <td>712500.0</td>\n",
              "      <td>295000.0</td>\n",
              "      <td>76</td>\n",
              "      <td>55</td>\n",
              "      <td>21</td>\n",
              "      <td>0</td>\n",
              "      <td>639</td>\n",
              "      <td>339</td>\n",
              "      <td>29</td>\n",
              "      <td>0.649</td>\n",
              "      <td>90</td>\n",
              "      <td>1007</td>\n",
              "      <td>0.0</td>\n",
              "      <td>6</td>\n",
              "      <td>0</td>\n",
              "      <td>0</td>\n",
              "      <td>6</td>\n",
              "      <td>1.000</td>\n",
              "      <td>2020</td>\n",
              "      <td>2020</td>\n",
              "      <td>Boone</td>\n",
              "      <td>NC</td>\n",
              "      <td>30,000</td>\n",
              "      <td>2</td>\n",
              "      <td>0</td>\n",
              "      <td>67.0</td>\n",
              "      <td>71.0</td>\n",
              "    </tr>\n",
              "  </tbody>\n",
              "</table>\n",
              "</div>"
            ],
            "text/plain": [
              "                  School Conference  ... FED_RATE   GSR\n",
              "0              Air Force   Mt. West  ...      NaN  77.0\n",
              "1                  Akron        MAC  ...     61.0  72.0\n",
              "2                Alabama        SEC  ...     63.0  84.0\n",
              "3  Alabama at Birmingham      C-USA  ...     58.0  71.0\n",
              "4      Appalachian State   Sun Belt  ...     67.0  71.0\n",
              "\n",
              "[5 rows x 30 columns]"
            ]
          },
          "metadata": {
            "tags": []
          },
          "execution_count": 42
        }
      ]
    },
    {
      "cell_type": "markdown",
      "metadata": {
        "id": "U0GM4zHusOoI"
      },
      "source": [
        "### 2019 Rankings"
      ]
    },
    {
      "cell_type": "markdown",
      "metadata": {
        "id": "FI-U6KKNsRzY"
      },
      "source": [
        "Look, 2020 was a tough year, and a strange one when it comes to college football.  I mean, a team that only played 6 regular season games was enough to make it into the college playoffs to face off against a team forced to weather twice as many games.  No bitterness here.\r\n",
        "\r\n",
        "Regardless, I felt it better to use 2019 values for win-loss records as they are more consistent and more reflective of actual season records.  Plus, they are closer temporally to the coaching data collected.\r\n",
        "\r\n",
        "Data was scraped off of TeamRankings.com"
      ]
    },
    {
      "cell_type": "code",
      "metadata": {
        "colab": {
          "base_uri": "https://localhost:8080/",
          "height": 0
        },
        "id": "2_fHLf93pDBw",
        "outputId": "fd88935f-5991-451a-e1f0-8fd6a7b28c37"
      },
      "source": [
        "# Next time I will remember to make a function early in this process\r\n",
        "url5 = \"https://www.teamrankings.com/ncf/trends/win_trends/?range=yearly_2019\"\r\n",
        "\r\n",
        "# Get the HTML data using request:\r\n",
        "response5 = request.urlopen(url5)\r\n",
        "display(type(response5))\r\n",
        "html5 = response5.read().decode('UTF8')\r\n",
        "display(type(html5))"
      ],
      "execution_count": 43,
      "outputs": [
        {
          "output_type": "display_data",
          "data": {
            "text/plain": [
              "http.client.HTTPResponse"
            ]
          },
          "metadata": {
            "tags": []
          }
        },
        {
          "output_type": "display_data",
          "data": {
            "text/plain": [
              "str"
            ]
          },
          "metadata": {
            "tags": []
          }
        }
      ]
    },
    {
      "cell_type": "code",
      "metadata": {
        "id": "afC9c87YtNjR"
      },
      "source": [
        "# Clean up the HTML code using Beautiful Soup and then pull out what we need - just the table data.\r\n",
        "# Pull out win-loss table data\r\n",
        "html5Soup = BeautifulSoup(html5, \"html.parser\")\r\n",
        "\r\n",
        "season_table = html5Soup.find('table', {'class':'tr-table datatable scrollable'})"
      ],
      "execution_count": 44,
      "outputs": []
    },
    {
      "cell_type": "code",
      "metadata": {
        "id": "fYW963rguHJx"
      },
      "source": [
        "# Extract the row data.  We are interested in: Team and Win-Loss Record\r\n",
        "c0=[]\r\n",
        "c1=[]\r\n",
        "\r\n",
        "for row in season_table.findAll('tr'):\r\n",
        "  cells = row.findAll('td')\r\n",
        "  if len(cells) == 5:\r\n",
        "    c0.append(cells[0].find('a').get_text())\r\n",
        "    c1.append(cells[1].get_text().rstrip())"
      ],
      "execution_count": 45,
      "outputs": []
    },
    {
      "cell_type": "code",
      "metadata": {
        "id": "uJJfxS--vl9t"
      },
      "source": [
        "# Unpack the record string in c1 into wins and losses\r\n",
        "yearwins = []\r\n",
        "yearlosses = []\r\n",
        "\r\n",
        "for score in c1:\r\n",
        "  r = score.split(\"-\")\r\n",
        "  yearwins.append(r[0])\r\n",
        "  yearlosses.append(r[1])\r\n"
      ],
      "execution_count": 46,
      "outputs": []
    },
    {
      "cell_type": "code",
      "metadata": {
        "colab": {
          "base_uri": "https://localhost:8080/",
          "height": 0
        },
        "id": "pDS9DfwXxDEf",
        "outputId": "99e62696-e937-43a5-a119-7aa8ba335387"
      },
      "source": [
        "# Create a data frame with data\r\n",
        "yeardict = dict()\r\n",
        "yeardict['Team'] = c0\r\n",
        "yeardict['Year Wins'] = yearwins\r\n",
        "yeardict['Year Losses'] = yearlosses\r\n",
        "\r\n",
        "yeardf = pd.DataFrame(yeardict)\r\n",
        "\r\n",
        "# Rename schools to better match\r\n",
        "yeardf[\"Team\"] = yeardf[\"Team\"].str.replace(\"UAB\", \"Alabama - Birmingham\")\r\n",
        "yeardf[\"Team\"] = yeardf[\"Team\"].str.replace(\"St\", \"State\")\r\n",
        "yeardf[\"Team\"] = yeardf[\"Team\"].str.replace(\"App State\", \"Appalachian State\")\r\n",
        "yeardf[\"Team\"] = yeardf[\"Team\"].str.replace(\"Central FL\", \"Central Florida\")\r\n",
        "yeardf[\"Team\"] = yeardf[\"Team\"].str.replace(\"Central Mich\", \"Central Michigan\")\r\n",
        "yeardf[\"Team\"] = yeardf[\"Team\"].str.replace(\"Coastal Car\", \"Coastal Carolina\")\r\n",
        "yeardf[\"Team\"] = yeardf[\"Team\"].str.replace(\"E Michigan\", \"Eastern Michigan\")\r\n",
        "yeardf[\"Team\"] = yeardf[\"Team\"].str.replace(\"Fla\", \"Florida\")\r\n",
        "yeardf[\"Team\"] = yeardf[\"Team\"].str.replace(\"Intl\", \"International\")\r\n",
        "yeardf[\"Team\"] = yeardf[\"Team\"].str.replace(\"GA\", \"Georgia\")\r\n",
        "yeardf[\"Team\"] = yeardf[\"Team\"].str.replace(\"Stateate\", \"State\")\r\n",
        "yeardf[\"Team\"] = yeardf[\"Team\"].str.replace(\"U Mass\", \"Mass\")\r\n",
        "yeardf[\"Team\"] = yeardf[\"Team\"].str.replace(\"Middle Tenn\", \"Middle Tennessee\")\r\n",
        "yeardf[\"Team\"] = yeardf[\"Team\"].str.replace(\"Miss State\", \"Mississippi State\")\r\n",
        "yeardf[\"Team\"] = yeardf[\"Team\"].str.replace(\"UNLV\", \"Nevada - Las Vegas\")\r\n",
        "yeardf[\"Team\"] = yeardf[\"Team\"].str.replace(\"N Mex\", \"New Mexico\")\r\n",
        "yeardf[\"Team\"] = yeardf[\"Team\"].str.replace(\"N Carolina\", \"North Carolina\")\r\n",
        "yeardf['Team'] = yeardf['Team'].str.replace(\"NC State\", \"North Carolina State\")\r\n",
        "yeardf[\"Team\"] = yeardf[\"Team\"].str.replace(\"N Illinois\", \"Northern Illinois\")\r\n",
        "yeardf[\"Team\"] = yeardf[\"Team\"].str.replace(\"S Alabama\", \"South Alabama\")\r\n",
        "yeardf[\"Team\"] = yeardf[\"Team\"].str.replace(\"S Carolina\", \"South Carolina\")\r\n",
        "yeardf[\"Team\"] = yeardf[\"Team\"].str.replace(\"S Florida\", \"South Florida\")\r\n",
        "yeardf[\"Team\"] = yeardf[\"Team\"].str.replace(\"USC\", \"Southern California\")\r\n",
        "yeardf[\"Team\"] = yeardf[\"Team\"].str.replace(\"S Mississippi\", \"Southern Mississippi\")\r\n",
        "yeardf[\"Team\"] = yeardf[\"Team\"].str.replace(\"TX\", \"Texas\")\r\n",
        "yeardf[\"Team\"] = yeardf[\"Team\"].str.replace(\"San Ant\", \"San Antonio\")\r\n",
        "yeardf[\"Team\"] = yeardf[\"Team\"].str.replace(\"VA\", \"Virginia\")\r\n",
        "yeardf[\"Team\"] = yeardf[\"Team\"].str.replace(\"W Virginia\", \"West Virgina\")\r\n",
        "yeardf[\"Team\"] = yeardf[\"Team\"].str.replace(\"Wash State\", \"Washington State\")\r\n",
        "yeardf[\"Team\"] = yeardf[\"Team\"].str.replace(\"W Kentucky\", \"Western Kentucky\")\r\n",
        "yeardf[\"Team\"] = yeardf[\"Team\"].str.replace(\"W Michigan\", \"Western Michigan\")\r\n",
        "ylist = yeardf['Team']\r\n",
        "\r\n",
        "# Match up names and then add 2019 wins/losses to the master data set\r\n",
        "match = coachesFinal4['School'].apply(lambda x: process.extract(x, ylist, limit=1))\r\n",
        "\r\n",
        "yname = [i[0][0] for i in match]\r\n",
        "coachesFinal4['yname'] = yname\r\n",
        "coachesFinal5 = coachesFinal4.join(yeardf.set_index('Team'), on = 'yname')\r\n",
        "coachesFinal5 = coachesFinal5.drop('yname', 1)\r\n",
        "coachesFinal5.head(5)"
      ],
      "execution_count": 47,
      "outputs": [
        {
          "output_type": "execute_result",
          "data": {
            "text/html": [
              "<div>\n",
              "<style scoped>\n",
              "    .dataframe tbody tr th:only-of-type {\n",
              "        vertical-align: middle;\n",
              "    }\n",
              "\n",
              "    .dataframe tbody tr th {\n",
              "        vertical-align: top;\n",
              "    }\n",
              "\n",
              "    .dataframe thead th {\n",
              "        text-align: right;\n",
              "    }\n",
              "</style>\n",
              "<table border=\"1\" class=\"dataframe\">\n",
              "  <thead>\n",
              "    <tr style=\"text-align: right;\">\n",
              "      <th></th>\n",
              "      <th>School</th>\n",
              "      <th>Conference</th>\n",
              "      <th>Coach</th>\n",
              "      <th>SchoolPay</th>\n",
              "      <th>Bonus</th>\n",
              "      <th>coachGames</th>\n",
              "      <th>coachWins</th>\n",
              "      <th>coachLosses</th>\n",
              "      <th>coachTies</th>\n",
              "      <th>Team Wins</th>\n",
              "      <th>Team Losses</th>\n",
              "      <th>Team Ties</th>\n",
              "      <th>Team Win Pct</th>\n",
              "      <th>Years</th>\n",
              "      <th>Team Total Games</th>\n",
              "      <th>Championships</th>\n",
              "      <th>Bowl Wins</th>\n",
              "      <th>Bowl Losses</th>\n",
              "      <th>Bowl Ties</th>\n",
              "      <th>Bowls Played</th>\n",
              "      <th>Bowl Win Pct</th>\n",
              "      <th>Last Bowl Year</th>\n",
              "      <th>Last Bowl Win</th>\n",
              "      <th>City</th>\n",
              "      <th>State</th>\n",
              "      <th>Capacity</th>\n",
              "      <th>SCL_HBCU</th>\n",
              "      <th>SCL_PRIVATE</th>\n",
              "      <th>FED_RATE</th>\n",
              "      <th>GSR</th>\n",
              "      <th>Year Wins</th>\n",
              "      <th>Year Losses</th>\n",
              "    </tr>\n",
              "  </thead>\n",
              "  <tbody>\n",
              "    <tr>\n",
              "      <th>0</th>\n",
              "      <td>Air Force</td>\n",
              "      <td>Mt. West</td>\n",
              "      <td>Troy Calhoun</td>\n",
              "      <td>885000.0</td>\n",
              "      <td>247000.0</td>\n",
              "      <td>167</td>\n",
              "      <td>98</td>\n",
              "      <td>69</td>\n",
              "      <td>0</td>\n",
              "      <td>404</td>\n",
              "      <td>332</td>\n",
              "      <td>13</td>\n",
              "      <td>0.548</td>\n",
              "      <td>64</td>\n",
              "      <td>749</td>\n",
              "      <td>0.0</td>\n",
              "      <td>13</td>\n",
              "      <td>13</td>\n",
              "      <td>1</td>\n",
              "      <td>27</td>\n",
              "      <td>.500</td>\n",
              "      <td>2019</td>\n",
              "      <td>2019</td>\n",
              "      <td>Colorado Springs</td>\n",
              "      <td>CO</td>\n",
              "      <td>46,692</td>\n",
              "      <td>2</td>\n",
              "      <td>0</td>\n",
              "      <td>NaN</td>\n",
              "      <td>77.0</td>\n",
              "      <td>11</td>\n",
              "      <td>2</td>\n",
              "    </tr>\n",
              "    <tr>\n",
              "      <th>1</th>\n",
              "      <td>Akron</td>\n",
              "      <td>MAC</td>\n",
              "      <td>Terry Bowden</td>\n",
              "      <td>411000.0</td>\n",
              "      <td>225000.0</td>\n",
              "      <td>152</td>\n",
              "      <td>82</td>\n",
              "      <td>69</td>\n",
              "      <td>1</td>\n",
              "      <td>524</td>\n",
              "      <td>563</td>\n",
              "      <td>36</td>\n",
              "      <td>0.483</td>\n",
              "      <td>119</td>\n",
              "      <td>1123</td>\n",
              "      <td>0.0</td>\n",
              "      <td>1</td>\n",
              "      <td>2</td>\n",
              "      <td>0</td>\n",
              "      <td>3</td>\n",
              "      <td>.333</td>\n",
              "      <td>2017</td>\n",
              "      <td>2015</td>\n",
              "      <td>Akron</td>\n",
              "      <td>OH</td>\n",
              "      <td>30,000</td>\n",
              "      <td>2</td>\n",
              "      <td>0</td>\n",
              "      <td>61.0</td>\n",
              "      <td>72.0</td>\n",
              "      <td>0</td>\n",
              "      <td>12</td>\n",
              "    </tr>\n",
              "    <tr>\n",
              "      <th>2</th>\n",
              "      <td>Alabama</td>\n",
              "      <td>SEC</td>\n",
              "      <td>Nick Saban</td>\n",
              "      <td>8307000.0</td>\n",
              "      <td>1100000.0</td>\n",
              "      <td>314</td>\n",
              "      <td>248</td>\n",
              "      <td>65</td>\n",
              "      <td>1</td>\n",
              "      <td>929</td>\n",
              "      <td>331</td>\n",
              "      <td>43</td>\n",
              "      <td>0.729</td>\n",
              "      <td>125</td>\n",
              "      <td>1303</td>\n",
              "      <td>13.0</td>\n",
              "      <td>44</td>\n",
              "      <td>26</td>\n",
              "      <td>3</td>\n",
              "      <td>73</td>\n",
              "      <td>.632</td>\n",
              "      <td>2020</td>\n",
              "      <td>2020</td>\n",
              "      <td>Tuscaloosa</td>\n",
              "      <td>AL</td>\n",
              "      <td>101,821</td>\n",
              "      <td>2</td>\n",
              "      <td>0</td>\n",
              "      <td>63.0</td>\n",
              "      <td>84.0</td>\n",
              "      <td>11</td>\n",
              "      <td>2</td>\n",
              "    </tr>\n",
              "    <tr>\n",
              "      <th>3</th>\n",
              "      <td>Alabama at Birmingham</td>\n",
              "      <td>C-USA</td>\n",
              "      <td>Bill Clark</td>\n",
              "      <td>900000.0</td>\n",
              "      <td>950000.0</td>\n",
              "      <td>53</td>\n",
              "      <td>34</td>\n",
              "      <td>19</td>\n",
              "      <td>0</td>\n",
              "      <td>152</td>\n",
              "      <td>169</td>\n",
              "      <td>2</td>\n",
              "      <td>0.474</td>\n",
              "      <td>27</td>\n",
              "      <td>323</td>\n",
              "      <td>0.0</td>\n",
              "      <td>44</td>\n",
              "      <td>26</td>\n",
              "      <td>3</td>\n",
              "      <td>73</td>\n",
              "      <td>.632</td>\n",
              "      <td>2020</td>\n",
              "      <td>2020</td>\n",
              "      <td>Birmingham</td>\n",
              "      <td>AL</td>\n",
              "      <td>71,594</td>\n",
              "      <td>2</td>\n",
              "      <td>0</td>\n",
              "      <td>58.0</td>\n",
              "      <td>71.0</td>\n",
              "      <td>9</td>\n",
              "      <td>5</td>\n",
              "    </tr>\n",
              "    <tr>\n",
              "      <th>4</th>\n",
              "      <td>Appalachian State</td>\n",
              "      <td>Sun Belt</td>\n",
              "      <td>Scott Satterfield</td>\n",
              "      <td>712500.0</td>\n",
              "      <td>295000.0</td>\n",
              "      <td>76</td>\n",
              "      <td>55</td>\n",
              "      <td>21</td>\n",
              "      <td>0</td>\n",
              "      <td>639</td>\n",
              "      <td>339</td>\n",
              "      <td>29</td>\n",
              "      <td>0.649</td>\n",
              "      <td>90</td>\n",
              "      <td>1007</td>\n",
              "      <td>0.0</td>\n",
              "      <td>6</td>\n",
              "      <td>0</td>\n",
              "      <td>0</td>\n",
              "      <td>6</td>\n",
              "      <td>1.000</td>\n",
              "      <td>2020</td>\n",
              "      <td>2020</td>\n",
              "      <td>Boone</td>\n",
              "      <td>NC</td>\n",
              "      <td>30,000</td>\n",
              "      <td>2</td>\n",
              "      <td>0</td>\n",
              "      <td>67.0</td>\n",
              "      <td>71.0</td>\n",
              "      <td>13</td>\n",
              "      <td>1</td>\n",
              "    </tr>\n",
              "  </tbody>\n",
              "</table>\n",
              "</div>"
            ],
            "text/plain": [
              "                  School Conference  ... Year Wins  Year Losses\n",
              "0              Air Force   Mt. West  ...        11            2\n",
              "1                  Akron        MAC  ...         0           12\n",
              "2                Alabama        SEC  ...        11            2\n",
              "3  Alabama at Birmingham      C-USA  ...         9            5\n",
              "4      Appalachian State   Sun Belt  ...        13            1\n",
              "\n",
              "[5 rows x 32 columns]"
            ]
          },
          "metadata": {
            "tags": []
          },
          "execution_count": 47
        }
      ]
    },
    {
      "cell_type": "markdown",
      "metadata": {
        "id": "OAuG63XNiwQ-"
      },
      "source": [
        "### Cleanup and Addendums"
      ]
    },
    {
      "cell_type": "code",
      "metadata": {
        "colab": {
          "base_uri": "https://localhost:8080/",
          "height": 566
        },
        "id": "fXZM8EPS90sk",
        "outputId": "9bf70a05-5ab4-4b04-d838-d4a1859626a5"
      },
      "source": [
        "# A last quick look at the data types before we finalize the data set and (finally) begin exploring\r\n",
        "\r\n",
        "coachesFinal5['Capacity'] = coachesFinal5['Capacity'].str.replace(\",\",\"\").astype(\"int\")\r\n",
        "intlist = ['SchoolPay', 'Bonus', 'Bowl Wins', 'Bowl Losses', 'Bowl Ties', 'Bowls Played', 'Year Wins', 'Year Losses']\r\n",
        "coachesFinal5[intlist]= coachesFinal5[intlist].astype(\"int\")\r\n",
        "coachesFinal5['Bowl Win Pct'] = coachesFinal5['Bowl Win Pct'].str.replace(\"–\", \"0.0\").astype('float')\r\n",
        "\r\n",
        "master = coachesFinal5\r\n",
        "display(master.dtypes)"
      ],
      "execution_count": 48,
      "outputs": [
        {
          "output_type": "display_data",
          "data": {
            "text/plain": [
              "School               object\n",
              "Conference           object\n",
              "Coach                object\n",
              "SchoolPay             int64\n",
              "Bonus                 int64\n",
              "coachGames            int64\n",
              "coachWins             int64\n",
              "coachLosses           int64\n",
              "coachTies             int64\n",
              "Team Wins             int64\n",
              "Team Losses           int64\n",
              "Team Ties             int64\n",
              "Team Win Pct        float64\n",
              "Years                 int64\n",
              "Team Total Games      int64\n",
              "Championships       float64\n",
              "Bowl Wins             int64\n",
              "Bowl Losses           int64\n",
              "Bowl Ties             int64\n",
              "Bowls Played          int64\n",
              "Bowl Win Pct        float64\n",
              "Last Bowl Year       object\n",
              "Last Bowl Win        object\n",
              "City                 object\n",
              "State                object\n",
              "Capacity              int64\n",
              "SCL_HBCU              int64\n",
              "SCL_PRIVATE           int64\n",
              "FED_RATE            float64\n",
              "GSR                 float64\n",
              "Year Wins             int64\n",
              "Year Losses           int64\n",
              "dtype: object"
            ]
          },
          "metadata": {
            "tags": []
          }
        }
      ]
    },
    {
      "cell_type": "code",
      "metadata": {
        "id": "R118z_F-i1Jb"
      },
      "source": [
        "# Adding a feature called Group, to be used in later modeling\r\n",
        "group = []\r\n",
        "group5 = ['AAC', 'C-USA', 'Ind.', 'MAC', 'Mt. West', 'Sun Belt']\r\n",
        "power5 = ['ACC', 'Big 12', 'Big Ten', 'Pac-12', 'SEC']\r\n",
        "for i in master['Conference']:\r\n",
        "  if i in power5:\r\n",
        "    group.append(i)\r\n",
        "  else:\r\n",
        "    group.append('1 - Non-Power 5')\r\n",
        "master['Group'] = group"
      ],
      "execution_count": 49,
      "outputs": []
    },
    {
      "cell_type": "markdown",
      "metadata": {
        "id": "G9jHUzvhWEQw"
      },
      "source": [
        "The Big East was a strange conference, with varying membership based on sport.  After dissolving its football alignments in 2013, teams sort of scattered to the winds - some winding up in the ACC, others in the Big Ten, and others to create the AAC.  For the sake of whimsy, let's create a new feature pretending that split never happened and see how it affects the conference data.."
      ]
    },
    {
      "cell_type": "code",
      "metadata": {
        "id": "vns-Hk-6WjyI"
      },
      "source": [
        "master['BigEastDream'] = master['Conference']\r\n",
        "BigEastTeams = ['Connecticut', 'Syracuse', 'Pittsburgh', 'Rutgers', 'Cincinnati', 'Louisville', 'South Florida']\r\n",
        "for team in BigEastTeams:\r\n",
        "  master.loc[(master['School'] == team),'BigEastDream'] = 'Big East'"
      ],
      "execution_count": 50,
      "outputs": []
    },
    {
      "cell_type": "code",
      "metadata": {
        "colab": {
          "base_uri": "https://localhost:8080/"
        },
        "id": "TkP8mveuZ9Tb",
        "outputId": "a6cadf76-71e9-486f-8602-84904411ab9e"
      },
      "source": [
        "master['BigEastDream'].unique()"
      ],
      "execution_count": 51,
      "outputs": [
        {
          "output_type": "execute_result",
          "data": {
            "text/plain": [
              "array(['Mt. West', 'MAC', 'SEC', 'C-USA', 'Sun Belt', 'Pac-12', 'Ind.',\n",
              "       'ACC', 'AAC', 'Big East', 'Big Ten', 'Big 12'], dtype=object)"
            ]
          },
          "metadata": {
            "tags": []
          },
          "execution_count": 51
        }
      ]
    },
    {
      "cell_type": "markdown",
      "metadata": {
        "id": "8EivymGhn1YE"
      },
      "source": [
        "## Section 2 - Explore that Data!"
      ]
    },
    {
      "cell_type": "markdown",
      "metadata": {
        "id": "WbzX91Isn7Es"
      },
      "source": [
        "Finally, we have at least most of the data we want and can start to dig in, see what it looks like, make flashy charts, and hopefully find connections and patterns that will help us develop a strategy for our models."
      ]
    },
    {
      "cell_type": "markdown",
      "metadata": {
        "id": "IbPPjGIM326V"
      },
      "source": [
        "### Salary Transformation and Quick Look"
      ]
    },
    {
      "cell_type": "code",
      "metadata": {
        "colab": {
          "base_uri": "https://localhost:8080/"
        },
        "id": "oBvnYP21oOES",
        "outputId": "07252657-af40-4b3d-923c-7354d0baacc0"
      },
      "source": [
        "# Create a new column shortening coaches salaries to Millions of Dollars\r\n",
        "master['SalaryInMil'] = round(master['SchoolPay']/1000000,2)\r\n",
        "\r\n",
        "print(\"Average Coaches Salary:\", round(np.mean(master['SalaryInMil']),2), \"Million\")\r\n",
        "print(\"Median Coaches Salary:\", round(np.median(master['SalaryInMil']),2), \"Million\")\r\n",
        "print(\"Highest Paid Coaches Salary:\", round(np.max(master['SalaryInMil']),2), \"Million\")\r\n",
        "print(\"Lowest Paid Coaches Salary:\", round(np.min(master['SalaryInMil']),2), \"Million\")"
      ],
      "execution_count": 78,
      "outputs": [
        {
          "output_type": "stream",
          "text": [
            "Average Coaches Salary: 2.41 Million\n",
            "Median Coaches Salary: 1.83 Million\n",
            "Highest Paid Coaches Salary: 8.31 Million\n",
            "Lowest Paid Coaches Salary: 0.39 Million\n"
          ],
          "name": "stdout"
        }
      ]
    },
    {
      "cell_type": "markdown",
      "metadata": {
        "id": "AykhzXwfsBHr"
      },
      "source": [
        "We see that the median salary for coaches is about a half million less than the mean.  This suggests that we are somewhat skewed, with more coaches making less than the average and likely a few coaches making significantly more."
      ]
    },
    {
      "cell_type": "code",
      "metadata": {
        "colab": {
          "base_uri": "https://localhost:8080/",
          "height": 278
        },
        "id": "q1Hqt041s3Gy",
        "outputId": "02e9bc7a-fb2f-437d-de5c-cb33126cfe84"
      },
      "source": [
        "g1 = sns.histplot(data=master, x=\"SalaryInMil\", bins = 16, color = '#F56600' )\r\n",
        "g1 = plt.xlabel('Millions of Dollars')\r\n",
        "plt.show(g1)"
      ],
      "execution_count": 53,
      "outputs": [
        {
          "output_type": "display_data",
          "data": {
            "image/png": "[encoded data removed]",
            "text/plain": [
              "<Figure size 432x288 with 1 Axes>"
            ]
          },
          "metadata": {
            "tags": [],
            "needs_background": "light"
          }
        }
      ]
    },
    {
      "cell_type": "markdown",
      "metadata": {
        "id": "MfNWU5ARukS5"
      },
      "source": [
        "Sure enough, a large number of coaches in Division 1 are making less than 1 Million per year, while the coaches salaries continue to string out upwards to over 8 Million..  "
      ]
    },
    {
      "cell_type": "markdown",
      "metadata": {
        "id": "QcZLh1Pj3UNk"
      },
      "source": [
        "Creating another feature converting Salaries to natural logs.  This can be useful in normalizing data and pulling in long tails/outlier data (which we clearly have).  I'm not sure if it'll be useful, but I'm creating it nonetheless."
      ]
    },
    {
      "cell_type": "code",
      "metadata": {
        "id": "du9U3x0pA3aG"
      },
      "source": [
        "master['LogSal'] = np.log(master['SchoolPay'])"
      ],
      "execution_count": 54,
      "outputs": []
    },
    {
      "cell_type": "code",
      "metadata": {
        "colab": {
          "base_uri": "https://localhost:8080/",
          "height": 278
        },
        "id": "6CINdQo5A_v9",
        "outputId": "bbdfb19b-0a67-474f-d5ab-86505434f0d5"
      },
      "source": [
        "g8 = sns.histplot(data=master, x=\"LogSal\", bins=10, color = '#F56600' )\r\n",
        "g8 = plt.xlabel('Log of Salaries')\r\n",
        "plt.show(g8)"
      ],
      "execution_count": 85,
      "outputs": [
        {
          "output_type": "display_data",
          "data": {
            "image/png": "[encoded data removed]",
            "text/plain": [
              "<Figure size 432x288 with 1 Axes>"
            ]
          },
          "metadata": {
            "tags": [],
            "needs_background": "light"
          }
        }
      ]
    },
    {
      "cell_type": "markdown",
      "metadata": {
        "id": "FqX9eyKr3_Dl"
      },
      "source": [
        "The Log Salaries definitely have less of a tail.  Interestingly, the transformed salaries almost appear to be bimodal.  This will probably make it difficult to run a linear regression on"
      ]
    },
    {
      "cell_type": "markdown",
      "metadata": {
        "id": "Iy0i8cHZ5yqu"
      },
      "source": [
        "### Coach Data Exploration"
      ]
    },
    {
      "cell_type": "markdown",
      "metadata": {
        "id": "v27IrINSu9x9"
      },
      "source": [
        "Let's take a look at the coaches themselves.  Do their specific records have any bearing on how much they are paid?"
      ]
    },
    {
      "cell_type": "code",
      "metadata": {
        "colab": {
          "base_uri": "https://localhost:8080/",
          "height": 278
        },
        "id": "oBX76u0GvFV3",
        "outputId": "f20749e8-16a7-439a-effd-d6c4d32db652"
      },
      "source": [
        "master['CoachPct'] = round(master['coachWins'] / master['coachGames'],3)\r\n",
        "g2 = sns.scatterplot(data = master, x='coachGames', y='CoachPct', size='SalaryInMil', color= '#522D80', sizes = (20, 200))\r\n",
        "g2 = plt.xlabel('# of Games Coached')\r\n",
        "g2= plt.ylabel('Winning Percent')\r\n",
        "g2=plt.legend(title = \"$ Millions\", bbox_to_anchor=(1.01, 1),borderaxespad=0)\r\n",
        "plt.show(g2)"
      ],
      "execution_count": 56,
      "outputs": [
        {
          "output_type": "display_data",
          "data": {
            "image/png": "[encoded data removed]",
            "text/plain": [
              "<Figure size 432x288 with 1 Axes>"
            ]
          },
          "metadata": {
            "tags": [],
            "needs_background": "light"
          }
        }
      ]
    },
    {
      "cell_type": "markdown",
      "metadata": {
        "id": "Bo3d1dDS3u7O"
      },
      "source": [
        "There certainly seems to be some amount of correlation between winning percentage and salary.  There might also be a slight bump for experience, but it seems less pronounced."
      ]
    },
    {
      "cell_type": "markdown",
      "metadata": {
        "id": "4Wqfxa6R6DcJ"
      },
      "source": [
        "### Conference"
      ]
    },
    {
      "cell_type": "code",
      "metadata": {
        "colab": {
          "base_uri": "https://localhost:8080/",
          "height": 0
        },
        "id": "fBJ_HlXO4CHv",
        "outputId": "ae38990a-eb01-4859-9697-51ab42e93dd4"
      },
      "source": [
        "confOrder = master['Conference'].unique()\r\n",
        "confOrder = sorted(confOrder)\r\n",
        "\r\n",
        "g3 = sns.boxplot(data=master, y='SalaryInMil', x='Conference', order = confOrder)\r\n",
        "g3 = plt.setp(g3.get_xticklabels(), rotation = 30)\r\n",
        "plt.show(g3)\r\n",
        "\r\n",
        "\r\n",
        "g4 = sns.boxplot(data=master, y='SalaryInMil', x='Conference', order = power5)\r\n",
        "g4 = plt.title('Power 5 Conferences')\r\n",
        "plt.show(g4)\r\n",
        "\r\n",
        "\r\n",
        "g5 = sns.boxplot(data=master, y='SalaryInMil', x='Conference', order = group5)\r\n",
        "g5 = plt.title('Group of 5 (and Independent) Conferences')\r\n",
        "plt.show(g5)"
      ],
      "execution_count": 57,
      "outputs": [
        {
          "output_type": "display_data",
          "data": {
            "image/png": "[encoded data removed]",
            "text/plain": [
              "<Figure size 432x288 with 1 Axes>"
            ]
          },
          "metadata": {
            "tags": [],
            "needs_background": "light"
          }
        },
        {
          "output_type": "display_data",
          "data": {
            "image/png": "[encoded data removed]",
            "text/plain": [
              "<Figure size 432x288 with 1 Axes>"
            ]
          },
          "metadata": {
            "tags": [],
            "needs_background": "light"
          }
        },
        {
          "output_type": "display_data",
          "data": {
            "image/png": "[encoded data removed]",
            "text/plain": [
              "<Figure size 432x288 with 1 Axes>"
            ]
          },
          "metadata": {
            "tags": [],
            "needs_background": "light"
          }
        }
      ]
    },
    {
      "cell_type": "markdown",
      "metadata": {
        "id": "DUBNRSwvrKxm"
      },
      "source": [
        "Several things stand out when looking at the plots by conference.  1 - There are some haves and some have-nots.  Not surprisingly, the 5 conferences called the \"Power 5\" conferences hae much higher median salaries - coming in around the \\$3-4 million mark for each.  Meanwhile the \"Group of 5\" conferences - oft derided as a lesser tier of competition - have median salaries around $1 million.  Though officially, any school has a chance at the playoffs, it's clear, based on recent Playoff Committee selections, that if you want to play (in the playoffs) you'd better pay (your coaches.  Not the players, that'd be silly)."
      ]
    },
    {
      "cell_type": "markdown",
      "metadata": {
        "id": "i7fj_oCg6aAu"
      },
      "source": [
        "### School Variables"
      ]
    },
    {
      "cell_type": "code",
      "metadata": {
        "id": "_UsfYq5y6fWa",
        "colab": {
          "base_uri": "https://localhost:8080/",
          "height": 347
        },
        "outputId": "b8da3fbb-c76e-42c9-b18c-16f86ef0ae24"
      },
      "source": [
        "schoolhist = ['SalaryInMil','Team Wins', 'Team Win Pct', 'Years', 'Team Total Games', 'Championships', 'Bowl Wins', 'Bowls Played', 'Bowl Win Pct', 'Capacity']\r\n",
        "corr = master[schoolhist].corr()\r\n",
        "display(corr)"
      ],
      "execution_count": 58,
      "outputs": [
        {
          "output_type": "display_data",
          "data": {
            "text/html": [
              "<div>\n",
              "<style scoped>\n",
              "    .dataframe tbody tr th:only-of-type {\n",
              "        vertical-align: middle;\n",
              "    }\n",
              "\n",
              "    .dataframe tbody tr th {\n",
              "        vertical-align: top;\n",
              "    }\n",
              "\n",
              "    .dataframe thead th {\n",
              "        text-align: right;\n",
              "    }\n",
              "</style>\n",
              "<table border=\"1\" class=\"dataframe\">\n",
              "  <thead>\n",
              "    <tr style=\"text-align: right;\">\n",
              "      <th></th>\n",
              "      <th>SalaryInMil</th>\n",
              "      <th>Team Wins</th>\n",
              "      <th>Team Win Pct</th>\n",
              "      <th>Years</th>\n",
              "      <th>Team Total Games</th>\n",
              "      <th>Championships</th>\n",
              "      <th>Bowl Wins</th>\n",
              "      <th>Bowls Played</th>\n",
              "      <th>Bowl Win Pct</th>\n",
              "      <th>Capacity</th>\n",
              "    </tr>\n",
              "  </thead>\n",
              "  <tbody>\n",
              "    <tr>\n",
              "      <th>SalaryInMil</th>\n",
              "      <td>1.000000</td>\n",
              "      <td>0.640431</td>\n",
              "      <td>0.536251</td>\n",
              "      <td>0.415285</td>\n",
              "      <td>0.477478</td>\n",
              "      <td>0.544075</td>\n",
              "      <td>0.658476</td>\n",
              "      <td>0.693882</td>\n",
              "      <td>0.147636</td>\n",
              "      <td>0.823730</td>\n",
              "    </tr>\n",
              "    <tr>\n",
              "      <th>Team Wins</th>\n",
              "      <td>0.640431</td>\n",
              "      <td>1.000000</td>\n",
              "      <td>0.690403</td>\n",
              "      <td>0.852536</td>\n",
              "      <td>0.896648</td>\n",
              "      <td>0.511759</td>\n",
              "      <td>0.418521</td>\n",
              "      <td>0.463932</td>\n",
              "      <td>0.119110</td>\n",
              "      <td>0.592603</td>\n",
              "    </tr>\n",
              "    <tr>\n",
              "      <th>Team Win Pct</th>\n",
              "      <td>0.536251</td>\n",
              "      <td>0.690403</td>\n",
              "      <td>1.000000</td>\n",
              "      <td>0.262796</td>\n",
              "      <td>0.338351</td>\n",
              "      <td>0.606752</td>\n",
              "      <td>0.494219</td>\n",
              "      <td>0.500772</td>\n",
              "      <td>0.242955</td>\n",
              "      <td>0.558087</td>\n",
              "    </tr>\n",
              "    <tr>\n",
              "      <th>Years</th>\n",
              "      <td>0.415285</td>\n",
              "      <td>0.852536</td>\n",
              "      <td>0.262796</td>\n",
              "      <td>1.000000</td>\n",
              "      <td>0.986787</td>\n",
              "      <td>0.200403</td>\n",
              "      <td>0.112743</td>\n",
              "      <td>0.162707</td>\n",
              "      <td>-0.005634</td>\n",
              "      <td>0.319317</td>\n",
              "    </tr>\n",
              "    <tr>\n",
              "      <th>Team Total Games</th>\n",
              "      <td>0.477478</td>\n",
              "      <td>0.896648</td>\n",
              "      <td>0.338351</td>\n",
              "      <td>0.986787</td>\n",
              "      <td>1.000000</td>\n",
              "      <td>0.245970</td>\n",
              "      <td>0.190402</td>\n",
              "      <td>0.242822</td>\n",
              "      <td>0.032039</td>\n",
              "      <td>0.390874</td>\n",
              "    </tr>\n",
              "    <tr>\n",
              "      <th>Championships</th>\n",
              "      <td>0.544075</td>\n",
              "      <td>0.511759</td>\n",
              "      <td>0.606752</td>\n",
              "      <td>0.200403</td>\n",
              "      <td>0.245970</td>\n",
              "      <td>1.000000</td>\n",
              "      <td>0.544947</td>\n",
              "      <td>0.535349</td>\n",
              "      <td>0.118474</td>\n",
              "      <td>0.566899</td>\n",
              "    </tr>\n",
              "    <tr>\n",
              "      <th>Bowl Wins</th>\n",
              "      <td>0.658476</td>\n",
              "      <td>0.418521</td>\n",
              "      <td>0.494219</td>\n",
              "      <td>0.112743</td>\n",
              "      <td>0.190402</td>\n",
              "      <td>0.544947</td>\n",
              "      <td>1.000000</td>\n",
              "      <td>0.973062</td>\n",
              "      <td>0.332392</td>\n",
              "      <td>0.737252</td>\n",
              "    </tr>\n",
              "    <tr>\n",
              "      <th>Bowls Played</th>\n",
              "      <td>0.693882</td>\n",
              "      <td>0.463932</td>\n",
              "      <td>0.500772</td>\n",
              "      <td>0.162707</td>\n",
              "      <td>0.242822</td>\n",
              "      <td>0.535349</td>\n",
              "      <td>0.973062</td>\n",
              "      <td>1.000000</td>\n",
              "      <td>0.213537</td>\n",
              "      <td>0.774986</td>\n",
              "    </tr>\n",
              "    <tr>\n",
              "      <th>Bowl Win Pct</th>\n",
              "      <td>0.147636</td>\n",
              "      <td>0.119110</td>\n",
              "      <td>0.242955</td>\n",
              "      <td>-0.005634</td>\n",
              "      <td>0.032039</td>\n",
              "      <td>0.118474</td>\n",
              "      <td>0.332392</td>\n",
              "      <td>0.213537</td>\n",
              "      <td>1.000000</td>\n",
              "      <td>0.171479</td>\n",
              "    </tr>\n",
              "    <tr>\n",
              "      <th>Capacity</th>\n",
              "      <td>0.823730</td>\n",
              "      <td>0.592603</td>\n",
              "      <td>0.558087</td>\n",
              "      <td>0.319317</td>\n",
              "      <td>0.390874</td>\n",
              "      <td>0.566899</td>\n",
              "      <td>0.737252</td>\n",
              "      <td>0.774986</td>\n",
              "      <td>0.171479</td>\n",
              "      <td>1.000000</td>\n",
              "    </tr>\n",
              "  </tbody>\n",
              "</table>\n",
              "</div>"
            ],
            "text/plain": [
              "                  SalaryInMil  Team Wins  ...  Bowl Win Pct  Capacity\n",
              "SalaryInMil          1.000000   0.640431  ...      0.147636  0.823730\n",
              "Team Wins            0.640431   1.000000  ...      0.119110  0.592603\n",
              "Team Win Pct         0.536251   0.690403  ...      0.242955  0.558087\n",
              "Years                0.415285   0.852536  ...     -0.005634  0.319317\n",
              "Team Total Games     0.477478   0.896648  ...      0.032039  0.390874\n",
              "Championships        0.544075   0.511759  ...      0.118474  0.566899\n",
              "Bowl Wins            0.658476   0.418521  ...      0.332392  0.737252\n",
              "Bowls Played         0.693882   0.463932  ...      0.213537  0.774986\n",
              "Bowl Win Pct         0.147636   0.119110  ...      1.000000  0.171479\n",
              "Capacity             0.823730   0.592603  ...      0.171479  1.000000\n",
              "\n",
              "[10 rows x 10 columns]"
            ]
          },
          "metadata": {
            "tags": []
          }
        }
      ]
    },
    {
      "cell_type": "markdown",
      "metadata": {
        "id": "O7jugHrB98fD"
      },
      "source": [
        "There are a lot of interesting correlations here.  It becomes clear that a team's history says a lot about what they pay for a coach.  A team with a vaunted history of winning is likely going to spend a lot for a coach that delivers the W's.  (A different discussion could be had here about how much these teams spend to get RID of said coach when they start racking up the L's..)\r\n",
        "\r\n",
        "Looking over correlations, there is a good positive response with # of Wins in school history.  This is stronger than the schools Win Percent, their total games played, and number of years they've been around.  However, those variables are VERY strongly correlated with Team Wins, so we should probably stick to only Team Wins in order to avoid multicollinearity.\r\n",
        "\r\n",
        "Similarly, there is a good response from the number of Bowls played - better than the number of Bowl Wins, or Bowl Winning Percent, which also have strong collinearity responses.  \r\n",
        "\r\n",
        "I'm also intrigued by the somewhat positive response from number of championships in school history.  Though this has some collinearity with win histories, I think it's a valuable metric on its own.  The same goes for stadium capacity.\r\n",
        "\r\n",
        "There is a strong correlation with salary and stadium capacity.  If you have a big stadium, you probably need a big-ticket coach.  There is some collinearity here with Bowl histories, but this variable also seems important on its own."
      ]
    },
    {
      "cell_type": "code",
      "metadata": {
        "colab": {
          "base_uri": "https://localhost:8080/",
          "height": 903
        },
        "id": "i9phHnPEtgeO",
        "outputId": "2f0893d6-9084-4339-a930-9c0fad9ff14d"
      },
      "source": [
        "corlist = ['SalaryInMil', 'Team Wins', 'Championships', 'Bowls Played', 'Capacity', 'SCL_PRIVATE']\r\n",
        "g6 = sns.pairplot(data = master[corlist], corner=True, hue = 'SCL_PRIVATE', palette= ['#F56600', '#522D80'])\r\n",
        "plt.show(g6)"
      ],
      "execution_count": 59,
      "outputs": [
        {
          "output_type": "display_data",
          "data": {
            "image/png": "[encoded data removed]",
            "text/plain": [
              "<Figure size 972x900 with 20 Axes>"
            ]
          },
          "metadata": {
            "tags": [],
            "needs_background": "light"
          }
        }
      ]
    },
    {
      "cell_type": "markdown",
      "metadata": {
        "id": "rR2c5S571gWz"
      },
      "source": [
        "A graphical look at the correlations, but this time also broken out by Public vs. Private schools.  There appears to be no real difference based on where academic funding comes from."
      ]
    },
    {
      "cell_type": "markdown",
      "metadata": {
        "id": "3Ks8Gf40ADRa"
      },
      "source": [
        "### Graduation Rates"
      ]
    },
    {
      "cell_type": "code",
      "metadata": {
        "colab": {
          "base_uri": "https://localhost:8080/",
          "height": 864
        },
        "id": "MZgGaTMC2G2m",
        "outputId": "646b0841-3b3c-47f7-f83e-02f7c502ccad"
      },
      "source": [
        "g7 = sns.jointplot(data= master, x = 'FED_RATE', y = 'SalaryInMil', color = '#F56600', kind=\"reg\", )\r\n",
        "plt.show(g7)\r\n",
        "\r\n",
        "g8 = sns.jointplot(data= master, x = \"GSR\", y = \"SalaryInMil\", kind = \"reg\", color = '#522D80')\r\n",
        "plt.show(g8)"
      ],
      "execution_count": 60,
      "outputs": [
        {
          "output_type": "display_data",
          "data": {
            "image/png": "[encoded data removed]",
            "text/plain": [
              "<Figure size 432x432 with 3 Axes>"
            ]
          },
          "metadata": {
            "tags": [],
            "needs_background": "light"
          }
        },
        {
          "output_type": "display_data",
          "data": {
            "image/png": "[encoded data removed]",
            "text/plain": [
              "<Figure size 432x432 with 3 Axes>"
            ]
          },
          "metadata": {
            "tags": [],
            "needs_background": "light"
          }
        }
      ]
    },
    {
      "cell_type": "markdown",
      "metadata": {
        "id": "iF5TWMIDAMB9"
      },
      "source": [
        "The GSR seems to have a somewhat stronger relationship with salary than the Fed Rate.  This is interesting, but I wonder if this has to do with the fact that the GSR takes transfers into account.  More popular schools see a lot of transfers as athletes recruited with big promises get tired of seeing no playtime and move to smaller schools.  This would lower the Fed Rate numbers, but less so the GSR."
      ]
    },
    {
      "cell_type": "markdown",
      "metadata": {
        "id": "f5CDuV-qAtZy"
      },
      "source": [
        "### Salary By State"
      ]
    },
    {
      "cell_type": "code",
      "metadata": {
        "colab": {
          "base_uri": "https://localhost:8080/",
          "height": 281
        },
        "id": "nYEnb42bAxvW",
        "outputId": "9973162d-f4e6-4a02-eba0-ead6aedd1b67"
      },
      "source": [
        "g9 = sns.stripplot(data=master, y = 'State', x='SalaryInMil')\r\n",
        "plt.show(g9)"
      ],
      "execution_count": 61,
      "outputs": [
        {
          "output_type": "display_data",
          "data": {
            "image/png": "[encoded data removed]",
            "text/plain": [
              "<Figure size 432x288 with 1 Axes>"
            ]
          },
          "metadata": {
            "tags": [],
            "needs_background": "light"
          }
        }
      ]
    },
    {
      "cell_type": "markdown",
      "metadata": {
        "id": "FIQiL9I3BoQF"
      },
      "source": [
        "Nothing to see here, folks.  Possibly if this was converted into regional data, but there's only so much time."
      ]
    },
    {
      "cell_type": "markdown",
      "metadata": {
        "id": "y3SFJY0mBwwv"
      },
      "source": [
        "### 2019 Season Record"
      ]
    },
    {
      "cell_type": "code",
      "metadata": {
        "colab": {
          "base_uri": "https://localhost:8080/",
          "height": 278
        },
        "id": "3qkTjYGsB2C6",
        "outputId": "a878b2bb-44d9-40aa-8cf1-8d91cd8ff46c"
      },
      "source": [
        "g10 = sns.barplot(data=master, x='Year Wins', y='SalaryInMil')\r\n",
        "plt.show(g10)"
      ],
      "execution_count": 62,
      "outputs": [
        {
          "output_type": "display_data",
          "data": {
            "image/png": "[encoded data removed]",
            "text/plain": [
              "<Figure size 432x288 with 1 Axes>"
            ]
          },
          "metadata": {
            "tags": [],
            "needs_background": "light"
          }
        }
      ]
    },
    {
      "cell_type": "markdown",
      "metadata": {
        "id": "PTx26_I2EcL6"
      },
      "source": [
        "Not a lot of data to go on here, and it's clear that teams with few wins pay less, but the data gets murkier when you get to to 9+ wins.  "
      ]
    },
    {
      "cell_type": "markdown",
      "metadata": {
        "id": "mTU8xhfJ5w-6"
      },
      "source": [
        "## Model Creation"
      ]
    },
    {
      "cell_type": "markdown",
      "metadata": {
        "id": "YB9Uc-zN5zjR"
      },
      "source": [
        "### Training and Testing Data"
      ]
    },
    {
      "cell_type": "code",
      "metadata": {
        "id": "CIU3rrg28rvv"
      },
      "source": [
        "# Rename 2 variables to make it easier for modeling\r\n",
        "master['BowlsPlayed'] = master['Bowls Played']\r\n",
        "master['TeamWins'] = master['Team Wins']"
      ],
      "execution_count": 63,
      "outputs": []
    },
    {
      "cell_type": "code",
      "metadata": {
        "colab": {
          "base_uri": "https://localhost:8080/",
          "height": 50
        },
        "id": "lSDCUbecsJj9",
        "outputId": "3711eb2a-2f7e-41c9-a366-384fb8076c8d"
      },
      "source": [
        "# Need to create 2 sets of data - 1 to train and one for later testing.  \r\n",
        "\r\n",
        "# With 125 variables, going to split 80/20 - with 100 training, and 25 reserved for testing.\r\n",
        "\r\n",
        "#Using the Train/Test split feature from SKLearn to create 2 test dataframes\r\n",
        "modelTrain, modelTest = train_test_split(master, test_size = 0.2, random_state = 17)\r\n",
        "\r\n",
        "# Display heads and shape of each\r\n",
        "display(modelTrain.shape)\r\n",
        "display(modelTest.shape)"
      ],
      "execution_count": 64,
      "outputs": [
        {
          "output_type": "display_data",
          "data": {
            "text/plain": [
              "(100, 39)"
            ]
          },
          "metadata": {
            "tags": []
          }
        },
        {
          "output_type": "display_data",
          "data": {
            "text/plain": [
              "(25, 39)"
            ]
          },
          "metadata": {
            "tags": []
          }
        }
      ]
    },
    {
      "cell_type": "markdown",
      "metadata": {
        "id": "3E7xztV9j1Ek"
      },
      "source": [
        "### Model Creation and Improvement"
      ]
    },
    {
      "cell_type": "markdown",
      "metadata": {
        "id": "5zP2QMLs6iju"
      },
      "source": [
        "My first model will use features I believe have the most impact on salary.  That is: Conference, Capacity, # of Bowl Games Played, Championships, Coach Winning Percent, and Total Number of Team Wins."
      ]
    },
    {
      "cell_type": "code",
      "metadata": {
        "colab": {
          "base_uri": "https://localhost:8080/"
        },
        "id": "FuyRDNhe70rC",
        "outputId": "80d2845c-6b6b-45f3-b7b3-9662d400b82f"
      },
      "source": [
        "lm1_str = 'SalaryInMil ~ Conference + Capacity + BowlsPlayed + Championships + CoachPct + TeamWins'\r\n",
        "lm1 = smf.ols(lm1_str, data=modelTrain).fit()\r\n",
        "print(lm1.summary())"
      ],
      "execution_count": 65,
      "outputs": [
        {
          "output_type": "stream",
          "text": [
            "                            OLS Regression Results                            \n",
            "==============================================================================\n",
            "Dep. Variable:            SalaryInMil   R-squared:                       0.858\n",
            "Model:                            OLS   Adj. R-squared:                  0.833\n",
            "Method:                 Least Squares   F-statistic:                     33.90\n",
            "Date:                Sat, 30 Jan 2021   Prob (F-statistic):           2.92e-29\n",
            "Time:                        19:09:37   Log-Likelihood:                -106.00\n",
            "No. Observations:                 100   AIC:                             244.0\n",
            "Df Residuals:                      84   BIC:                             285.7\n",
            "Df Model:                          15                                         \n",
            "Covariance Type:            nonrobust                                         \n",
            "==========================================================================================\n",
            "                             coef    std err          t      P>|t|      [0.025      0.975]\n",
            "------------------------------------------------------------------------------------------\n",
            "Intercept                 -0.4881      0.476     -1.025      0.308      -1.435       0.459\n",
            "Conference[T.ACC]          1.3796      0.393      3.511      0.001       0.598       2.161\n",
            "Conference[T.Big 12]       1.6700      0.385      4.337      0.000       0.904       2.436\n",
            "Conference[T.Big Ten]      1.8084      0.386      4.680      0.000       1.040       2.577\n",
            "Conference[T.C-USA]       -0.4984      0.359     -1.388      0.169      -1.212       0.216\n",
            "Conference[T.Ind.]        -0.4616      0.490     -0.943      0.348      -1.435       0.512\n",
            "Conference[T.MAC]         -0.5755      0.391     -1.473      0.145      -1.352       0.202\n",
            "Conference[T.Mt. West]    -0.3333      0.356     -0.937      0.351      -1.040       0.374\n",
            "Conference[T.Pac-12]       1.0270      0.366      2.807      0.006       0.299       1.755\n",
            "Conference[T.SEC]          2.3038      0.423      5.452      0.000       1.463       3.144\n",
            "Conference[T.Sun Belt]    -0.4666      0.368     -1.269      0.208      -1.198       0.265\n",
            "Capacity                1.415e-05   7.05e-06      2.007      0.048    1.31e-07    2.82e-05\n",
            "BowlsPlayed                0.0064      0.008      0.774      0.441      -0.010       0.023\n",
            "Championships              0.1378      0.056      2.457      0.016       0.026       0.249\n",
            "CoachPct                   2.0825      0.605      3.444      0.001       0.880       3.285\n",
            "TeamWins                   0.0004      0.001      0.710      0.480      -0.001       0.002\n",
            "==============================================================================\n",
            "Omnibus:                        8.633   Durbin-Watson:                   1.787\n",
            "Prob(Omnibus):                  0.013   Jarque-Bera (JB):                8.837\n",
            "Skew:                           0.561   Prob(JB):                       0.0121\n",
            "Kurtosis:                       3.930   Cond. No.                     6.75e+05\n",
            "==============================================================================\n",
            "\n",
            "Warnings:\n",
            "[1] Standard Errors assume that the covariance matrix of the errors is correctly specified.\n",
            "[2] The condition number is large, 6.75e+05. This might indicate that there are\n",
            "strong multicollinearity or other numerical problems.\n"
          ],
          "name": "stdout"
        }
      ]
    },
    {
      "cell_type": "markdown",
      "metadata": {
        "id": "Q_8mgyULhDb4"
      },
      "source": [
        "So, a pretty decent model, maybe a little too overfit, but we'll see..  Some things I notice when I look at the variables, several of them don't seem to have much effect.  Looking at confidence intervals for the coefficients - Team Wins, Bowls Played, and several conferences all have intervals that include 0.  This means this variable potentially has 0 impact on salary, and thus ought to be ignored.  Interestingly, looking over the conferences, the only ones that seem to have an impact are the Power 5 group.  The rest ought to be removed.  "
      ]
    },
    {
      "cell_type": "code",
      "metadata": {
        "colab": {
          "base_uri": "https://localhost:8080/"
        },
        "id": "6V9cm2KH_dns",
        "outputId": "8c096456-b6fe-4e1e-c018-c15a25edaa51"
      },
      "source": [
        "# For second model, I simplified the conference breakdown into Power 5/Group of 5 to see if that makes a difference\r\n",
        "lm2_str = 'SalaryInMil ~ Group + Capacity + Championships + CoachPct'\r\n",
        "lm2 = smf.ols(lm2_str, data=modelTrain).fit()\r\n",
        "print(lm2.summary())"
      ],
      "execution_count": 66,
      "outputs": [
        {
          "output_type": "stream",
          "text": [
            "                            OLS Regression Results                            \n",
            "==============================================================================\n",
            "Dep. Variable:            SalaryInMil   R-squared:                       0.851\n",
            "Model:                            OLS   Adj. R-squared:                  0.838\n",
            "Method:                 Least Squares   F-statistic:                     65.17\n",
            "Date:                Sat, 30 Jan 2021   Prob (F-statistic):           2.38e-34\n",
            "Time:                        19:09:37   Log-Likelihood:                -108.35\n",
            "No. Observations:                 100   AIC:                             234.7\n",
            "Df Residuals:                      91   BIC:                             258.2\n",
            "Df Model:                           8                                         \n",
            "Covariance Type:            nonrobust                                         \n",
            "====================================================================================\n",
            "                       coef    std err          t      P>|t|      [0.025      0.975]\n",
            "------------------------------------------------------------------------------------\n",
            "Intercept           -0.9201      0.303     -3.035      0.003      -1.522      -0.318\n",
            "Group[T.ACC]         1.7850      0.311      5.747      0.000       1.168       2.402\n",
            "Group[T.Big 12]      2.0858      0.300      6.954      0.000       1.490       2.682\n",
            "Group[T.Big Ten]     2.1600      0.301      7.187      0.000       1.563       2.757\n",
            "Group[T.Pac-12]      1.4287      0.279      5.129      0.000       0.875       1.982\n",
            "Group[T.SEC]         2.6504      0.348      7.617      0.000       1.959       3.342\n",
            "Capacity          2.007e-05   5.48e-06      3.660      0.000    9.18e-06     3.1e-05\n",
            "Championships        0.1445      0.049      2.953      0.004       0.047       0.242\n",
            "CoachPct             2.3079      0.559      4.127      0.000       1.197       3.419\n",
            "==============================================================================\n",
            "Omnibus:                        5.544   Durbin-Watson:                   1.808\n",
            "Prob(Omnibus):                  0.063   Jarque-Bera (JB):                4.896\n",
            "Skew:                           0.476   Prob(JB):                       0.0865\n",
            "Kurtosis:                       3.520   Cond. No.                     4.46e+05\n",
            "==============================================================================\n",
            "\n",
            "Warnings:\n",
            "[1] Standard Errors assume that the covariance matrix of the errors is correctly specified.\n",
            "[2] The condition number is large, 4.46e+05. This might indicate that there are\n",
            "strong multicollinearity or other numerical problems.\n"
          ],
          "name": "stdout"
        }
      ]
    },
    {
      "cell_type": "markdown",
      "metadata": {
        "id": "Rh1f-uCLjVGA"
      },
      "source": [
        "This model looks pretty good, based on the confidence intervals on the intercepts!  Plus, our adjusted R2 didn't change much - still around 83.8%.  Again, this might be due to overfit, but we'll see when we look at the Testing data."
      ]
    },
    {
      "cell_type": "markdown",
      "metadata": {
        "id": "iZIkmenqj668"
      },
      "source": [
        "### Model Testing"
      ]
    },
    {
      "cell_type": "markdown",
      "metadata": {
        "id": "M3BfHsAVj8-t"
      },
      "source": [
        "Testing of Model 1:"
      ]
    },
    {
      "cell_type": "code",
      "metadata": {
        "colab": {
          "base_uri": "https://localhost:8080/"
        },
        "id": "_0lwb8yQ6hay",
        "outputId": "94b91562-cbd6-4f75-ba08-70d112624647"
      },
      "source": [
        "modelTest[\"mod1pred\"] = round(lm1.predict(modelTest),2)\r\n",
        "modelTest[\"mod1error\"] = modelTest['SalaryInMil'] - modelTest['mod1pred']\r\n",
        "stdError = round(np.power(modelTest['SalaryInMil'].corr(modelTest['mod1pred']),2),3)\r\n",
        "print(\"The total accounted for Variance by Model 1 for the Test Set was: \", stdError)\r\n",
        "\r\n",
        "modelTest[\"mod2pred\"] = round(lm2.predict(modelTest),2)\r\n",
        "modelTest[\"mod2error\"] = modelTest['SalaryInMil'] - modelTest['mod2pred']\r\n",
        "stdError = round(np.power(modelTest['SalaryInMil'].corr(modelTest['mod2pred']),2),3)\r\n",
        "print(\"The total accounted for Variance by Model 2 for the Test Set was: \", stdError)"
      ],
      "execution_count": 67,
      "outputs": [
        {
          "output_type": "stream",
          "text": [
            "The total accounted for Variance by Model 1 for the Test Set was:  0.778\n",
            "The total accounted for Variance by Model 2 for the Test Set was:  0.771\n"
          ],
          "name": "stdout"
        },
        {
          "output_type": "stream",
          "text": [
            "/usr/local/lib/python3.6/dist-packages/ipykernel_launcher.py:1: SettingWithCopyWarning: \n",
            "A value is trying to be set on a copy of a slice from a DataFrame.\n",
            "Try using .loc[row_indexer,col_indexer] = value instead\n",
            "\n",
            "See the caveats in the documentation: https://pandas.pydata.org/pandas-docs/stable/user_guide/indexing.html#returning-a-view-versus-a-copy\n",
            "  \"\"\"Entry point for launching an IPython kernel.\n",
            "/usr/local/lib/python3.6/dist-packages/ipykernel_launcher.py:2: SettingWithCopyWarning: \n",
            "A value is trying to be set on a copy of a slice from a DataFrame.\n",
            "Try using .loc[row_indexer,col_indexer] = value instead\n",
            "\n",
            "See the caveats in the documentation: https://pandas.pydata.org/pandas-docs/stable/user_guide/indexing.html#returning-a-view-versus-a-copy\n",
            "  \n",
            "/usr/local/lib/python3.6/dist-packages/ipykernel_launcher.py:6: SettingWithCopyWarning: \n",
            "A value is trying to be set on a copy of a slice from a DataFrame.\n",
            "Try using .loc[row_indexer,col_indexer] = value instead\n",
            "\n",
            "See the caveats in the documentation: https://pandas.pydata.org/pandas-docs/stable/user_guide/indexing.html#returning-a-view-versus-a-copy\n",
            "  \n",
            "/usr/local/lib/python3.6/dist-packages/ipykernel_launcher.py:7: SettingWithCopyWarning: \n",
            "A value is trying to be set on a copy of a slice from a DataFrame.\n",
            "Try using .loc[row_indexer,col_indexer] = value instead\n",
            "\n",
            "See the caveats in the documentation: https://pandas.pydata.org/pandas-docs/stable/user_guide/indexing.html#returning-a-view-versus-a-copy\n",
            "  import sys\n"
          ],
          "name": "stderr"
        }
      ]
    },
    {
      "cell_type": "markdown",
      "metadata": {
        "id": "IjW08JPE4WE1"
      },
      "source": [
        "Both models had similar results against the Test data, accounting for 77-78% of the variance in the data.  That's pretty good for first passes!  My suspicion is that some data - like championship data - is more significant based on recent history.  IE - if I had pulled championships in the last 2 decades, I wonder how the results might change."
      ]
    },
    {
      "cell_type": "code",
      "metadata": {
        "colab": {
          "base_uri": "https://localhost:8080/",
          "height": 573
        },
        "id": "6sUuQGRAmS_Y",
        "outputId": "987acf57-04f5-444e-9153-cb500ab27431"
      },
      "source": [
        "m1 = sns.residplot(data=modelTest, x='mod1pred', y='SalaryInMil', color = '#F56600')\r\n",
        "m1 = m1.set_title(\"Residual Plot for Model 1\")\r\n",
        "plt.show(m1)\r\n",
        "\r\n",
        "m2 = sns.residplot(data=modelTest, x='mod2pred', y='SalaryInMil', color = '#522D80')\r\n",
        "m2 = m2.set_title(\"Residual Plot for Model 2\")\r\n",
        "plt.show(m2)"
      ],
      "execution_count": 87,
      "outputs": [
        {
          "output_type": "display_data",
          "data": {
            "image/png": "[encoded data removed]",
            "text/plain": [
              "<Figure size 432x288 with 1 Axes>"
            ]
          },
          "metadata": {
            "tags": [],
            "needs_background": "light"
          }
        },
        {
          "output_type": "display_data",
          "data": {
            "image/png": "[encoded data removed]",
            "text/plain": [
              "<Figure size 432x288 with 1 Axes>"
            ]
          },
          "metadata": {
            "tags": [],
            "needs_background": "light"
          }
        }
      ]
    },
    {
      "cell_type": "markdown",
      "metadata": {
        "id": "EOWRATjs4yfc"
      },
      "source": [
        "Looking at residuals for both plots, I see no general trends that might signal in issue with collinearity.  What I do note, however, is heteroscedacticity -  the variance grows very wide as the predicted salaries increase.  I suspect this is because of the large range of salary values for coaches.  I am curious how Model 2 does when used to predict the natural log of salaries.   "
      ]
    },
    {
      "cell_type": "code",
      "metadata": {
        "colab": {
          "base_uri": "https://localhost:8080/"
        },
        "id": "yPkb0Mhm6BhC",
        "outputId": "40dd350e-6905-4f66-cf23-9cc6ea944c6f"
      },
      "source": [
        "# Linear Model 3 - the same as LM2, but used to predict LogSal instead of SalInMillions\r\n",
        "lm3_str = 'LogSal ~ Group + Capacity + Championships + CoachPct'\r\n",
        "lm3 = smf.ols(lm3_str, data=modelTrain).fit()\r\n",
        "print(lm3.summary())"
      ],
      "execution_count": 69,
      "outputs": [
        {
          "output_type": "stream",
          "text": [
            "                            OLS Regression Results                            \n",
            "==============================================================================\n",
            "Dep. Variable:                 LogSal   R-squared:                       0.852\n",
            "Model:                            OLS   Adj. R-squared:                  0.839\n",
            "Method:                 Least Squares   F-statistic:                     65.33\n",
            "Date:                Sat, 30 Jan 2021   Prob (F-statistic):           2.15e-34\n",
            "Time:                        19:09:38   Log-Likelihood:                -31.239\n",
            "No. Observations:                 100   AIC:                             80.48\n",
            "Df Residuals:                      91   BIC:                             103.9\n",
            "Df Model:                           8                                         \n",
            "Covariance Type:            nonrobust                                         \n",
            "====================================================================================\n",
            "                       coef    std err          t      P>|t|      [0.025      0.975]\n",
            "------------------------------------------------------------------------------------\n",
            "Intercept           12.7674      0.140     91.056      0.000      12.489      13.046\n",
            "Group[T.ACC]         1.0898      0.144      7.586      0.000       0.804       1.375\n",
            "Group[T.Big 12]      1.1611      0.139      8.370      0.000       0.886       1.437\n",
            "Group[T.Big Ten]     1.1681      0.139      8.403      0.000       0.892       1.444\n",
            "Group[T.Pac-12]      0.9546      0.129      7.409      0.000       0.699       1.210\n",
            "Group[T.SEC]         1.2546      0.161      7.796      0.000       0.935       1.574\n",
            "Capacity          7.761e-06   2.54e-06      3.060      0.003    2.72e-06    1.28e-05\n",
            "Championships        0.0137      0.023      0.604      0.547      -0.031       0.059\n",
            "CoachPct             1.2102      0.259      4.680      0.000       0.697       1.724\n",
            "==============================================================================\n",
            "Omnibus:                        0.382   Durbin-Watson:                   1.995\n",
            "Prob(Omnibus):                  0.826   Jarque-Bera (JB):                0.282\n",
            "Skew:                           0.129   Prob(JB):                        0.868\n",
            "Kurtosis:                       2.973   Cond. No.                     4.46e+05\n",
            "==============================================================================\n",
            "\n",
            "Warnings:\n",
            "[1] Standard Errors assume that the covariance matrix of the errors is correctly specified.\n",
            "[2] The condition number is large, 4.46e+05. This might indicate that there are\n",
            "strong multicollinearity or other numerical problems.\n"
          ],
          "name": "stdout"
        }
      ]
    },
    {
      "cell_type": "code",
      "metadata": {
        "colab": {
          "base_uri": "https://localhost:8080/",
          "height": 511
        },
        "id": "qzEbrZRy6Ze8",
        "outputId": "39783a54-e61e-4c0a-fcea-313a59b1abf6"
      },
      "source": [
        "modelTest[\"mod3pred\"] = round(lm3.predict(modelTest),2)\r\n",
        "modelTest[\"mod3error\"] = modelTest['LogSal'] - modelTest['mod3pred']\r\n",
        "stdError = round(np.power(modelTest['LogSal'].corr(modelTest['mod3pred']),2),3)\r\n",
        "print(\"The total accounted for Variance by Model 3 for the Test Set was: \", stdError)\r\n",
        "\r\n",
        "m3 = sns.residplot(data=modelTest, x='mod3pred', y='LogSal', color = '#F56600')\r\n",
        "m3 = m3.set_title(\"Residual Plot for Model 3\")\r\n",
        "plt.show(m3)"
      ],
      "execution_count": 88,
      "outputs": [
        {
          "output_type": "stream",
          "text": [
            "The total accounted for Variance by Model 3 for the Test Set was:  0.882\n"
          ],
          "name": "stdout"
        },
        {
          "output_type": "stream",
          "text": [
            "/usr/local/lib/python3.6/dist-packages/ipykernel_launcher.py:1: SettingWithCopyWarning: \n",
            "A value is trying to be set on a copy of a slice from a DataFrame.\n",
            "Try using .loc[row_indexer,col_indexer] = value instead\n",
            "\n",
            "See the caveats in the documentation: https://pandas.pydata.org/pandas-docs/stable/user_guide/indexing.html#returning-a-view-versus-a-copy\n",
            "  \"\"\"Entry point for launching an IPython kernel.\n",
            "/usr/local/lib/python3.6/dist-packages/ipykernel_launcher.py:2: SettingWithCopyWarning: \n",
            "A value is trying to be set on a copy of a slice from a DataFrame.\n",
            "Try using .loc[row_indexer,col_indexer] = value instead\n",
            "\n",
            "See the caveats in the documentation: https://pandas.pydata.org/pandas-docs/stable/user_guide/indexing.html#returning-a-view-versus-a-copy\n",
            "  \n"
          ],
          "name": "stderr"
        },
        {
          "output_type": "display_data",
          "data": {
            "image/png": "[encoded data removed]",
            "text/plain": [
              "<Figure size 432x288 with 1 Axes>"
            ]
          },
          "metadata": {
            "tags": [],
            "needs_background": "light"
          }
        }
      ]
    },
    {
      "cell_type": "markdown",
      "metadata": {
        "id": "wyGBiFez9FZS"
      },
      "source": [
        "Look at that!  Total accounted variance of 88%!  And sure enough, the residual plot looks much better than the ones with standard data.  I think there are certainly ways one could improve upon it, but for our sakes, I think Model 3 is our winner!"
      ]
    },
    {
      "cell_type": "markdown",
      "metadata": {
        "id": "HR6elVoU_P1L"
      },
      "source": [
        "Let's expand the model to all of the coaches and do a quick exploration of who it says is overpaid, and who is underpaid.."
      ]
    },
    {
      "cell_type": "code",
      "metadata": {
        "colab": {
          "base_uri": "https://localhost:8080/",
          "height": 395
        },
        "id": "UAA4w7KJ_W3W",
        "outputId": "0af23e24-fcd1-443f-eabd-dca1fe4b251f"
      },
      "source": [
        "master['lmpred'] = lm3.predict(master)\r\n",
        "stdError = round(np.power(master['LogSal'].corr(master['lmpred']),2),3)\r\n",
        "print(\"The total accounted for Variance by Model 3 for the Test Set was: \", stdError)\r\n",
        "\r\n",
        "master['Diff'] = master['LogSal'] - master['lmpred']\r\n",
        "master['DiffDollars'] = round(master['SchoolPay'] - np.exp(master['lmpred']),0)\r\n",
        "\r\n",
        "vars = ['School', 'Coach', 'SchoolPay', 'LogSal', 'lmpred', 'Diff', 'DiffDollars']\r\n",
        "underpaid = master[vars].sort_values('DiffDollars')\r\n",
        "display(underpaid.head(5))\r\n",
        "\r\n",
        "overpaid = master[vars].sort_values('DiffDollars', ascending = False)\r\n",
        "display(overpaid.head(5))"
      ],
      "execution_count": 72,
      "outputs": [
        {
          "output_type": "stream",
          "text": [
            "The total accounted for Variance by Model 3 for the Test Set was:  0.854\n"
          ],
          "name": "stdout"
        },
        {
          "output_type": "display_data",
          "data": {
            "text/html": [
              "<div>\n",
              "<style scoped>\n",
              "    .dataframe tbody tr th:only-of-type {\n",
              "        vertical-align: middle;\n",
              "    }\n",
              "\n",
              "    .dataframe tbody tr th {\n",
              "        vertical-align: top;\n",
              "    }\n",
              "\n",
              "    .dataframe thead th {\n",
              "        text-align: right;\n",
              "    }\n",
              "</style>\n",
              "<table border=\"1\" class=\"dataframe\">\n",
              "  <thead>\n",
              "    <tr style=\"text-align: right;\">\n",
              "      <th></th>\n",
              "      <th>School</th>\n",
              "      <th>Coach</th>\n",
              "      <th>SchoolPay</th>\n",
              "      <th>LogSal</th>\n",
              "      <th>lmpred</th>\n",
              "      <th>Diff</th>\n",
              "      <th>DiffDollars</th>\n",
              "    </tr>\n",
              "  </thead>\n",
              "  <tbody>\n",
              "    <tr>\n",
              "      <th>55</th>\n",
              "      <td>LSU</td>\n",
              "      <td>Ed Orgeron</td>\n",
              "      <td>3500000</td>\n",
              "      <td>15.068274</td>\n",
              "      <td>15.607799</td>\n",
              "      <td>-0.539525</td>\n",
              "      <td>-2503174.0</td>\n",
              "    </tr>\n",
              "    <tr>\n",
              "      <th>83</th>\n",
              "      <td>Oklahoma</td>\n",
              "      <td>Lincoln Riley</td>\n",
              "      <td>4800000</td>\n",
              "      <td>15.384126</td>\n",
              "      <td>15.683159</td>\n",
              "      <td>-0.299033</td>\n",
              "      <td>-1673059.0</td>\n",
              "    </tr>\n",
              "    <tr>\n",
              "      <th>103</th>\n",
              "      <td>Tennessee</td>\n",
              "      <td>Jeremy Pruitt</td>\n",
              "      <td>3846000</td>\n",
              "      <td>15.162544</td>\n",
              "      <td>15.473787</td>\n",
              "      <td>-0.311243</td>\n",
              "      <td>-1404255.0</td>\n",
              "    </tr>\n",
              "    <tr>\n",
              "      <th>5</th>\n",
              "      <td>Arizona</td>\n",
              "      <td>Kevin Sumlin</td>\n",
              "      <td>1600000</td>\n",
              "      <td>14.285514</td>\n",
              "      <td>14.908314</td>\n",
              "      <td>-0.622799</td>\n",
              "      <td>-1382623.0</td>\n",
              "    </tr>\n",
              "    <tr>\n",
              "      <th>98</th>\n",
              "      <td>Southern California</td>\n",
              "      <td>Clay Helton</td>\n",
              "      <td>2625965</td>\n",
              "      <td>14.780959</td>\n",
              "      <td>15.199699</td>\n",
              "      <td>-0.418740</td>\n",
              "      <td>-1365618.0</td>\n",
              "    </tr>\n",
              "  </tbody>\n",
              "</table>\n",
              "</div>"
            ],
            "text/plain": [
              "                  School          Coach  ...      Diff  DiffDollars\n",
              "55                   LSU     Ed Orgeron  ... -0.539525   -2503174.0\n",
              "83              Oklahoma  Lincoln Riley  ... -0.299033   -1673059.0\n",
              "103            Tennessee  Jeremy Pruitt  ... -0.311243   -1404255.0\n",
              "5                Arizona   Kevin Sumlin  ... -0.622799   -1382623.0\n",
              "98   Southern California    Clay Helton  ... -0.418740   -1365618.0\n",
              "\n",
              "[5 rows x 7 columns]"
            ]
          },
          "metadata": {
            "tags": []
          }
        },
        {
          "output_type": "display_data",
          "data": {
            "text/html": [
              "<div>\n",
              "<style scoped>\n",
              "    .dataframe tbody tr th:only-of-type {\n",
              "        vertical-align: middle;\n",
              "    }\n",
              "\n",
              "    .dataframe tbody tr th {\n",
              "        vertical-align: top;\n",
              "    }\n",
              "\n",
              "    .dataframe thead th {\n",
              "        text-align: right;\n",
              "    }\n",
              "</style>\n",
              "<table border=\"1\" class=\"dataframe\">\n",
              "  <thead>\n",
              "    <tr style=\"text-align: right;\">\n",
              "      <th></th>\n",
              "      <th>School</th>\n",
              "      <th>Coach</th>\n",
              "      <th>SchoolPay</th>\n",
              "      <th>LogSal</th>\n",
              "      <th>lmpred</th>\n",
              "      <th>Diff</th>\n",
              "      <th>DiffDollars</th>\n",
              "    </tr>\n",
              "  </thead>\n",
              "  <tbody>\n",
              "    <tr>\n",
              "      <th>42</th>\n",
              "      <td>Illinois</td>\n",
              "      <td>Lovie Smith</td>\n",
              "      <td>5000000</td>\n",
              "      <td>15.424948</td>\n",
              "      <td>14.776641</td>\n",
              "      <td>0.648307</td>\n",
              "      <td>2385348.0</td>\n",
              "    </tr>\n",
              "    <tr>\n",
              "      <th>62</th>\n",
              "      <td>Michigan</td>\n",
              "      <td>Jim Harbaugh</td>\n",
              "      <td>7504000</td>\n",
              "      <td>15.830947</td>\n",
              "      <td>15.597823</td>\n",
              "      <td>0.233124</td>\n",
              "      <td>1560416.0</td>\n",
              "    </tr>\n",
              "    <tr>\n",
              "      <th>34</th>\n",
              "      <td>Florida State</td>\n",
              "      <td>Willie Taggart</td>\n",
              "      <td>5000000</td>\n",
              "      <td>15.424948</td>\n",
              "      <td>15.085610</td>\n",
              "      <td>0.339338</td>\n",
              "      <td>1438793.0</td>\n",
              "    </tr>\n",
              "    <tr>\n",
              "      <th>59</th>\n",
              "      <td>Memphis</td>\n",
              "      <td>Mike Norvell</td>\n",
              "      <td>2600000</td>\n",
              "      <td>14.771022</td>\n",
              "      <td>14.103476</td>\n",
              "      <td>0.667546</td>\n",
              "      <td>1266289.0</td>\n",
              "    </tr>\n",
              "    <tr>\n",
              "      <th>69</th>\n",
              "      <td>Navy</td>\n",
              "      <td>Ken Niumatalolo</td>\n",
              "      <td>2163000</td>\n",
              "      <td>14.587007</td>\n",
              "      <td>13.781569</td>\n",
              "      <td>0.805437</td>\n",
              "      <td>1196372.0</td>\n",
              "    </tr>\n",
              "  </tbody>\n",
              "</table>\n",
              "</div>"
            ],
            "text/plain": [
              "           School            Coach  SchoolPay  ...     lmpred      Diff  DiffDollars\n",
              "42       Illinois      Lovie Smith    5000000  ...  14.776641  0.648307    2385348.0\n",
              "62       Michigan     Jim Harbaugh    7504000  ...  15.597823  0.233124    1560416.0\n",
              "34  Florida State   Willie Taggart    5000000  ...  15.085610  0.339338    1438793.0\n",
              "59        Memphis     Mike Norvell    2600000  ...  14.103476  0.667546    1266289.0\n",
              "69           Navy  Ken Niumatalolo    2163000  ...  13.781569  0.805437    1196372.0\n",
              "\n",
              "[5 rows x 7 columns]"
            ]
          },
          "metadata": {
            "tags": []
          }
        }
      ]
    },
    {
      "cell_type": "markdown",
      "metadata": {
        "id": "cqb8W7w_BP4m"
      },
      "source": [
        "You know, I might agree for several of these underpaid coaches.  Ed Orgeron will win the National Championship the year following this data..  Clay Helton IS underpaid at USC, but I suspect his stock is still rising.  Kevin Sumlin is an interesting find here though, but I guess the millions he's getting from Texas A&M to NOT coach isn't showing up here...\r\n",
        "\r\n",
        "On the other hand, the overpaid list is, well, not much of a surprise.  The top 3 coaches have all been fired, and number 4 is actually at number 3 on this list, making a more reasonable salary than what they paid Willie Taggart for the same 'privelege'...  On the other hand, the data suggest Navy is overpaying for their coaching services, but any coach who beats Notre Dame 3 times in the last decade is worth the pay in my uneditorialized opinion..."
      ]
    },
    {
      "cell_type": "markdown",
      "metadata": {
        "id": "jzG0jtSeAtSB"
      },
      "source": [
        "### Recommended Salary for Syracuse"
      ]
    },
    {
      "cell_type": "markdown",
      "metadata": {
        "id": "ABOxiWpdPYCr"
      },
      "source": [
        "The first question to answer - according to the model, how much should we be paying Dino Babers to coach at Syracuse?"
      ]
    },
    {
      "cell_type": "code",
      "metadata": {
        "colab": {
          "base_uri": "https://localhost:8080/"
        },
        "id": "vcpl_TcnmwHR",
        "outputId": "5b2b990a-eced-429a-ff52-9d2c0458c45a"
      },
      "source": [
        "key =lm3.get_prediction(master.loc[master['School']==\"Syracuse\"])\r\n",
        "predint = key.summary_frame()\r\n",
        "\r\n",
        "predint['Salary'] = round(np.exp(predint['mean']),0)\r\n",
        "predint['LB'] = round(np.exp(predint['mean_ci_lower']),0)\r\n",
        "predint['UB'] = round(np.exp(predint['mean_ci_upper']),0)\r\n",
        "\r\n",
        "print(\"Predicted Salary:\" , predint.loc[0]['Salary'])\r\n",
        "print(\"Predicted Salary Range:\" , predint.loc[0]['LB'] , \"-\", predint.loc[0]['UB'])\r\n",
        "print(\"Actual 'Current' Salary:\", master.loc[master['School'] == \"Syracuse\"]['SchoolPay'].values[0])\r\n",
        "#display(round(np.exp(14.656),0))\r\n",
        "#display(round(np.exp(15.155),0))\r\n",
        "\r\n",
        "#key2 =lm2.get_prediction(master.loc[master['School']==\"Navy\"])\r\n",
        "#display(key2.summary_frame())\r\n",
        "\r\n",
        "#display(master.loc[master['School']==\"Syracuse\"])"
      ],
      "execution_count": 73,
      "outputs": [
        {
          "output_type": "stream",
          "text": [
            "Predicted Salary: 2973730.0\n",
            "Predicted Salary Range: 2317053.0 - 3816516.0\n",
            "Actual 'Current' Salary: 2401206\n"
          ],
          "name": "stdout"
        }
      ]
    },
    {
      "cell_type": "markdown",
      "metadata": {
        "id": "Aonvfz4CYlX_"
      },
      "source": [
        "### Big East Model"
      ]
    },
    {
      "cell_type": "markdown",
      "metadata": {
        "id": "JWk08agGYv3n"
      },
      "source": [
        "What might salaries look like if the Big East were still a thing?  For this, I recreated the linear model from LM3, but in place of conference, i used a realignment called BigEastDream - where the original Big East teams are pulled back together."
      ]
    },
    {
      "cell_type": "code",
      "metadata": {
        "colab": {
          "base_uri": "https://localhost:8080/"
        },
        "id": "FtzH1K4PYp_0",
        "outputId": "0c4f4340-bbcd-466f-8873-749e26df24ca"
      },
      "source": [
        "# Linear Model 4 - the Big East one\r\n",
        "lm4_str = 'LogSal ~ BigEastDream + Capacity + Championships + CoachPct'\r\n",
        "lm4 = smf.ols(lm4_str, data=modelTrain).fit()\r\n",
        "print(lm4.summary())"
      ],
      "execution_count": 74,
      "outputs": [
        {
          "output_type": "stream",
          "text": [
            "                            OLS Regression Results                            \n",
            "==============================================================================\n",
            "Dep. Variable:                 LogSal   R-squared:                       0.894\n",
            "Model:                            OLS   Adj. R-squared:                  0.877\n",
            "Method:                 Least Squares   F-statistic:                     51.23\n",
            "Date:                Sat, 30 Jan 2021   Prob (F-statistic):           2.52e-35\n",
            "Time:                        19:09:38   Log-Likelihood:                -14.435\n",
            "No. Observations:                 100   AIC:                             58.87\n",
            "Df Residuals:                      85   BIC:                             97.95\n",
            "Df Model:                          14                                         \n",
            "Covariance Type:            nonrobust                                         \n",
            "============================================================================================\n",
            "                               coef    std err          t      P>|t|      [0.025      0.975]\n",
            "--------------------------------------------------------------------------------------------\n",
            "Intercept                   13.5102      0.187     72.081      0.000      13.138      13.883\n",
            "BigEastDream[T.ACC]          0.6377      0.180      3.533      0.001       0.279       0.997\n",
            "BigEastDream[T.Big 12]       0.6540      0.165      3.957      0.000       0.325       0.983\n",
            "BigEastDream[T.Big East]    -0.0054      0.185     -0.029      0.977      -0.373       0.362\n",
            "BigEastDream[T.Big Ten]      0.6842      0.165      4.145      0.000       0.356       1.012\n",
            "BigEastDream[T.C-USA]       -0.6151      0.153     -4.027      0.000      -0.919      -0.311\n",
            "BigEastDream[T.Ind.]        -0.6039      0.205     -2.940      0.004      -1.012      -0.195\n",
            "BigEastDream[T.MAC]         -0.8792      0.168     -5.247      0.000      -1.212      -0.546\n",
            "BigEastDream[T.Mt. West]    -0.5039      0.158     -3.197      0.002      -0.817      -0.190\n",
            "BigEastDream[T.Pac-12]       0.4430      0.159      2.791      0.006       0.127       0.759\n",
            "BigEastDream[T.SEC]          0.7914      0.180      4.405      0.000       0.434       1.149\n",
            "BigEastDream[T.Sun Belt]    -0.8384      0.160     -5.247      0.000      -1.156      -0.521\n",
            "Capacity                  4.264e-06   2.32e-06      1.835      0.070   -3.56e-07    8.88e-06\n",
            "Championships                0.0339      0.021      1.639      0.105      -0.007       0.075\n",
            "CoachPct                     1.1357      0.232      4.899      0.000       0.675       1.597\n",
            "==============================================================================\n",
            "Omnibus:                        2.064   Durbin-Watson:                   1.742\n",
            "Prob(Omnibus):                  0.356   Jarque-Bera (JB):                1.477\n",
            "Skew:                          -0.245   Prob(JB):                        0.478\n",
            "Kurtosis:                       3.339   Cond. No.                     8.23e+05\n",
            "==============================================================================\n",
            "\n",
            "Warnings:\n",
            "[1] Standard Errors assume that the covariance matrix of the errors is correctly specified.\n",
            "[2] The condition number is large, 8.23e+05. This might indicate that there are\n",
            "strong multicollinearity or other numerical problems.\n"
          ],
          "name": "stdout"
        }
      ]
    },
    {
      "cell_type": "code",
      "metadata": {
        "colab": {
          "base_uri": "https://localhost:8080/"
        },
        "id": "3sE94T61Yka9",
        "outputId": "4dddeab8-bbe3-47fe-a2c4-c74994b16e45"
      },
      "source": [
        "key =lm4.get_prediction(master.loc[master['School']==\"Syracuse\"])\r\n",
        "predint = key.summary_frame()\r\n",
        "\r\n",
        "predint['Salary'] = round(np.exp(predint['mean']),0)\r\n",
        "predint['LB'] = round(np.exp(predint['mean_ci_lower']),0)\r\n",
        "predint['UB'] = round(np.exp(predint['mean_ci_upper']),0)\r\n",
        "\r\n",
        "print(\"Predicted Salary if still in the Big East:\" , predint.loc[0]['Salary'])\r\n",
        "print(\"Predicted Salary Range if still in the Big East:\" , predint.loc[0]['LB'] , \"-\", predint.loc[0]['UB'])\r\n",
        "print(\"Actual 'Current' Salary:\", master.loc[master['School'] == \"Syracuse\"]['SchoolPay'].values[0])"
      ],
      "execution_count": 75,
      "outputs": [
        {
          "output_type": "stream",
          "text": [
            "Predicted Salary if still in the Big East: 1725253.0\n",
            "Predicted Salary Range if still in the Big East: 1315754.0 - 2262199.0\n",
            "Actual 'Current' Salary: 2401206\n"
          ],
          "name": "stdout"
        }
      ]
    },
    {
      "cell_type": "markdown",
      "metadata": {
        "id": "hfpSbvs2cfwQ"
      },
      "source": [
        "So Syracuse could have saved like, half a million dollars on a head coach if they'd NOT joined the ACC..  But what would have happened if they joined the Big 10 instead..?"
      ]
    },
    {
      "cell_type": "markdown",
      "metadata": {
        "id": "mtMOhff0ZSwu"
      },
      "source": [
        "### Big 10 Syracuse"
      ]
    },
    {
      "cell_type": "code",
      "metadata": {
        "colab": {
          "base_uri": "https://localhost:8080/"
        },
        "id": "DpSnkvo7cv1A",
        "outputId": "4974b8a2-5398-467a-e451-44e7cd2ea94a"
      },
      "source": [
        "bigTenCuse = master[master['School'] == \"Syracuse\"]\r\n",
        "bigTenCuse['Group'] = 'Big Ten'\r\n",
        "\r\n",
        "key =lm3.get_prediction(bigTenCuse)\r\n",
        "predint = key.summary_frame()\r\n",
        "\r\n",
        "predint['Salary'] = round(np.exp(predint['mean']),0)\r\n",
        "predint['LB'] = round(np.exp(predint['mean_ci_lower']),0)\r\n",
        "predint['UB'] = round(np.exp(predint['mean_ci_upper']),0)\r\n",
        "\r\n",
        "print(\"Predicted Salary if in the Big Ten:\" , predint.loc[0]['Salary'])\r\n",
        "print(\"Predicted Salary Range if in the Big Ten:\" , predint.loc[0]['LB'] , \"-\", predint.loc[0]['UB'])\r\n",
        "print(\"Actual 'Current' Salary:\", master.loc[master['School'] == \"Syracuse\"]['SchoolPay'].values[0])"
      ],
      "execution_count": 76,
      "outputs": [
        {
          "output_type": "stream",
          "text": [
            "Predicted Salary if in the Big Ten: 3216030.0\n",
            "Predicted Salary Range if in the Big Ten: 2555543.0 - 4047222.0\n",
            "Actual 'Current' Salary: 2401206\n"
          ],
          "name": "stdout"
        },
        {
          "output_type": "stream",
          "text": [
            "/usr/local/lib/python3.6/dist-packages/ipykernel_launcher.py:2: SettingWithCopyWarning: \n",
            "A value is trying to be set on a copy of a slice from a DataFrame.\n",
            "Try using .loc[row_indexer,col_indexer] = value instead\n",
            "\n",
            "See the caveats in the documentation: https://pandas.pydata.org/pandas-docs/stable/user_guide/indexing.html#returning-a-view-versus-a-copy\n",
            "  \n"
          ],
          "name": "stderr"
        }
      ]
    },
    {
      "cell_type": "markdown",
      "metadata": {
        "id": "_eupTcwUeCvw"
      },
      "source": [
        "So, if Syracuse had joined the Big Ten, the model predicts the Orange would have to pay their coach more than 300k than it predicts it should pay for them to be in the ACC - almost 1 Million dollars more than their current salary.  Leaders and Legends indeed.."
      ]
    }
  ]
}